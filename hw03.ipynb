{
  "cells": [
    {
      "cell_type": "markdown",
      "id": "40906466-61ee-44f9-9c81-fbcb604092f0",
      "metadata": {},
      "source": [
        "# BEE 4750 Homework 3: Uncertain Sea-Level Rise and Levee Reliability\n",
        "\n",
        "**Name**:\n",
        "\n",
        "**ID**:\n",
        "\n",
        "> **Due Date**\n",
        ">\n",
        "> Friday, 10/06/23, 9:00pm\n",
        "\n",
        "## Overview\n",
        "\n",
        "### Instructions\n",
        "\n",
        "This assignment asks you to conduct a Monte Carlo analysis of levee\n",
        "reliability in the face of uncertain changes to local sea levels. You\n",
        "will propagate uncertainty in equilibrium climate sensitivity through\n",
        "the energy balance model to obtain a distribution of temperatures, which\n",
        "will then drive a model of sea-level rise. You will finally use this\n",
        "distribution to assess the probability that a planned levee will achieve\n",
        "its desired reliability standard.\n",
        "\n",
        "### Load Environment\n",
        "\n",
        "The following code loads the environment and makes sure all needed\n",
        "packages are installed. This should be at the start of most Julia\n",
        "scripts."
      ]
    },
    {
      "cell_type": "code",
      "execution_count": 1,
      "id": "217587a2",
      "metadata": {},
      "outputs": [
        {
          "name": "stderr",
          "output_type": "stream",
          "text": [
            "\u001b[32m\u001b[1m  Activating\u001b[22m\u001b[39m project at `~/Desktop/classes/Semester 5/BEE 4750/homework/hw3-Erc03`\n"
          ]
        },
        {
          "name": "stderr",
          "output_type": "stream",
          "text": [
            "\u001b[32m\u001b[1m   Installed\u001b[22m\u001b[39m GR_jll ─────────────────── v0.72.10+0\n"
          ]
        },
        {
          "name": "stderr",
          "output_type": "stream",
          "text": [
            "\u001b[32m\u001b[1m   Installed\u001b[22m\u001b[39m Preferences ────────────── v1.4.1\n",
            "\u001b[32m\u001b[1m   Installed\u001b[22m\u001b[39m PDMats ─────────────────── v0.11.18\n",
            "\u001b[32m\u001b[1m   Installed\u001b[22m\u001b[39m InlineStrings ──────────── v1.4.0\n",
            "\u001b[32m\u001b[1m   Installed\u001b[22m\u001b[39m Xorg_libSM_jll ─────────── v1.2.3+0\n",
            "\u001b[32m\u001b[1m   Installed\u001b[22m\u001b[39m LoggingExtras ──────────── v1.0.2\n"
          ]
        },
        {
          "name": "stderr",
          "output_type": "stream",
          "text": [
            "\u001b[32m\u001b[1m   Installed\u001b[22m\u001b[39m HTTP ───────────────────── v1.10.0\n",
            "\u001b[32m\u001b[1m   Installed\u001b[22m\u001b[39m InvertedIndices ────────── v1.3.0\n"
          ]
        },
        {
          "name": "stderr",
          "output_type": "stream",
          "text": [
            "\u001b[32m\u001b[1m   Installed\u001b[22m\u001b[39m xkbcommon_jll ──────────── v1.4.1+1\n"
          ]
        },
        {
          "name": "stderr",
          "output_type": "stream",
          "text": [
            "\u001b[32m\u001b[1m   Installed\u001b[22m\u001b[39m WorkerUtilities ────────── v1.6.1\n"
          ]
        },
        {
          "name": "stderr",
          "output_type": "stream",
          "text": [
            "\u001b[32m\u001b[1m   Installed\u001b[22m\u001b[39m WeakRefStrings ─────────── v1.4.2\n",
            "\u001b[32m\u001b[1m   Installed\u001b[22m\u001b[39m SentinelArrays ─────────── v1.4.0\n"
          ]
        },
        {
          "name": "stderr",
          "output_type": "stream",
          "text": [
            "\u001b[32m\u001b[1m   Installed\u001b[22m\u001b[39m StatsAPI ───────────────── v1.7.0\n"
          ]
        },
        {
          "name": "stderr",
          "output_type": "stream",
          "text": [
            "\u001b[32m\u001b[1m   Installed\u001b[22m\u001b[39m mtdev_jll ──────────────── v1.1.6+0\n",
            "\u001b[32m\u001b[1m   Installed\u001b[22m\u001b[39m gperf_jll ──────────────── v3.1.1+0\n"
          ]
        },
        {
          "name": "stderr",
          "output_type": "stream",
          "text": [
            "\u001b[32m\u001b[1m   Installed\u001b[22m\u001b[39m DataFrames ─────────────── v1.6.1\n"
          ]
        },
        {
          "name": "stderr",
          "output_type": "stream",
          "text": [
            "\u001b[32m\u001b[1m   Installed\u001b[22m\u001b[39m eudev_jll ──────────────── v3.2.9+0\n"
          ]
        },
        {
          "name": "stderr",
          "output_type": "stream",
          "text": [
            "\u001b[32m\u001b[1m   Installed\u001b[22m\u001b[39m Plots ──────────────────── v1.39.0\n",
            "\u001b[32m\u001b[1m   Installed\u001b[22m\u001b[39m Xorg_xcb_util_cursor_jll ─ v0.1.4+0\n"
          ]
        },
        {
          "name": "stderr",
          "output_type": "stream",
          "text": [
            "\u001b[32m\u001b[1m   Installed\u001b[22m\u001b[39m Vulkan_Loader_jll ──────── v1.3.243+0\n"
          ]
        },
        {
          "name": "stderr",
          "output_type": "stream",
          "text": [
            "\u001b[32m\u001b[1m   Installed\u001b[22m\u001b[39m Xorg_libICE_jll ────────── v1.0.10+1\n"
          ]
        },
        {
          "name": "stderr",
          "output_type": "stream",
          "text": [
            "\u001b[32m\u001b[1m   Installed\u001b[22m\u001b[39m PooledArrays ───────────── v1.4.3\n"
          ]
        },
        {
          "name": "stderr",
          "output_type": "stream",
          "text": [
            "\u001b[32m\u001b[1m   Installed\u001b[22m\u001b[39m Crayons ────────────────── v4.1.1\n"
          ]
        },
        {
          "name": "stderr",
          "output_type": "stream",
          "text": [
            "\u001b[32m\u001b[1m   Installed\u001b[22m\u001b[39m XML2_jll ───────────────── v2.10.4+0\n"
          ]
        },
        {
          "name": "stderr",
          "output_type": "stream",
          "text": [
            "\u001b[32m\u001b[1m   Installed\u001b[22m\u001b[39m Wayland_jll ────────────── v1.21.0+1\n"
          ]
        },
        {
          "name": "stderr",
          "output_type": "stream",
          "text": [
            "\u001b[32m\u001b[1m   Installed\u001b[22m\u001b[39m OpenSSL_jll ────────────── v1.1.23+0\n",
            "\u001b[32m\u001b[1m   Installed\u001b[22m\u001b[39m libevdev_jll ───────────── v1.11.0+0\n"
          ]
        },
        {
          "name": "stderr",
          "output_type": "stream",
          "text": [
            "\u001b[32m\u001b[1m   Installed\u001b[22m\u001b[39m Tables ─────────────────── v1.11.0\n",
            "\u001b[32m\u001b[1m   Installed\u001b[22m\u001b[39m GR ─────────────────────── v0.72.10\n",
            "\u001b[32m\u001b[1m   Installed\u001b[22m\u001b[39m Libiconv_jll ───────────── v1.17.0+0\n"
          ]
        },
        {
          "name": "stderr",
          "output_type": "stream",
          "text": [
            "\u001b[32m\u001b[1m   Installed\u001b[22m\u001b[39m Qt6Base_jll ────────────── v6.5.2+2\n"
          ]
        },
        {
          "name": "stderr",
          "output_type": "stream",
          "text": [
            "\u001b[32m\u001b[1m   Installed\u001b[22m\u001b[39m Glib_jll ───────────────── v2.76.5+0\n"
          ]
        },
        {
          "name": "stderr",
          "output_type": "stream",
          "text": [
            "\u001b[32m\u001b[1m   Installed\u001b[22m\u001b[39m FilePathsBase ──────────── v0.9.20\n",
            "\u001b[32m\u001b[1m   Installed\u001b[22m\u001b[39m QuadGK ─────────────────── v2.9.1\n"
          ]
        },
        {
          "name": "stderr",
          "output_type": "stream",
          "text": [
            "\u001b[32m\u001b[1m   Installed\u001b[22m\u001b[39m StringManipulation ─────── v0.3.4\n"
          ]
        },
        {
          "name": "stderr",
          "output_type": "stream",
          "text": [
            "\u001b[32m\u001b[1m   Installed\u001b[22m\u001b[39m PrettyTables ───────────── v2.2.7\n"
          ]
        },
        {
          "name": "stderr",
          "output_type": "stream",
          "text": [
            "\u001b[32m\u001b[1m   Installed\u001b[22m\u001b[39m libinput_jll ───────────── v1.18.0+0\n"
          ]
        },
        {
          "name": "stderr",
          "output_type": "stream",
          "text": [
            "\u001b[32m\u001b[1m   Installed\u001b[22m\u001b[39m ColorSchemes ───────────── v3.24.0\n"
          ]
        },
        {
          "name": "stderr",
          "output_type": "stream",
          "text": [
            "\u001b[32m\u001b[1m   Installed\u001b[22m\u001b[39m CSV ────────────────────── v0.10.11\n"
          ]
        },
        {
          "name": "stderr",
          "output_type": "stream",
          "text": [
            "\u001b[32m\u001b[1mPrecompiling\u001b[22m\u001b[39m "
          ]
        },
        {
          "name": "stderr",
          "output_type": "stream",
          "text": [
            "project...\n"
          ]
        },
        {
          "name": "stderr",
          "output_type": "stream",
          "text": [
            "\u001b[32m  ✓ \u001b[39m\u001b[90mInvertedIndices\u001b[39m\n"
          ]
        },
        {
          "name": "stderr",
          "output_type": "stream",
          "text": [
            "\u001b[32m  ✓ \u001b[39m\u001b[90mWorkerUtilities\u001b[39m\n"
          ]
        },
        {
          "name": "stderr",
          "output_type": "stream",
          "text": [
            "\u001b[32m  ✓ \u001b[39m\u001b[90mPreferences\u001b[39m\n"
          ]
        },
        {
          "name": "stderr",
          "output_type": "stream",
          "text": [
            "\u001b[32m  ✓ \u001b[39m\u001b[90mStatsAPI\u001b[39m\n"
          ]
        },
        {
          "name": "stderr",
          "output_type": "stream",
          "text": [
            "\u001b[32m  ✓ \u001b[39m\u001b[90mLoggingExtras\u001b[39m\n"
          ]
        },
        {
          "name": "stderr",
          "output_type": "stream",
          "text": [
            "\u001b[32m  ✓ \u001b[39m\u001b[90mXorg_libICE_jll\u001b[39m\n"
          ]
        },
        {
          "name": "stderr",
          "output_type": "stream",
          "text": [
            "\u001b[32m  ✓ \u001b[39m\u001b[90mPDMats\u001b[39m\n"
          ]
        },
        {
          "name": "stderr",
          "output_type": "stream",
          "text": [
            "\u001b[32m  ✓ \u001b[39m\u001b[90mPooledArrays\u001b[39m\n"
          ]
        },
        {
          "name": "stderr",
          "output_type": "stream",
          "text": [
            "\u001b[32m  ✓ \u001b[39m\u001b[90mPrecompileTools\u001b[39m\n",
            "\u001b[32m  ✓ \u001b[39m\u001b[90mSentinelArrays\u001b[39m\n",
            "\u001b[32m  ✓ \u001b[39m\u001b[90mCrayons\u001b[39m\n"
          ]
        },
        {
          "name": "stderr",
          "output_type": "stream",
          "text": [
            "\u001b[32m  ✓ \u001b[39m\u001b[90mJLLWrappers\u001b[39m\n"
          ]
        },
        {
          "name": "stderr",
          "output_type": "stream",
          "text": [
            "\u001b[32m  ✓ \u001b[39m\u001b[90mTables\u001b[39m\n"
          ]
        },
        {
          "name": "stderr",
          "output_type": "stream",
          "text": [
            "\u001b[32m  ✓ \u001b[39m\u001b[90mFilePathsBase\u001b[39m\n"
          ]
        },
        {
          "name": "stderr",
          "output_type": "stream",
          "text": [
            "\u001b[32m  ✓ \u001b[39m\u001b[90mQuadGK\u001b[39m\n"
          ]
        },
        {
          "name": "stderr",
          "output_type": "stream",
          "text": [
            "\u001b[32m  ✓ \u001b[39m\u001b[90mXorg_libSM_jll\u001b[39m\n"
          ]
        },
        {
          "name": "stderr",
          "output_type": "stream",
          "text": [
            "\u001b[32m  ✓ \u001b[39m\u001b[90mEpollShim_jll\u001b[39m\n",
            "\u001b[32m  ✓ \u001b[39m\u001b[90mLibmount_jll\u001b[39m\n",
            "\u001b[32m  ✓ \u001b[39m\u001b[90mStatsBase\u001b[39m\n"
          ]
        },
        {
          "name": "stderr",
          "output_type": "stream",
          "text": [
            "\u001b[32m  ✓ \u001b[39m\u001b[90mGraphite2_jll\u001b[39m\n",
            "\u001b[32m  ✓ \u001b[39m\u001b[90mOpenSSL_jll\u001b[39m\n"
          ]
        },
        {
          "name": "stderr",
          "output_type": "stream",
          "text": [
            "\u001b[32m  ✓ \u001b[39m\u001b[90mLLVMOpenMP_jll\u001b[39m\n"
          ]
        },
        {
          "name": "stderr",
          "output_type": "stream",
          "text": [
            "\u001b[32m  ✓ \u001b[39m\u001b[90mBzip2_jll\u001b[39m\n"
          ]
        },
        {
          "name": "stderr",
          "output_type": "stream",
          "text": [
            "\u001b[32m  ✓ \u001b[39m\u001b[90mRecipesBase\u001b[39m\n"
          ]
        },
        {
          "name": "stderr",
          "output_type": "stream",
          "text": [
            "\u001b[32m  ✓ \u001b[39m\u001b[90mRmath_jll\u001b[39m\n"
          ]
        },
        {
          "name": "stderr",
          "output_type": "stream",
          "text": [
            "\u001b[32m  ✓ \u001b[39m\u001b[90mStringManipulation\u001b[39m\n"
          ]
        },
        {
          "name": "stderr",
          "output_type": "stream",
          "text": [
            "\u001b[32m  ✓ \u001b[39m\u001b[90mXorg_libXau_jll\u001b[39m\n"
          ]
        },
        {
          "name": "stderr",
          "output_type": "stream",
          "text": [
            "\u001b[32m  ✓ \u001b[39m\u001b[90mlibpng_jll\u001b[39m\n"
          ]
        },
        {
          "name": "stderr",
          "output_type": "stream",
          "text": [
            "\u001b[32m  ✓ \u001b[39m\u001b[90mlibfdk_aac_jll\u001b[39m\n"
          ]
        },
        {
          "name": "stderr",
          "output_type": "stream",
          "text": [
            "\u001b[32m  ✓ \u001b[39m\u001b[90mLAME_jll\u001b[39m\n"
          ]
        },
        {
          "name": "stderr",
          "output_type": "stream",
          "text": [
            "\u001b[32m  ✓ \u001b[39m\u001b[90mLERC_jll\u001b[39m\n"
          ]
        },
        {
          "name": "stderr",
          "output_type": "stream",
          "text": [
            "\u001b[32m  ✓ \u001b[39m\u001b[90mfzf_jll\u001b[39m\n"
          ]
        },
        {
          "name": "stderr",
          "output_type": "stream",
          "text": [
            "\u001b[32m  ✓ \u001b[39m\u001b[90mJpegTurbo_jll\u001b[39m\n"
          ]
        },
        {
          "name": "stderr",
          "output_type": "stream",
          "text": [
            "\u001b[32m  ✓ \u001b[39m\u001b[90mOgg_jll\u001b[39m\n",
            "\u001b[32m  ✓ \u001b[39m\u001b[90mXZ_jll\u001b[39m\n"
          ]
        },
        {
          "name": "stderr",
          "output_type": "stream",
          "text": [
            "\u001b[32m  ✓ \u001b[39m\u001b[90mmtdev_jll\u001b[39m\n"
          ]
        },
        {
          "name": "stderr",
          "output_type": "stream",
          "text": [
            "\u001b[32m  ✓ \u001b[39m\u001b[90mgperf_jll\u001b[39m\n",
            "\u001b[32m  ✓ \u001b[39m\u001b[90mXorg_libXdmcp_jll\u001b[39m\n"
          ]
        },
        {
          "name": "stderr",
          "output_type": "stream",
          "text": [
            "\u001b[32m  ✓ \u001b[39m\u001b[90mx265_jll\u001b[39m\n"
          ]
        },
        {
          "name": "stderr",
          "output_type": "stream",
          "text": [
            "\u001b[32m  ✓ \u001b[39m\u001b[90mx264_jll\u001b[39m\n"
          ]
        },
        {
          "name": "stderr",
          "output_type": "stream",
          "text": [
            "\u001b[32m  ✓ \u001b[39m\u001b[90mlibaom_jll\u001b[39m\n",
            "\u001b[32m  ✓ \u001b[39m\u001b[90mZstd_jll\u001b[39m\n"
          ]
        },
        {
          "name": "stderr",
          "output_type": "stream",
          "text": [
            "\u001b[32m  ✓ \u001b[39m\u001b[90mExpat_jll\u001b[39m\n"
          ]
        },
        {
          "name": "stderr",
          "output_type": "stream",
          "text": [
            "\u001b[32m  ✓ \u001b[39m\u001b[90mLZO_jll\u001b[39m\n"
          ]
        },
        {
          "name": "stderr",
          "output_type": "stream",
          "text": [
            "\u001b[32m  ✓ \u001b[39m\u001b[90mOpus_jll\u001b[39m\n"
          ]
        },
        {
          "name": "stderr",
          "output_type": "stream",
          "text": [
            "\u001b[32m  ✓ \u001b[39m\u001b[90mXorg_xtrans_jll\u001b[39m\n"
          ]
        },
        {
          "name": "stderr",
          "output_type": "stream",
          "text": [
            "\u001b[32m  ✓ \u001b[39m\u001b[90mlibevdev_jll\u001b[39m\n"
          ]
        },
        {
          "name": "stderr",
          "output_type": "stream",
          "text": [
            "\u001b[32m  ✓ \u001b[39m\u001b[90mLibiconv_jll\u001b[39m\n"
          ]
        },
        {
          "name": "stderr",
          "output_type": "stream",
          "text": [
            "\u001b[32m  ✓ \u001b[39m\u001b[90mLibffi_jll\u001b[39m\n"
          ]
        },
        {
          "name": "stderr",
          "output_type": "stream",
          "text": [
            "\u001b[32m  ✓ \u001b[39m\u001b[90mLibgpg_error_jll\u001b[39m\n"
          ]
        },
        {
          "name": "stderr",
          "output_type": "stream",
          "text": [
            "\u001b[32m  ✓ \u001b[39m\u001b[90mWayland_protocols_jll\u001b[39m\n"
          ]
        },
        {
          "name": "stderr",
          "output_type": "stream",
          "text": [
            "\u001b[32m  ✓ \u001b[39m\u001b[90mXorg_libpthread_stubs_jll\u001b[39m\n",
            "\u001b[32m  ✓ \u001b[39m\u001b[90mOpenSpecFun_jll\u001b[39m\n"
          ]
        },
        {
          "name": "stderr",
          "output_type": "stream",
          "text": [
            "\u001b[32m  ✓ \u001b[39m\u001b[90mLibuuid_jll\u001b[39m\n",
            "\u001b[32m  ✓ \u001b[39m\u001b[90mFriBidi_jll\u001b[39m\n"
          ]
        },
        {
          "name": "stderr",
          "output_type": "stream",
          "text": [
            "\u001b[32m  ✓ \u001b[39m\u001b[90mPixman_jll\u001b[39m\n"
          ]
        },
        {
          "name": "stderr",
          "output_type": "stream",
          "text": [
            "\u001b[32m  ✓ \u001b[39m\u001b[90mFreeType2_jll\u001b[39m\n"
          ]
        },
        {
          "name": "stderr",
          "output_type": "stream",
          "text": [
            "\u001b[32m  ✓ \u001b[39m\u001b[90mRmath\u001b[39m\n"
          ]
        },
        {
          "name": "stderr",
          "output_type": "stream",
          "text": [
            "\u001b[32m  ✓ \u001b[39m\u001b[90meudev_jll\u001b[39m\n"
          ]
        },
        {
          "name": "stderr",
          "output_type": "stream",
          "text": [
            "\u001b[32m  ✓ \u001b[39m\u001b[90mJLFzf\u001b[39m\n"
          ]
        },
        {
          "name": "stderr",
          "output_type": "stream",
          "text": [
            "\u001b[32m  ✓ \u001b[39m\u001b[90mlibvorbis_jll\u001b[39m\n"
          ]
        },
        {
          "name": "stderr",
          "output_type": "stream",
          "text": [
            "\u001b[32m  ✓ \u001b[39m\u001b[90mLibgcrypt_jll\u001b[39m\n"
          ]
        },
        {
          "name": "stderr",
          "output_type": "stream",
          "text": [
            "\u001b[32m  ✓ \u001b[39m\u001b[90mlibinput_jll\u001b[39m\n"
          ]
        },
        {
          "name": "stderr",
          "output_type": "stream",
          "text": [
            "\u001b[32m  ✓ \u001b[39m\u001b[90mOpenSSL\u001b[39m\n"
          ]
        },
        {
          "name": "stderr",
          "output_type": "stream",
          "text": [
            "\u001b[32m  ✓ \u001b[39m\u001b[90mXML2_jll\u001b[39m\n"
          ]
        },
        {
          "name": "stderr",
          "output_type": "stream",
          "text": [
            "\u001b[32m  ✓ \u001b[39m\u001b[90mLibtiff_jll\u001b[39m\n"
          ]
        },
        {
          "name": "stderr",
          "output_type": "stream",
          "text": [
            "\u001b[32m  ✓ \u001b[39m\u001b[90mFontconfig_jll\u001b[39m\n"
          ]
        },
        {
          "name": "stderr",
          "output_type": "stream",
          "text": [
            "\u001b[32m  ✓ \u001b[39m\u001b[90mWayland_jll\u001b[39m\n"
          ]
        },
        {
          "name": "stderr",
          "output_type": "stream",
          "text": [
            "\u001b[32m  ✓ \u001b[39m\u001b[90mGettext_jll\u001b[39m\n",
            "\u001b[32m  ✓ \u001b[39m\u001b[90mXSLT_jll\u001b[39m\n"
          ]
        },
        {
          "name": "stderr",
          "output_type": "stream",
          "text": [
            "\u001b[32m  ✓ \u001b[39m\u001b[90mXorg_libxcb_jll\u001b[39m\n",
            "\u001b[32m  ✓ \u001b[39m\u001b[90mSpecialFunctions\u001b[39m\n"
          ]
        },
        {
          "name": "stderr",
          "output_type": "stream",
          "text": [
            "\u001b[32m  ✓ \u001b[39m\u001b[90mGlib_jll\u001b[39m\n"
          ]
        },
        {
          "name": "stderr",
          "output_type": "stream",
          "text": [
            "\u001b[32m  ✓ \u001b[39m\u001b[90mXorg_xcb_util_jll\u001b[39m\n"
          ]
        },
        {
          "name": "stderr",
          "output_type": "stream",
          "text": [
            "\u001b[32m  ✓ \u001b[39m\u001b[90mXorg_libX11_jll\u001b[39m\n"
          ]
        },
        {
          "name": "stderr",
          "output_type": "stream",
          "text": [
            "\u001b[32m  ✓ \u001b[39m\u001b[90mColorVectorSpace → SpecialFunctionsExt\u001b[39m\n"
          ]
        },
        {
          "name": "stderr",
          "output_type": "stream",
          "text": [
            "\u001b[32m  ✓ \u001b[39m\u001b[90mXorg_xcb_util_image_jll\u001b[39m\n"
          ]
        },
        {
          "name": "stderr",
          "output_type": "stream",
          "text": [
            "\u001b[32m  ✓ \u001b[39m\u001b[90mXorg_xcb_util_renderutil_jll\u001b[39m\n"
          ]
        },
        {
          "name": "stderr",
          "output_type": "stream",
          "text": [
            "\u001b[32m  ✓ \u001b[39m\u001b[90mXorg_xcb_util_keysyms_jll\u001b[39m\n",
            "\u001b[32m  ✓ \u001b[39m\u001b[90mDualNumbers\u001b[39m\n"
          ]
        },
        {
          "name": "stderr",
          "output_type": "stream",
          "text": [
            "\u001b[32m  ✓ \u001b[39m\u001b[90mXorg_xcb_util_wm_jll\u001b[39m\n"
          ]
        },
        {
          "name": "stderr",
          "output_type": "stream",
          "text": [
            "\u001b[32m  ✓ \u001b[39m\u001b[90mXorg_libXrender_jll\u001b[39m\n",
            "\u001b[32m  ✓ \u001b[39m\u001b[90mHTTP\u001b[39m\n"
          ]
        },
        {
          "name": "stderr",
          "output_type": "stream",
          "text": [
            "\u001b[32m  ✓ \u001b[39m\u001b[90mXorg_libXext_jll\u001b[39m\n"
          ]
        },
        {
          "name": "stderr",
          "output_type": "stream",
          "text": [
            "\u001b[32m  ✓ \u001b[39m\u001b[90mXorg_libXfixes_jll\u001b[39m\n"
          ]
        },
        {
          "name": "stderr",
          "output_type": "stream",
          "text": [
            "\u001b[32m  ✓ \u001b[39m\u001b[90mXorg_libxkbfile_jll\u001b[39m\n",
            "\u001b[32m  ✓ \u001b[39m\u001b[90mXorg_xcb_util_cursor_jll\u001b[39m\n"
          ]
        },
        {
          "name": "stderr",
          "output_type": "stream",
          "text": [
            "\u001b[32m  ✓ \u001b[39m\u001b[90mLibglvnd_jll\u001b[39m\n"
          ]
        },
        {
          "name": "stderr",
          "output_type": "stream",
          "text": [
            "\u001b[32m  ✓ \u001b[39m\u001b[90mXorg_libXinerama_jll\u001b[39m\n"
          ]
        },
        {
          "name": "stderr",
          "output_type": "stream",
          "text": [
            "\u001b[32m  ✓ \u001b[39m\u001b[90mXorg_libXrandr_jll\u001b[39m\n"
          ]
        },
        {
          "name": "stderr",
          "output_type": "stream",
          "text": [
            "\u001b[32m  ✓ \u001b[39m\u001b[90mXorg_libXcursor_jll\u001b[39m\n"
          ]
        },
        {
          "name": "stderr",
          "output_type": "stream",
          "text": [
            "\u001b[32m  ✓ \u001b[39m\u001b[90mXorg_libXi_jll\u001b[39m\n"
          ]
        },
        {
          "name": "stderr",
          "output_type": "stream",
          "text": [
            "\u001b[32m  ✓ \u001b[39m\u001b[90mHypergeometricFunctions\u001b[39m\n"
          ]
        },
        {
          "name": "stderr",
          "output_type": "stream",
          "text": [
            "\u001b[32m  ✓ \u001b[39m\u001b[90mXorg_xkbcomp_jll\u001b[39m\n"
          ]
        },
        {
          "name": "stderr",
          "output_type": "stream",
          "text": [
            "\u001b[32m  ✓ \u001b[39m\u001b[90mGLFW_jll\u001b[39m\n"
          ]
        },
        {
          "name": "stderr",
          "output_type": "stream",
          "text": [
            "\u001b[32m  ✓ \u001b[39m\u001b[90mXorg_xkeyboard_config_jll\u001b[39m\n"
          ]
        },
        {
          "name": "stderr",
          "output_type": "stream",
          "text": [
            "\u001b[32m  ✓ \u001b[39m\u001b[90mCairo_jll\u001b[39m\n"
          ]
        },
        {
          "name": "stderr",
          "output_type": "stream",
          "text": [
            "\u001b[32m  ✓ \u001b[39m\u001b[90mxkbcommon_jll\u001b[39m\n"
          ]
        },
        {
          "name": "stderr",
          "output_type": "stream",
          "text": [
            "\u001b[32m  ✓ \u001b[39m\u001b[90mStatsFuns\u001b[39m\n",
            "\u001b[32m  ✓ \u001b[39m\u001b[90mHarfBuzz_jll\u001b[39m\n",
            "\u001b[32m  ✓ \u001b[39m\u001b[90mVulkan_Loader_jll\u001b[39m\n"
          ]
        },
        {
          "name": "stderr",
          "output_type": "stream",
          "text": [
            "\u001b[32m  ✓ \u001b[39m\u001b[90mlibass_jll\u001b[39m\n"
          ]
        },
        {
          "name": "stderr",
          "output_type": "stream",
          "text": [
            "\u001b[32m  ✓ \u001b[39m\u001b[90mColorSchemes\u001b[39m\n"
          ]
        },
        {
          "name": "stderr",
          "output_type": "stream",
          "text": [
            "\u001b[32m  ✓ \u001b[39m\u001b[90mQt6Base_jll\u001b[39m\n"
          ]
        },
        {
          "name": "stderr",
          "output_type": "stream",
          "text": [
            "\u001b[32m  ✓ \u001b[39m\u001b[90mFFMPEG_jll\u001b[39m\n"
          ]
        },
        {
          "name": "stderr",
          "output_type": "stream",
          "text": [
            "\u001b[32m  ✓ \u001b[39m\u001b[90mFFMPEG\u001b[39m\n"
          ]
        },
        {
          "name": "stderr",
          "output_type": "stream",
          "text": [
            "\u001b[32m  ✓ \u001b[39m\u001b[90mPrettyTables\u001b[39m\n"
          ]
        },
        {
          "name": "stderr",
          "output_type": "stream",
          "text": [
            "\u001b[32m  ✓ \u001b[39mDistributions\n"
          ]
        },
        {
          "name": "stderr",
          "output_type": "stream",
          "text": [
            "\u001b[32m  ✓ \u001b[39m\u001b[90mGR_jll\u001b[39m\n"
          ]
        },
        {
          "name": "stderr",
          "output_type": "stream",
          "text": [
            "\u001b[32m  ✓ \u001b[39m\u001b[90mParsers\u001b[39m\n"
          ]
        },
        {
          "name": "stderr",
          "output_type": "stream",
          "text": [
            "\u001b[32m  ✓ \u001b[39m\u001b[90mInlineStrings\u001b[39m\n"
          ]
        },
        {
          "name": "stderr",
          "output_type": "stream",
          "text": [
            "\u001b[32m  ✓ \u001b[39m\u001b[90mJSON\u001b[39m\n"
          ]
        },
        {
          "name": "stderr",
          "output_type": "stream",
          "text": [
            "\u001b[32m  ✓ \u001b[39m\u001b[90mWeakRefStrings\u001b[39m\n"
          ]
        },
        {
          "name": "stderr",
          "output_type": "stream",
          "text": [
            "\u001b[32m  ✓ \u001b[39m\u001b[90mPlotUtils\u001b[39m\n"
          ]
        },
        {
          "name": "stderr",
          "output_type": "stream",
          "text": [
            "\u001b[32m  ✓ \u001b[39m\u001b[90mGR\u001b[39m\n"
          ]
        },
        {
          "name": "stderr",
          "output_type": "stream",
          "text": [
            "\u001b[32m  ✓ \u001b[39m\u001b[90mPlotThemes\u001b[39m\n"
          ]
        },
        {
          "name": "stderr",
          "output_type": "stream",
          "text": [
            "\u001b[32m  ✓ \u001b[39m\u001b[90mRecipesPipeline\u001b[39m\n"
          ]
        },
        {
          "name": "stderr",
          "output_type": "stream",
          "text": [
            "\u001b[32m  ✓ \u001b[39mCSV\n"
          ]
        },
        {
          "name": "stderr",
          "output_type": "stream",
          "text": [
            "\u001b[32m  ✓ \u001b[39mDataFrames\n"
          ]
        },
        {
          "name": "stderr",
          "output_type": "stream",
          "text": [
            "\u001b[32m  ✓ \u001b[39m\u001b[90mLatexify → DataFramesExt\u001b[39m\n"
          ]
        },
        {
          "name": "stderr",
          "output_type": "stream",
          "text": [
            "\u001b[32m  ✓ \u001b[39mPlots\n"
          ]
        },
        {
          "name": "stderr",
          "output_type": "stream",
          "text": [
            "\u001b[32m  ✓ \u001b[39m\u001b[90mPlots → UnitfulExt\u001b[39m\n",
            "  122 dependencies successfully precompiled in 212 seconds. 58 already precompiled.\n"
          ]
        }
      ],
      "source": [
        "import Pkg\n",
        "Pkg.activate(@__DIR__)\n",
        "Pkg.instantiate()"
      ]
    },
    {
      "cell_type": "code",
      "execution_count": 2,
      "id": "5983e5b6",
      "metadata": {},
      "outputs": [],
      "source": [
        "using Random\n",
        "using Plots\n",
        "using LaTeXStrings\n",
        "using Distributions\n",
        "using CSV\n",
        "using DataFrames"
      ]
    },
    {
      "cell_type": "markdown",
      "id": "e2a42659-c332-4c5f-a100-71461472c251",
      "metadata": {},
      "source": [
        "## Problems (Total: 40 Points)"
      ]
    },
    {
      "cell_type": "markdown",
      "id": "be018462-69c6-483e-9ca8-38b70c3ad574",
      "metadata": {},
      "source": [
        "### Problem 1 (12 points)\n",
        "\n",
        "Recall from class that the simple energy balance model (EBM) of\n",
        "planetary energy balance links changes in radiative forcing ($F$) to\n",
        "global mean temperature ($T$) changes through the discretized equation\n",
        "$$T_{i+1} = T_{i} + \\frac{F_i - \\lambda T_i}{cd} \\times \\Delta t,$$\n",
        "where $i$ is the current time step, $c = 4.184 \\times 10^6$\n",
        "J/K/m<sup>2</sup> is the heat capacity of water per unit area, $d$ is\n",
        "the (uncertain) depth of the mixing layer, $\\Delta t$ is the annual time\n",
        "step in seconds and $\\lambda = F_{\\text{2xCO}_2}/S$ is the climate\n",
        "feedback parameter in W/m<sup>2</sup>/$^\\circ$ C, where $S$ is the\n",
        "equilibrium climate sensitivity (the uncertain equilibrium temperature\n",
        "change resulting from a doubling of atmospheric CO<sub>2</sub>).\n",
        "Finally, while total radiative forcing can be the result of non-aerosol\n",
        "and aerosol effects, we do not know the relative intensity of aerosol\n",
        "forcing, so we represent this with an uncertain aerosol scaling factor\n",
        "$\\alpha$.\n",
        "\n",
        "We can implement this model with the following Julia function. We will\n",
        "assume an ocean mixing depth $d = 100$ m and an aerosol scaling factor\n",
        "$\\alpha = 1.3$ so we can focus on the uncertainty in $S$.\n",
        "\n",
        "The last technical concern is that “global mean temperature” does not\n",
        "make sense in absolute terms as a marker of climate change. Instead, we\n",
        "typically refer to temperature changes relative to some historical\n",
        "pre-industrial baseline. In this case, we will use the period from\n",
        "1880-1900, though this choice can vary."
      ]
    },
    {
      "cell_type": "code",
      "execution_count": 3,
      "id": "449950ec",
      "metadata": {},
      "outputs": [
        {
          "data": {
            "text/plain": [
              "energy_balance_model (generic function with 1 method)"
            ]
          },
          "metadata": {},
          "output_type": "display_data"
        }
      ],
      "source": [
        "# we need to split up the aerosol and non-aerosol forcings when we call the function\n",
        "function energy_balance_model(S, forcing_aerosol, forcing_non_aerosol)\n",
        "    d = 100 # ocean mixing depth [m]\n",
        "    α = 1.3 # aerosol scaling factor\n",
        "    F2xCO₂ = 4.0 # radiative forcing [W/m²] for a doubling of CO₂\n",
        "    λ = F2xCO₂/S\n",
        "    \n",
        "    c = 4.184e6 # heat capacity/area [J/K/m²]\n",
        "    C = c*d # heat capacity of mixed layer (per area)\n",
        "\n",
        "    F = forcing_non_aerosol + α*forcing_aerosol # radiative forcing\n",
        "\n",
        "    Δt = 31558152.0 # annual timestep [s]\n",
        "    \n",
        "    T = zero(F)\n",
        "    for i in 1:length(F)-1\n",
        "        T[i+1] = T[i] + (F[i] - λ*T[i])/C * Δt\n",
        "    end\n",
        "    # return temperature anomaly relative to 1880-1900 baseline\n",
        "    return T .- mean(T[1:21]) \n",
        "end"
      ]
    },
    {
      "cell_type": "markdown",
      "id": "6b81816c-0bd3-4577-b802-4b030f13bcd5",
      "metadata": {},
      "source": [
        "Finally, we need to load some radiative forcing data. We will use the\n",
        "radiative forcing scenario RCP 8.5. We can load this data, which is in a\n",
        "`.csv` (comma-delimited) file, into a `DataFrame`, which is a tabular\n",
        "data structure. Rows and columns in a `DataFrame` can be accessed using\n",
        "their numerical index (like a matrix), but columns also have names; you\n",
        "can access a particular column in a dataframe `df` by name using\n",
        "`df.colname` or `df[:, \"colname\"]`.\n",
        "\n",
        "Of note: this data set goes from 1750–2500, so you will need to take\n",
        "care to make sure you are using the right years at each step. For\n",
        "example, here we will constrain the data to 1880–2100, which is the\n",
        "period we are interested in."
      ]
    },
    {
      "cell_type": "code",
      "execution_count": 4,
      "id": "80c4ab89",
      "metadata": {},
      "outputs": [
        {
          "data": {
            "text/plain": [
              "221-element Vector{Float64}:\n",
              "  0.42741479112315905\n",
              "  0.4487940147601447\n",
              "  0.4900144276528058\n",
              " -0.019811270078689047\n",
              " -1.480725700367619\n",
              " -0.3154905163510021\n",
              "  0.233186559774844\n",
              "  0.2923308952663089\n",
              "  0.45833872365810924\n",
              "  0.5168189581089915\n",
              "  ⋮\n",
              "  9.879065698371564\n",
              "  9.946850640754889\n",
              " 10.002169546141578\n",
              " 10.061009359425011\n",
              " 10.115684195707905\n",
              " 10.182946497594184\n",
              " 10.249699157847772\n",
              " 10.331407709334023\n",
              " 10.424544495740134"
            ]
          },
          "metadata": {},
          "output_type": "display_data"
        }
      ],
      "source": [
        "# The CSV is read into a DataFrame object, and we specify that it is comma delimited\n",
        "forcings_all_85 = CSV.read(\"data/ERF_ssp585_1750-2500.csv\", DataFrame, delim=\",\")\n",
        "\n",
        "# get the years corresponding to the forcings\n",
        "t = Int64.(forcings_all_85[!,\"year\"]) # Ensure that years are interpreted as integers\n",
        "# find the indices of the years 1880 and 2100\n",
        "# we can do this with the indexin function\n",
        "time_bounds = indexin([1880, 2100], t)\n",
        "years = time_bounds[1]:time_bounds[2] # create range of years\n",
        "\n",
        "# Separate out the individual components\n",
        "forcing_co2_85 = forcings_all_85[years,\"co2\"]\n",
        "# Get total aerosol and non-aerosol forcings\n",
        "forcing_aerosol_rad_85 = forcings_all_85[years,\"aerosol-radiation_interactions\"]\n",
        "forcing_aerosol_cloud_85 = forcings_all_85[years,\"aerosol-cloud_interactions\"]\n",
        "forcing_aerosol_85 = forcing_aerosol_rad_85 + forcing_aerosol_cloud_85 # aerosol forcings\n",
        "forcing_total_85 = forcings_all_85[years,\"total\"] \n",
        "forcing_non_aerosol_85 = forcing_total_85 - forcing_aerosol_85 # non-aerosol forcings"
      ]
    },
    {
      "cell_type": "markdown",
      "id": "bf320cea-43a2-4807-a94d-a9fe18cd2de0",
      "metadata": {},
      "source": [
        "For this assignment, you can use the `forcing_aerosol_85` and\n",
        "`forcing_non_aerosol_85` vectors as is to correspond to the relevant\n",
        "forcings. You will need to use the vector `t` to find the appropriate\n",
        "years for analysis."
      ]
    },
    {
      "cell_type": "markdown",
      "id": "4df91243-61ea-4620-8611-54f6001d472d",
      "metadata": {},
      "source": [
        "#### Problem 1.1 (3 points)\n",
        "\n",
        "Assume that $S$ is distributed according to\n",
        "$\\text{LogNormal}(\\log(3.2), \\log{2}/3)$ (as in class). Draw 10,000\n",
        "samples from this distribution and make a histogram."
      ]
    },
    {
      "cell_type": "code",
      "execution_count": 17,
      "id": "a5c87876",
      "metadata": {},
      "outputs": [
        {
          "data": {
            "image/png": "[encoded data removed]",
            "image/svg+xml": [
              "<?xml version=\"1.0\" encoding=\"utf-8\"?>\n",
              "<svg xmlns=\"http://www.w3.org/2000/svg\" xmlns:xlink=\"http://www.w3.org/1999/xlink\" width=\"600\" height=\"400\" viewBox=\"0 0 2400 1600\">\n",
              "<defs>\n",
              "  <clipPath id=\"clip220\">\n",
              "    <rect x=\"0\" y=\"0\" width=\"2400\" height=\"1600\"/>\n",
              "  </clipPath>\n",
              "</defs>\n",
              "<path clip-path=\"url(#clip220)\" d=\"M0 1600 L2400 1600 L2400 0 L0 0  Z\" fill=\"#ffffff\" fill-rule=\"evenodd\" fill-opacity=\"1\"/>\n",
              "<defs>\n",
              "  <clipPath id=\"clip221\">\n",
              "    <rect x=\"480\" y=\"0\" width=\"1681\" height=\"1600\"/>\n",
              "  </clipPath>\n",
              "</defs>\n",
              "<path clip-path=\"url(#clip220)\" d=\"M336.597 1486.45 L2352.76 1486.45 L2352.76 47.2441 L336.597 47.2441  Z\" fill=\"#ffffff\" fill-rule=\"evenodd\" fill-opacity=\"1\"/>\n",
              "<defs>\n",
              "  <clipPath id=\"clip222\">\n",
              "    <rect x=\"336\" y=\"47\" width=\"2017\" height=\"1440\"/>\n",
              "  </clipPath>\n",
              "</defs>\n",
              "<polyline clip-path=\"url(#clip222)\" style=\"stroke:#000000; stroke-linecap:round; stroke-linejoin:round; stroke-width:2; stroke-opacity:0.1; fill:none\" points=\"669.39,1486.45 669.39,47.2441 \"/>\n",
              "<polyline clip-path=\"url(#clip222)\" style=\"stroke:#000000; stroke-linecap:round; stroke-linejoin:round; stroke-width:2; stroke-opacity:0.1; fill:none\" points=\"1094.9,1486.45 1094.9,47.2441 \"/>\n",
              "<polyline clip-path=\"url(#clip222)\" style=\"stroke:#000000; stroke-linecap:round; stroke-linejoin:round; stroke-width:2; stroke-opacity:0.1; fill:none\" points=\"1520.41,1486.45 1520.41,47.2441 \"/>\n",
              "<polyline clip-path=\"url(#clip222)\" style=\"stroke:#000000; stroke-linecap:round; stroke-linejoin:round; stroke-width:2; stroke-opacity:0.1; fill:none\" points=\"1945.92,1486.45 1945.92,47.2441 \"/>\n",
              "<polyline clip-path=\"url(#clip220)\" style=\"stroke:#000000; stroke-linecap:round; stroke-linejoin:round; stroke-width:4; stroke-opacity:1; fill:none\" points=\"336.597,1486.45 2352.76,1486.45 \"/>\n",
              "<polyline clip-path=\"url(#clip220)\" style=\"stroke:#000000; stroke-linecap:round; stroke-linejoin:round; stroke-width:4; stroke-opacity:1; fill:none\" points=\"669.39,1486.45 669.39,1467.55 \"/>\n",
              "<polyline clip-path=\"url(#clip220)\" style=\"stroke:#000000; stroke-linecap:round; stroke-linejoin:round; stroke-width:4; stroke-opacity:1; fill:none\" points=\"1094.9,1486.45 1094.9,1467.55 \"/>\n",
              "<polyline clip-path=\"url(#clip220)\" style=\"stroke:#000000; stroke-linecap:round; stroke-linejoin:round; stroke-width:4; stroke-opacity:1; fill:none\" points=\"1520.41,1486.45 1520.41,1467.55 \"/>\n",
              "<polyline clip-path=\"url(#clip220)\" style=\"stroke:#000000; stroke-linecap:round; stroke-linejoin:round; stroke-width:4; stroke-opacity:1; fill:none\" points=\"1945.92,1486.45 1945.92,1467.55 \"/>\n",
              "<path clip-path=\"url(#clip220)\" d=\"M641.126 1544.91 L657.445 1544.91 L657.445 1548.85 L635.501 1548.85 L635.501 1544.91 Q638.163 1542.16 642.746 1537.53 Q647.353 1532.88 648.533 1531.53 Q650.779 1529.01 651.658 1527.27 Q652.561 1525.51 652.561 1523.82 Q652.561 1521.07 650.617 1519.33 Q648.695 1517.6 645.594 1517.6 Q643.395 1517.6 640.941 1518.36 Q638.51 1519.13 635.733 1520.68 L635.733 1515.95 Q638.557 1514.82 641.01 1514.24 Q643.464 1513.66 645.501 1513.66 Q650.871 1513.66 654.066 1516.35 Q657.26 1519.03 657.26 1523.52 Q657.26 1525.65 656.45 1527.57 Q655.663 1529.47 653.557 1532.07 Q652.978 1532.74 649.876 1535.95 Q646.774 1539.15 641.126 1544.91 Z\" fill=\"#000000\" fill-rule=\"nonzero\" fill-opacity=\"1\" /><path clip-path=\"url(#clip220)\" d=\"M667.26 1542.97 L672.144 1542.97 L672.144 1548.85 L667.26 1548.85 L667.26 1542.97 Z\" fill=\"#000000\" fill-rule=\"nonzero\" fill-opacity=\"1\" /><path clip-path=\"url(#clip220)\" d=\"M682.376 1514.29 L700.732 1514.29 L700.732 1518.22 L686.658 1518.22 L686.658 1526.7 Q687.677 1526.35 688.695 1526.19 Q689.714 1526 690.732 1526 Q696.519 1526 699.899 1529.17 Q703.279 1532.34 703.279 1537.76 Q703.279 1543.34 699.806 1546.44 Q696.334 1549.52 690.015 1549.52 Q687.839 1549.52 685.57 1549.15 Q683.325 1548.78 680.918 1548.04 L680.918 1543.34 Q683.001 1544.47 685.223 1545.03 Q687.445 1545.58 689.922 1545.58 Q693.927 1545.58 696.265 1543.48 Q698.603 1541.37 698.603 1537.76 Q698.603 1534.15 696.265 1532.04 Q693.927 1529.94 689.922 1529.94 Q688.047 1529.94 686.172 1530.35 Q684.32 1530.77 682.376 1531.65 L682.376 1514.29 Z\" fill=\"#000000\" fill-rule=\"nonzero\" fill-opacity=\"1\" /><path clip-path=\"url(#clip220)\" d=\"M1062.07 1514.29 L1080.42 1514.29 L1080.42 1518.22 L1066.35 1518.22 L1066.35 1526.7 Q1067.37 1526.35 1068.39 1526.19 Q1069.4 1526 1070.42 1526 Q1076.21 1526 1079.59 1529.17 Q1082.97 1532.34 1082.97 1537.76 Q1082.97 1543.34 1079.5 1546.44 Q1076.02 1549.52 1069.7 1549.52 Q1067.53 1549.52 1065.26 1549.15 Q1063.01 1548.78 1060.61 1548.04 L1060.61 1543.34 Q1062.69 1544.47 1064.91 1545.03 Q1067.14 1545.58 1069.61 1545.58 Q1073.62 1545.58 1075.95 1543.48 Q1078.29 1541.37 1078.29 1537.76 Q1078.29 1534.15 1075.95 1532.04 Q1073.62 1529.94 1069.61 1529.94 Q1067.74 1529.94 1065.86 1530.35 Q1064.01 1530.77 1062.07 1531.65 L1062.07 1514.29 Z\" fill=\"#000000\" fill-rule=\"nonzero\" fill-opacity=\"1\" /><path clip-path=\"url(#clip220)\" d=\"M1092.18 1542.97 L1097.07 1542.97 L1097.07 1548.85 L1092.18 1548.85 L1092.18 1542.97 Z\" fill=\"#000000\" fill-rule=\"nonzero\" fill-opacity=\"1\" /><path clip-path=\"url(#clip220)\" d=\"M1117.25 1517.37 Q1113.64 1517.37 1111.81 1520.93 Q1110.01 1524.47 1110.01 1531.6 Q1110.01 1538.71 1111.81 1542.27 Q1113.64 1545.82 1117.25 1545.82 Q1120.88 1545.82 1122.69 1542.27 Q1124.52 1538.71 1124.52 1531.6 Q1124.52 1524.47 1122.69 1520.93 Q1120.88 1517.37 1117.25 1517.37 M1117.25 1513.66 Q1123.06 1513.66 1126.12 1518.27 Q1129.2 1522.85 1129.2 1531.6 Q1129.2 1540.33 1126.12 1544.94 Q1123.06 1549.52 1117.25 1549.52 Q1111.44 1549.52 1108.36 1544.94 Q1105.31 1540.33 1105.31 1531.6 Q1105.31 1522.85 1108.36 1518.27 Q1111.44 1513.66 1117.25 1513.66 Z\" fill=\"#000000\" fill-rule=\"nonzero\" fill-opacity=\"1\" /><path clip-path=\"url(#clip220)\" d=\"M1486.73 1514.29 L1508.95 1514.29 L1508.95 1516.28 L1496.41 1548.85 L1491.52 1548.85 L1503.33 1518.22 L1486.73 1518.22 L1486.73 1514.29 Z\" fill=\"#000000\" fill-rule=\"nonzero\" fill-opacity=\"1\" /><path clip-path=\"url(#clip220)\" d=\"M1518.07 1542.97 L1522.96 1542.97 L1522.96 1548.85 L1518.07 1548.85 L1518.07 1542.97 Z\" fill=\"#000000\" fill-rule=\"nonzero\" fill-opacity=\"1\" /><path clip-path=\"url(#clip220)\" d=\"M1533.19 1514.29 L1551.55 1514.29 L1551.55 1518.22 L1537.47 1518.22 L1537.47 1526.7 Q1538.49 1526.35 1539.51 1526.19 Q1540.53 1526 1541.55 1526 Q1547.33 1526 1550.71 1529.17 Q1554.09 1532.34 1554.09 1537.76 Q1554.09 1543.34 1550.62 1546.44 Q1547.15 1549.52 1540.83 1549.52 Q1538.65 1549.52 1536.38 1549.15 Q1534.14 1548.78 1531.73 1548.04 L1531.73 1543.34 Q1533.82 1544.47 1536.04 1545.03 Q1538.26 1545.58 1540.74 1545.58 Q1544.74 1545.58 1547.08 1543.48 Q1549.42 1541.37 1549.42 1537.76 Q1549.42 1534.15 1547.08 1532.04 Q1544.74 1529.94 1540.74 1529.94 Q1538.86 1529.94 1536.99 1530.35 Q1535.13 1530.77 1533.19 1531.65 L1533.19 1514.29 Z\" fill=\"#000000\" fill-rule=\"nonzero\" fill-opacity=\"1\" /><path clip-path=\"url(#clip220)\" d=\"M1898 1544.91 L1905.64 1544.91 L1905.64 1518.55 L1897.33 1520.21 L1897.33 1515.95 L1905.59 1514.29 L1910.26 1514.29 L1910.26 1544.91 L1917.9 1544.91 L1917.9 1548.85 L1898 1548.85 L1898 1544.91 Z\" fill=\"#000000\" fill-rule=\"nonzero\" fill-opacity=\"1\" /><path clip-path=\"url(#clip220)\" d=\"M1937.35 1517.37 Q1933.74 1517.37 1931.91 1520.93 Q1930.1 1524.47 1930.1 1531.6 Q1930.1 1538.71 1931.91 1542.27 Q1933.74 1545.82 1937.35 1545.82 Q1940.98 1545.82 1942.79 1542.27 Q1944.62 1538.71 1944.62 1531.6 Q1944.62 1524.47 1942.79 1520.93 Q1940.98 1517.37 1937.35 1517.37 M1937.35 1513.66 Q1943.16 1513.66 1946.21 1518.27 Q1949.29 1522.85 1949.29 1531.6 Q1949.29 1540.33 1946.21 1544.94 Q1943.16 1549.52 1937.35 1549.52 Q1931.54 1549.52 1928.46 1544.94 Q1925.4 1540.33 1925.4 1531.6 Q1925.4 1522.85 1928.46 1518.27 Q1931.54 1513.66 1937.35 1513.66 Z\" fill=\"#000000\" fill-rule=\"nonzero\" fill-opacity=\"1\" /><path clip-path=\"url(#clip220)\" d=\"M1957.51 1542.97 L1962.39 1542.97 L1962.39 1548.85 L1957.51 1548.85 L1957.51 1542.97 Z\" fill=\"#000000\" fill-rule=\"nonzero\" fill-opacity=\"1\" /><path clip-path=\"url(#clip220)\" d=\"M1982.58 1517.37 Q1978.97 1517.37 1977.14 1520.93 Q1975.33 1524.47 1975.33 1531.6 Q1975.33 1538.71 1977.14 1542.27 Q1978.97 1545.82 1982.58 1545.82 Q1986.21 1545.82 1988.02 1542.27 Q1989.85 1538.71 1989.85 1531.6 Q1989.85 1524.47 1988.02 1520.93 Q1986.21 1517.37 1982.58 1517.37 M1982.58 1513.66 Q1988.39 1513.66 1991.44 1518.27 Q1994.52 1522.85 1994.52 1531.6 Q1994.52 1540.33 1991.44 1544.94 Q1988.39 1549.52 1982.58 1549.52 Q1976.77 1549.52 1973.69 1544.94 Q1970.63 1540.33 1970.63 1531.6 Q1970.63 1522.85 1973.69 1518.27 Q1976.77 1513.66 1982.58 1513.66 Z\" fill=\"#000000\" fill-rule=\"nonzero\" fill-opacity=\"1\" /><polyline clip-path=\"url(#clip222)\" style=\"stroke:#000000; stroke-linecap:round; stroke-linejoin:round; stroke-width:2; stroke-opacity:0.1; fill:none\" points=\"336.597,1445.72 2352.76,1445.72 \"/>\n",
              "<polyline clip-path=\"url(#clip222)\" style=\"stroke:#000000; stroke-linecap:round; stroke-linejoin:round; stroke-width:2; stroke-opacity:0.1; fill:none\" points=\"336.597,1202.36 2352.76,1202.36 \"/>\n",
              "<polyline clip-path=\"url(#clip222)\" style=\"stroke:#000000; stroke-linecap:round; stroke-linejoin:round; stroke-width:2; stroke-opacity:0.1; fill:none\" points=\"336.597,959.011 2352.76,959.011 \"/>\n",
              "<polyline clip-path=\"url(#clip222)\" style=\"stroke:#000000; stroke-linecap:round; stroke-linejoin:round; stroke-width:2; stroke-opacity:0.1; fill:none\" points=\"336.597,715.659 2352.76,715.659 \"/>\n",
              "<polyline clip-path=\"url(#clip222)\" style=\"stroke:#000000; stroke-linecap:round; stroke-linejoin:round; stroke-width:2; stroke-opacity:0.1; fill:none\" points=\"336.597,472.307 2352.76,472.307 \"/>\n",
              "<polyline clip-path=\"url(#clip222)\" style=\"stroke:#000000; stroke-linecap:round; stroke-linejoin:round; stroke-width:2; stroke-opacity:0.1; fill:none\" points=\"336.597,228.955 2352.76,228.955 \"/>\n",
              "<polyline clip-path=\"url(#clip220)\" style=\"stroke:#000000; stroke-linecap:round; stroke-linejoin:round; stroke-width:4; stroke-opacity:1; fill:none\" points=\"336.597,1486.45 336.597,47.2441 \"/>\n",
              "<polyline clip-path=\"url(#clip220)\" style=\"stroke:#000000; stroke-linecap:round; stroke-linejoin:round; stroke-width:4; stroke-opacity:1; fill:none\" points=\"336.597,1445.72 355.495,1445.72 \"/>\n",
              "<polyline clip-path=\"url(#clip220)\" style=\"stroke:#000000; stroke-linecap:round; stroke-linejoin:round; stroke-width:4; stroke-opacity:1; fill:none\" points=\"336.597,1202.36 355.495,1202.36 \"/>\n",
              "<polyline clip-path=\"url(#clip220)\" style=\"stroke:#000000; stroke-linecap:round; stroke-linejoin:round; stroke-width:4; stroke-opacity:1; fill:none\" points=\"336.597,959.011 355.495,959.011 \"/>\n",
              "<polyline clip-path=\"url(#clip220)\" style=\"stroke:#000000; stroke-linecap:round; stroke-linejoin:round; stroke-width:4; stroke-opacity:1; fill:none\" points=\"336.597,715.659 355.495,715.659 \"/>\n",
              "<polyline clip-path=\"url(#clip220)\" style=\"stroke:#000000; stroke-linecap:round; stroke-linejoin:round; stroke-width:4; stroke-opacity:1; fill:none\" points=\"336.597,472.307 355.495,472.307 \"/>\n",
              "<polyline clip-path=\"url(#clip220)\" style=\"stroke:#000000; stroke-linecap:round; stroke-linejoin:round; stroke-width:4; stroke-opacity:1; fill:none\" points=\"336.597,228.955 355.495,228.955 \"/>\n",
              "<path clip-path=\"url(#clip220)\" d=\"M288.653 1431.51 Q285.042 1431.51 283.213 1435.08 Q281.408 1438.62 281.408 1445.75 Q281.408 1452.86 283.213 1456.42 Q285.042 1459.96 288.653 1459.96 Q292.287 1459.96 294.093 1456.42 Q295.921 1452.86 295.921 1445.75 Q295.921 1438.62 294.093 1435.08 Q292.287 1431.51 288.653 1431.51 M288.653 1427.81 Q294.463 1427.81 297.519 1432.42 Q300.597 1437 300.597 1445.75 Q300.597 1454.48 297.519 1459.08 Q294.463 1463.67 288.653 1463.67 Q282.843 1463.67 279.764 1459.08 Q276.709 1454.48 276.709 1445.75 Q276.709 1437 279.764 1432.42 Q282.843 1427.81 288.653 1427.81 Z\" fill=\"#000000\" fill-rule=\"nonzero\" fill-opacity=\"1\" /><path clip-path=\"url(#clip220)\" d=\"M56.6171 1222.16 L72.9365 1222.16 L72.9365 1226.09 L50.9921 1226.09 L50.9921 1222.16 Q53.6541 1219.4 58.2375 1214.77 Q62.8439 1210.12 64.0245 1208.78 Q66.2698 1206.25 67.1494 1204.52 Q68.0522 1202.76 68.0522 1201.07 Q68.0522 1198.31 66.1078 1196.58 Q64.1865 1194.84 61.0847 1194.84 Q58.8856 1194.84 56.4319 1195.61 Q54.0014 1196.37 51.2236 1197.92 L51.2236 1193.2 Q54.0477 1192.06 56.5014 1191.48 Q58.955 1190.91 60.9921 1190.91 Q66.3624 1190.91 69.5568 1193.59 Q72.7513 1196.28 72.7513 1200.77 Q72.7513 1202.9 71.9411 1204.82 Q71.1541 1206.72 69.0476 1209.31 Q68.4689 1209.98 65.367 1213.2 Q62.2652 1216.39 56.6171 1222.16 Z\" fill=\"#000000\" fill-rule=\"nonzero\" fill-opacity=\"1\" /><path clip-path=\"url(#clip220)\" d=\"M82.7512 1220.21 L87.6354 1220.21 L87.6354 1226.09 L82.7512 1226.09 L82.7512 1220.21 Z\" fill=\"#000000\" fill-rule=\"nonzero\" fill-opacity=\"1\" /><path clip-path=\"url(#clip220)\" d=\"M97.8669 1191.53 L116.223 1191.53 L116.223 1195.47 L102.149 1195.47 L102.149 1203.94 Q103.168 1203.59 104.186 1203.43 Q105.205 1203.24 106.223 1203.24 Q112.01 1203.24 115.39 1206.42 Q118.77 1209.59 118.77 1215 Q118.77 1220.58 115.297 1223.68 Q111.825 1226.76 105.506 1226.76 Q103.33 1226.76 101.061 1226.39 Q98.8159 1226.02 96.4085 1225.28 L96.4085 1220.58 Q98.4919 1221.72 100.714 1222.27 Q102.936 1222.83 105.413 1222.83 Q109.418 1222.83 111.756 1220.72 Q114.094 1218.61 114.094 1215 Q114.094 1211.39 111.756 1209.29 Q109.418 1207.18 105.413 1207.18 Q103.538 1207.18 101.663 1207.6 Q99.8113 1208.01 97.8669 1208.89 L97.8669 1191.53 Z\" fill=\"#000000\" fill-rule=\"nonzero\" fill-opacity=\"1\" /><path clip-path=\"url(#clip220)\" d=\"M137.982 1194.61 Q134.371 1194.61 132.543 1198.17 Q130.737 1201.72 130.737 1208.85 Q130.737 1215.95 132.543 1219.52 Q134.371 1223.06 137.982 1223.06 Q141.617 1223.06 143.422 1219.52 Q145.251 1215.95 145.251 1208.85 Q145.251 1201.72 143.422 1198.17 Q141.617 1194.61 137.982 1194.61 M137.982 1190.91 Q143.793 1190.91 146.848 1195.51 Q149.927 1200.1 149.927 1208.85 Q149.927 1217.57 146.848 1222.18 Q143.793 1226.76 137.982 1226.76 Q132.172 1226.76 129.094 1222.18 Q126.038 1217.57 126.038 1208.85 Q126.038 1200.1 129.094 1195.51 Q132.172 1190.91 137.982 1190.91 Z\" fill=\"#000000\" fill-rule=\"nonzero\" fill-opacity=\"1\" /><path clip-path=\"url(#clip220)\" d=\"M168.144 1194.61 Q164.533 1194.61 162.704 1198.17 Q160.899 1201.72 160.899 1208.85 Q160.899 1215.95 162.704 1219.52 Q164.533 1223.06 168.144 1223.06 Q171.779 1223.06 173.584 1219.52 Q175.413 1215.95 175.413 1208.85 Q175.413 1201.72 173.584 1198.17 Q171.779 1194.61 168.144 1194.61 M168.144 1190.91 Q173.954 1190.91 177.01 1195.51 Q180.089 1200.1 180.089 1208.85 Q180.089 1217.57 177.01 1222.18 Q173.954 1226.76 168.144 1226.76 Q162.334 1226.76 159.255 1222.18 Q156.2 1217.57 156.2 1208.85 Q156.2 1200.1 159.255 1195.51 Q162.334 1190.91 168.144 1190.91 Z\" fill=\"#000000\" fill-rule=\"nonzero\" fill-opacity=\"1\" /><path clip-path=\"url(#clip220)\" d=\"M216.477 1200.63 L205.899 1211.25 L216.477 1221.83 L213.723 1224.63 L203.098 1214.01 L192.473 1224.63 L189.741 1221.83 L200.297 1211.25 L189.741 1200.63 L192.473 1197.83 L203.098 1208.45 L213.723 1197.83 L216.477 1200.63 Z\" fill=\"#000000\" fill-rule=\"nonzero\" fill-opacity=\"1\" /><path clip-path=\"url(#clip220)\" d=\"M228.838 1222.16 L236.477 1222.16 L236.477 1195.79 L228.167 1197.46 L228.167 1193.2 L236.431 1191.53 L241.107 1191.53 L241.107 1222.16 L248.746 1222.16 L248.746 1226.09 L228.838 1226.09 L228.838 1222.16 Z\" fill=\"#000000\" fill-rule=\"nonzero\" fill-opacity=\"1\" /><path clip-path=\"url(#clip220)\" d=\"M268.19 1194.61 Q264.579 1194.61 262.75 1198.17 Q260.945 1201.72 260.945 1208.85 Q260.945 1215.95 262.75 1219.52 Q264.579 1223.06 268.19 1223.06 Q271.824 1223.06 273.63 1219.52 Q275.459 1215.95 275.459 1208.85 Q275.459 1201.72 273.63 1198.17 Q271.824 1194.61 268.19 1194.61 M268.19 1190.91 Q274 1190.91 277.056 1195.51 Q280.134 1200.1 280.134 1208.85 Q280.134 1217.57 277.056 1222.18 Q274 1226.76 268.19 1226.76 Q262.38 1226.76 259.301 1222.18 Q256.246 1217.57 256.246 1208.85 Q256.246 1200.1 259.301 1195.51 Q262.38 1190.91 268.19 1190.91 Z\" fill=\"#000000\" fill-rule=\"nonzero\" fill-opacity=\"1\" /><path clip-path=\"url(#clip220)\" d=\"M292.811 1173.91 L283.219 1188.9 L292.811 1188.9 L292.811 1173.91 M291.814 1170.6 L296.591 1170.6 L296.591 1188.9 L300.597 1188.9 L300.597 1192.06 L296.591 1192.06 L296.591 1198.68 L292.811 1198.68 L292.811 1192.06 L280.134 1192.06 L280.134 1188.39 L291.814 1170.6 Z\" fill=\"#000000\" fill-rule=\"nonzero\" fill-opacity=\"1\" /><path clip-path=\"url(#clip220)\" d=\"M52.6356 948.179 L70.992 948.179 L70.992 952.114 L56.918 952.114 L56.918 960.586 Q57.9365 960.239 58.955 960.077 Q59.9736 959.892 60.9921 959.892 Q66.7791 959.892 70.1587 963.063 Q73.5383 966.234 73.5383 971.651 Q73.5383 977.23 70.0661 980.332 Q66.5939 983.41 60.2745 983.41 Q58.0986 983.41 55.8301 983.04 Q53.5847 982.67 51.1773 981.929 L51.1773 977.23 Q53.2606 978.364 55.4828 978.92 Q57.7051 979.475 60.1819 979.475 Q64.1865 979.475 66.5245 977.369 Q68.8624 975.262 68.8624 971.651 Q68.8624 968.04 66.5245 965.934 Q64.1865 963.827 60.1819 963.827 Q58.3069 963.827 56.4319 964.244 Q54.5801 964.66 52.6356 965.54 L52.6356 948.179 Z\" fill=\"#000000\" fill-rule=\"nonzero\" fill-opacity=\"1\" /><path clip-path=\"url(#clip220)\" d=\"M82.7512 976.859 L87.6354 976.859 L87.6354 982.739 L82.7512 982.739 L82.7512 976.859 Z\" fill=\"#000000\" fill-rule=\"nonzero\" fill-opacity=\"1\" /><path clip-path=\"url(#clip220)\" d=\"M107.821 951.258 Q104.209 951.258 102.381 954.823 Q100.575 958.364 100.575 965.494 Q100.575 972.6 102.381 976.165 Q104.209 979.707 107.821 979.707 Q111.455 979.707 113.26 976.165 Q115.089 972.6 115.089 965.494 Q115.089 958.364 113.26 954.823 Q111.455 951.258 107.821 951.258 M107.821 947.554 Q113.631 947.554 116.686 952.16 Q119.765 956.744 119.765 965.494 Q119.765 974.221 116.686 978.827 Q113.631 983.41 107.821 983.41 Q102.01 983.41 98.9317 978.827 Q95.8761 974.221 95.8761 965.494 Q95.8761 956.744 98.9317 952.16 Q102.01 947.554 107.821 947.554 Z\" fill=\"#000000\" fill-rule=\"nonzero\" fill-opacity=\"1\" /><path clip-path=\"url(#clip220)\" d=\"M137.982 951.258 Q134.371 951.258 132.543 954.823 Q130.737 958.364 130.737 965.494 Q130.737 972.6 132.543 976.165 Q134.371 979.707 137.982 979.707 Q141.617 979.707 143.422 976.165 Q145.251 972.6 145.251 965.494 Q145.251 958.364 143.422 954.823 Q141.617 951.258 137.982 951.258 M137.982 947.554 Q143.793 947.554 146.848 952.16 Q149.927 956.744 149.927 965.494 Q149.927 974.221 146.848 978.827 Q143.793 983.41 137.982 983.41 Q132.172 983.41 129.094 978.827 Q126.038 974.221 126.038 965.494 Q126.038 956.744 129.094 952.16 Q132.172 947.554 137.982 947.554 Z\" fill=\"#000000\" fill-rule=\"nonzero\" fill-opacity=\"1\" /><path clip-path=\"url(#clip220)\" d=\"M168.144 951.258 Q164.533 951.258 162.704 954.823 Q160.899 958.364 160.899 965.494 Q160.899 972.6 162.704 976.165 Q164.533 979.707 168.144 979.707 Q171.779 979.707 173.584 976.165 Q175.413 972.6 175.413 965.494 Q175.413 958.364 173.584 954.823 Q171.779 951.258 168.144 951.258 M168.144 947.554 Q173.954 947.554 177.01 952.16 Q180.089 956.744 180.089 965.494 Q180.089 974.221 177.01 978.827 Q173.954 983.41 168.144 983.41 Q162.334 983.41 159.255 978.827 Q156.2 974.221 156.2 965.494 Q156.2 956.744 159.255 952.16 Q162.334 947.554 168.144 947.554 Z\" fill=\"#000000\" fill-rule=\"nonzero\" fill-opacity=\"1\" /><path clip-path=\"url(#clip220)\" d=\"M216.477 957.276 L205.899 967.901 L216.477 978.48 L213.723 981.281 L203.098 970.656 L192.473 981.281 L189.741 978.48 L200.297 967.901 L189.741 957.276 L192.473 954.475 L203.098 965.1 L213.723 954.475 L216.477 957.276 Z\" fill=\"#000000\" fill-rule=\"nonzero\" fill-opacity=\"1\" /><path clip-path=\"url(#clip220)\" d=\"M228.838 978.804 L236.477 978.804 L236.477 952.438 L228.167 954.105 L228.167 949.846 L236.431 948.179 L241.107 948.179 L241.107 978.804 L248.746 978.804 L248.746 982.739 L228.838 982.739 L228.838 978.804 Z\" fill=\"#000000\" fill-rule=\"nonzero\" fill-opacity=\"1\" /><path clip-path=\"url(#clip220)\" d=\"M268.19 951.258 Q264.579 951.258 262.75 954.823 Q260.945 958.364 260.945 965.494 Q260.945 972.6 262.75 976.165 Q264.579 979.707 268.19 979.707 Q271.824 979.707 273.63 976.165 Q275.459 972.6 275.459 965.494 Q275.459 958.364 273.63 954.823 Q271.824 951.258 268.19 951.258 M268.19 947.554 Q274 947.554 277.056 952.16 Q280.134 956.744 280.134 965.494 Q280.134 974.221 277.056 978.827 Q274 983.41 268.19 983.41 Q262.38 983.41 259.301 978.827 Q256.246 974.221 256.246 965.494 Q256.246 956.744 259.301 952.16 Q262.38 947.554 268.19 947.554 Z\" fill=\"#000000\" fill-rule=\"nonzero\" fill-opacity=\"1\" /><path clip-path=\"url(#clip220)\" d=\"M292.811 930.559 L283.219 945.549 L292.811 945.549 L292.811 930.559 M291.814 927.249 L296.591 927.249 L296.591 945.549 L300.597 945.549 L300.597 948.708 L296.591 948.708 L296.591 955.329 L292.811 955.329 L292.811 948.708 L280.134 948.708 L280.134 945.041 L291.814 927.249 Z\" fill=\"#000000\" fill-rule=\"nonzero\" fill-opacity=\"1\" /><path clip-path=\"url(#clip220)\" d=\"M51.4088 704.827 L73.6309 704.827 L73.6309 706.818 L61.0847 739.387 L56.2004 739.387 L68.0059 708.762 L51.4088 708.762 L51.4088 704.827 Z\" fill=\"#000000\" fill-rule=\"nonzero\" fill-opacity=\"1\" /><path clip-path=\"url(#clip220)\" d=\"M82.7512 733.507 L87.6354 733.507 L87.6354 739.387 L82.7512 739.387 L82.7512 733.507 Z\" fill=\"#000000\" fill-rule=\"nonzero\" fill-opacity=\"1\" /><path clip-path=\"url(#clip220)\" d=\"M97.8669 704.827 L116.223 704.827 L116.223 708.762 L102.149 708.762 L102.149 717.234 Q103.168 716.887 104.186 716.725 Q105.205 716.54 106.223 716.54 Q112.01 716.54 115.39 719.711 Q118.77 722.882 118.77 728.299 Q118.77 733.878 115.297 736.98 Q111.825 740.058 105.506 740.058 Q103.33 740.058 101.061 739.688 Q98.8159 739.317 96.4085 738.577 L96.4085 733.878 Q98.4919 735.012 100.714 735.567 Q102.936 736.123 105.413 736.123 Q109.418 736.123 111.756 734.017 Q114.094 731.91 114.094 728.299 Q114.094 724.688 111.756 722.581 Q109.418 720.475 105.413 720.475 Q103.538 720.475 101.663 720.892 Q99.8113 721.308 97.8669 722.188 L97.8669 704.827 Z\" fill=\"#000000\" fill-rule=\"nonzero\" fill-opacity=\"1\" /><path clip-path=\"url(#clip220)\" d=\"M137.982 707.906 Q134.371 707.906 132.543 711.47 Q130.737 715.012 130.737 722.142 Q130.737 729.248 132.543 732.813 Q134.371 736.355 137.982 736.355 Q141.617 736.355 143.422 732.813 Q145.251 729.248 145.251 722.142 Q145.251 715.012 143.422 711.47 Q141.617 707.906 137.982 707.906 M137.982 704.202 Q143.793 704.202 146.848 708.808 Q149.927 713.392 149.927 722.142 Q149.927 730.868 146.848 735.475 Q143.793 740.058 137.982 740.058 Q132.172 740.058 129.094 735.475 Q126.038 730.868 126.038 722.142 Q126.038 713.392 129.094 708.808 Q132.172 704.202 137.982 704.202 Z\" fill=\"#000000\" fill-rule=\"nonzero\" fill-opacity=\"1\" /><path clip-path=\"url(#clip220)\" d=\"M168.144 707.906 Q164.533 707.906 162.704 711.47 Q160.899 715.012 160.899 722.142 Q160.899 729.248 162.704 732.813 Q164.533 736.355 168.144 736.355 Q171.779 736.355 173.584 732.813 Q175.413 729.248 175.413 722.142 Q175.413 715.012 173.584 711.47 Q171.779 707.906 168.144 707.906 M168.144 704.202 Q173.954 704.202 177.01 708.808 Q180.089 713.392 180.089 722.142 Q180.089 730.868 177.01 735.475 Q173.954 740.058 168.144 740.058 Q162.334 740.058 159.255 735.475 Q156.2 730.868 156.2 722.142 Q156.2 713.392 159.255 708.808 Q162.334 704.202 168.144 704.202 Z\" fill=\"#000000\" fill-rule=\"nonzero\" fill-opacity=\"1\" /><path clip-path=\"url(#clip220)\" d=\"M216.477 713.924 L205.899 724.549 L216.477 735.128 L213.723 737.929 L203.098 727.304 L192.473 737.929 L189.741 735.128 L200.297 724.549 L189.741 713.924 L192.473 711.123 L203.098 721.748 L213.723 711.123 L216.477 713.924 Z\" fill=\"#000000\" fill-rule=\"nonzero\" fill-opacity=\"1\" /><path clip-path=\"url(#clip220)\" d=\"M228.838 735.452 L236.477 735.452 L236.477 709.086 L228.167 710.753 L228.167 706.494 L236.431 704.827 L241.107 704.827 L241.107 735.452 L248.746 735.452 L248.746 739.387 L228.838 739.387 L228.838 735.452 Z\" fill=\"#000000\" fill-rule=\"nonzero\" fill-opacity=\"1\" /><path clip-path=\"url(#clip220)\" d=\"M268.19 707.906 Q264.579 707.906 262.75 711.47 Q260.945 715.012 260.945 722.142 Q260.945 729.248 262.75 732.813 Q264.579 736.355 268.19 736.355 Q271.824 736.355 273.63 732.813 Q275.459 729.248 275.459 722.142 Q275.459 715.012 273.63 711.47 Q271.824 707.906 268.19 707.906 M268.19 704.202 Q274 704.202 277.056 708.808 Q280.134 713.392 280.134 722.142 Q280.134 730.868 277.056 735.475 Q274 740.058 268.19 740.058 Q262.38 740.058 259.301 735.475 Q256.246 730.868 256.246 722.142 Q256.246 713.392 259.301 708.808 Q262.38 704.202 268.19 704.202 Z\" fill=\"#000000\" fill-rule=\"nonzero\" fill-opacity=\"1\" /><path clip-path=\"url(#clip220)\" d=\"M292.811 687.207 L283.219 702.196 L292.811 702.196 L292.811 687.207 M291.814 683.896 L296.591 683.896 L296.591 702.196 L300.597 702.196 L300.597 705.356 L296.591 705.356 L296.591 711.976 L292.811 711.976 L292.811 705.356 L280.134 705.356 L280.134 701.689 L291.814 683.896 Z\" fill=\"#000000\" fill-rule=\"nonzero\" fill-opacity=\"1\" /><path clip-path=\"url(#clip220)\" d=\"M55.6941 492.1 L63.3329 492.1 L63.3329 465.734 L55.0228 467.401 L55.0228 463.141 L63.2866 461.475 L67.9625 461.475 L67.9625 492.1 L75.6014 492.1 L75.6014 496.035 L55.6941 496.035 L55.6941 492.1 Z\" fill=\"#000000\" fill-rule=\"nonzero\" fill-opacity=\"1\" /><path clip-path=\"url(#clip220)\" d=\"M85.0458 490.155 L89.93 490.155 L89.93 496.035 L85.0458 496.035 L85.0458 490.155 Z\" fill=\"#000000\" fill-rule=\"nonzero\" fill-opacity=\"1\" /><path clip-path=\"url(#clip220)\" d=\"M110.115 464.553 Q106.504 464.553 104.675 468.118 Q102.87 471.66 102.87 478.789 Q102.87 485.896 104.675 489.461 Q106.504 493.002 110.115 493.002 Q113.749 493.002 115.555 489.461 Q117.384 485.896 117.384 478.789 Q117.384 471.66 115.555 468.118 Q113.749 464.553 110.115 464.553 M110.115 460.85 Q115.925 460.85 118.981 465.456 Q122.059 470.04 122.059 478.789 Q122.059 487.516 118.981 492.123 Q115.925 496.706 110.115 496.706 Q104.305 496.706 101.226 492.123 Q98.1707 487.516 98.1707 478.789 Q98.1707 470.04 101.226 465.456 Q104.305 460.85 110.115 460.85 Z\" fill=\"#000000\" fill-rule=\"nonzero\" fill-opacity=\"1\" /><path clip-path=\"url(#clip220)\" d=\"M140.277 464.553 Q136.666 464.553 134.837 468.118 Q133.032 471.66 133.032 478.789 Q133.032 485.896 134.837 489.461 Q136.666 493.002 140.277 493.002 Q143.911 493.002 145.717 489.461 Q147.545 485.896 147.545 478.789 Q147.545 471.66 145.717 468.118 Q143.911 464.553 140.277 464.553 M140.277 460.85 Q146.087 460.85 149.143 465.456 Q152.221 470.04 152.221 478.789 Q152.221 487.516 149.143 492.123 Q146.087 496.706 140.277 496.706 Q134.467 496.706 131.388 492.123 Q128.333 487.516 128.333 478.789 Q128.333 470.04 131.388 465.456 Q134.467 460.85 140.277 460.85 Z\" fill=\"#000000\" fill-rule=\"nonzero\" fill-opacity=\"1\" /><path clip-path=\"url(#clip220)\" d=\"M170.439 464.553 Q166.828 464.553 164.999 468.118 Q163.193 471.66 163.193 478.789 Q163.193 485.896 164.999 489.461 Q166.828 493.002 170.439 493.002 Q174.073 493.002 175.879 489.461 Q177.707 485.896 177.707 478.789 Q177.707 471.66 175.879 468.118 Q174.073 464.553 170.439 464.553 M170.439 460.85 Q176.249 460.85 179.305 465.456 Q182.383 470.04 182.383 478.789 Q182.383 487.516 179.305 492.123 Q176.249 496.706 170.439 496.706 Q164.629 496.706 161.55 492.123 Q158.494 487.516 158.494 478.789 Q158.494 470.04 161.55 465.456 Q164.629 460.85 170.439 460.85 Z\" fill=\"#000000\" fill-rule=\"nonzero\" fill-opacity=\"1\" /><path clip-path=\"url(#clip220)\" d=\"M218.772 470.572 L208.193 481.197 L218.772 491.776 L216.017 494.576 L205.392 483.951 L194.767 494.576 L192.036 491.776 L202.591 481.197 L192.036 470.572 L194.767 467.771 L205.392 478.396 L216.017 467.771 L218.772 470.572 Z\" fill=\"#000000\" fill-rule=\"nonzero\" fill-opacity=\"1\" /><path clip-path=\"url(#clip220)\" d=\"M231.133 492.1 L238.772 492.1 L238.772 465.734 L230.462 467.401 L230.462 463.141 L238.725 461.475 L243.401 461.475 L243.401 492.1 L251.04 492.1 L251.04 496.035 L231.133 496.035 L231.133 492.1 Z\" fill=\"#000000\" fill-rule=\"nonzero\" fill-opacity=\"1\" /><path clip-path=\"url(#clip220)\" d=\"M270.485 464.553 Q266.873 464.553 265.045 468.118 Q263.239 471.66 263.239 478.789 Q263.239 485.896 265.045 489.461 Q266.873 493.002 270.485 493.002 Q274.119 493.002 275.924 489.461 Q277.753 485.896 277.753 478.789 Q277.753 471.66 275.924 468.118 Q274.119 464.553 270.485 464.553 M270.485 460.85 Q276.295 460.85 279.35 465.456 Q282.429 470.04 282.429 478.789 Q282.429 487.516 279.35 492.123 Q276.295 496.706 270.485 496.706 Q264.674 496.706 261.596 492.123 Q258.54 487.516 258.54 478.789 Q258.54 470.04 261.596 465.456 Q264.674 460.85 270.485 460.85 Z\" fill=\"#000000\" fill-rule=\"nonzero\" fill-opacity=\"1\" /><path clip-path=\"url(#clip220)\" d=\"M283.614 440.544 L298.528 440.544 L298.528 443.742 L287.093 443.742 L287.093 450.625 Q287.921 450.343 288.748 450.212 Q289.576 450.061 290.403 450.061 Q295.105 450.061 297.851 452.638 Q300.597 455.214 300.597 459.615 Q300.597 464.148 297.776 466.668 Q294.955 469.17 289.82 469.17 Q288.052 469.17 286.209 468.869 Q284.385 468.568 282.429 467.966 L282.429 464.148 Q284.122 465.07 285.927 465.521 Q287.733 465.972 289.745 465.972 Q292.999 465.972 294.899 464.261 Q296.798 462.549 296.798 459.615 Q296.798 456.681 294.899 454.97 Q292.999 453.258 289.745 453.258 Q288.222 453.258 286.698 453.597 Q285.194 453.935 283.614 454.65 L283.614 440.544 Z\" fill=\"#000000\" fill-rule=\"nonzero\" fill-opacity=\"1\" /><path clip-path=\"url(#clip220)\" d=\"M55.6941 248.747 L63.3329 248.747 L63.3329 222.382 L55.0228 224.049 L55.0228 219.789 L63.2866 218.123 L67.9625 218.123 L67.9625 248.747 L75.6014 248.747 L75.6014 252.683 L55.6941 252.683 L55.6941 248.747 Z\" fill=\"#000000\" fill-rule=\"nonzero\" fill-opacity=\"1\" /><path clip-path=\"url(#clip220)\" d=\"M85.0458 246.803 L89.93 246.803 L89.93 252.683 L85.0458 252.683 L85.0458 246.803 Z\" fill=\"#000000\" fill-rule=\"nonzero\" fill-opacity=\"1\" /><path clip-path=\"url(#clip220)\" d=\"M104.143 248.747 L120.462 248.747 L120.462 252.683 L98.5179 252.683 L98.5179 248.747 Q101.18 245.993 105.763 241.363 Q110.37 236.71 111.55 235.368 Q113.796 232.845 114.675 231.109 Q115.578 229.349 115.578 227.66 Q115.578 224.905 113.634 223.169 Q111.712 221.433 108.61 221.433 Q106.411 221.433 103.958 222.197 Q101.527 222.961 98.7494 224.511 L98.7494 219.789 Q101.573 218.655 104.027 218.076 Q106.481 217.498 108.518 217.498 Q113.888 217.498 117.083 220.183 Q120.277 222.868 120.277 227.359 Q120.277 229.488 119.467 231.41 Q118.68 233.308 116.573 235.9 Q115.995 236.572 112.893 239.789 Q109.791 242.984 104.143 248.747 Z\" fill=\"#000000\" fill-rule=\"nonzero\" fill-opacity=\"1\" /><path clip-path=\"url(#clip220)\" d=\"M130.323 218.123 L148.68 218.123 L148.68 222.058 L134.606 222.058 L134.606 230.53 Q135.624 230.183 136.643 230.021 Q137.661 229.836 138.68 229.836 Q144.467 229.836 147.846 233.007 Q151.226 236.178 151.226 241.595 Q151.226 247.173 147.754 250.275 Q144.282 253.354 137.962 253.354 Q135.786 253.354 133.518 252.984 Q131.272 252.613 128.865 251.872 L128.865 247.173 Q130.948 248.308 133.171 248.863 Q135.393 249.419 137.87 249.419 Q141.874 249.419 144.212 247.312 Q146.55 245.206 146.55 241.595 Q146.55 237.984 144.212 235.877 Q141.874 233.771 137.87 233.771 Q135.995 233.771 134.12 234.187 Q132.268 234.604 130.323 235.484 L130.323 218.123 Z\" fill=\"#000000\" fill-rule=\"nonzero\" fill-opacity=\"1\" /><path clip-path=\"url(#clip220)\" d=\"M170.439 221.201 Q166.828 221.201 164.999 224.766 Q163.193 228.308 163.193 235.437 Q163.193 242.544 164.999 246.109 Q166.828 249.65 170.439 249.65 Q174.073 249.65 175.879 246.109 Q177.707 242.544 177.707 235.437 Q177.707 228.308 175.879 224.766 Q174.073 221.201 170.439 221.201 M170.439 217.498 Q176.249 217.498 179.305 222.104 Q182.383 226.687 182.383 235.437 Q182.383 244.164 179.305 248.771 Q176.249 253.354 170.439 253.354 Q164.629 253.354 161.55 248.771 Q158.494 244.164 158.494 235.437 Q158.494 226.687 161.55 222.104 Q164.629 217.498 170.439 217.498 Z\" fill=\"#000000\" fill-rule=\"nonzero\" fill-opacity=\"1\" /><path clip-path=\"url(#clip220)\" d=\"M218.772 227.22 L208.193 237.845 L218.772 248.423 L216.017 251.224 L205.392 240.599 L194.767 251.224 L192.036 248.423 L202.591 237.845 L192.036 227.22 L194.767 224.419 L205.392 235.044 L216.017 224.419 L218.772 227.22 Z\" fill=\"#000000\" fill-rule=\"nonzero\" fill-opacity=\"1\" /><path clip-path=\"url(#clip220)\" d=\"M231.133 248.747 L238.772 248.747 L238.772 222.382 L230.462 224.049 L230.462 219.789 L238.725 218.123 L243.401 218.123 L243.401 248.747 L251.04 248.747 L251.04 252.683 L231.133 252.683 L231.133 248.747 Z\" fill=\"#000000\" fill-rule=\"nonzero\" fill-opacity=\"1\" /><path clip-path=\"url(#clip220)\" d=\"M270.485 221.201 Q266.873 221.201 265.045 224.766 Q263.239 228.308 263.239 235.437 Q263.239 242.544 265.045 246.109 Q266.873 249.65 270.485 249.65 Q274.119 249.65 275.924 246.109 Q277.753 242.544 277.753 235.437 Q277.753 228.308 275.924 224.766 Q274.119 221.201 270.485 221.201 M270.485 217.498 Q276.295 217.498 279.35 222.104 Q282.429 226.687 282.429 235.437 Q282.429 244.164 279.35 248.771 Q276.295 253.354 270.485 253.354 Q264.674 253.354 261.596 248.771 Q258.54 244.164 258.54 235.437 Q258.54 226.687 261.596 222.104 Q264.674 217.498 270.485 217.498 Z\" fill=\"#000000\" fill-rule=\"nonzero\" fill-opacity=\"1\" /><path clip-path=\"url(#clip220)\" d=\"M283.614 197.192 L298.528 197.192 L298.528 200.39 L287.093 200.39 L287.093 207.273 Q287.921 206.991 288.748 206.859 Q289.576 206.709 290.403 206.709 Q295.105 206.709 297.851 209.286 Q300.597 211.862 300.597 216.263 Q300.597 220.796 297.776 223.316 Q294.955 225.818 289.82 225.818 Q288.052 225.818 286.209 225.517 Q284.385 225.216 282.429 224.614 L282.429 220.796 Q284.122 221.718 285.927 222.169 Q287.733 222.62 289.745 222.62 Q292.999 222.62 294.899 220.909 Q296.798 219.197 296.798 216.263 Q296.798 213.329 294.899 211.618 Q292.999 209.906 289.745 209.906 Q288.222 209.906 286.698 210.245 Q285.194 210.583 283.614 211.298 L283.614 197.192 Z\" fill=\"#000000\" fill-rule=\"nonzero\" fill-opacity=\"1\" /><polyline clip-path=\"url(#clip222)\" style=\"stroke:#009af9; stroke-linecap:round; stroke-linejoin:round; stroke-width:4; stroke-opacity:1; fill:none\" points=\"393.658,1445.72 393.658,1445.71 394.509,1445.71 394.509,1445.72 395.36,1445.72 396.211,1445.72 397.062,1445.72 397.913,1445.72 398.765,1445.72 399.616,1445.72 399.616,1445.71 400.467,1445.71 400.467,1445.72 401.318,1445.72 402.169,1445.72 403.02,1445.72 403.871,1445.72 404.722,1445.72 405.573,1445.72 405.573,1445.71 406.424,1445.71 407.275,1445.71 407.275,1445.72 408.126,1445.72 408.977,1445.72 408.977,1445.7 409.828,1445.7 409.828,1445.72 410.679,1445.72 411.53,1445.72 411.53,1445.71 412.381,1445.71 412.381,1445.66 413.232,1445.66 413.232,1445.69 414.083,1445.69 414.083,1445.72 414.934,1445.72 414.934,1445.71 415.785,1445.71 415.785,1445.72 416.636,1445.72 416.636,1445.7 417.487,1445.7 418.338,1445.7 418.338,1445.68 419.189,1445.68 419.189,1445.69 420.04,1445.69 420.04,1445.71 420.891,1445.71 420.891,1445.7 421.742,1445.7 421.742,1445.69 422.593,1445.69 422.593,1445.71 423.444,1445.71 423.444,1445.7 424.295,1445.7 424.295,1445.69 425.146,1445.69 425.146,1445.7 425.997,1445.7 425.997,1445.65 426.848,1445.65 426.848,1445.67 427.699,1445.67 427.699,1445.64 428.55,1445.64 429.401,1445.64 429.401,1445.67 430.252,1445.67 430.252,1445.65 431.103,1445.65 431.103,1445.57 431.954,1445.57 431.954,1445.63 432.805,1445.63 432.805,1445.56 433.656,1445.56 433.656,1445.54 434.507,1445.54 435.358,1445.54 435.358,1445.59 436.21,1445.59 436.21,1445.56 437.061,1445.56 437.061,1445.55 437.912,1445.55 437.912,1445.59 438.763,1445.59 438.763,1445.55 439.614,1445.55 439.614,1445.48 440.465,1445.48 440.465,1445.51 441.316,1445.51 441.316,1445.48 442.167,1445.48 442.167,1445.5 443.018,1445.5 443.018,1445.37 443.869,1445.37 443.869,1445.38 444.72,1445.38 445.571,1445.38 445.571,1445.28 446.422,1445.28 446.422,1445.38 447.273,1445.38 447.273,1445.33 448.124,1445.33 448.124,1445.27 448.975,1445.27 449.826,1445.27 449.826,1445.23 450.677,1445.23 450.677,1445.19 451.528,1445.19 451.528,1444.96 452.379,1444.96 452.379,1445.03 453.23,1445.03 453.23,1444.88 454.081,1444.88 454.081,1445.12 454.932,1445.12 454.932,1444.88 455.783,1444.88 455.783,1444.81 456.634,1444.81 456.634,1444.91 457.485,1444.91 457.485,1444.75 458.336,1444.75 458.336,1444.85 459.187,1444.85 459.187,1444.73 460.038,1444.73 460.038,1444.55 460.889,1444.55 460.889,1444.49 461.74,1444.49 461.74,1444.36 462.591,1444.36 462.591,1444.31 463.442,1444.31 463.442,1444.1 464.293,1444.1 464.293,1444.11 465.144,1444.11 465.144,1444.09 465.995,1444.09 465.995,1443.95 466.846,1443.95 466.846,1443.86 467.697,1443.86 467.697,1443.58 468.548,1443.58 468.548,1443.54 469.399,1443.54 469.399,1443.44 470.25,1443.44 470.25,1443.2 471.101,1443.2 471.101,1442.95 471.952,1442.95 471.952,1443.08 472.804,1443.08 472.804,1442.71 473.655,1442.71 473.655,1442.91 474.506,1442.91 474.506,1442.49 475.357,1442.49 475.357,1442.38 476.208,1442.38 476.208,1442.43 477.059,1442.43 477.059,1442.21 477.91,1442.21 477.91,1441.63 478.761,1441.63 478.761,1441.65 479.612,1441.65 479.612,1441.1 480.463,1441.1 480.463,1441.12 481.314,1441.12 481.314,1441.23 482.165,1441.23 482.165,1440.61 483.016,1440.61 483.016,1440.16 483.867,1440.16 483.867,1439.93 484.718,1439.93 484.718,1439.95 485.569,1439.95 485.569,1439.84 486.42,1439.84 486.42,1439.15 487.271,1439.15 487.271,1438.73 488.122,1438.73 488.122,1438.47 488.973,1438.47 488.973,1437.85 489.824,1437.85 489.824,1438.02 490.675,1438.02 490.675,1437.58 491.526,1437.58 491.526,1436.62 492.377,1436.62 492.377,1436.24 493.228,1436.24 493.228,1435.8 494.079,1435.8 494.079,1435.29 494.93,1435.29 494.93,1435.28 495.781,1435.28 495.781,1434.81 496.632,1434.81 496.632,1434.31 497.483,1434.31 497.483,1433.36 498.334,1433.36 498.334,1434.2 499.185,1434.2 499.185,1432.51 500.036,1432.51 500.036,1432.13 500.887,1432.13 500.887,1431.88 501.738,1431.88 501.738,1430.24 502.589,1430.24 502.589,1430.26 503.44,1430.26 503.44,1428.65 504.291,1428.65 504.291,1428.36 505.142,1428.36 505.142,1427.91 505.993,1427.91 505.993,1426.19 506.844,1426.19 506.844,1425.61 507.695,1425.61 507.695,1426 508.546,1426 508.546,1424.78 509.397,1424.78 509.397,1424.27 510.249,1424.27 510.249,1422.87 511.1,1422.87 511.1,1421.92 511.951,1421.92 511.951,1421.19 512.802,1421.19 512.802,1419.93 513.653,1419.93 513.653,1419.35 514.504,1419.35 514.504,1418.12 515.355,1418.12 515.355,1417.51 516.206,1417.51 516.206,1416.16 517.057,1416.16 517.057,1415.39 517.908,1415.39 517.908,1413.57 518.759,1413.57 518.759,1412.6 519.61,1412.6 519.61,1412.34 520.461,1412.34 520.461,1409.64 521.312,1409.64 521.312,1408.95 522.163,1408.95 522.163,1407.58 523.014,1407.58 523.014,1406.52 523.865,1406.52 523.865,1405.55 524.716,1405.55 524.716,1404.18 525.567,1404.18 525.567,1401.55 526.418,1401.55 526.418,1400.84 527.269,1400.84 527.269,1399.48 528.12,1399.48 528.12,1396.49 528.971,1396.49 528.971,1395.7 529.822,1395.7 529.822,1394.38 530.673,1394.38 530.673,1393.85 531.524,1393.85 531.524,1390.37 532.375,1390.37 532.375,1387.12 533.226,1387.12 533.226,1385.64 534.077,1385.64 534.077,1385.14 534.928,1385.14 534.928,1382.92 535.779,1382.92 535.779,1379.85 536.63,1379.85 536.63,1378.85 537.481,1378.85 537.481,1376.27 538.332,1376.27 538.332,1374.97 539.183,1374.97 539.183,1371.09 540.034,1371.09 540.034,1370.41 540.885,1370.41 540.885,1366.32 541.736,1366.32 541.736,1366.68 542.587,1366.68 542.587,1361.41 543.438,1361.41 543.438,1362.69 544.289,1362.69 544.289,1358.05 545.14,1358.05 545.14,1356.09 545.991,1356.09 545.991,1353.49 546.843,1353.49 546.843,1350.22 547.694,1350.22 547.694,1346.34 548.545,1346.34 548.545,1345.31 549.396,1345.31 549.396,1343.55 550.247,1343.55 550.247,1337.93 551.098,1337.93 551.098,1337.88 551.949,1337.88 551.949,1333.44 552.8,1333.44 552.8,1329.5 553.651,1329.5 553.651,1327.51 554.502,1327.51 554.502,1326.78 555.353,1326.78 555.353,1319.83 556.204,1319.83 556.204,1316.46 557.055,1316.46 557.055,1313.62 557.906,1313.62 557.906,1309.42 558.757,1309.42 558.757,1309.41 559.608,1309.41 559.608,1303.12 560.459,1303.12 560.459,1301.92 561.31,1301.92 561.31,1297.21 562.161,1297.21 562.161,1293.56 563.012,1293.56 563.012,1287.74 563.863,1287.74 563.863,1283.39 564.714,1283.39 564.714,1280.53 565.565,1280.53 565.565,1279.25 566.416,1279.25 566.416,1273.59 567.267,1273.59 567.267,1270.64 568.118,1270.64 568.118,1267.08 568.969,1267.08 568.969,1256.57 569.82,1256.57 569.82,1257.68 570.671,1257.68 570.671,1252.68 571.522,1252.68 571.522,1250.31 572.373,1250.31 572.373,1243.13 573.224,1243.13 573.224,1241.16 574.075,1241.16 574.075,1236.18 574.926,1236.18 574.926,1233.06 575.777,1233.06 575.777,1229.03 576.628,1229.03 576.628,1221.33 577.479,1221.33 577.479,1216.34 578.33,1216.34 578.33,1210.38 579.181,1210.38 579.181,1206.34 580.032,1206.34 580.032,1202.83 580.883,1202.83 580.883,1197.23 581.734,1197.23 581.734,1191.33 582.585,1191.33 582.585,1190.08 583.436,1190.08 583.436,1184.4 584.288,1184.4 584.288,1176.19 585.139,1176.19 585.139,1170.12 585.99,1170.12 585.99,1165.31 586.841,1165.31 586.841,1161.76 587.692,1161.76 587.692,1155.14 588.543,1155.14 588.543,1147.96 589.394,1147.96 589.394,1144.83 590.245,1144.83 590.245,1141.41 591.096,1141.41 591.096,1137.09 591.947,1137.09 591.947,1131.88 592.798,1131.88 592.798,1121.56 593.649,1121.56 593.649,1113.04 594.5,1113.04 594.5,1112.29 595.351,1112.29 595.351,1101.92 596.202,1101.92 596.202,1101.46 597.053,1101.46 597.053,1095.65 597.904,1095.65 597.904,1089.9 598.755,1089.9 598.755,1083.56 599.606,1083.56 599.606,1074.05 600.457,1074.05 600.457,1071.74 601.308,1071.74 601.308,1065.83 602.159,1065.83 602.159,1057.09 603.01,1057.09 603.01,1050.96 603.861,1050.96 603.861,1044.57 604.712,1044.57 604.712,1036.25 605.563,1036.25 605.563,1034.1 606.414,1034.1 606.414,1025.03 607.265,1025.03 607.265,1017.59 608.116,1017.59 608.116,1010.83 608.967,1010.83 608.967,1005.36 609.818,1005.36 609.818,995.758 610.669,995.758 610.669,990.657 611.52,990.657 611.52,985.332 612.371,985.332 612.371,979.511 613.222,979.511 613.222,971.452 614.073,971.452 614.073,963.723 614.924,963.723 614.924,958.972 615.775,958.972 615.775,951.604 616.626,951.604 616.626,940.468 617.477,940.468 617.477,936.078 618.328,936.078 618.328,926.256 619.179,926.256 619.179,922.986 620.03,922.986 620.03,921.146 620.882,921.146 620.882,907.051 621.733,907.051 621.733,900.11 622.584,900.11 622.584,894.533 623.435,894.533 623.435,888.099 624.286,888.099 624.286,883.037 625.137,883.037 625.137,873.05 625.988,873.05 625.988,865.36 626.839,865.36 626.839,855.957 627.69,855.957 627.69,851.518 628.541,851.518 628.541,845.278 629.392,845.278 629.392,830.677 630.243,830.677 630.243,826.521 631.094,826.521 631.094,820.447 631.945,820.447 631.945,817.293 632.796,817.293 632.796,804.152 633.647,804.152 633.647,800.034 634.498,800.034 634.498,789.57 635.349,789.57 635.349,783.808 636.2,783.808 636.2,771.212 637.051,771.212 637.051,766.977 637.902,766.977 637.902,761.935 638.753,761.935 638.753,753.612 639.604,753.612 639.604,747.451 640.455,747.451 640.455,740.861 641.306,740.861 641.306,736.928 642.157,736.928 642.157,724.839 643.008,724.839 643.008,718.511 643.859,718.511 643.859,711.084 644.71,711.084 644.71,701.34 645.561,701.34 645.561,691.918 646.412,691.918 646.412,686.457 647.263,686.457 647.263,677.463 648.114,677.463 648.114,674.581 648.965,674.581 648.965,662.258 649.816,662.258 649.816,653.906 650.667,653.906 650.667,657.946 651.518,657.946 651.518,649.38 652.369,649.38 652.369,635.596 653.22,635.596 653.22,626.661 654.071,626.661 654.071,618.63 654.922,618.63 654.922,614.619 655.773,614.619 655.773,605.645 656.624,605.645 656.624,603.055 657.475,603.055 657.475,585.31 658.327,585.31 658.327,585.524 659.178,585.524 659.178,578.701 660.029,578.701 660.029,572.218 660.88,572.218 660.88,566.884 661.731,566.884 661.731,559.534 662.582,559.534 662.582,547.922 663.433,547.922 663.433,542.899 664.284,542.899 664.284,533.32 665.135,533.32 665.135,530.536 665.986,530.536 665.986,516.967 666.837,516.967 666.837,514.933 667.688,514.933 667.688,496.38 668.539,496.38 668.539,503.047 669.39,503.047 669.39,492.408 670.241,492.408 670.241,482.372 671.092,482.372 671.092,483.229 671.943,483.229 671.943,473.816 672.794,473.816 672.794,462.135 673.645,462.135 673.645,463.108 674.496,463.108 674.496,448.215 675.347,448.215 675.347,440.331 676.198,440.331 676.198,439.464 677.049,439.464 677.049,426.109 677.9,426.109 677.9,418.682 678.751,418.682 678.751,421.106 679.602,421.106 679.602,412.102 680.453,412.102 680.453,407.439 681.304,407.439 681.304,399.72 682.155,399.72 682.155,398.464 683.006,398.464 683.006,390.521 683.857,390.521 683.857,377.439 684.708,377.439 684.708,375.19 685.559,375.19 685.559,373.467 686.41,373.467 686.41,358.623 687.261,358.623 687.261,355.041 688.112,355.041 688.112,355.352 688.963,355.352 688.963,346.708 689.814,346.708 689.814,334.949 690.665,334.949 690.665,336.731 691.516,336.731 691.516,326.374 692.367,326.374 692.367,318.703 693.218,318.703 693.218,319.891 694.069,319.891 694.069,310.643 694.921,310.643 694.921,305.407 695.772,305.407 695.772,298.398 696.623,298.398 696.623,296.383 697.474,296.383 697.474,296.578 698.325,296.578 698.325,285.714 699.176,285.714 699.176,275.513 700.027,275.513 700.027,277.509 700.878,277.509 700.878,269.624 701.729,269.624 701.729,258.148 702.58,258.148 702.58,262.294 703.431,262.294 703.431,255.665 704.282,255.665 704.282,253.796 705.133,253.796 705.133,237.677 705.984,237.677 705.984,243.42 706.835,243.42 706.835,231.953 707.686,231.953 707.686,235.35 708.537,235.35 708.537,225.032 709.388,225.032 709.388,219.338 710.239,219.338 710.239,223.076 711.09,223.076 711.09,215.464 711.941,215.464 711.941,212.456 712.792,212.456 712.792,208.659 713.643,208.659 713.643,205.593 714.494,205.593 714.494,203.16 715.345,203.16 715.345,194.185 716.196,194.185 716.196,193.533 717.047,193.533 717.047,190.778 717.898,190.778 717.898,184.957 718.749,184.957 718.749,180.674 719.6,180.674 719.6,175.797 720.451,175.797 720.451,172.711 721.302,172.711 721.302,172.303 722.153,172.303 722.153,168.438 723.004,168.438 723.004,159.57 723.855,159.57 723.855,159.463 724.706,159.463 724.706,159.035 725.557,159.035 725.557,157.526 726.408,157.526 726.408,150.343 727.259,150.343 727.259,151.18 728.11,151.18 728.11,145.232 728.961,145.232 728.961,148.084 729.812,148.084 729.812,140.949 730.663,140.949 730.663,138.194 731.515,138.194 731.515,135.878 732.366,135.878 732.366,128.869 733.217,128.869 733.217,134.895 734.068,134.895 734.068,129.774 734.919,129.774 734.919,128.129 735.77,128.129 735.77,121.656 736.621,121.656 736.621,124.314 737.472,124.314 737.472,122.25 738.323,122.25 738.323,121.267 739.174,121.267 739.174,120.177 740.025,120.177 740.025,118.415 740.876,118.415 740.876,112.681 741.727,112.681 741.727,111.737 742.578,111.737 742.578,114.901 743.429,114.901 743.429,114.015 744.28,114.015 744.28,106.695 745.131,106.695 745.131,101.293 745.982,101.293 745.982,103.22 746.833,103.22 746.833,110.958 747.684,110.958 747.684,99.8713 748.535,99.8713 748.535,107.688 749.386,107.688 749.386,100.105 750.237,100.105 750.237,103.872 751.088,103.872 751.088,97.5157 751.939,97.5157 751.939,101.536 752.79,101.536 752.79,96.3087 753.641,96.3087 753.641,99.482 754.492,99.482 754.492,100.037 755.343,100.037 755.343,96.3281 756.194,96.3281 756.194,99.4625 757.045,99.4625 757.045,87.9763 757.896,87.9763 757.896,94.7123 758.747,94.7123 758.747,92.9407 759.598,92.9407 759.598,95.4229 760.449,95.4229 760.449,95.053 761.3,95.053 761.3,93.6415 762.151,93.6415 762.151,94.9069 763.002,94.9069 763.002,93.4274 763.853,93.4274 763.853,92.8239 764.704,92.8239 764.704,95.0432 765.555,95.0432 765.555,101.312 766.406,101.312 766.406,94.7317 767.257,94.7317 767.257,101.594 768.108,101.594 768.108,99.2873 768.96,99.2873 768.96,103.979 769.811,103.979 769.811,99.8908 770.662,99.8908 770.662,101.205 771.513,101.205 771.513,106.198 772.364,106.198 772.364,105.001 773.215,105.001 773.215,105.118 774.066,105.118 774.066,109.469 774.917,109.469 774.917,108.71 775.768,108.71 775.768,105.313 776.619,105.313 776.619,117.724 777.47,117.724 777.47,110.968 778.321,110.968 778.321,120.78 779.172,120.78 779.172,116.643 780.023,116.643 780.023,115.787 780.874,115.787 780.874,130.553 781.725,130.553 781.725,119.632 782.576,119.632 782.576,119.816 783.427,119.816 783.427,120.673 784.278,120.673 784.278,126.65 785.129,126.65 785.129,126.903 785.98,126.903 785.98,133.113 786.831,133.113 786.831,132.072 787.682,132.072 787.682,128.295 788.533,128.295 788.533,134.495 789.384,134.495 789.384,131.059 790.235,131.059 790.235,137.727 791.086,137.727 791.086,142.137 791.937,142.137 791.937,144.619 792.788,144.619 792.788,140.132 793.639,140.132 793.639,148.483 794.49,148.483 794.49,149.077 795.341,149.077 795.341,150.946 796.192,150.946 796.192,152.212 797.043,152.212 797.043,155.463 797.894,155.463 797.894,156.767 798.745,156.767 798.745,166.54 799.596,166.54 799.596,163.873 800.447,163.873 800.447,169.217 801.298,169.217 801.298,170.804 802.149,170.804 802.149,171.115 803,171.115 803,174.123 803.851,174.123 803.851,179.525 804.702,179.525 804.702,187.137 805.554,187.137 805.554,185.706 806.405,185.706 806.405,191.956 807.256,191.956 807.256,190.272 808.107,190.272 808.107,196.064 808.958,196.064 808.958,198.429 809.809,198.429 809.809,202.216 810.66,202.216 810.66,202.021 811.511,202.021 811.511,202.722 812.362,202.722 812.362,213.351 813.213,213.351 813.213,212.913 814.064,212.913 814.064,217.78 814.915,217.78 814.915,227.875 815.766,227.875 815.766,223.923 816.617,223.923 816.617,229.072 817.468,229.072 817.468,233.248 818.319,233.248 818.319,238.183 819.17,238.183 819.17,237.443 820.021,237.443 820.021,243.011 820.872,243.011 820.872,249.484 821.723,249.484 821.723,248.121 822.574,248.121 822.574,253.339 823.425,253.339 823.425,254.877 824.276,254.877 824.276,265.098 825.127,265.098 825.127,264.991 825.978,264.991 825.978,263.073 826.829,263.073 826.829,267.667 827.68,267.667 827.68,273.381 828.531,273.381 828.531,280.127 829.382,280.127 829.382,285.13 830.233,285.13 830.233,285.5 831.084,285.5 831.084,290.874 831.935,290.874 831.935,300.793 832.786,300.793 832.786,296.403 833.637,296.403 833.637,304.161 834.488,304.161 834.488,306.516 835.339,306.516 835.339,313.856 836.19,313.856 836.19,315.997 837.041,315.997 837.041,324.33 837.892,324.33 837.892,323.561 838.743,323.561 838.743,330.394 839.594,330.394 839.594,335.534 840.445,335.534 840.445,334.18 841.296,334.18 841.296,337.841 842.147,337.841 842.147,343.983 842.999,343.983 842.999,346.309 843.85,346.309 843.85,357.834 844.701,357.834 844.701,358.817 845.552,358.817 845.552,369.544 846.403,369.544 846.403,374.188 847.254,374.188 847.254,375.463 848.105,375.463 848.105,382.802 848.956,382.802 848.956,383.26 849.807,383.26 849.807,388.36 850.658,388.36 850.658,383.931 851.509,383.931 851.509,401.424 852.36,401.424 852.36,405.483 853.211,405.483 853.211,403.925 854.062,403.925 854.062,409.065 854.913,409.065 854.913,410.778 855.764,410.778 855.764,419.383 856.615,419.383 856.615,420.824 857.466,420.824 857.466,431.366 858.317,431.366 858.317,431.687 859.168,431.687 859.168,439.523 860.019,439.523 860.019,440.448 860.87,440.448 860.87,447.125 861.721,447.125 861.721,449.948 862.572,449.948 862.572,462.145 863.423,462.145 863.423,455.876 864.274,455.876 864.274,463.79 865.125,463.79 865.125,469.212 865.976,469.212 865.976,472.103 866.827,472.103 866.827,480.046 867.678,480.046 867.678,480.649 868.529,480.649 868.529,488.271 869.38,488.271 869.38,492.33 870.231,492.33 870.231,496.263 871.082,496.263 871.082,502.541 871.933,502.541 871.933,503.885 872.784,503.885 872.784,510.085 873.635,510.085 873.635,516.257 874.486,516.257 874.486,519.449 875.337,519.449 875.337,523.499 876.188,523.499 876.188,526.137 877.039,526.137 877.039,534.401 877.89,534.401 877.89,538.149 878.741,538.149 878.741,546.539 879.593,546.539 879.593,545.722 880.444,545.722 880.444,553.635 881.295,553.635 881.295,559.155 882.146,559.155 882.146,563.963 882.997,563.963 882.997,566.28 883.848,566.28 883.848,573.357 884.699,573.357 884.699,583.227 885.55,583.227 885.55,581.767 886.401,581.767 886.401,582.37 887.252,582.37 887.252,592.562 888.103,592.562 888.103,590.567 888.954,590.567 888.954,604.165 889.805,604.165 889.805,604.447 890.656,604.447 890.656,609.616 891.507,609.616 891.507,612.215 892.358,612.215 892.358,612.361 893.209,612.361 893.209,624.996 894.06,624.996 894.06,629.006 894.911,629.006 894.911,634.487 895.762,634.487 895.762,641.378 896.613,641.378 896.613,640.405 897.464,640.405 897.464,651.19 898.315,651.19 898.315,648.611 899.166,648.611 899.166,659.017 900.017,659.017 900.017,659.211 900.868,659.211 900.868,664.857 901.719,664.857 901.719,672.255 902.57,672.255 902.57,671.544 903.421,671.544 903.421,678.826 904.272,678.826 904.272,680.217 905.123,680.217 905.123,684.773 905.974,684.773 905.974,689.971 906.825,689.971 906.825,694.809 907.676,694.809 907.676,700.873 908.527,700.873 908.527,705.341 909.378,705.341 909.378,706.704 910.229,706.704 910.229,713.644 911.08,713.644 911.08,716.156 911.931,716.156 911.931,723.778 912.782,723.778 912.782,730.192 913.633,730.192 913.633,733.317 914.484,733.317 914.484,734.456 915.335,734.456 915.335,745.3 916.186,745.3 916.186,748.57 917.038,748.57 917.038,750.877 917.889,750.877 917.889,748.891 918.74,748.891 918.74,758.285 919.591,758.285 919.591,758.84 920.442,758.84 920.442,765.585 921.293,765.585 921.293,770.034 922.144,770.034 922.144,773.587 922.995,773.587 922.995,777.724 923.846,777.724 923.846,780.887 924.697,780.887 924.697,787.01 925.548,787.01 925.548,793.863 926.399,793.863 926.399,797.28 927.25,797.28 927.25,799.119 928.101,799.119 928.101,803.461 928.952,803.461 928.952,808.25 929.803,808.25 929.803,815.609 930.654,815.609 930.654,823.309 931.505,823.309 931.505,821.294 932.356,821.294 932.356,825.723 933.207,825.723 933.207,829.548 934.058,829.548 934.058,832.332 934.909,832.332 934.909,843.215 935.76,843.215 935.76,840.479 936.611,840.479 936.611,848.5 937.462,848.5 937.462,853.095 938.313,853.095 938.313,856.628 939.164,856.628 939.164,857.699 940.015,857.699 940.015,865.808 940.866,865.808 940.866,869.351 941.717,869.351 941.717,872.446 942.568,872.446 942.568,879.601 943.419,879.601 943.419,880.321 944.27,880.321 944.27,884.984 945.121,884.984 945.121,885.821 945.972,885.821 945.972,891.369 946.823,891.369 946.823,896.11 947.674,896.11 947.674,901.493 948.525,901.493 948.525,904.267 949.376,904.267 949.376,910.584 950.227,910.584 950.227,912.113 951.078,912.113 951.078,913.086 951.929,913.086 951.929,918.537 952.78,918.537 952.78,920.864 953.632,920.864 953.632,923.501 954.483,923.501 954.483,928.758 955.334,928.758 955.334,929.907 956.185,929.907 956.185,932.778 957.036,932.778 957.036,941.899 957.887,941.899 957.887,942.94 958.738,942.94 958.738,953.356 959.589,953.356 959.589,951.263 960.44,951.263 960.44,952.441 961.291,952.441 961.291,958.135 962.142,958.135 962.142,957.882 962.993,957.882 962.993,960.997 963.844,960.997 963.844,970.021 964.695,970.021 964.695,972.552 965.546,972.552 965.546,976.737 966.397,976.737 966.397,976.727 967.248,976.727 967.248,983.989 968.099,983.989 968.099,987.396 968.95,987.396 968.95,988.019 969.801,988.019 969.801,993.441 970.652,993.441 970.652,996.789 971.503,996.789 971.503,999.388 972.354,999.388 972.354,1003.52 973.205,1003.52 973.205,1005.98 974.056,1005.98 974.056,1010.19 974.907,1010.19 974.907,1009.9 975.758,1009.9 975.758,1013.36 976.609,1013.36 976.609,1020.74 977.46,1020.74 977.46,1019.76 978.311,1019.76 978.311,1024.9 979.162,1024.9 979.162,1028.37 980.013,1028.37 980.013,1032.12 980.864,1032.12 980.864,1033.81 981.715,1033.81 981.715,1038.83 982.566,1038.83 982.566,1041.57 983.417,1041.57 983.417,1044.32 984.268,1044.32 984.268,1046.41 985.119,1046.41 985.119,1049.58 985.97,1049.58 985.97,1051.07 986.821,1051.07 986.821,1059.6 987.672,1059.6 987.672,1058.95 988.523,1058.95 988.523,1063.85 989.374,1063.85 989.374,1062.96 990.226,1062.96 990.226,1068.04 991.077,1068.04 991.077,1067.49 991.928,1067.49 991.928,1077.43 992.779,1077.43 992.779,1080.42 993.63,1080.42 993.63,1079.77 994.481,1079.77 994.481,1084.18 995.332,1084.18 995.332,1084.8 996.183,1084.8 996.183,1088.96 997.034,1088.96 997.034,1092.57 997.885,1092.57 997.885,1097.57 998.736,1097.57 998.736,1100.13 999.587,1100.13 999.587,1099.71 1000.44,1099.71 1000.44,1101.4 1001.29,1101.4 1001.29,1106.07 1002.14,1106.07 1002.14,1105.22 1002.99,1105.22 1002.99,1112.99 1003.84,1112.99 1003.84,1118.25 1004.69,1118.25 1004.69,1116.4 1005.54,1116.4 1005.54,1119.44 1006.39,1119.44 1006.39,1123.38 1007.25,1123.38 1007.25,1122.53 1008.1,1122.53 1008.1,1126.01 1008.95,1126.01 1008.95,1129.67 1009.8,1129.67 1009.8,1133.13 1010.65,1133.13 1010.65,1135.65 1011.5,1135.65 1011.5,1137.44 1012.35,1137.44 1012.35,1140.85 1013.2,1140.85 1013.2,1143.71 1014.05,1143.71 1014.05,1146.07 1014.91,1146.07 1014.91,1150.15 1015.76,1150.15 1015.76,1151.06 1016.61,1151.06 1016.61,1151.52 1017.46,1151.52 1017.46,1155.44 1018.31,1155.44 1018.31,1155.94 1019.16,1155.94 1019.16,1161.67 1020.01,1161.67 1020.01,1163.28 1020.86,1163.28 1020.86,1164.59 1021.71,1164.59 1021.71,1168.47 1022.56,1168.47 1022.56,1167.09 1023.42,1167.09 1023.42,1174.95 1024.27,1174.95 1024.27,1175.95 1025.12,1175.95 1025.12,1177.84 1025.97,1177.84 1025.97,1177.41 1026.82,1177.41 1026.82,1180.19 1027.67,1180.19 1027.67,1180.91 1028.52,1180.91 1028.52,1182.71 1029.37,1182.71 1029.37,1188.43 1030.22,1188.43 1030.22,1191.61 1031.07,1191.61 1031.07,1190.26 1031.93,1190.26 1031.93,1194.5 1032.78,1194.5 1032.78,1193.9 1033.63,1193.9 1033.63,1198.17 1034.48,1198.17 1034.48,1198.76 1035.33,1198.76 1035.33,1204.58 1036.18,1204.58 1036.18,1202.57 1037.03,1202.57 1037.03,1204.71 1037.88,1204.71 1037.88,1208.66 1038.73,1208.66 1038.73,1212.08 1039.58,1212.08 1039.58,1211.46 1040.44,1211.46 1040.44,1216.19 1041.29,1216.19 1041.29,1218.42 1042.14,1218.42 1042.14,1218.38 1042.99,1218.38 1042.99,1221.34 1043.84,1221.34 1043.84,1222.3 1044.69,1222.3 1044.69,1224.05 1045.54,1224.05 1045.54,1227.11 1046.39,1227.11 1046.39,1229.94 1047.24,1229.94 1047.24,1232.2 1048.1,1232.2 1048.1,1231.86 1048.95,1231.86 1048.95,1233.57 1049.8,1233.57 1049.8,1233.42 1050.65,1233.42 1050.65,1238.92 1051.5,1238.92 1051.5,1239.35 1052.35,1239.35 1052.35,1240.88 1053.2,1240.88 1053.2,1243.45 1054.05,1243.45 1054.05,1245.31 1054.9,1245.31 1054.9,1247.93 1055.75,1247.93 1055.75,1250.24 1056.61,1250.24 1056.61,1253.51 1057.46,1253.51 1057.46,1249.81 1058.31,1249.81 1058.31,1253.3 1059.16,1253.3 1059.16,1255.55 1060.01,1255.55 1060.01,1255.29 1060.86,1255.29 1060.86,1257.99 1061.71,1257.99 1061.71,1259.45 1062.56,1259.45 1062.56,1260.75 1063.41,1260.75 1063.41,1262.96 1064.26,1262.96 1064.26,1264.38 1065.12,1264.38 1065.12,1268.34 1065.97,1268.34 1065.97,1268.64 1066.82,1268.64 1066.82,1272.08 1067.67,1272.08 1067.67,1271.56 1068.52,1271.56 1068.52,1272.15 1069.37,1272.15 1069.37,1275.67 1070.22,1275.67 1070.22,1276.73 1071.07,1276.73 1071.07,1277.12 1071.92,1277.12 1071.92,1280.04 1072.77,1280.04 1072.77,1283.43 1073.63,1283.43 1073.63,1280.25 1074.48,1280.25 1074.48,1284.46 1075.33,1284.46 1075.33,1285.17 1076.18,1285.17 1076.18,1287.6 1077.03,1287.6 1077.03,1287.92 1077.88,1287.92 1077.88,1289.82 1078.73,1289.82 1078.73,1290.74 1079.58,1290.74 1079.58,1292.57 1080.43,1292.57 1080.43,1293.97 1081.28,1293.97 1081.28,1293.16 1082.14,1293.16 1082.14,1294.87 1082.99,1294.87 1082.99,1299.17 1083.84,1299.17 1083.84,1299.82 1084.69,1299.82 1084.69,1302.55 1085.54,1302.55 1085.54,1302.06 1086.39,1302.06 1086.39,1303.6 1087.24,1303.6 1087.24,1305.23 1088.09,1305.23 1088.09,1306.38 1088.94,1306.38 1088.94,1308.26 1089.8,1308.26 1089.8,1309.47 1090.65,1309.47 1090.65,1309.97 1091.5,1309.97 1091.5,1311.78 1092.35,1311.78 1092.35,1314.67 1093.2,1314.67 1093.2,1313.79 1094.05,1313.79 1094.05,1314.76 1094.9,1314.76 1094.9,1315.92 1095.75,1315.92 1095.75,1318.23 1096.6,1318.23 1096.6,1317.82 1097.45,1317.82 1097.45,1318.7 1098.31,1318.7 1098.31,1322.56 1099.16,1322.56 1099.16,1320.55 1100.01,1320.55 1100.01,1324.27 1100.86,1324.27 1100.86,1322.7 1101.71,1322.7 1101.71,1325.72 1102.56,1325.72 1102.56,1329.3 1103.41,1329.3 1103.41,1328.05 1104.26,1328.05 1104.26,1328.96 1105.11,1328.96 1105.11,1330.32 1105.96,1330.32 1105.96,1332.24 1106.82,1332.24 1106.82,1332.32 1107.67,1332.32 1107.67,1335.16 1108.52,1335.16 1108.52,1336.24 1109.37,1336.24 1109.37,1336.92 1110.22,1336.92 1110.22,1336.03 1111.07,1336.03 1111.07,1335.9 1111.92,1335.9 1111.92,1339.7 1112.77,1339.7 1112.77,1337.59 1113.62,1337.59 1113.62,1341.83 1114.47,1341.83 1114.47,1341.65 1115.33,1341.65 1115.33,1343.24 1116.18,1343.24 1116.18,1345.4 1117.03,1345.4 1117.03,1344.59 1117.88,1344.59 1117.88,1343.91 1118.73,1343.91 1118.73,1345.29 1119.58,1345.29 1119.58,1347.27 1120.43,1347.27 1120.43,1347.81 1121.28,1347.81 1121.28,1348.83 1122.13,1348.83 1122.13,1349.51 1122.99,1349.51 1122.99,1351.62 1123.84,1351.62 1123.84,1352.27 1124.69,1352.27 1124.69,1354.47 1125.54,1354.47 1125.54,1353.53 1126.39,1353.53 1126.39,1354.1 1127.24,1354.1 1127.24,1354.42 1128.09,1354.42 1128.09,1359.12 1128.94,1359.12 1128.94,1356.91 1129.79,1356.91 1129.79,1357.58 1130.64,1357.58 1130.64,1359.68 1131.5,1359.68 1131.5,1360.59 1132.35,1360.59 1132.35,1359.78 1133.2,1359.78 1133.2,1361.21 1134.05,1361.21 1134.05,1363.03 1134.9,1363.03 1134.9,1363.14 1135.75,1363.14 1135.75,1364.21 1136.6,1364.21 1136.6,1365.44 1137.45,1365.44 1137.45,1366.23 1138.3,1366.23 1138.3,1365.87 1139.15,1365.87 1139.15,1368.28 1140.01,1368.28 1140.01,1366.31 1140.86,1366.31 1140.86,1367.05 1141.71,1367.05 1141.71,1370.77 1142.56,1370.77 1142.56,1370.68 1143.41,1370.68 1143.41,1371.19 1144.26,1371.19 1144.26,1371.38 1145.11,1371.38 1145.11,1372.09 1145.96,1372.09 1145.96,1373.45 1146.81,1373.45 1146.81,1375.23 1147.66,1375.23 1147.66,1373.7 1148.52,1373.7 1148.52,1375.03 1149.37,1375.03 1149.37,1376.1 1150.22,1376.1 1150.22,1376.12 1151.07,1376.12 1151.07,1376.41 1151.92,1376.41 1151.92,1378.36 1152.77,1378.36 1152.77,1378.55 1153.62,1378.55 1153.62,1379.36 1154.47,1379.36 1154.47,1378.52 1155.32,1378.52 1155.32,1380.47 1156.17,1380.47 1156.17,1381.03 1157.03,1381.03 1157.03,1382.27 1157.88,1382.27 1157.88,1381.85 1158.73,1381.85 1158.73,1383.34 1159.58,1383.34 1159.58,1382.95 1160.43,1382.95 1160.43,1385.32 1161.28,1385.32 1161.28,1385.07 1162.13,1385.07 1162.13,1385.24 1162.98,1385.24 1162.98,1385.47 1163.83,1385.47 1163.83,1385.38 1164.69,1385.38 1164.69,1387.31 1165.54,1387.31 1165.54,1388.59 1166.39,1388.59 1166.39,1388.49 1167.24,1388.49 1167.24,1389.51 1168.09,1389.51 1168.09,1388.93 1168.94,1388.93 1168.94,1389.73 1169.79,1389.73 1169.79,1391.45 1170.64,1391.45 1170.64,1390.87 1171.49,1390.87 1171.49,1391.79 1172.34,1391.79 1172.34,1392.37 1173.2,1392.37 1173.2,1392.41 1174.05,1392.41 1174.05,1393.15 1174.9,1393.15 1174.9,1393.11 1175.75,1393.11 1175.75,1394.38 1176.6,1394.38 1176.6,1396.08 1177.45,1396.08 1177.45,1395.84 1178.3,1395.84 1178.3,1395.2 1179.15,1395.2 1179.15,1397.02 1180,1397.02 1180,1396.99 1180.85,1396.99 1180.85,1396.93 1181.71,1396.93 1181.71,1396.83 1182.56,1396.83 1182.56,1398.12 1183.41,1398.12 1183.41,1399.21 1184.26,1399.21 1184.26,1399.85 1185.11,1399.85 1185.11,1400.22 1185.96,1400.22 1185.96,1399.8 1186.81,1399.8 1186.81,1401.61 1187.66,1401.61 1187.66,1402.79 1188.51,1402.79 1188.51,1402.3 1189.36,1402.3 1189.36,1402.59 1190.22,1402.59 1190.22,1403.34 1191.07,1403.34 1191.07,1402.38 1191.92,1402.38 1191.92,1403.44 1192.77,1403.44 1192.77,1403.24 1193.62,1403.24 1193.62,1404.13 1194.47,1404.13 1194.47,1404.89 1195.32,1404.89 1195.32,1405.18 1196.17,1405.18 1196.17,1404.96 1197.02,1404.96 1197.02,1406.68 1197.88,1406.68 1197.88,1405.92 1198.73,1405.92 1198.73,1406.15 1199.58,1406.15 1199.58,1408.25 1200.43,1408.25 1200.43,1407.8 1201.28,1407.8 1201.28,1407.93 1202.13,1407.93 1202.13,1408.39 1202.98,1408.39 1202.98,1407.85 1203.83,1407.85 1203.83,1409.44 1204.68,1409.44 1204.68,1408.38 1205.53,1408.38 1205.53,1409.22 1206.39,1409.22 1206.39,1410.69 1207.24,1410.69 1207.24,1411.08 1208.09,1411.08 1208.09,1411.48 1208.94,1411.48 1208.94,1410.71 1209.79,1410.71 1209.79,1410.76 1210.64,1410.76 1210.64,1413.12 1211.49,1413.12 1211.49,1412.51 1212.34,1412.51 1212.34,1412.71 1213.19,1412.71 1213.19,1413.27 1214.04,1413.27 1214.04,1412.92 1214.9,1412.92 1214.9,1414.28 1215.75,1414.28 1215.75,1413.8 1216.6,1413.8 1216.6,1414.32 1217.45,1414.32 1217.45,1414.42 1218.3,1414.42 1218.3,1414.81 1219.15,1414.81 1219.15,1415.46 1220,1415.46 1220,1414.79 1220.85,1414.79 1220.85,1415.79 1221.7,1415.79 1221.7,1416.24 1222.55,1416.24 1222.55,1416.4 1223.41,1416.4 1223.41,1417.22 1224.26,1417.22 1224.26,1417.29 1225.11,1417.29 1225.11,1417.43 1225.96,1417.43 1225.96,1418.13 1226.81,1418.13 1226.81,1418.11 1227.66,1418.11 1227.66,1418.34 1228.51,1418.34 1228.51,1418.45 1229.36,1418.45 1229.36,1419.16 1230.21,1419.16 1230.21,1420.36 1231.07,1420.36 1231.07,1419.52 1231.92,1419.52 1231.92,1419.4 1232.77,1419.4 1232.77,1420.4 1233.62,1420.4 1233.62,1420.16 1234.47,1420.16 1234.47,1420.69 1235.32,1420.69 1235.32,1421.04 1236.17,1421.04 1236.17,1421.11 1237.02,1421.11 1237.02,1421.74 1237.87,1421.74 1237.87,1422.09 1238.72,1422.09 1238.72,1421.62 1239.58,1421.62 1239.58,1421.92 1240.43,1421.92 1240.43,1422.31 1241.28,1422.31 1241.28,1422.49 1242.13,1422.49 1242.13,1423.1 1242.98,1423.1 1242.98,1422.88 1243.83,1422.88 1243.83,1423.98 1244.68,1423.98 1244.68,1423.48 1245.53,1423.48 1245.53,1424.27 1246.38,1424.27 1246.38,1423.78 1247.23,1423.78 1247.23,1423.73 1248.09,1423.73 1248.09,1423.98 1248.94,1423.98 1248.94,1424.98 1249.79,1424.98 1249.79,1425.01 1250.64,1425.01 1250.64,1425.83 1251.49,1425.83 1251.49,1425.66 1252.34,1425.66 1252.34,1425.72 1253.19,1425.72 1253.19,1425.88 1254.04,1425.88 1254.04,1425.95 1254.89,1425.95 1254.89,1425.71 1255.74,1425.71 1255.74,1426.01 1256.6,1426.01 1256.6,1426.46 1257.45,1426.46 1257.45,1427.37 1258.3,1427.37 1258.3,1426.77 1259.15,1426.77 1259.15,1427.04 1260,1427.04 1260,1427.5 1260.85,1427.5 1260.85,1427.69 1261.7,1427.69 1261.7,1428.06 1262.55,1428.06 1262.55,1427.65 1263.4,1427.65 1263.4,1427.56 1264.25,1427.56 1264.25,1428.5 1265.11,1428.5 1265.11,1428.13 1265.96,1428.13 1265.96,1429.25 1266.81,1429.25 1266.81,1428.65 1267.66,1428.65 1267.66,1429.79 1268.51,1429.79 1268.51,1429.31 1269.36,1429.31 1269.36,1429.08 1270.21,1429.08 1270.21,1429.92 1271.06,1429.92 1271.06,1429.27 1271.91,1429.27 1271.91,1429.38 1272.77,1429.38 1272.77,1430.69 1273.62,1430.69 1273.62,1430.51 1274.47,1430.51 1274.47,1430.33 1275.32,1430.33 1275.32,1429.94 1276.17,1429.94 1276.17,1430.29 1277.02,1430.29 1277.02,1430.73 1277.87,1430.73 1277.87,1431.07 1278.72,1431.07 1278.72,1431.85 1279.57,1431.85 1279.57,1431.09 1280.42,1431.09 1280.42,1431.34 1281.28,1431.34 1281.28,1432.15 1282.13,1432.15 1282.13,1430.91 1282.98,1430.91 1282.98,1432.34 1283.83,1432.34 1283.83,1432.06 1284.68,1432.06 1284.68,1432.24 1285.53,1432.24 1285.53,1432.47 1286.38,1432.47 1286.38,1432.28 1287.23,1432.28 1287.23,1433.02 1288.08,1433.02 1288.08,1432.72 1288.93,1432.72 1288.93,1433.03 1289.79,1433.03 1289.79,1433.01 1290.64,1433.01 1290.64,1432.59 1291.49,1432.59 1291.49,1433.2 1292.34,1433.2 1292.34,1433.69 1293.19,1433.69 1293.19,1433.79 1294.04,1433.79 1294.04,1433.22 1294.89,1433.22 1294.89,1433.66 1295.74,1433.66 1295.74,1433.89 1296.59,1433.89 1296.59,1434.24 1297.44,1434.24 1297.44,1434.23 1298.3,1434.23 1298.3,1434.56 1299.15,1434.56 1299.15,1434.23 1300,1434.23 1300,1434.52 1300.85,1434.52 1300.85,1434.85 1301.7,1434.85 1301.7,1434.63 1302.55,1434.63 1302.55,1435.39 1303.4,1435.39 1303.4,1435.21 1304.25,1435.21 1304.25,1434.31 1305.1,1434.31 1305.1,1435.89 1305.96,1435.89 1305.96,1435.23 1306.81,1435.23 1306.81,1435.77 1307.66,1435.77 1307.66,1435.96 1308.51,1435.96 1308.51,1436.37 1309.36,1436.37 1309.36,1436.4 1310.21,1436.4 1310.21,1436.34 1311.06,1436.34 1311.06,1436.18 1311.91,1436.18 1311.91,1436.35 1312.76,1436.35 1312.76,1436.13 1313.61,1436.13 1313.61,1436.76 1314.47,1436.76 1314.47,1436.18 1315.32,1436.18 1315.32,1436.78 1316.17,1436.78 1316.17,1436.49 1317.02,1436.49 1317.02,1436.58 1317.87,1436.58 1317.87,1437.05 1318.72,1437.05 1318.72,1437.25 1319.57,1437.25 1319.57,1437.11 1320.42,1437.11 1320.42,1437.2 1321.27,1437.2 1321.27,1437.34 1322.12,1437.34 1322.12,1437.59 1322.98,1437.59 1322.98,1436.99 1323.83,1436.99 1323.83,1437.51 1324.68,1437.51 1324.68,1437.68 1325.53,1437.68 1325.53,1437.66 1326.38,1437.66 1326.38,1437.35 1327.23,1437.35 1327.23,1438.03 1328.08,1438.03 1328.08,1438.08 1328.93,1438.08 1328.93,1437.77 1329.78,1437.77 1329.78,1437.85 1330.63,1437.85 1330.63,1437.91 1331.49,1437.91 1331.49,1438.55 1332.34,1438.55 1333.19,1438.55 1333.19,1438.34 1334.04,1438.34 1334.04,1438.79 1334.89,1438.79 1334.89,1437.81 1335.74,1437.81 1335.74,1439.07 1336.59,1439.07 1336.59,1438.63 1337.44,1438.63 1337.44,1439.22 1338.29,1439.22 1338.29,1439.2 1339.14,1439.2 1339.14,1439.37 1340,1439.37 1340,1438.55 1340.85,1438.55 1340.85,1438.9 1341.7,1438.9 1341.7,1439.55 1342.55,1439.55 1342.55,1439.44 1343.4,1439.44 1343.4,1439.07 1344.25,1439.07 1344.25,1439.49 1345.1,1439.49 1345.1,1439.62 1345.95,1439.62 1345.95,1439.26 1346.8,1439.26 1346.8,1439.98 1347.66,1439.98 1347.66,1439.65 1348.51,1439.65 1348.51,1439.95 1349.36,1439.95 1349.36,1440.29 1350.21,1440.29 1350.21,1439.78 1351.06,1439.78 1351.06,1440.03 1351.91,1440.03 1351.91,1439.77 1352.76,1439.77 1352.76,1440.04 1353.61,1440.04 1353.61,1440.06 1354.46,1440.06 1354.46,1440.43 1355.31,1440.43 1355.31,1440.56 1356.17,1440.56 1356.17,1440.3 1357.02,1440.3 1357.02,1440.72 1357.87,1440.72 1357.87,1440.33 1358.72,1440.33 1358.72,1440.51 1359.57,1440.51 1359.57,1440.78 1360.42,1440.78 1360.42,1440.26 1361.27,1440.26 1361.27,1441.06 1362.12,1441.06 1362.12,1440.83 1362.97,1440.83 1362.97,1440.97 1363.82,1440.97 1363.82,1440.42 1364.68,1440.42 1364.68,1440.98 1365.53,1440.98 1365.53,1440.58 1366.38,1440.58 1366.38,1440.88 1367.23,1440.88 1367.23,1441 1368.08,1441 1368.08,1440.93 1368.93,1440.93 1368.93,1440.94 1369.78,1440.94 1369.78,1441.02 1370.63,1441.02 1370.63,1441.26 1371.48,1441.26 1371.48,1441.38 1372.33,1441.38 1372.33,1441.07 1373.19,1441.07 1373.19,1441.06 1374.04,1441.06 1374.04,1441.86 1374.89,1441.86 1374.89,1441.52 1375.74,1441.52 1375.74,1441.63 1376.59,1441.63 1376.59,1441.83 1377.44,1441.83 1377.44,1441.62 1378.29,1441.62 1378.29,1441.78 1379.14,1441.78 1379.14,1442.03 1379.99,1442.03 1379.99,1441.74 1380.85,1441.74 1380.85,1441.98 1381.7,1441.98 1381.7,1441.87 1382.55,1441.87 1382.55,1441.62 1383.4,1441.62 1383.4,1442.05 1384.25,1442.05 1384.25,1442.39 1385.1,1442.39 1385.1,1442.05 1385.95,1442.05 1385.95,1441.9 1386.8,1441.9 1386.8,1442.28 1387.65,1442.28 1387.65,1442.24 1388.5,1442.24 1388.5,1442.23 1389.36,1442.23 1389.36,1442.37 1390.21,1442.37 1390.21,1442.04 1391.06,1442.04 1391.06,1442.13 1391.91,1442.13 1391.91,1442.47 1392.76,1442.47 1392.76,1442.37 1393.61,1442.37 1393.61,1442.34 1394.46,1442.34 1394.46,1442.6 1395.31,1442.6 1395.31,1442.08 1396.16,1442.08 1396.16,1442.45 1397.01,1442.45 1397.01,1442.46 1397.87,1442.46 1397.87,1442.52 1398.72,1442.52 1398.72,1442.57 1399.57,1442.57 1399.57,1442.46 1400.42,1442.46 1400.42,1442.72 1401.27,1442.72 1401.27,1442.54 1402.12,1442.54 1402.12,1442.69 1402.97,1442.69 1402.97,1443.03 1403.82,1443.03 1403.82,1442.81 1404.67,1442.81 1404.67,1442.82 1405.52,1442.82 1405.52,1443.04 1406.38,1443.04 1406.38,1442.8 1407.23,1442.8 1407.23,1443.05 1408.08,1443.05 1408.08,1443.06 1408.93,1443.06 1408.93,1443.22 1409.78,1443.22 1409.78,1442.98 1410.63,1442.98 1410.63,1443.04 1411.48,1443.04 1411.48,1442.9 1412.33,1442.9 1412.33,1443.2 1413.18,1443.2 1413.18,1442.96 1414.03,1442.96 1414.03,1443.14 1414.89,1443.14 1414.89,1443.12 1415.74,1443.12 1415.74,1443.27 1416.59,1443.27 1416.59,1443.42 1417.44,1443.42 1417.44,1443.46 1418.29,1443.46 1418.29,1443.53 1419.14,1443.53 1419.14,1443.03 1419.99,1443.03 1419.99,1443.2 1420.84,1443.2 1420.84,1443.81 1421.69,1443.81 1421.69,1443.34 1422.55,1443.34 1422.55,1443.53 1423.4,1443.53 1423.4,1443.76 1424.25,1443.76 1424.25,1443.39 1425.1,1443.39 1425.1,1443.51 1425.95,1443.51 1425.95,1443.5 1426.8,1443.5 1426.8,1443.62 1427.65,1443.62 1427.65,1443.49 1428.5,1443.49 1429.35,1443.49 1429.35,1443.53 1430.2,1443.53 1430.2,1443.76 1431.06,1443.76 1431.06,1443.52 1431.91,1443.52 1431.91,1443.78 1432.76,1443.78 1432.76,1443.53 1433.61,1443.53 1433.61,1443.78 1434.46,1443.78 1434.46,1443.69 1435.31,1443.69 1435.31,1444.04 1436.16,1444.04 1436.16,1443.91 1437.01,1443.91 1437.86,1443.91 1437.86,1443.87 1438.71,1443.87 1438.71,1443.82 1439.57,1443.82 1439.57,1443.77 1440.42,1443.77 1440.42,1444.07 1441.27,1444.07 1441.27,1444.14 1442.12,1444.14 1442.12,1443.93 1442.97,1443.93 1442.97,1443.97 1443.82,1443.97 1443.82,1443.9 1444.67,1443.9 1444.67,1444.09 1445.52,1444.09 1445.52,1444.02 1446.37,1444.02 1446.37,1444.26 1447.22,1444.26 1447.22,1444.21 1448.08,1444.21 1448.08,1444.13 1448.93,1444.13 1448.93,1444.05 1449.78,1444.05 1449.78,1443.91 1450.63,1443.91 1450.63,1444.03 1451.48,1444.03 1451.48,1444.1 1452.33,1444.1 1452.33,1444.19 1453.18,1444.19 1453.18,1444.27 1454.03,1444.27 1454.03,1444.4 1454.88,1444.4 1454.88,1443.96 1455.74,1443.96 1455.74,1444.48 1456.59,1444.48 1456.59,1444.29 1457.44,1444.29 1458.29,1444.29 1458.29,1444.36 1459.14,1444.36 1459.14,1444.16 1459.99,1444.16 1459.99,1444.24 1460.84,1444.24 1460.84,1444.23 1461.69,1444.23 1461.69,1444.48 1462.54,1444.48 1462.54,1444.16 1463.39,1444.16 1463.39,1444.47 1464.25,1444.47 1464.25,1444.55 1465.1,1444.55 1465.1,1444.46 1465.95,1444.46 1465.95,1444.36 1466.8,1444.36 1466.8,1444.26 1467.65,1444.26 1467.65,1444.1 1468.5,1444.1 1468.5,1444.39 1469.35,1444.39 1469.35,1444.52 1470.2,1444.52 1470.2,1444.39 1471.05,1444.39 1471.05,1444.5 1471.9,1444.5 1471.9,1444.49 1472.76,1444.49 1472.76,1444.63 1473.61,1444.63 1473.61,1444.38 1474.46,1444.38 1474.46,1444.36 1475.31,1444.36 1475.31,1444.41 1476.16,1444.41 1476.16,1444.61 1477.01,1444.61 1477.01,1444.63 1477.86,1444.63 1477.86,1444.49 1478.71,1444.49 1478.71,1444.73 1479.56,1444.73 1479.56,1444.82 1480.41,1444.82 1480.41,1444.68 1481.27,1444.68 1481.27,1444.7 1482.12,1444.7 1482.12,1444.81 1482.97,1444.81 1482.97,1444.56 1483.82,1444.56 1483.82,1444.6 1484.67,1444.6 1484.67,1444.66 1485.52,1444.66 1485.52,1444.86 1486.37,1444.86 1486.37,1444.77 1487.22,1444.77 1487.22,1444.67 1488.07,1444.67 1488.07,1444.68 1488.92,1444.68 1488.92,1444.96 1489.78,1444.96 1489.78,1444.64 1490.63,1444.64 1490.63,1444.86 1491.48,1444.86 1491.48,1444.84 1492.33,1444.84 1492.33,1444.81 1493.18,1444.81 1493.18,1444.83 1494.03,1444.83 1494.03,1444.61 1494.88,1444.61 1494.88,1444.89 1495.73,1444.89 1495.73,1444.88 1496.58,1444.88 1496.58,1444.93 1497.44,1444.93 1497.44,1444.99 1498.29,1444.99 1498.29,1444.88 1499.14,1444.88 1499.14,1444.89 1499.99,1444.89 1499.99,1444.86 1500.84,1444.86 1500.84,1444.88 1501.69,1444.88 1501.69,1444.91 1502.54,1444.91 1502.54,1444.95 1503.39,1444.95 1503.39,1444.83 1504.24,1444.83 1504.24,1444.99 1505.09,1444.99 1505.09,1445.01 1505.95,1445.01 1505.95,1444.93 1506.8,1444.93 1506.8,1444.88 1507.65,1444.88 1507.65,1444.95 1508.5,1444.95 1508.5,1445.03 1509.35,1445.03 1509.35,1445.02 1510.2,1445.02 1510.2,1445 1511.05,1445 1511.05,1445.08 1511.9,1445.08 1511.9,1445.07 1512.75,1445.07 1512.75,1445.02 1513.6,1445.02 1513.6,1445.16 1514.46,1445.16 1514.46,1445.02 1515.31,1445.02 1516.16,1445.02 1516.16,1445.08 1517.01,1445.08 1517.01,1445.18 1517.86,1445.18 1517.86,1445.09 1518.71,1445.09 1518.71,1445.02 1519.56,1445.02 1519.56,1445.17 1520.41,1445.17 1520.41,1445.09 1521.26,1445.09 1521.26,1445.12 1522.11,1445.12 1522.11,1445.23 1522.97,1445.23 1522.97,1445.13 1523.82,1445.13 1523.82,1445.1 1524.67,1445.1 1524.67,1445.2 1525.52,1445.2 1525.52,1445.16 1526.37,1445.16 1526.37,1445.14 1527.22,1445.14 1527.22,1445.06 1528.07,1445.06 1528.07,1445.14 1528.92,1445.14 1528.92,1445.19 1529.77,1445.19 1529.77,1445.17 1530.63,1445.17 1530.63,1445.04 1531.48,1445.04 1531.48,1445.16 1532.33,1445.16 1532.33,1445.21 1533.18,1445.21 1533.18,1445.29 1534.03,1445.29 1534.03,1445.23 1534.88,1445.23 1534.88,1445.18 1535.73,1445.18 1535.73,1445.22 1536.58,1445.22 1536.58,1445.09 1537.43,1445.09 1537.43,1445.2 1538.28,1445.2 1539.14,1445.2 1539.14,1445.15 1539.99,1445.15 1539.99,1445.31 1540.84,1445.31 1540.84,1445.11 1541.69,1445.11 1541.69,1445.21 1542.54,1445.21 1542.54,1445.27 1543.39,1445.27 1543.39,1445.23 1544.24,1445.23 1544.24,1445.37 1545.09,1445.37 1545.09,1445.34 1545.94,1445.34 1545.94,1445.17 1546.79,1445.17 1546.79,1445.3 1547.65,1445.3 1547.65,1445.34 1548.5,1445.34 1548.5,1445.24 1549.35,1445.24 1549.35,1445.37 1550.2,1445.37 1550.2,1445.27 1551.05,1445.27 1551.05,1445.31 1551.9,1445.31 1551.9,1445.29 1552.75,1445.29 1552.75,1445.27 1553.6,1445.27 1553.6,1445.3 1554.45,1445.3 1554.45,1445.32 1555.3,1445.32 1555.3,1445.33 1556.16,1445.33 1556.16,1445.37 1557.01,1445.37 1557.01,1445.29 1557.86,1445.29 1557.86,1445.32 1558.71,1445.32 1558.71,1445.33 1559.56,1445.33 1559.56,1445.29 1560.41,1445.29 1560.41,1445.28 1561.26,1445.28 1561.26,1445.32 1562.11,1445.32 1562.11,1445.4 1562.96,1445.4 1562.96,1445.37 1563.82,1445.37 1563.82,1445.37 1564.67,1445.37 1564.67,1445.3 1565.52,1445.3 1565.52,1445.44 1566.37,1445.44 1566.37,1445.37 1567.22,1445.37 1567.22,1445.39 1568.07,1445.39 1568.07,1445.32 1568.92,1445.32 1568.92,1445.39 1569.77,1445.39 1569.77,1445.45 1570.62,1445.45 1570.62,1445.41 1571.47,1445.41 1571.47,1445.46 1572.33,1445.46 1572.33,1445.39 1573.18,1445.39 1574.03,1445.39 1574.03,1445.3 1574.88,1445.3 1574.88,1445.43 1575.73,1445.43 1575.73,1445.44 1576.58,1445.44 1576.58,1445.5 1577.43,1445.5 1577.43,1445.43 1578.28,1445.43 1578.28,1445.47 1579.13,1445.47 1579.13,1445.41 1579.98,1445.41 1579.98,1445.43 1580.84,1445.43 1580.84,1445.4 1581.69,1445.4 1581.69,1445.44 1582.54,1445.44 1582.54,1445.48 1583.39,1445.48 1583.39,1445.38 1584.24,1445.38 1584.24,1445.5 1585.09,1445.5 1585.09,1445.44 1585.94,1445.44 1585.94,1445.41 1586.79,1445.41 1586.79,1445.48 1587.64,1445.48 1587.64,1445.53 1588.49,1445.53 1588.49,1445.41 1589.35,1445.41 1589.35,1445.45 1590.2,1445.45 1590.2,1445.32 1591.05,1445.32 1591.05,1445.48 1591.9,1445.48 1591.9,1445.54 1592.75,1445.54 1592.75,1445.53 1593.6,1445.53 1593.6,1445.41 1594.45,1445.41 1594.45,1445.5 1595.3,1445.5 1595.3,1445.42 1596.15,1445.42 1596.15,1445.46 1597,1445.46 1597,1445.56 1597.86,1445.56 1597.86,1445.51 1598.71,1445.51 1598.71,1445.53 1599.56,1445.53 1599.56,1445.5 1600.41,1445.5 1601.26,1445.5 1601.26,1445.51 1602.11,1445.51 1602.11,1445.53 1602.96,1445.53 1603.81,1445.53 1603.81,1445.46 1604.66,1445.46 1604.66,1445.47 1605.52,1445.47 1605.52,1445.52 1606.37,1445.52 1606.37,1445.6 1607.22,1445.6 1607.22,1445.55 1608.07,1445.55 1608.07,1445.5 1608.92,1445.5 1608.92,1445.49 1609.77,1445.49 1609.77,1445.42 1610.62,1445.42 1610.62,1445.52 1611.47,1445.52 1611.47,1445.56 1612.32,1445.56 1612.32,1445.5 1613.17,1445.5 1613.17,1445.49 1614.03,1445.49 1614.88,1445.49 1614.88,1445.53 1615.73,1445.53 1615.73,1445.5 1616.58,1445.5 1617.43,1445.5 1617.43,1445.56 1618.28,1445.56 1618.28,1445.55 1619.13,1445.55 1619.13,1445.53 1619.98,1445.53 1619.98,1445.52 1620.83,1445.52 1620.83,1445.64 1621.68,1445.64 1621.68,1445.54 1622.54,1445.54 1622.54,1445.53 1623.39,1445.53 1623.39,1445.52 1624.24,1445.52 1624.24,1445.62 1625.09,1445.62 1625.09,1445.56 1625.94,1445.56 1625.94,1445.58 1626.79,1445.58 1626.79,1445.56 1627.64,1445.56 1628.49,1445.56 1628.49,1445.65 1629.34,1445.65 1629.34,1445.58 1630.19,1445.58 1630.19,1445.56 1631.05,1445.56 1631.05,1445.6 1631.9,1445.6 1631.9,1445.53 1632.75,1445.53 1632.75,1445.58 1633.6,1445.58 1634.45,1445.58 1634.45,1445.52 1635.3,1445.52 1635.3,1445.51 1636.15,1445.51 1636.15,1445.65 1637,1445.65 1637.85,1445.65 1637.85,1445.59 1638.71,1445.59 1638.71,1445.56 1639.56,1445.56 1640.41,1445.56 1640.41,1445.57 1641.26,1445.57 1641.26,1445.56 1642.11,1445.56 1642.11,1445.58 1642.96,1445.58 1642.96,1445.6 1643.81,1445.6 1644.66,1445.6 1644.66,1445.59 1645.51,1445.59 1645.51,1445.66 1646.36,1445.66 1646.36,1445.58 1647.22,1445.58 1647.22,1445.63 1648.07,1445.63 1648.07,1445.59 1648.92,1445.59 1648.92,1445.62 1649.77,1445.62 1649.77,1445.57 1650.62,1445.57 1650.62,1445.64 1651.47,1445.64 1651.47,1445.58 1652.32,1445.58 1652.32,1445.65 1653.17,1445.65 1653.17,1445.63 1654.02,1445.63 1654.02,1445.59 1654.87,1445.59 1654.87,1445.54 1655.73,1445.54 1655.73,1445.58 1656.58,1445.58 1656.58,1445.62 1657.43,1445.62 1657.43,1445.65 1658.28,1445.65 1658.28,1445.61 1659.13,1445.61 1659.98,1445.61 1659.98,1445.62 1660.83,1445.62 1661.68,1445.62 1661.68,1445.57 1662.53,1445.57 1662.53,1445.63 1663.38,1445.63 1663.38,1445.6 1664.24,1445.6 1664.24,1445.62 1665.09,1445.62 1665.09,1445.63 1665.94,1445.63 1665.94,1445.6 1666.79,1445.6 1666.79,1445.66 1667.64,1445.66 1668.49,1445.66 1668.49,1445.67 1669.34,1445.67 1669.34,1445.65 1670.19,1445.65 1670.19,1445.61 1671.04,1445.61 1671.89,1445.61 1672.75,1445.61 1672.75,1445.64 1673.6,1445.64 1673.6,1445.6 1674.45,1445.6 1674.45,1445.64 1675.3,1445.64 1675.3,1445.65 1676.15,1445.65 1676.15,1445.61 1677,1445.61 1677,1445.67 1677.85,1445.67 1677.85,1445.66 1678.7,1445.66 1679.55,1445.66 1679.55,1445.65 1680.41,1445.65 1680.41,1445.68 1681.26,1445.68 1681.26,1445.64 1682.11,1445.64 1682.11,1445.58 1682.96,1445.58 1682.96,1445.61 1683.81,1445.61 1683.81,1445.64 1684.66,1445.64 1684.66,1445.66 1685.51,1445.66 1685.51,1445.63 1686.36,1445.63 1686.36,1445.65 1687.21,1445.65 1687.21,1445.63 1688.06,1445.63 1688.06,1445.69 1688.92,1445.69 1688.92,1445.64 1689.77,1445.64 1689.77,1445.7 1690.62,1445.7 1690.62,1445.69 1691.47,1445.69 1691.47,1445.68 1692.32,1445.68 1692.32,1445.67 1693.17,1445.67 1694.02,1445.67 1694.02,1445.68 1694.87,1445.68 1694.87,1445.61 1695.72,1445.61 1695.72,1445.67 1696.57,1445.67 1696.57,1445.63 1697.43,1445.63 1697.43,1445.67 1698.28,1445.67 1698.28,1445.61 1699.13,1445.61 1699.13,1445.68 1699.98,1445.68 1699.98,1445.63 1700.83,1445.63 1700.83,1445.64 1701.68,1445.64 1701.68,1445.63 1702.53,1445.63 1702.53,1445.62 1703.38,1445.62 1703.38,1445.67 1704.23,1445.67 1704.23,1445.68 1705.08,1445.68 1705.94,1445.68 1705.94,1445.69 1706.79,1445.69 1706.79,1445.67 1707.64,1445.67 1707.64,1445.69 1708.49,1445.69 1709.34,1445.69 1709.34,1445.68 1710.19,1445.68 1710.19,1445.64 1711.04,1445.64 1711.04,1445.66 1711.89,1445.66 1711.89,1445.65 1712.74,1445.65 1712.74,1445.66 1713.6,1445.66 1713.6,1445.65 1714.45,1445.65 1714.45,1445.67 1715.3,1445.67 1715.3,1445.68 1716.15,1445.68 1716.15,1445.69 1717,1445.69 1717.85,1445.69 1717.85,1445.67 1718.7,1445.67 1718.7,1445.64 1719.55,1445.64 1719.55,1445.7 1720.4,1445.7 1720.4,1445.69 1721.25,1445.69 1721.25,1445.68 1722.11,1445.68 1722.11,1445.66 1722.96,1445.66 1722.96,1445.68 1723.81,1445.68 1723.81,1445.66 1724.66,1445.66 1725.51,1445.66 1725.51,1445.68 1726.36,1445.68 1726.36,1445.71 1727.21,1445.71 1727.21,1445.7 1728.06,1445.7 1728.06,1445.67 1728.91,1445.67 1728.91,1445.7 1729.76,1445.7 1729.76,1445.65 1730.62,1445.65 1730.62,1445.69 1731.47,1445.69 1731.47,1445.71 1732.32,1445.71 1733.17,1445.71 1733.17,1445.7 1734.02,1445.7 1734.02,1445.68 1734.87,1445.68 1734.87,1445.67 1735.72,1445.67 1735.72,1445.68 1736.57,1445.68 1736.57,1445.69 1737.42,1445.69 1738.27,1445.69 1739.13,1445.69 1739.13,1445.7 1739.98,1445.7 1740.83,1445.7 1740.83,1445.69 1741.68,1445.69 1742.53,1445.69 1742.53,1445.68 1743.38,1445.68 1743.38,1445.67 1744.23,1445.67 1744.23,1445.7 1745.08,1445.7 1745.08,1445.66 1745.93,1445.66 1745.93,1445.67 1746.78,1445.67 1746.78,1445.66 1747.64,1445.66 1747.64,1445.7 1748.49,1445.7 1748.49,1445.67 1749.34,1445.67 1749.34,1445.68 1750.19,1445.68 1750.19,1445.71 1751.04,1445.71 1751.04,1445.66 1751.89,1445.66 1751.89,1445.69 1752.74,1445.69 1752.74,1445.71 1753.59,1445.71 1753.59,1445.68 1754.44,1445.68 1754.44,1445.69 1755.3,1445.69 1755.3,1445.64 1756.15,1445.64 1756.15,1445.69 1757,1445.69 1757.85,1445.69 1757.85,1445.66 1758.7,1445.66 1758.7,1445.68 1759.55,1445.68 1759.55,1445.67 1760.4,1445.67 1760.4,1445.68 1761.25,1445.68 1762.1,1445.68 1762.1,1445.7 1762.95,1445.7 1762.95,1445.72 1763.81,1445.72 1763.81,1445.71 1764.66,1445.71 1765.51,1445.71 1765.51,1445.68 1766.36,1445.68 1766.36,1445.7 1767.21,1445.7 1767.21,1445.71 1768.06,1445.71 1768.91,1445.71 1768.91,1445.7 1769.76,1445.7 1769.76,1445.68 1770.61,1445.68 1770.61,1445.65 1771.46,1445.65 1771.46,1445.69 1772.32,1445.69 1772.32,1445.7 1773.17,1445.7 1773.17,1445.71 1774.02,1445.71 1774.02,1445.68 1774.87,1445.68 1774.87,1445.7 1775.72,1445.7 1775.72,1445.68 1776.57,1445.68 1776.57,1445.69 1777.42,1445.69 1777.42,1445.72 1778.27,1445.72 1778.27,1445.7 1779.12,1445.7 1779.12,1445.71 1779.97,1445.71 1779.97,1445.69 1780.83,1445.69 1780.83,1445.71 1781.68,1445.71 1781.68,1445.69 1782.53,1445.69 1782.53,1445.7 1783.38,1445.7 1783.38,1445.68 1784.23,1445.68 1784.23,1445.7 1785.08,1445.7 1785.08,1445.69 1785.93,1445.69 1785.93,1445.72 1786.78,1445.72 1786.78,1445.71 1787.63,1445.71 1787.63,1445.67 1788.49,1445.67 1788.49,1445.71 1789.34,1445.71 1790.19,1445.71 1790.19,1445.69 1791.04,1445.69 1791.04,1445.71 1791.89,1445.71 1792.74,1445.71 1792.74,1445.69 1793.59,1445.69 1793.59,1445.71 1794.44,1445.71 1794.44,1445.69 1795.29,1445.69 1795.29,1445.72 1796.14,1445.72 1796.14,1445.7 1797,1445.7 1797,1445.71 1797.85,1445.71 1797.85,1445.68 1798.7,1445.68 1798.7,1445.69 1799.55,1445.69 1800.4,1445.69 1800.4,1445.71 1801.25,1445.71 1801.25,1445.7 1802.1,1445.7 1802.95,1445.7 1802.95,1445.72 1803.8,1445.72 1804.65,1445.72 1804.65,1445.7 1805.51,1445.7 1806.36,1445.7 1806.36,1445.72 1807.21,1445.72 1807.21,1445.71 1808.06,1445.71 1808.06,1445.7 1808.91,1445.7 1808.91,1445.72 1809.76,1445.72 1809.76,1445.71 1810.61,1445.71 1811.46,1445.71 1812.31,1445.71 1812.31,1445.7 1813.16,1445.7 1813.16,1445.71 1814.02,1445.71 1814.02,1445.7 1814.87,1445.7 1815.72,1445.7 1815.72,1445.72 1816.57,1445.72 1816.57,1445.7 1817.42,1445.7 1818.27,1445.7 1818.27,1445.71 1819.12,1445.71 1819.12,1445.7 1819.97,1445.7 1819.97,1445.72 1820.82,1445.72 1820.82,1445.71 1821.67,1445.71 1821.67,1445.7 1822.53,1445.7 1822.53,1445.72 1823.38,1445.72 1823.38,1445.71 1824.23,1445.71 1824.23,1445.7 1825.08,1445.7 1825.93,1445.7 1825.93,1445.72 1826.78,1445.72 1826.78,1445.71 1827.63,1445.71 1827.63,1445.72 1828.48,1445.72 1828.48,1445.7 1829.33,1445.7 1829.33,1445.72 1830.19,1445.72 1831.04,1445.72 1831.04,1445.71 1831.89,1445.71 1831.89,1445.72 1832.74,1445.72 1833.59,1445.72 1833.59,1445.7 1834.44,1445.7 1834.44,1445.69 1835.29,1445.69 1835.29,1445.71 1836.14,1445.71 1836.99,1445.71 1837.84,1445.71 1837.84,1445.69 1838.7,1445.69 1838.7,1445.72 1839.55,1445.72 1839.55,1445.71 1840.4,1445.71 1840.4,1445.7 1841.25,1445.7 1842.1,1445.7 1842.1,1445.71 1842.95,1445.71 1843.8,1445.71 1844.65,1445.71 1844.65,1445.72 1845.5,1445.72 1846.35,1445.72 1846.35,1445.71 1847.21,1445.71 1848.06,1445.71 1848.06,1445.72 1848.91,1445.72 1848.91,1445.7 1849.76,1445.7 1849.76,1445.72 1850.61,1445.72 1851.46,1445.72 1852.31,1445.72 1852.31,1445.71 1853.16,1445.71 1854.01,1445.71 1854.01,1445.72 1854.86,1445.72 1855.72,1445.72 1855.72,1445.71 1856.57,1445.71 1857.42,1445.71 1857.42,1445.72 1858.27,1445.72 1858.27,1445.71 1859.12,1445.71 1859.12,1445.72 1859.97,1445.72 1860.82,1445.72 1860.82,1445.71 1861.67,1445.71 1861.67,1445.72 1862.52,1445.72 1863.38,1445.72 1863.38,1445.71 1864.23,1445.71 1865.08,1445.71 1865.08,1445.72 1865.93,1445.72 1866.78,1445.72 1866.78,1445.71 1867.63,1445.71 1867.63,1445.72 1868.48,1445.72 1869.33,1445.72 1870.18,1445.72 1871.03,1445.72 1871.03,1445.7 1871.89,1445.7 1871.89,1445.71 1872.74,1445.71 1872.74,1445.72 1873.59,1445.72 1873.59,1445.71 1874.44,1445.71 1874.44,1445.72 1875.29,1445.72 1876.14,1445.72 1876.14,1445.71 1876.99,1445.71 1876.99,1445.7 1877.84,1445.7 1877.84,1445.71 1878.69,1445.71 1879.54,1445.71 1879.54,1445.72 1880.4,1445.72 1881.25,1445.72 1881.25,1445.71 1882.1,1445.71 1882.1,1445.72 1882.95,1445.72 1882.95,1445.71 1883.8,1445.71 1883.8,1445.72 1884.65,1445.72 1885.5,1445.72 1885.5,1445.71 1886.35,1445.71 1886.35,1445.72 1887.2,1445.72 1887.2,1445.71 1888.05,1445.71 1888.91,1445.71 1889.76,1445.71 1890.61,1445.71 1890.61,1445.72 1891.46,1445.72 1892.31,1445.72 1892.31,1445.7 1893.16,1445.7 1893.16,1445.72 1894.01,1445.72 1894.01,1445.71 1894.86,1445.71 1894.86,1445.72 1895.71,1445.72 1895.71,1445.71 1896.57,1445.71 1896.57,1445.72 1897.42,1445.72 1897.42,1445.7 1898.27,1445.7 1898.27,1445.71 1899.12,1445.71 1899.12,1445.72 1899.97,1445.72 1900.82,1445.72 1900.82,1445.71 1901.67,1445.71 1901.67,1445.72 1902.52,1445.72 1902.52,1445.71 1903.37,1445.71 1903.37,1445.72 1904.22,1445.72 1905.08,1445.72 1905.08,1445.71 1905.93,1445.71 1905.93,1445.72 1906.78,1445.72 1907.63,1445.72 1907.63,1445.7 1908.48,1445.7 1908.48,1445.71 1909.33,1445.71 1910.18,1445.71 1910.18,1445.72 1911.03,1445.72 1911.03,1445.71 1911.88,1445.71 1911.88,1445.72 1912.73,1445.72 1912.73,1445.71 1913.59,1445.71 1914.44,1445.71 1914.44,1445.72 1915.29,1445.72 1916.14,1445.72 1916.99,1445.72 1917.84,1445.72 1918.69,1445.72 1919.54,1445.72 1920.39,1445.72 1921.24,1445.72 1922.1,1445.72 1922.1,1445.71 1922.95,1445.71 1922.95,1445.72 1923.8,1445.72 1924.65,1445.72 1925.5,1445.72 1926.35,1445.72 1927.2,1445.72 1928.05,1445.72 1928.9,1445.72 1929.75,1445.72 1930.61,1445.72 1931.46,1445.72 1932.31,1445.72 1933.16,1445.72 1934.01,1445.72 1934.86,1445.72 1935.71,1445.72 1936.56,1445.72 1937.41,1445.72 1938.27,1445.72 1939.12,1445.72 1939.97,1445.72 1939.97,1445.7 1940.82,1445.7 1940.82,1445.71 1941.67,1445.71 1941.67,1445.72 1942.52,1445.72 1943.37,1445.72 1944.22,1445.72 1945.07,1445.72 1945.92,1445.72 1945.92,1445.71 1946.78,1445.71 1946.78,1445.72 1947.63,1445.72 1947.63,1445.71 1948.48,1445.71 1948.48,1445.72 1949.33,1445.72 1950.18,1445.72 1951.03,1445.72 1951.88,1445.72 1952.73,1445.72 1953.58,1445.72 1954.43,1445.72 1955.29,1445.72 1956.14,1445.72 1956.99,1445.72 1957.84,1445.72 1958.69,1445.72 1959.54,1445.72 1960.39,1445.72 1960.39,1445.71 1961.24,1445.71 1961.24,1445.72 1962.09,1445.72 1962.94,1445.72 1962.94,1445.71 1963.8,1445.71 1963.8,1445.72 1964.65,1445.72 1965.5,1445.72 1965.5,1445.71 1966.35,1445.71 1966.35,1445.72 1967.2,1445.72 1967.2,1445.71 1968.05,1445.71 1968.05,1445.72 1968.9,1445.72 1968.9,1445.71 1969.75,1445.71 1969.75,1445.72 1970.6,1445.72 1971.46,1445.72 1972.31,1445.72 1973.16,1445.72 1974.01,1445.72 1974.86,1445.72 1975.71,1445.72 1975.71,1445.71 1976.56,1445.71 1976.56,1445.72 1977.41,1445.72 1978.26,1445.72 1979.11,1445.72 1979.97,1445.72 1980.82,1445.72 1981.67,1445.72 1982.52,1445.72 1983.37,1445.72 1983.37,1445.71 1984.22,1445.71 1984.22,1445.72 1985.07,1445.72 1985.92,1445.72 1986.77,1445.72 1987.62,1445.72 1988.48,1445.72 1988.48,1445.71 1989.33,1445.71 1989.33,1445.72 1990.18,1445.72 1991.03,1445.72 1991.88,1445.72 1992.73,1445.72 1993.58,1445.72 1994.43,1445.72 1995.28,1445.72 1996.13,1445.72 1996.13,1445.71 1996.99,1445.71 1996.99,1445.72 1997.84,1445.72 1998.69,1445.72 1999.54,1445.72 2000.39,1445.72 2000.39,1445.71 2001.24,1445.71 2001.24,1445.72 2002.09,1445.72 2002.94,1445.72 2003.79,1445.72 2004.64,1445.72 2005.5,1445.72 2006.35,1445.72 2007.2,1445.72 2008.05,1445.72 2008.9,1445.72 2009.75,1445.72 2010.6,1445.72 2011.45,1445.72 2012.3,1445.72 2013.16,1445.72 2014.01,1445.72 2014.86,1445.72 2015.71,1445.72 2016.56,1445.72 2017.41,1445.72 2018.26,1445.72 2019.11,1445.72 2019.96,1445.72 2020.81,1445.72 2021.67,1445.72 2022.52,1445.72 2023.37,1445.72 2024.22,1445.72 2025.07,1445.72 2025.92,1445.72 2026.77,1445.72 2027.62,1445.72 2028.47,1445.72 2029.32,1445.72 2030.18,1445.72 2031.03,1445.72 2031.88,1445.72 2032.73,1445.72 2033.58,1445.72 2034.43,1445.72 2035.28,1445.72 2036.13,1445.72 2036.98,1445.72 2037.83,1445.72 2038.69,1445.72 2039.54,1445.72 2040.39,1445.72 2041.24,1445.72 2042.09,1445.72 2042.94,1445.72 2043.79,1445.72 2044.64,1445.72 2045.49,1445.72 2045.49,1445.7 2046.35,1445.7 2046.35,1445.72 2047.2,1445.72 2048.05,1445.72 2048.9,1445.72 2049.75,1445.72 2050.6,1445.72 2051.45,1445.72 2052.3,1445.72 2053.15,1445.72 2054,1445.72 2054.86,1445.72 2055.71,1445.72 2056.56,1445.72 2057.41,1445.72 2058.26,1445.72 2059.11,1445.72 2059.96,1445.72 2060.81,1445.72 2061.66,1445.72 2061.66,1445.71 2062.51,1445.71 2062.51,1445.72 2063.37,1445.72 2064.22,1445.72 2065.07,1445.72 2065.92,1445.72 2066.77,1445.72 2067.62,1445.72 2068.47,1445.72 2069.32,1445.72 2070.17,1445.72 2071.02,1445.72 2071.88,1445.72 2072.73,1445.72 2073.58,1445.72 2074.43,1445.72 2075.28,1445.72 2076.13,1445.72 2076.98,1445.72 2077.83,1445.72 2078.68,1445.72 2079.53,1445.72 2080.39,1445.72 2081.24,1445.72 2082.09,1445.72 2082.94,1445.72 2083.79,1445.72 2084.64,1445.72 2085.49,1445.72 2086.34,1445.72 2087.19,1445.72 2088.05,1445.72 2088.9,1445.72 2089.75,1445.72 2090.6,1445.72 2091.45,1445.72 2092.3,1445.72 2093.15,1445.72 2094,1445.72 2094,1445.71 2094.85,1445.71 2094.85,1445.72 2095.7,1445.72 2096.56,1445.72 2097.41,1445.72 2098.26,1445.72 2099.11,1445.72 2099.96,1445.72 2100.81,1445.72 2101.66,1445.72 2102.51,1445.72 2103.36,1445.72 2104.21,1445.72 2105.07,1445.72 2105.92,1445.72 2106.77,1445.72 2107.62,1445.72 2108.47,1445.72 2109.32,1445.72 2110.17,1445.72 2111.02,1445.72 2111.87,1445.72 2112.72,1445.72 2113.58,1445.72 2114.43,1445.72 2115.28,1445.72 2116.13,1445.72 2116.98,1445.72 2117.83,1445.72 2118.68,1445.72 2119.53,1445.72 2120.38,1445.72 2121.24,1445.72 2122.09,1445.72 2122.94,1445.72 2123.79,1445.72 2124.64,1445.72 2125.49,1445.72 2126.34,1445.72 2127.19,1445.72 2128.04,1445.72 2128.89,1445.72 2129.75,1445.72 2130.6,1445.72 2131.45,1445.72 2132.3,1445.72 2133.15,1445.72 2134,1445.72 2134.85,1445.72 2135.7,1445.72 2136.55,1445.72 2137.4,1445.72 2138.26,1445.72 2138.26,1445.71 2139.11,1445.71 2139.11,1445.72 2139.96,1445.72 2140.81,1445.72 2141.66,1445.72 2142.51,1445.72 2143.36,1445.72 2144.21,1445.72 2145.06,1445.72 2145.91,1445.72 2146.77,1445.72 2147.62,1445.72 2148.47,1445.72 2149.32,1445.72 2150.17,1445.72 2151.02,1445.72 2151.87,1445.72 2152.72,1445.72 2153.57,1445.72 2154.42,1445.72 2155.28,1445.72 2156.13,1445.72 2156.98,1445.72 2157.83,1445.72 2158.68,1445.72 2159.53,1445.72 2160.38,1445.72 2161.23,1445.72 2162.08,1445.72 2162.94,1445.72 2163.79,1445.72 2164.64,1445.72 2165.49,1445.72 2166.34,1445.72 2167.19,1445.72 2168.04,1445.72 2168.89,1445.72 2169.74,1445.72 2170.59,1445.72 2171.45,1445.72 2172.3,1445.72 2173.15,1445.72 2174,1445.72 2174.85,1445.72 2175.7,1445.72 2176.55,1445.72 2177.4,1445.72 2178.25,1445.72 2179.1,1445.72 2179.96,1445.72 2180.81,1445.72 2181.66,1445.72 2182.51,1445.72 2183.36,1445.72 2184.21,1445.72 2185.06,1445.72 2185.91,1445.72 2186.76,1445.72 2187.61,1445.72 2188.47,1445.72 2189.32,1445.72 2189.32,1445.71 2190.17,1445.71 2190.17,1445.72 2191.02,1445.72 2191.87,1445.72 2192.72,1445.72 2193.57,1445.72 2194.42,1445.72 2195.27,1445.72 2196.13,1445.72 2196.98,1445.72 2197.83,1445.72 2198.68,1445.72 2199.53,1445.72 2200.38,1445.72 2201.23,1445.72 2202.08,1445.72 2202.93,1445.72 2203.78,1445.72 2204.64,1445.72 2205.49,1445.72 2206.34,1445.72 2207.19,1445.72 2208.04,1445.72 2208.89,1445.72 2209.74,1445.72 2210.59,1445.72 2211.44,1445.72 2212.29,1445.72 2213.15,1445.72 2214,1445.72 2214.85,1445.72 2215.7,1445.72 2216.55,1445.72 2217.4,1445.72 2218.25,1445.72 2219.1,1445.72 2219.95,1445.72 2220.8,1445.72 2221.66,1445.72 2222.51,1445.72 2223.36,1445.72 2224.21,1445.72 2225.06,1445.72 2225.91,1445.72 2226.76,1445.72 2227.61,1445.72 2228.46,1445.72 2229.32,1445.72 2230.17,1445.72 2231.02,1445.72 2231.87,1445.72 2232.72,1445.72 2233.57,1445.72 2234.42,1445.72 2235.27,1445.72 2236.12,1445.72 2236.97,1445.72 2237.83,1445.72 2238.68,1445.72 2239.53,1445.72 2240.38,1445.72 2241.23,1445.72 2242.08,1445.72 2242.93,1445.72 2243.78,1445.72 2244.63,1445.72 2245.48,1445.72 2246.34,1445.72 2247.19,1445.72 2248.04,1445.72 2248.89,1445.72 2249.74,1445.72 2250.59,1445.72 2251.44,1445.72 2252.29,1445.72 2253.14,1445.72 2253.99,1445.72 2254.85,1445.72 2255.7,1445.72 2256.55,1445.72 2257.4,1445.72 2258.25,1445.72 2259.1,1445.72 2259.95,1445.72 2260.8,1445.72 2261.65,1445.72 2262.5,1445.72 2263.36,1445.72 2264.21,1445.72 2265.06,1445.72 2265.91,1445.72 2266.76,1445.72 2267.61,1445.72 2268.46,1445.72 2269.31,1445.72 2270.16,1445.72 2271.02,1445.72 2271.87,1445.72 2272.72,1445.72 2273.57,1445.72 2274.42,1445.72 2275.27,1445.72 2276.12,1445.72 2276.97,1445.72 2277.82,1445.72 2278.67,1445.72 2279.53,1445.72 2280.38,1445.72 2281.23,1445.72 2282.08,1445.72 2282.93,1445.72 2283.78,1445.72 2284.63,1445.72 2285.48,1445.72 2286.33,1445.72 2287.18,1445.72 2288.04,1445.72 2288.89,1445.72 2289.74,1445.72 2290.59,1445.72 2291.44,1445.72 2292.29,1445.72 2293.14,1445.72 2293.99,1445.72 2294.84,1445.72 2294.84,1445.71 2295.69,1445.71 2295.69,1445.72 \"/>\n",
              "</svg>\n"
            ],
            "text/html": [
              "<?xml version=\"1.0\" encoding=\"utf-8\"?>\n",
              "<svg xmlns=\"http://www.w3.org/2000/svg\" xmlns:xlink=\"http://www.w3.org/1999/xlink\" width=\"600\" height=\"400\" viewBox=\"0 0 2400 1600\">\n",
              "<defs>\n",
              "  <clipPath id=\"clip270\">\n",
              "    <rect x=\"0\" y=\"0\" width=\"2400\" height=\"1600\"/>\n",
              "  </clipPath>\n",
              "</defs>\n",
              "<path clip-path=\"url(#clip270)\" d=\"M0 1600 L2400 1600 L2400 0 L0 0  Z\" fill=\"#ffffff\" fill-rule=\"evenodd\" fill-opacity=\"1\"/>\n",
              "<defs>\n",
              "  <clipPath id=\"clip271\">\n",
              "    <rect x=\"480\" y=\"0\" width=\"1681\" height=\"1600\"/>\n",
              "  </clipPath>\n",
              "</defs>\n",
              "<path clip-path=\"url(#clip270)\" d=\"M336.597 1486.45 L2352.76 1486.45 L2352.76 47.2441 L336.597 47.2441  Z\" fill=\"#ffffff\" fill-rule=\"evenodd\" fill-opacity=\"1\"/>\n",
              "<defs>\n",
              "  <clipPath id=\"clip272\">\n",
              "    <rect x=\"336\" y=\"47\" width=\"2017\" height=\"1440\"/>\n",
              "  </clipPath>\n",
              "</defs>\n",
              "<polyline clip-path=\"url(#clip272)\" style=\"stroke:#000000; stroke-linecap:round; stroke-linejoin:round; stroke-width:2; stroke-opacity:0.1; fill:none\" points=\"669.39,1486.45 669.39,47.2441 \"/>\n",
              "<polyline clip-path=\"url(#clip272)\" style=\"stroke:#000000; stroke-linecap:round; stroke-linejoin:round; stroke-width:2; stroke-opacity:0.1; fill:none\" points=\"1094.9,1486.45 1094.9,47.2441 \"/>\n",
              "<polyline clip-path=\"url(#clip272)\" style=\"stroke:#000000; stroke-linecap:round; stroke-linejoin:round; stroke-width:2; stroke-opacity:0.1; fill:none\" points=\"1520.41,1486.45 1520.41,47.2441 \"/>\n",
              "<polyline clip-path=\"url(#clip272)\" style=\"stroke:#000000; stroke-linecap:round; stroke-linejoin:round; stroke-width:2; stroke-opacity:0.1; fill:none\" points=\"1945.92,1486.45 1945.92,47.2441 \"/>\n",
              "<polyline clip-path=\"url(#clip270)\" style=\"stroke:#000000; stroke-linecap:round; stroke-linejoin:round; stroke-width:4; stroke-opacity:1; fill:none\" points=\"336.597,1486.45 2352.76,1486.45 \"/>\n",
              "<polyline clip-path=\"url(#clip270)\" style=\"stroke:#000000; stroke-linecap:round; stroke-linejoin:round; stroke-width:4; stroke-opacity:1; fill:none\" points=\"669.39,1486.45 669.39,1467.55 \"/>\n",
              "<polyline clip-path=\"url(#clip270)\" style=\"stroke:#000000; stroke-linecap:round; stroke-linejoin:round; stroke-width:4; stroke-opacity:1; fill:none\" points=\"1094.9,1486.45 1094.9,1467.55 \"/>\n",
              "<polyline clip-path=\"url(#clip270)\" style=\"stroke:#000000; stroke-linecap:round; stroke-linejoin:round; stroke-width:4; stroke-opacity:1; fill:none\" points=\"1520.41,1486.45 1520.41,1467.55 \"/>\n",
              "<polyline clip-path=\"url(#clip270)\" style=\"stroke:#000000; stroke-linecap:round; stroke-linejoin:round; stroke-width:4; stroke-opacity:1; fill:none\" points=\"1945.92,1486.45 1945.92,1467.55 \"/>\n",
              "<path clip-path=\"url(#clip270)\" d=\"M641.126 1544.91 L657.445 1544.91 L657.445 1548.85 L635.501 1548.85 L635.501 1544.91 Q638.163 1542.16 642.746 1537.53 Q647.353 1532.88 648.533 1531.53 Q650.779 1529.01 651.658 1527.27 Q652.561 1525.51 652.561 1523.82 Q652.561 1521.07 650.617 1519.33 Q648.695 1517.6 645.594 1517.6 Q643.395 1517.6 640.941 1518.36 Q638.51 1519.13 635.733 1520.68 L635.733 1515.95 Q638.557 1514.82 641.01 1514.24 Q643.464 1513.66 645.501 1513.66 Q650.871 1513.66 654.066 1516.35 Q657.26 1519.03 657.26 1523.52 Q657.26 1525.65 656.45 1527.57 Q655.663 1529.47 653.557 1532.07 Q652.978 1532.74 649.876 1535.95 Q646.774 1539.15 641.126 1544.91 Z\" fill=\"#000000\" fill-rule=\"nonzero\" fill-opacity=\"1\" /><path clip-path=\"url(#clip270)\" d=\"M667.26 1542.97 L672.144 1542.97 L672.144 1548.85 L667.26 1548.85 L667.26 1542.97 Z\" fill=\"#000000\" fill-rule=\"nonzero\" fill-opacity=\"1\" /><path clip-path=\"url(#clip270)\" d=\"M682.376 1514.29 L700.732 1514.29 L700.732 1518.22 L686.658 1518.22 L686.658 1526.7 Q687.677 1526.35 688.695 1526.19 Q689.714 1526 690.732 1526 Q696.519 1526 699.899 1529.17 Q703.279 1532.34 703.279 1537.76 Q703.279 1543.34 699.806 1546.44 Q696.334 1549.52 690.015 1549.52 Q687.839 1549.52 685.57 1549.15 Q683.325 1548.78 680.918 1548.04 L680.918 1543.34 Q683.001 1544.47 685.223 1545.03 Q687.445 1545.58 689.922 1545.58 Q693.927 1545.58 696.265 1543.48 Q698.603 1541.37 698.603 1537.76 Q698.603 1534.15 696.265 1532.04 Q693.927 1529.94 689.922 1529.94 Q688.047 1529.94 686.172 1530.35 Q684.32 1530.77 682.376 1531.65 L682.376 1514.29 Z\" fill=\"#000000\" fill-rule=\"nonzero\" fill-opacity=\"1\" /><path clip-path=\"url(#clip270)\" d=\"M1062.07 1514.29 L1080.42 1514.29 L1080.42 1518.22 L1066.35 1518.22 L1066.35 1526.7 Q1067.37 1526.35 1068.39 1526.19 Q1069.4 1526 1070.42 1526 Q1076.21 1526 1079.59 1529.17 Q1082.97 1532.34 1082.97 1537.76 Q1082.97 1543.34 1079.5 1546.44 Q1076.02 1549.52 1069.7 1549.52 Q1067.53 1549.52 1065.26 1549.15 Q1063.01 1548.78 1060.61 1548.04 L1060.61 1543.34 Q1062.69 1544.47 1064.91 1545.03 Q1067.14 1545.58 1069.61 1545.58 Q1073.62 1545.58 1075.95 1543.48 Q1078.29 1541.37 1078.29 1537.76 Q1078.29 1534.15 1075.95 1532.04 Q1073.62 1529.94 1069.61 1529.94 Q1067.74 1529.94 1065.86 1530.35 Q1064.01 1530.77 1062.07 1531.65 L1062.07 1514.29 Z\" fill=\"#000000\" fill-rule=\"nonzero\" fill-opacity=\"1\" /><path clip-path=\"url(#clip270)\" d=\"M1092.18 1542.97 L1097.07 1542.97 L1097.07 1548.85 L1092.18 1548.85 L1092.18 1542.97 Z\" fill=\"#000000\" fill-rule=\"nonzero\" fill-opacity=\"1\" /><path clip-path=\"url(#clip270)\" d=\"M1117.25 1517.37 Q1113.64 1517.37 1111.81 1520.93 Q1110.01 1524.47 1110.01 1531.6 Q1110.01 1538.71 1111.81 1542.27 Q1113.64 1545.82 1117.25 1545.82 Q1120.88 1545.82 1122.69 1542.27 Q1124.52 1538.71 1124.52 1531.6 Q1124.52 1524.47 1122.69 1520.93 Q1120.88 1517.37 1117.25 1517.37 M1117.25 1513.66 Q1123.06 1513.66 1126.12 1518.27 Q1129.2 1522.85 1129.2 1531.6 Q1129.2 1540.33 1126.12 1544.94 Q1123.06 1549.52 1117.25 1549.52 Q1111.44 1549.52 1108.36 1544.94 Q1105.31 1540.33 1105.31 1531.6 Q1105.31 1522.85 1108.36 1518.27 Q1111.44 1513.66 1117.25 1513.66 Z\" fill=\"#000000\" fill-rule=\"nonzero\" fill-opacity=\"1\" /><path clip-path=\"url(#clip270)\" d=\"M1486.73 1514.29 L1508.95 1514.29 L1508.95 1516.28 L1496.41 1548.85 L1491.52 1548.85 L1503.33 1518.22 L1486.73 1518.22 L1486.73 1514.29 Z\" fill=\"#000000\" fill-rule=\"nonzero\" fill-opacity=\"1\" /><path clip-path=\"url(#clip270)\" d=\"M1518.07 1542.97 L1522.96 1542.97 L1522.96 1548.85 L1518.07 1548.85 L1518.07 1542.97 Z\" fill=\"#000000\" fill-rule=\"nonzero\" fill-opacity=\"1\" /><path clip-path=\"url(#clip270)\" d=\"M1533.19 1514.29 L1551.55 1514.29 L1551.55 1518.22 L1537.47 1518.22 L1537.47 1526.7 Q1538.49 1526.35 1539.51 1526.19 Q1540.53 1526 1541.55 1526 Q1547.33 1526 1550.71 1529.17 Q1554.09 1532.34 1554.09 1537.76 Q1554.09 1543.34 1550.62 1546.44 Q1547.15 1549.52 1540.83 1549.52 Q1538.65 1549.52 1536.38 1549.15 Q1534.14 1548.78 1531.73 1548.04 L1531.73 1543.34 Q1533.82 1544.47 1536.04 1545.03 Q1538.26 1545.58 1540.74 1545.58 Q1544.74 1545.58 1547.08 1543.48 Q1549.42 1541.37 1549.42 1537.76 Q1549.42 1534.15 1547.08 1532.04 Q1544.74 1529.94 1540.74 1529.94 Q1538.86 1529.94 1536.99 1530.35 Q1535.13 1530.77 1533.19 1531.65 L1533.19 1514.29 Z\" fill=\"#000000\" fill-rule=\"nonzero\" fill-opacity=\"1\" /><path clip-path=\"url(#clip270)\" d=\"M1898 1544.91 L1905.64 1544.91 L1905.64 1518.55 L1897.33 1520.21 L1897.33 1515.95 L1905.59 1514.29 L1910.26 1514.29 L1910.26 1544.91 L1917.9 1544.91 L1917.9 1548.85 L1898 1548.85 L1898 1544.91 Z\" fill=\"#000000\" fill-rule=\"nonzero\" fill-opacity=\"1\" /><path clip-path=\"url(#clip270)\" d=\"M1937.35 1517.37 Q1933.74 1517.37 1931.91 1520.93 Q1930.1 1524.47 1930.1 1531.6 Q1930.1 1538.71 1931.91 1542.27 Q1933.74 1545.82 1937.35 1545.82 Q1940.98 1545.82 1942.79 1542.27 Q1944.62 1538.71 1944.62 1531.6 Q1944.62 1524.47 1942.79 1520.93 Q1940.98 1517.37 1937.35 1517.37 M1937.35 1513.66 Q1943.16 1513.66 1946.21 1518.27 Q1949.29 1522.85 1949.29 1531.6 Q1949.29 1540.33 1946.21 1544.94 Q1943.16 1549.52 1937.35 1549.52 Q1931.54 1549.52 1928.46 1544.94 Q1925.4 1540.33 1925.4 1531.6 Q1925.4 1522.85 1928.46 1518.27 Q1931.54 1513.66 1937.35 1513.66 Z\" fill=\"#000000\" fill-rule=\"nonzero\" fill-opacity=\"1\" /><path clip-path=\"url(#clip270)\" d=\"M1957.51 1542.97 L1962.39 1542.97 L1962.39 1548.85 L1957.51 1548.85 L1957.51 1542.97 Z\" fill=\"#000000\" fill-rule=\"nonzero\" fill-opacity=\"1\" /><path clip-path=\"url(#clip270)\" d=\"M1982.58 1517.37 Q1978.97 1517.37 1977.14 1520.93 Q1975.33 1524.47 1975.33 1531.6 Q1975.33 1538.71 1977.14 1542.27 Q1978.97 1545.82 1982.58 1545.82 Q1986.21 1545.82 1988.02 1542.27 Q1989.85 1538.71 1989.85 1531.6 Q1989.85 1524.47 1988.02 1520.93 Q1986.21 1517.37 1982.58 1517.37 M1982.58 1513.66 Q1988.39 1513.66 1991.44 1518.27 Q1994.52 1522.85 1994.52 1531.6 Q1994.52 1540.33 1991.44 1544.94 Q1988.39 1549.52 1982.58 1549.52 Q1976.77 1549.52 1973.69 1544.94 Q1970.63 1540.33 1970.63 1531.6 Q1970.63 1522.85 1973.69 1518.27 Q1976.77 1513.66 1982.58 1513.66 Z\" fill=\"#000000\" fill-rule=\"nonzero\" fill-opacity=\"1\" /><polyline clip-path=\"url(#clip272)\" style=\"stroke:#000000; stroke-linecap:round; stroke-linejoin:round; stroke-width:2; stroke-opacity:0.1; fill:none\" points=\"336.597,1445.72 2352.76,1445.72 \"/>\n",
              "<polyline clip-path=\"url(#clip272)\" style=\"stroke:#000000; stroke-linecap:round; stroke-linejoin:round; stroke-width:2; stroke-opacity:0.1; fill:none\" points=\"336.597,1202.36 2352.76,1202.36 \"/>\n",
              "<polyline clip-path=\"url(#clip272)\" style=\"stroke:#000000; stroke-linecap:round; stroke-linejoin:round; stroke-width:2; stroke-opacity:0.1; fill:none\" points=\"336.597,959.011 2352.76,959.011 \"/>\n",
              "<polyline clip-path=\"url(#clip272)\" style=\"stroke:#000000; stroke-linecap:round; stroke-linejoin:round; stroke-width:2; stroke-opacity:0.1; fill:none\" points=\"336.597,715.659 2352.76,715.659 \"/>\n",
              "<polyline clip-path=\"url(#clip272)\" style=\"stroke:#000000; stroke-linecap:round; stroke-linejoin:round; stroke-width:2; stroke-opacity:0.1; fill:none\" points=\"336.597,472.307 2352.76,472.307 \"/>\n",
              "<polyline clip-path=\"url(#clip272)\" style=\"stroke:#000000; stroke-linecap:round; stroke-linejoin:round; stroke-width:2; stroke-opacity:0.1; fill:none\" points=\"336.597,228.955 2352.76,228.955 \"/>\n",
              "<polyline clip-path=\"url(#clip270)\" style=\"stroke:#000000; stroke-linecap:round; stroke-linejoin:round; stroke-width:4; stroke-opacity:1; fill:none\" points=\"336.597,1486.45 336.597,47.2441 \"/>\n",
              "<polyline clip-path=\"url(#clip270)\" style=\"stroke:#000000; stroke-linecap:round; stroke-linejoin:round; stroke-width:4; stroke-opacity:1; fill:none\" points=\"336.597,1445.72 355.495,1445.72 \"/>\n",
              "<polyline clip-path=\"url(#clip270)\" style=\"stroke:#000000; stroke-linecap:round; stroke-linejoin:round; stroke-width:4; stroke-opacity:1; fill:none\" points=\"336.597,1202.36 355.495,1202.36 \"/>\n",
              "<polyline clip-path=\"url(#clip270)\" style=\"stroke:#000000; stroke-linecap:round; stroke-linejoin:round; stroke-width:4; stroke-opacity:1; fill:none\" points=\"336.597,959.011 355.495,959.011 \"/>\n",
              "<polyline clip-path=\"url(#clip270)\" style=\"stroke:#000000; stroke-linecap:round; stroke-linejoin:round; stroke-width:4; stroke-opacity:1; fill:none\" points=\"336.597,715.659 355.495,715.659 \"/>\n",
              "<polyline clip-path=\"url(#clip270)\" style=\"stroke:#000000; stroke-linecap:round; stroke-linejoin:round; stroke-width:4; stroke-opacity:1; fill:none\" points=\"336.597,472.307 355.495,472.307 \"/>\n",
              "<polyline clip-path=\"url(#clip270)\" style=\"stroke:#000000; stroke-linecap:round; stroke-linejoin:round; stroke-width:4; stroke-opacity:1; fill:none\" points=\"336.597,228.955 355.495,228.955 \"/>\n",
              "<path clip-path=\"url(#clip270)\" d=\"M288.653 1431.51 Q285.042 1431.51 283.213 1435.08 Q281.408 1438.62 281.408 1445.75 Q281.408 1452.86 283.213 1456.42 Q285.042 1459.96 288.653 1459.96 Q292.287 1459.96 294.093 1456.42 Q295.921 1452.86 295.921 1445.75 Q295.921 1438.62 294.093 1435.08 Q292.287 1431.51 288.653 1431.51 M288.653 1427.81 Q294.463 1427.81 297.519 1432.42 Q300.597 1437 300.597 1445.75 Q300.597 1454.48 297.519 1459.08 Q294.463 1463.67 288.653 1463.67 Q282.843 1463.67 279.764 1459.08 Q276.709 1454.48 276.709 1445.75 Q276.709 1437 279.764 1432.42 Q282.843 1427.81 288.653 1427.81 Z\" fill=\"#000000\" fill-rule=\"nonzero\" fill-opacity=\"1\" /><path clip-path=\"url(#clip270)\" d=\"M56.6171 1222.16 L72.9365 1222.16 L72.9365 1226.09 L50.9921 1226.09 L50.9921 1222.16 Q53.6541 1219.4 58.2375 1214.77 Q62.8439 1210.12 64.0245 1208.78 Q66.2698 1206.25 67.1494 1204.52 Q68.0522 1202.76 68.0522 1201.07 Q68.0522 1198.31 66.1078 1196.58 Q64.1865 1194.84 61.0847 1194.84 Q58.8856 1194.84 56.4319 1195.61 Q54.0014 1196.37 51.2236 1197.92 L51.2236 1193.2 Q54.0477 1192.06 56.5014 1191.48 Q58.955 1190.91 60.9921 1190.91 Q66.3624 1190.91 69.5568 1193.59 Q72.7513 1196.28 72.7513 1200.77 Q72.7513 1202.9 71.9411 1204.82 Q71.1541 1206.72 69.0476 1209.31 Q68.4689 1209.98 65.367 1213.2 Q62.2652 1216.39 56.6171 1222.16 Z\" fill=\"#000000\" fill-rule=\"nonzero\" fill-opacity=\"1\" /><path clip-path=\"url(#clip270)\" d=\"M82.7512 1220.21 L87.6354 1220.21 L87.6354 1226.09 L82.7512 1226.09 L82.7512 1220.21 Z\" fill=\"#000000\" fill-rule=\"nonzero\" fill-opacity=\"1\" /><path clip-path=\"url(#clip270)\" d=\"M97.8669 1191.53 L116.223 1191.53 L116.223 1195.47 L102.149 1195.47 L102.149 1203.94 Q103.168 1203.59 104.186 1203.43 Q105.205 1203.24 106.223 1203.24 Q112.01 1203.24 115.39 1206.42 Q118.77 1209.59 118.77 1215 Q118.77 1220.58 115.297 1223.68 Q111.825 1226.76 105.506 1226.76 Q103.33 1226.76 101.061 1226.39 Q98.8159 1226.02 96.4085 1225.28 L96.4085 1220.58 Q98.4919 1221.72 100.714 1222.27 Q102.936 1222.83 105.413 1222.83 Q109.418 1222.83 111.756 1220.72 Q114.094 1218.61 114.094 1215 Q114.094 1211.39 111.756 1209.29 Q109.418 1207.18 105.413 1207.18 Q103.538 1207.18 101.663 1207.6 Q99.8113 1208.01 97.8669 1208.89 L97.8669 1191.53 Z\" fill=\"#000000\" fill-rule=\"nonzero\" fill-opacity=\"1\" /><path clip-path=\"url(#clip270)\" d=\"M137.982 1194.61 Q134.371 1194.61 132.543 1198.17 Q130.737 1201.72 130.737 1208.85 Q130.737 1215.95 132.543 1219.52 Q134.371 1223.06 137.982 1223.06 Q141.617 1223.06 143.422 1219.52 Q145.251 1215.95 145.251 1208.85 Q145.251 1201.72 143.422 1198.17 Q141.617 1194.61 137.982 1194.61 M137.982 1190.91 Q143.793 1190.91 146.848 1195.51 Q149.927 1200.1 149.927 1208.85 Q149.927 1217.57 146.848 1222.18 Q143.793 1226.76 137.982 1226.76 Q132.172 1226.76 129.094 1222.18 Q126.038 1217.57 126.038 1208.85 Q126.038 1200.1 129.094 1195.51 Q132.172 1190.91 137.982 1190.91 Z\" fill=\"#000000\" fill-rule=\"nonzero\" fill-opacity=\"1\" /><path clip-path=\"url(#clip270)\" d=\"M168.144 1194.61 Q164.533 1194.61 162.704 1198.17 Q160.899 1201.72 160.899 1208.85 Q160.899 1215.95 162.704 1219.52 Q164.533 1223.06 168.144 1223.06 Q171.779 1223.06 173.584 1219.52 Q175.413 1215.95 175.413 1208.85 Q175.413 1201.72 173.584 1198.17 Q171.779 1194.61 168.144 1194.61 M168.144 1190.91 Q173.954 1190.91 177.01 1195.51 Q180.089 1200.1 180.089 1208.85 Q180.089 1217.57 177.01 1222.18 Q173.954 1226.76 168.144 1226.76 Q162.334 1226.76 159.255 1222.18 Q156.2 1217.57 156.2 1208.85 Q156.2 1200.1 159.255 1195.51 Q162.334 1190.91 168.144 1190.91 Z\" fill=\"#000000\" fill-rule=\"nonzero\" fill-opacity=\"1\" /><path clip-path=\"url(#clip270)\" d=\"M216.477 1200.63 L205.899 1211.25 L216.477 1221.83 L213.723 1224.63 L203.098 1214.01 L192.473 1224.63 L189.741 1221.83 L200.297 1211.25 L189.741 1200.63 L192.473 1197.83 L203.098 1208.45 L213.723 1197.83 L216.477 1200.63 Z\" fill=\"#000000\" fill-rule=\"nonzero\" fill-opacity=\"1\" /><path clip-path=\"url(#clip270)\" d=\"M228.838 1222.16 L236.477 1222.16 L236.477 1195.79 L228.167 1197.46 L228.167 1193.2 L236.431 1191.53 L241.107 1191.53 L241.107 1222.16 L248.746 1222.16 L248.746 1226.09 L228.838 1226.09 L228.838 1222.16 Z\" fill=\"#000000\" fill-rule=\"nonzero\" fill-opacity=\"1\" /><path clip-path=\"url(#clip270)\" d=\"M268.19 1194.61 Q264.579 1194.61 262.75 1198.17 Q260.945 1201.72 260.945 1208.85 Q260.945 1215.95 262.75 1219.52 Q264.579 1223.06 268.19 1223.06 Q271.824 1223.06 273.63 1219.52 Q275.459 1215.95 275.459 1208.85 Q275.459 1201.72 273.63 1198.17 Q271.824 1194.61 268.19 1194.61 M268.19 1190.91 Q274 1190.91 277.056 1195.51 Q280.134 1200.1 280.134 1208.85 Q280.134 1217.57 277.056 1222.18 Q274 1226.76 268.19 1226.76 Q262.38 1226.76 259.301 1222.18 Q256.246 1217.57 256.246 1208.85 Q256.246 1200.1 259.301 1195.51 Q262.38 1190.91 268.19 1190.91 Z\" fill=\"#000000\" fill-rule=\"nonzero\" fill-opacity=\"1\" /><path clip-path=\"url(#clip270)\" d=\"M292.811 1173.91 L283.219 1188.9 L292.811 1188.9 L292.811 1173.91 M291.814 1170.6 L296.591 1170.6 L296.591 1188.9 L300.597 1188.9 L300.597 1192.06 L296.591 1192.06 L296.591 1198.68 L292.811 1198.68 L292.811 1192.06 L280.134 1192.06 L280.134 1188.39 L291.814 1170.6 Z\" fill=\"#000000\" fill-rule=\"nonzero\" fill-opacity=\"1\" /><path clip-path=\"url(#clip270)\" d=\"M52.6356 948.179 L70.992 948.179 L70.992 952.114 L56.918 952.114 L56.918 960.586 Q57.9365 960.239 58.955 960.077 Q59.9736 959.892 60.9921 959.892 Q66.7791 959.892 70.1587 963.063 Q73.5383 966.234 73.5383 971.651 Q73.5383 977.23 70.0661 980.332 Q66.5939 983.41 60.2745 983.41 Q58.0986 983.41 55.8301 983.04 Q53.5847 982.67 51.1773 981.929 L51.1773 977.23 Q53.2606 978.364 55.4828 978.92 Q57.7051 979.475 60.1819 979.475 Q64.1865 979.475 66.5245 977.369 Q68.8624 975.262 68.8624 971.651 Q68.8624 968.04 66.5245 965.934 Q64.1865 963.827 60.1819 963.827 Q58.3069 963.827 56.4319 964.244 Q54.5801 964.66 52.6356 965.54 L52.6356 948.179 Z\" fill=\"#000000\" fill-rule=\"nonzero\" fill-opacity=\"1\" /><path clip-path=\"url(#clip270)\" d=\"M82.7512 976.859 L87.6354 976.859 L87.6354 982.739 L82.7512 982.739 L82.7512 976.859 Z\" fill=\"#000000\" fill-rule=\"nonzero\" fill-opacity=\"1\" /><path clip-path=\"url(#clip270)\" d=\"M107.821 951.258 Q104.209 951.258 102.381 954.823 Q100.575 958.364 100.575 965.494 Q100.575 972.6 102.381 976.165 Q104.209 979.707 107.821 979.707 Q111.455 979.707 113.26 976.165 Q115.089 972.6 115.089 965.494 Q115.089 958.364 113.26 954.823 Q111.455 951.258 107.821 951.258 M107.821 947.554 Q113.631 947.554 116.686 952.16 Q119.765 956.744 119.765 965.494 Q119.765 974.221 116.686 978.827 Q113.631 983.41 107.821 983.41 Q102.01 983.41 98.9317 978.827 Q95.8761 974.221 95.8761 965.494 Q95.8761 956.744 98.9317 952.16 Q102.01 947.554 107.821 947.554 Z\" fill=\"#000000\" fill-rule=\"nonzero\" fill-opacity=\"1\" /><path clip-path=\"url(#clip270)\" d=\"M137.982 951.258 Q134.371 951.258 132.543 954.823 Q130.737 958.364 130.737 965.494 Q130.737 972.6 132.543 976.165 Q134.371 979.707 137.982 979.707 Q141.617 979.707 143.422 976.165 Q145.251 972.6 145.251 965.494 Q145.251 958.364 143.422 954.823 Q141.617 951.258 137.982 951.258 M137.982 947.554 Q143.793 947.554 146.848 952.16 Q149.927 956.744 149.927 965.494 Q149.927 974.221 146.848 978.827 Q143.793 983.41 137.982 983.41 Q132.172 983.41 129.094 978.827 Q126.038 974.221 126.038 965.494 Q126.038 956.744 129.094 952.16 Q132.172 947.554 137.982 947.554 Z\" fill=\"#000000\" fill-rule=\"nonzero\" fill-opacity=\"1\" /><path clip-path=\"url(#clip270)\" d=\"M168.144 951.258 Q164.533 951.258 162.704 954.823 Q160.899 958.364 160.899 965.494 Q160.899 972.6 162.704 976.165 Q164.533 979.707 168.144 979.707 Q171.779 979.707 173.584 976.165 Q175.413 972.6 175.413 965.494 Q175.413 958.364 173.584 954.823 Q171.779 951.258 168.144 951.258 M168.144 947.554 Q173.954 947.554 177.01 952.16 Q180.089 956.744 180.089 965.494 Q180.089 974.221 177.01 978.827 Q173.954 983.41 168.144 983.41 Q162.334 983.41 159.255 978.827 Q156.2 974.221 156.2 965.494 Q156.2 956.744 159.255 952.16 Q162.334 947.554 168.144 947.554 Z\" fill=\"#000000\" fill-rule=\"nonzero\" fill-opacity=\"1\" /><path clip-path=\"url(#clip270)\" d=\"M216.477 957.276 L205.899 967.901 L216.477 978.48 L213.723 981.281 L203.098 970.656 L192.473 981.281 L189.741 978.48 L200.297 967.901 L189.741 957.276 L192.473 954.475 L203.098 965.1 L213.723 954.475 L216.477 957.276 Z\" fill=\"#000000\" fill-rule=\"nonzero\" fill-opacity=\"1\" /><path clip-path=\"url(#clip270)\" d=\"M228.838 978.804 L236.477 978.804 L236.477 952.438 L228.167 954.105 L228.167 949.846 L236.431 948.179 L241.107 948.179 L241.107 978.804 L248.746 978.804 L248.746 982.739 L228.838 982.739 L228.838 978.804 Z\" fill=\"#000000\" fill-rule=\"nonzero\" fill-opacity=\"1\" /><path clip-path=\"url(#clip270)\" d=\"M268.19 951.258 Q264.579 951.258 262.75 954.823 Q260.945 958.364 260.945 965.494 Q260.945 972.6 262.75 976.165 Q264.579 979.707 268.19 979.707 Q271.824 979.707 273.63 976.165 Q275.459 972.6 275.459 965.494 Q275.459 958.364 273.63 954.823 Q271.824 951.258 268.19 951.258 M268.19 947.554 Q274 947.554 277.056 952.16 Q280.134 956.744 280.134 965.494 Q280.134 974.221 277.056 978.827 Q274 983.41 268.19 983.41 Q262.38 983.41 259.301 978.827 Q256.246 974.221 256.246 965.494 Q256.246 956.744 259.301 952.16 Q262.38 947.554 268.19 947.554 Z\" fill=\"#000000\" fill-rule=\"nonzero\" fill-opacity=\"1\" /><path clip-path=\"url(#clip270)\" d=\"M292.811 930.559 L283.219 945.549 L292.811 945.549 L292.811 930.559 M291.814 927.249 L296.591 927.249 L296.591 945.549 L300.597 945.549 L300.597 948.708 L296.591 948.708 L296.591 955.329 L292.811 955.329 L292.811 948.708 L280.134 948.708 L280.134 945.041 L291.814 927.249 Z\" fill=\"#000000\" fill-rule=\"nonzero\" fill-opacity=\"1\" /><path clip-path=\"url(#clip270)\" d=\"M51.4088 704.827 L73.6309 704.827 L73.6309 706.818 L61.0847 739.387 L56.2004 739.387 L68.0059 708.762 L51.4088 708.762 L51.4088 704.827 Z\" fill=\"#000000\" fill-rule=\"nonzero\" fill-opacity=\"1\" /><path clip-path=\"url(#clip270)\" d=\"M82.7512 733.507 L87.6354 733.507 L87.6354 739.387 L82.7512 739.387 L82.7512 733.507 Z\" fill=\"#000000\" fill-rule=\"nonzero\" fill-opacity=\"1\" /><path clip-path=\"url(#clip270)\" d=\"M97.8669 704.827 L116.223 704.827 L116.223 708.762 L102.149 708.762 L102.149 717.234 Q103.168 716.887 104.186 716.725 Q105.205 716.54 106.223 716.54 Q112.01 716.54 115.39 719.711 Q118.77 722.882 118.77 728.299 Q118.77 733.878 115.297 736.98 Q111.825 740.058 105.506 740.058 Q103.33 740.058 101.061 739.688 Q98.8159 739.317 96.4085 738.577 L96.4085 733.878 Q98.4919 735.012 100.714 735.567 Q102.936 736.123 105.413 736.123 Q109.418 736.123 111.756 734.017 Q114.094 731.91 114.094 728.299 Q114.094 724.688 111.756 722.581 Q109.418 720.475 105.413 720.475 Q103.538 720.475 101.663 720.892 Q99.8113 721.308 97.8669 722.188 L97.8669 704.827 Z\" fill=\"#000000\" fill-rule=\"nonzero\" fill-opacity=\"1\" /><path clip-path=\"url(#clip270)\" d=\"M137.982 707.906 Q134.371 707.906 132.543 711.47 Q130.737 715.012 130.737 722.142 Q130.737 729.248 132.543 732.813 Q134.371 736.355 137.982 736.355 Q141.617 736.355 143.422 732.813 Q145.251 729.248 145.251 722.142 Q145.251 715.012 143.422 711.47 Q141.617 707.906 137.982 707.906 M137.982 704.202 Q143.793 704.202 146.848 708.808 Q149.927 713.392 149.927 722.142 Q149.927 730.868 146.848 735.475 Q143.793 740.058 137.982 740.058 Q132.172 740.058 129.094 735.475 Q126.038 730.868 126.038 722.142 Q126.038 713.392 129.094 708.808 Q132.172 704.202 137.982 704.202 Z\" fill=\"#000000\" fill-rule=\"nonzero\" fill-opacity=\"1\" /><path clip-path=\"url(#clip270)\" d=\"M168.144 707.906 Q164.533 707.906 162.704 711.47 Q160.899 715.012 160.899 722.142 Q160.899 729.248 162.704 732.813 Q164.533 736.355 168.144 736.355 Q171.779 736.355 173.584 732.813 Q175.413 729.248 175.413 722.142 Q175.413 715.012 173.584 711.47 Q171.779 707.906 168.144 707.906 M168.144 704.202 Q173.954 704.202 177.01 708.808 Q180.089 713.392 180.089 722.142 Q180.089 730.868 177.01 735.475 Q173.954 740.058 168.144 740.058 Q162.334 740.058 159.255 735.475 Q156.2 730.868 156.2 722.142 Q156.2 713.392 159.255 708.808 Q162.334 704.202 168.144 704.202 Z\" fill=\"#000000\" fill-rule=\"nonzero\" fill-opacity=\"1\" /><path clip-path=\"url(#clip270)\" d=\"M216.477 713.924 L205.899 724.549 L216.477 735.128 L213.723 737.929 L203.098 727.304 L192.473 737.929 L189.741 735.128 L200.297 724.549 L189.741 713.924 L192.473 711.123 L203.098 721.748 L213.723 711.123 L216.477 713.924 Z\" fill=\"#000000\" fill-rule=\"nonzero\" fill-opacity=\"1\" /><path clip-path=\"url(#clip270)\" d=\"M228.838 735.452 L236.477 735.452 L236.477 709.086 L228.167 710.753 L228.167 706.494 L236.431 704.827 L241.107 704.827 L241.107 735.452 L248.746 735.452 L248.746 739.387 L228.838 739.387 L228.838 735.452 Z\" fill=\"#000000\" fill-rule=\"nonzero\" fill-opacity=\"1\" /><path clip-path=\"url(#clip270)\" d=\"M268.19 707.906 Q264.579 707.906 262.75 711.47 Q260.945 715.012 260.945 722.142 Q260.945 729.248 262.75 732.813 Q264.579 736.355 268.19 736.355 Q271.824 736.355 273.63 732.813 Q275.459 729.248 275.459 722.142 Q275.459 715.012 273.63 711.47 Q271.824 707.906 268.19 707.906 M268.19 704.202 Q274 704.202 277.056 708.808 Q280.134 713.392 280.134 722.142 Q280.134 730.868 277.056 735.475 Q274 740.058 268.19 740.058 Q262.38 740.058 259.301 735.475 Q256.246 730.868 256.246 722.142 Q256.246 713.392 259.301 708.808 Q262.38 704.202 268.19 704.202 Z\" fill=\"#000000\" fill-rule=\"nonzero\" fill-opacity=\"1\" /><path clip-path=\"url(#clip270)\" d=\"M292.811 687.207 L283.219 702.196 L292.811 702.196 L292.811 687.207 M291.814 683.896 L296.591 683.896 L296.591 702.196 L300.597 702.196 L300.597 705.356 L296.591 705.356 L296.591 711.976 L292.811 711.976 L292.811 705.356 L280.134 705.356 L280.134 701.689 L291.814 683.896 Z\" fill=\"#000000\" fill-rule=\"nonzero\" fill-opacity=\"1\" /><path clip-path=\"url(#clip270)\" d=\"M55.6941 492.1 L63.3329 492.1 L63.3329 465.734 L55.0228 467.401 L55.0228 463.141 L63.2866 461.475 L67.9625 461.475 L67.9625 492.1 L75.6014 492.1 L75.6014 496.035 L55.6941 496.035 L55.6941 492.1 Z\" fill=\"#000000\" fill-rule=\"nonzero\" fill-opacity=\"1\" /><path clip-path=\"url(#clip270)\" d=\"M85.0458 490.155 L89.93 490.155 L89.93 496.035 L85.0458 496.035 L85.0458 490.155 Z\" fill=\"#000000\" fill-rule=\"nonzero\" fill-opacity=\"1\" /><path clip-path=\"url(#clip270)\" d=\"M110.115 464.553 Q106.504 464.553 104.675 468.118 Q102.87 471.66 102.87 478.789 Q102.87 485.896 104.675 489.461 Q106.504 493.002 110.115 493.002 Q113.749 493.002 115.555 489.461 Q117.384 485.896 117.384 478.789 Q117.384 471.66 115.555 468.118 Q113.749 464.553 110.115 464.553 M110.115 460.85 Q115.925 460.85 118.981 465.456 Q122.059 470.04 122.059 478.789 Q122.059 487.516 118.981 492.123 Q115.925 496.706 110.115 496.706 Q104.305 496.706 101.226 492.123 Q98.1707 487.516 98.1707 478.789 Q98.1707 470.04 101.226 465.456 Q104.305 460.85 110.115 460.85 Z\" fill=\"#000000\" fill-rule=\"nonzero\" fill-opacity=\"1\" /><path clip-path=\"url(#clip270)\" d=\"M140.277 464.553 Q136.666 464.553 134.837 468.118 Q133.032 471.66 133.032 478.789 Q133.032 485.896 134.837 489.461 Q136.666 493.002 140.277 493.002 Q143.911 493.002 145.717 489.461 Q147.545 485.896 147.545 478.789 Q147.545 471.66 145.717 468.118 Q143.911 464.553 140.277 464.553 M140.277 460.85 Q146.087 460.85 149.143 465.456 Q152.221 470.04 152.221 478.789 Q152.221 487.516 149.143 492.123 Q146.087 496.706 140.277 496.706 Q134.467 496.706 131.388 492.123 Q128.333 487.516 128.333 478.789 Q128.333 470.04 131.388 465.456 Q134.467 460.85 140.277 460.85 Z\" fill=\"#000000\" fill-rule=\"nonzero\" fill-opacity=\"1\" /><path clip-path=\"url(#clip270)\" d=\"M170.439 464.553 Q166.828 464.553 164.999 468.118 Q163.193 471.66 163.193 478.789 Q163.193 485.896 164.999 489.461 Q166.828 493.002 170.439 493.002 Q174.073 493.002 175.879 489.461 Q177.707 485.896 177.707 478.789 Q177.707 471.66 175.879 468.118 Q174.073 464.553 170.439 464.553 M170.439 460.85 Q176.249 460.85 179.305 465.456 Q182.383 470.04 182.383 478.789 Q182.383 487.516 179.305 492.123 Q176.249 496.706 170.439 496.706 Q164.629 496.706 161.55 492.123 Q158.494 487.516 158.494 478.789 Q158.494 470.04 161.55 465.456 Q164.629 460.85 170.439 460.85 Z\" fill=\"#000000\" fill-rule=\"nonzero\" fill-opacity=\"1\" /><path clip-path=\"url(#clip270)\" d=\"M218.772 470.572 L208.193 481.197 L218.772 491.776 L216.017 494.576 L205.392 483.951 L194.767 494.576 L192.036 491.776 L202.591 481.197 L192.036 470.572 L194.767 467.771 L205.392 478.396 L216.017 467.771 L218.772 470.572 Z\" fill=\"#000000\" fill-rule=\"nonzero\" fill-opacity=\"1\" /><path clip-path=\"url(#clip270)\" d=\"M231.133 492.1 L238.772 492.1 L238.772 465.734 L230.462 467.401 L230.462 463.141 L238.725 461.475 L243.401 461.475 L243.401 492.1 L251.04 492.1 L251.04 496.035 L231.133 496.035 L231.133 492.1 Z\" fill=\"#000000\" fill-rule=\"nonzero\" fill-opacity=\"1\" /><path clip-path=\"url(#clip270)\" d=\"M270.485 464.553 Q266.873 464.553 265.045 468.118 Q263.239 471.66 263.239 478.789 Q263.239 485.896 265.045 489.461 Q266.873 493.002 270.485 493.002 Q274.119 493.002 275.924 489.461 Q277.753 485.896 277.753 478.789 Q277.753 471.66 275.924 468.118 Q274.119 464.553 270.485 464.553 M270.485 460.85 Q276.295 460.85 279.35 465.456 Q282.429 470.04 282.429 478.789 Q282.429 487.516 279.35 492.123 Q276.295 496.706 270.485 496.706 Q264.674 496.706 261.596 492.123 Q258.54 487.516 258.54 478.789 Q258.54 470.04 261.596 465.456 Q264.674 460.85 270.485 460.85 Z\" fill=\"#000000\" fill-rule=\"nonzero\" fill-opacity=\"1\" /><path clip-path=\"url(#clip270)\" d=\"M283.614 440.544 L298.528 440.544 L298.528 443.742 L287.093 443.742 L287.093 450.625 Q287.921 450.343 288.748 450.212 Q289.576 450.061 290.403 450.061 Q295.105 450.061 297.851 452.638 Q300.597 455.214 300.597 459.615 Q300.597 464.148 297.776 466.668 Q294.955 469.17 289.82 469.17 Q288.052 469.17 286.209 468.869 Q284.385 468.568 282.429 467.966 L282.429 464.148 Q284.122 465.07 285.927 465.521 Q287.733 465.972 289.745 465.972 Q292.999 465.972 294.899 464.261 Q296.798 462.549 296.798 459.615 Q296.798 456.681 294.899 454.97 Q292.999 453.258 289.745 453.258 Q288.222 453.258 286.698 453.597 Q285.194 453.935 283.614 454.65 L283.614 440.544 Z\" fill=\"#000000\" fill-rule=\"nonzero\" fill-opacity=\"1\" /><path clip-path=\"url(#clip270)\" d=\"M55.6941 248.747 L63.3329 248.747 L63.3329 222.382 L55.0228 224.049 L55.0228 219.789 L63.2866 218.123 L67.9625 218.123 L67.9625 248.747 L75.6014 248.747 L75.6014 252.683 L55.6941 252.683 L55.6941 248.747 Z\" fill=\"#000000\" fill-rule=\"nonzero\" fill-opacity=\"1\" /><path clip-path=\"url(#clip270)\" d=\"M85.0458 246.803 L89.93 246.803 L89.93 252.683 L85.0458 252.683 L85.0458 246.803 Z\" fill=\"#000000\" fill-rule=\"nonzero\" fill-opacity=\"1\" /><path clip-path=\"url(#clip270)\" d=\"M104.143 248.747 L120.462 248.747 L120.462 252.683 L98.5179 252.683 L98.5179 248.747 Q101.18 245.993 105.763 241.363 Q110.37 236.71 111.55 235.368 Q113.796 232.845 114.675 231.109 Q115.578 229.349 115.578 227.66 Q115.578 224.905 113.634 223.169 Q111.712 221.433 108.61 221.433 Q106.411 221.433 103.958 222.197 Q101.527 222.961 98.7494 224.511 L98.7494 219.789 Q101.573 218.655 104.027 218.076 Q106.481 217.498 108.518 217.498 Q113.888 217.498 117.083 220.183 Q120.277 222.868 120.277 227.359 Q120.277 229.488 119.467 231.41 Q118.68 233.308 116.573 235.9 Q115.995 236.572 112.893 239.789 Q109.791 242.984 104.143 248.747 Z\" fill=\"#000000\" fill-rule=\"nonzero\" fill-opacity=\"1\" /><path clip-path=\"url(#clip270)\" d=\"M130.323 218.123 L148.68 218.123 L148.68 222.058 L134.606 222.058 L134.606 230.53 Q135.624 230.183 136.643 230.021 Q137.661 229.836 138.68 229.836 Q144.467 229.836 147.846 233.007 Q151.226 236.178 151.226 241.595 Q151.226 247.173 147.754 250.275 Q144.282 253.354 137.962 253.354 Q135.786 253.354 133.518 252.984 Q131.272 252.613 128.865 251.872 L128.865 247.173 Q130.948 248.308 133.171 248.863 Q135.393 249.419 137.87 249.419 Q141.874 249.419 144.212 247.312 Q146.55 245.206 146.55 241.595 Q146.55 237.984 144.212 235.877 Q141.874 233.771 137.87 233.771 Q135.995 233.771 134.12 234.187 Q132.268 234.604 130.323 235.484 L130.323 218.123 Z\" fill=\"#000000\" fill-rule=\"nonzero\" fill-opacity=\"1\" /><path clip-path=\"url(#clip270)\" d=\"M170.439 221.201 Q166.828 221.201 164.999 224.766 Q163.193 228.308 163.193 235.437 Q163.193 242.544 164.999 246.109 Q166.828 249.65 170.439 249.65 Q174.073 249.65 175.879 246.109 Q177.707 242.544 177.707 235.437 Q177.707 228.308 175.879 224.766 Q174.073 221.201 170.439 221.201 M170.439 217.498 Q176.249 217.498 179.305 222.104 Q182.383 226.687 182.383 235.437 Q182.383 244.164 179.305 248.771 Q176.249 253.354 170.439 253.354 Q164.629 253.354 161.55 248.771 Q158.494 244.164 158.494 235.437 Q158.494 226.687 161.55 222.104 Q164.629 217.498 170.439 217.498 Z\" fill=\"#000000\" fill-rule=\"nonzero\" fill-opacity=\"1\" /><path clip-path=\"url(#clip270)\" d=\"M218.772 227.22 L208.193 237.845 L218.772 248.423 L216.017 251.224 L205.392 240.599 L194.767 251.224 L192.036 248.423 L202.591 237.845 L192.036 227.22 L194.767 224.419 L205.392 235.044 L216.017 224.419 L218.772 227.22 Z\" fill=\"#000000\" fill-rule=\"nonzero\" fill-opacity=\"1\" /><path clip-path=\"url(#clip270)\" d=\"M231.133 248.747 L238.772 248.747 L238.772 222.382 L230.462 224.049 L230.462 219.789 L238.725 218.123 L243.401 218.123 L243.401 248.747 L251.04 248.747 L251.04 252.683 L231.133 252.683 L231.133 248.747 Z\" fill=\"#000000\" fill-rule=\"nonzero\" fill-opacity=\"1\" /><path clip-path=\"url(#clip270)\" d=\"M270.485 221.201 Q266.873 221.201 265.045 224.766 Q263.239 228.308 263.239 235.437 Q263.239 242.544 265.045 246.109 Q266.873 249.65 270.485 249.65 Q274.119 249.65 275.924 246.109 Q277.753 242.544 277.753 235.437 Q277.753 228.308 275.924 224.766 Q274.119 221.201 270.485 221.201 M270.485 217.498 Q276.295 217.498 279.35 222.104 Q282.429 226.687 282.429 235.437 Q282.429 244.164 279.35 248.771 Q276.295 253.354 270.485 253.354 Q264.674 253.354 261.596 248.771 Q258.54 244.164 258.54 235.437 Q258.54 226.687 261.596 222.104 Q264.674 217.498 270.485 217.498 Z\" fill=\"#000000\" fill-rule=\"nonzero\" fill-opacity=\"1\" /><path clip-path=\"url(#clip270)\" d=\"M283.614 197.192 L298.528 197.192 L298.528 200.39 L287.093 200.39 L287.093 207.273 Q287.921 206.991 288.748 206.859 Q289.576 206.709 290.403 206.709 Q295.105 206.709 297.851 209.286 Q300.597 211.862 300.597 216.263 Q300.597 220.796 297.776 223.316 Q294.955 225.818 289.82 225.818 Q288.052 225.818 286.209 225.517 Q284.385 225.216 282.429 224.614 L282.429 220.796 Q284.122 221.718 285.927 222.169 Q287.733 222.62 289.745 222.62 Q292.999 222.62 294.899 220.909 Q296.798 219.197 296.798 216.263 Q296.798 213.329 294.899 211.618 Q292.999 209.906 289.745 209.906 Q288.222 209.906 286.698 210.245 Q285.194 210.583 283.614 211.298 L283.614 197.192 Z\" fill=\"#000000\" fill-rule=\"nonzero\" fill-opacity=\"1\" /><polyline clip-path=\"url(#clip272)\" style=\"stroke:#009af9; stroke-linecap:round; stroke-linejoin:round; stroke-width:4; stroke-opacity:1; fill:none\" points=\"393.658,1445.72 393.658,1445.71 394.509,1445.71 394.509,1445.72 395.36,1445.72 396.211,1445.72 397.062,1445.72 397.913,1445.72 398.765,1445.72 399.616,1445.72 399.616,1445.71 400.467,1445.71 400.467,1445.72 401.318,1445.72 402.169,1445.72 403.02,1445.72 403.871,1445.72 404.722,1445.72 405.573,1445.72 405.573,1445.71 406.424,1445.71 407.275,1445.71 407.275,1445.72 408.126,1445.72 408.977,1445.72 408.977,1445.7 409.828,1445.7 409.828,1445.72 410.679,1445.72 411.53,1445.72 411.53,1445.71 412.381,1445.71 412.381,1445.66 413.232,1445.66 413.232,1445.69 414.083,1445.69 414.083,1445.72 414.934,1445.72 414.934,1445.71 415.785,1445.71 415.785,1445.72 416.636,1445.72 416.636,1445.7 417.487,1445.7 418.338,1445.7 418.338,1445.68 419.189,1445.68 419.189,1445.69 420.04,1445.69 420.04,1445.71 420.891,1445.71 420.891,1445.7 421.742,1445.7 421.742,1445.69 422.593,1445.69 422.593,1445.71 423.444,1445.71 423.444,1445.7 424.295,1445.7 424.295,1445.69 425.146,1445.69 425.146,1445.7 425.997,1445.7 425.997,1445.65 426.848,1445.65 426.848,1445.67 427.699,1445.67 427.699,1445.64 428.55,1445.64 429.401,1445.64 429.401,1445.67 430.252,1445.67 430.252,1445.65 431.103,1445.65 431.103,1445.57 431.954,1445.57 431.954,1445.63 432.805,1445.63 432.805,1445.56 433.656,1445.56 433.656,1445.54 434.507,1445.54 435.358,1445.54 435.358,1445.59 436.21,1445.59 436.21,1445.56 437.061,1445.56 437.061,1445.55 437.912,1445.55 437.912,1445.59 438.763,1445.59 438.763,1445.55 439.614,1445.55 439.614,1445.48 440.465,1445.48 440.465,1445.51 441.316,1445.51 441.316,1445.48 442.167,1445.48 442.167,1445.5 443.018,1445.5 443.018,1445.37 443.869,1445.37 443.869,1445.38 444.72,1445.38 445.571,1445.38 445.571,1445.28 446.422,1445.28 446.422,1445.38 447.273,1445.38 447.273,1445.33 448.124,1445.33 448.124,1445.27 448.975,1445.27 449.826,1445.27 449.826,1445.23 450.677,1445.23 450.677,1445.19 451.528,1445.19 451.528,1444.96 452.379,1444.96 452.379,1445.03 453.23,1445.03 453.23,1444.88 454.081,1444.88 454.081,1445.12 454.932,1445.12 454.932,1444.88 455.783,1444.88 455.783,1444.81 456.634,1444.81 456.634,1444.91 457.485,1444.91 457.485,1444.75 458.336,1444.75 458.336,1444.85 459.187,1444.85 459.187,1444.73 460.038,1444.73 460.038,1444.55 460.889,1444.55 460.889,1444.49 461.74,1444.49 461.74,1444.36 462.591,1444.36 462.591,1444.31 463.442,1444.31 463.442,1444.1 464.293,1444.1 464.293,1444.11 465.144,1444.11 465.144,1444.09 465.995,1444.09 465.995,1443.95 466.846,1443.95 466.846,1443.86 467.697,1443.86 467.697,1443.58 468.548,1443.58 468.548,1443.54 469.399,1443.54 469.399,1443.44 470.25,1443.44 470.25,1443.2 471.101,1443.2 471.101,1442.95 471.952,1442.95 471.952,1443.08 472.804,1443.08 472.804,1442.71 473.655,1442.71 473.655,1442.91 474.506,1442.91 474.506,1442.49 475.357,1442.49 475.357,1442.38 476.208,1442.38 476.208,1442.43 477.059,1442.43 477.059,1442.21 477.91,1442.21 477.91,1441.63 478.761,1441.63 478.761,1441.65 479.612,1441.65 479.612,1441.1 480.463,1441.1 480.463,1441.12 481.314,1441.12 481.314,1441.23 482.165,1441.23 482.165,1440.61 483.016,1440.61 483.016,1440.16 483.867,1440.16 483.867,1439.93 484.718,1439.93 484.718,1439.95 485.569,1439.95 485.569,1439.84 486.42,1439.84 486.42,1439.15 487.271,1439.15 487.271,1438.73 488.122,1438.73 488.122,1438.47 488.973,1438.47 488.973,1437.85 489.824,1437.85 489.824,1438.02 490.675,1438.02 490.675,1437.58 491.526,1437.58 491.526,1436.62 492.377,1436.62 492.377,1436.24 493.228,1436.24 493.228,1435.8 494.079,1435.8 494.079,1435.29 494.93,1435.29 494.93,1435.28 495.781,1435.28 495.781,1434.81 496.632,1434.81 496.632,1434.31 497.483,1434.31 497.483,1433.36 498.334,1433.36 498.334,1434.2 499.185,1434.2 499.185,1432.51 500.036,1432.51 500.036,1432.13 500.887,1432.13 500.887,1431.88 501.738,1431.88 501.738,1430.24 502.589,1430.24 502.589,1430.26 503.44,1430.26 503.44,1428.65 504.291,1428.65 504.291,1428.36 505.142,1428.36 505.142,1427.91 505.993,1427.91 505.993,1426.19 506.844,1426.19 506.844,1425.61 507.695,1425.61 507.695,1426 508.546,1426 508.546,1424.78 509.397,1424.78 509.397,1424.27 510.249,1424.27 510.249,1422.87 511.1,1422.87 511.1,1421.92 511.951,1421.92 511.951,1421.19 512.802,1421.19 512.802,1419.93 513.653,1419.93 513.653,1419.35 514.504,1419.35 514.504,1418.12 515.355,1418.12 515.355,1417.51 516.206,1417.51 516.206,1416.16 517.057,1416.16 517.057,1415.39 517.908,1415.39 517.908,1413.57 518.759,1413.57 518.759,1412.6 519.61,1412.6 519.61,1412.34 520.461,1412.34 520.461,1409.64 521.312,1409.64 521.312,1408.95 522.163,1408.95 522.163,1407.58 523.014,1407.58 523.014,1406.52 523.865,1406.52 523.865,1405.55 524.716,1405.55 524.716,1404.18 525.567,1404.18 525.567,1401.55 526.418,1401.55 526.418,1400.84 527.269,1400.84 527.269,1399.48 528.12,1399.48 528.12,1396.49 528.971,1396.49 528.971,1395.7 529.822,1395.7 529.822,1394.38 530.673,1394.38 530.673,1393.85 531.524,1393.85 531.524,1390.37 532.375,1390.37 532.375,1387.12 533.226,1387.12 533.226,1385.64 534.077,1385.64 534.077,1385.14 534.928,1385.14 534.928,1382.92 535.779,1382.92 535.779,1379.85 536.63,1379.85 536.63,1378.85 537.481,1378.85 537.481,1376.27 538.332,1376.27 538.332,1374.97 539.183,1374.97 539.183,1371.09 540.034,1371.09 540.034,1370.41 540.885,1370.41 540.885,1366.32 541.736,1366.32 541.736,1366.68 542.587,1366.68 542.587,1361.41 543.438,1361.41 543.438,1362.69 544.289,1362.69 544.289,1358.05 545.14,1358.05 545.14,1356.09 545.991,1356.09 545.991,1353.49 546.843,1353.49 546.843,1350.22 547.694,1350.22 547.694,1346.34 548.545,1346.34 548.545,1345.31 549.396,1345.31 549.396,1343.55 550.247,1343.55 550.247,1337.93 551.098,1337.93 551.098,1337.88 551.949,1337.88 551.949,1333.44 552.8,1333.44 552.8,1329.5 553.651,1329.5 553.651,1327.51 554.502,1327.51 554.502,1326.78 555.353,1326.78 555.353,1319.83 556.204,1319.83 556.204,1316.46 557.055,1316.46 557.055,1313.62 557.906,1313.62 557.906,1309.42 558.757,1309.42 558.757,1309.41 559.608,1309.41 559.608,1303.12 560.459,1303.12 560.459,1301.92 561.31,1301.92 561.31,1297.21 562.161,1297.21 562.161,1293.56 563.012,1293.56 563.012,1287.74 563.863,1287.74 563.863,1283.39 564.714,1283.39 564.714,1280.53 565.565,1280.53 565.565,1279.25 566.416,1279.25 566.416,1273.59 567.267,1273.59 567.267,1270.64 568.118,1270.64 568.118,1267.08 568.969,1267.08 568.969,1256.57 569.82,1256.57 569.82,1257.68 570.671,1257.68 570.671,1252.68 571.522,1252.68 571.522,1250.31 572.373,1250.31 572.373,1243.13 573.224,1243.13 573.224,1241.16 574.075,1241.16 574.075,1236.18 574.926,1236.18 574.926,1233.06 575.777,1233.06 575.777,1229.03 576.628,1229.03 576.628,1221.33 577.479,1221.33 577.479,1216.34 578.33,1216.34 578.33,1210.38 579.181,1210.38 579.181,1206.34 580.032,1206.34 580.032,1202.83 580.883,1202.83 580.883,1197.23 581.734,1197.23 581.734,1191.33 582.585,1191.33 582.585,1190.08 583.436,1190.08 583.436,1184.4 584.288,1184.4 584.288,1176.19 585.139,1176.19 585.139,1170.12 585.99,1170.12 585.99,1165.31 586.841,1165.31 586.841,1161.76 587.692,1161.76 587.692,1155.14 588.543,1155.14 588.543,1147.96 589.394,1147.96 589.394,1144.83 590.245,1144.83 590.245,1141.41 591.096,1141.41 591.096,1137.09 591.947,1137.09 591.947,1131.88 592.798,1131.88 592.798,1121.56 593.649,1121.56 593.649,1113.04 594.5,1113.04 594.5,1112.29 595.351,1112.29 595.351,1101.92 596.202,1101.92 596.202,1101.46 597.053,1101.46 597.053,1095.65 597.904,1095.65 597.904,1089.9 598.755,1089.9 598.755,1083.56 599.606,1083.56 599.606,1074.05 600.457,1074.05 600.457,1071.74 601.308,1071.74 601.308,1065.83 602.159,1065.83 602.159,1057.09 603.01,1057.09 603.01,1050.96 603.861,1050.96 603.861,1044.57 604.712,1044.57 604.712,1036.25 605.563,1036.25 605.563,1034.1 606.414,1034.1 606.414,1025.03 607.265,1025.03 607.265,1017.59 608.116,1017.59 608.116,1010.83 608.967,1010.83 608.967,1005.36 609.818,1005.36 609.818,995.758 610.669,995.758 610.669,990.657 611.52,990.657 611.52,985.332 612.371,985.332 612.371,979.511 613.222,979.511 613.222,971.452 614.073,971.452 614.073,963.723 614.924,963.723 614.924,958.972 615.775,958.972 615.775,951.604 616.626,951.604 616.626,940.468 617.477,940.468 617.477,936.078 618.328,936.078 618.328,926.256 619.179,926.256 619.179,922.986 620.03,922.986 620.03,921.146 620.882,921.146 620.882,907.051 621.733,907.051 621.733,900.11 622.584,900.11 622.584,894.533 623.435,894.533 623.435,888.099 624.286,888.099 624.286,883.037 625.137,883.037 625.137,873.05 625.988,873.05 625.988,865.36 626.839,865.36 626.839,855.957 627.69,855.957 627.69,851.518 628.541,851.518 628.541,845.278 629.392,845.278 629.392,830.677 630.243,830.677 630.243,826.521 631.094,826.521 631.094,820.447 631.945,820.447 631.945,817.293 632.796,817.293 632.796,804.152 633.647,804.152 633.647,800.034 634.498,800.034 634.498,789.57 635.349,789.57 635.349,783.808 636.2,783.808 636.2,771.212 637.051,771.212 637.051,766.977 637.902,766.977 637.902,761.935 638.753,761.935 638.753,753.612 639.604,753.612 639.604,747.451 640.455,747.451 640.455,740.861 641.306,740.861 641.306,736.928 642.157,736.928 642.157,724.839 643.008,724.839 643.008,718.511 643.859,718.511 643.859,711.084 644.71,711.084 644.71,701.34 645.561,701.34 645.561,691.918 646.412,691.918 646.412,686.457 647.263,686.457 647.263,677.463 648.114,677.463 648.114,674.581 648.965,674.581 648.965,662.258 649.816,662.258 649.816,653.906 650.667,653.906 650.667,657.946 651.518,657.946 651.518,649.38 652.369,649.38 652.369,635.596 653.22,635.596 653.22,626.661 654.071,626.661 654.071,618.63 654.922,618.63 654.922,614.619 655.773,614.619 655.773,605.645 656.624,605.645 656.624,603.055 657.475,603.055 657.475,585.31 658.327,585.31 658.327,585.524 659.178,585.524 659.178,578.701 660.029,578.701 660.029,572.218 660.88,572.218 660.88,566.884 661.731,566.884 661.731,559.534 662.582,559.534 662.582,547.922 663.433,547.922 663.433,542.899 664.284,542.899 664.284,533.32 665.135,533.32 665.135,530.536 665.986,530.536 665.986,516.967 666.837,516.967 666.837,514.933 667.688,514.933 667.688,496.38 668.539,496.38 668.539,503.047 669.39,503.047 669.39,492.408 670.241,492.408 670.241,482.372 671.092,482.372 671.092,483.229 671.943,483.229 671.943,473.816 672.794,473.816 672.794,462.135 673.645,462.135 673.645,463.108 674.496,463.108 674.496,448.215 675.347,448.215 675.347,440.331 676.198,440.331 676.198,439.464 677.049,439.464 677.049,426.109 677.9,426.109 677.9,418.682 678.751,418.682 678.751,421.106 679.602,421.106 679.602,412.102 680.453,412.102 680.453,407.439 681.304,407.439 681.304,399.72 682.155,399.72 682.155,398.464 683.006,398.464 683.006,390.521 683.857,390.521 683.857,377.439 684.708,377.439 684.708,375.19 685.559,375.19 685.559,373.467 686.41,373.467 686.41,358.623 687.261,358.623 687.261,355.041 688.112,355.041 688.112,355.352 688.963,355.352 688.963,346.708 689.814,346.708 689.814,334.949 690.665,334.949 690.665,336.731 691.516,336.731 691.516,326.374 692.367,326.374 692.367,318.703 693.218,318.703 693.218,319.891 694.069,319.891 694.069,310.643 694.921,310.643 694.921,305.407 695.772,305.407 695.772,298.398 696.623,298.398 696.623,296.383 697.474,296.383 697.474,296.578 698.325,296.578 698.325,285.714 699.176,285.714 699.176,275.513 700.027,275.513 700.027,277.509 700.878,277.509 700.878,269.624 701.729,269.624 701.729,258.148 702.58,258.148 702.58,262.294 703.431,262.294 703.431,255.665 704.282,255.665 704.282,253.796 705.133,253.796 705.133,237.677 705.984,237.677 705.984,243.42 706.835,243.42 706.835,231.953 707.686,231.953 707.686,235.35 708.537,235.35 708.537,225.032 709.388,225.032 709.388,219.338 710.239,219.338 710.239,223.076 711.09,223.076 711.09,215.464 711.941,215.464 711.941,212.456 712.792,212.456 712.792,208.659 713.643,208.659 713.643,205.593 714.494,205.593 714.494,203.16 715.345,203.16 715.345,194.185 716.196,194.185 716.196,193.533 717.047,193.533 717.047,190.778 717.898,190.778 717.898,184.957 718.749,184.957 718.749,180.674 719.6,180.674 719.6,175.797 720.451,175.797 720.451,172.711 721.302,172.711 721.302,172.303 722.153,172.303 722.153,168.438 723.004,168.438 723.004,159.57 723.855,159.57 723.855,159.463 724.706,159.463 724.706,159.035 725.557,159.035 725.557,157.526 726.408,157.526 726.408,150.343 727.259,150.343 727.259,151.18 728.11,151.18 728.11,145.232 728.961,145.232 728.961,148.084 729.812,148.084 729.812,140.949 730.663,140.949 730.663,138.194 731.515,138.194 731.515,135.878 732.366,135.878 732.366,128.869 733.217,128.869 733.217,134.895 734.068,134.895 734.068,129.774 734.919,129.774 734.919,128.129 735.77,128.129 735.77,121.656 736.621,121.656 736.621,124.314 737.472,124.314 737.472,122.25 738.323,122.25 738.323,121.267 739.174,121.267 739.174,120.177 740.025,120.177 740.025,118.415 740.876,118.415 740.876,112.681 741.727,112.681 741.727,111.737 742.578,111.737 742.578,114.901 743.429,114.901 743.429,114.015 744.28,114.015 744.28,106.695 745.131,106.695 745.131,101.293 745.982,101.293 745.982,103.22 746.833,103.22 746.833,110.958 747.684,110.958 747.684,99.8713 748.535,99.8713 748.535,107.688 749.386,107.688 749.386,100.105 750.237,100.105 750.237,103.872 751.088,103.872 751.088,97.5157 751.939,97.5157 751.939,101.536 752.79,101.536 752.79,96.3087 753.641,96.3087 753.641,99.482 754.492,99.482 754.492,100.037 755.343,100.037 755.343,96.3281 756.194,96.3281 756.194,99.4625 757.045,99.4625 757.045,87.9763 757.896,87.9763 757.896,94.7123 758.747,94.7123 758.747,92.9407 759.598,92.9407 759.598,95.4229 760.449,95.4229 760.449,95.053 761.3,95.053 761.3,93.6415 762.151,93.6415 762.151,94.9069 763.002,94.9069 763.002,93.4274 763.853,93.4274 763.853,92.8239 764.704,92.8239 764.704,95.0432 765.555,95.0432 765.555,101.312 766.406,101.312 766.406,94.7317 767.257,94.7317 767.257,101.594 768.108,101.594 768.108,99.2873 768.96,99.2873 768.96,103.979 769.811,103.979 769.811,99.8908 770.662,99.8908 770.662,101.205 771.513,101.205 771.513,106.198 772.364,106.198 772.364,105.001 773.215,105.001 773.215,105.118 774.066,105.118 774.066,109.469 774.917,109.469 774.917,108.71 775.768,108.71 775.768,105.313 776.619,105.313 776.619,117.724 777.47,117.724 777.47,110.968 778.321,110.968 778.321,120.78 779.172,120.78 779.172,116.643 780.023,116.643 780.023,115.787 780.874,115.787 780.874,130.553 781.725,130.553 781.725,119.632 782.576,119.632 782.576,119.816 783.427,119.816 783.427,120.673 784.278,120.673 784.278,126.65 785.129,126.65 785.129,126.903 785.98,126.903 785.98,133.113 786.831,133.113 786.831,132.072 787.682,132.072 787.682,128.295 788.533,128.295 788.533,134.495 789.384,134.495 789.384,131.059 790.235,131.059 790.235,137.727 791.086,137.727 791.086,142.137 791.937,142.137 791.937,144.619 792.788,144.619 792.788,140.132 793.639,140.132 793.639,148.483 794.49,148.483 794.49,149.077 795.341,149.077 795.341,150.946 796.192,150.946 796.192,152.212 797.043,152.212 797.043,155.463 797.894,155.463 797.894,156.767 798.745,156.767 798.745,166.54 799.596,166.54 799.596,163.873 800.447,163.873 800.447,169.217 801.298,169.217 801.298,170.804 802.149,170.804 802.149,171.115 803,171.115 803,174.123 803.851,174.123 803.851,179.525 804.702,179.525 804.702,187.137 805.554,187.137 805.554,185.706 806.405,185.706 806.405,191.956 807.256,191.956 807.256,190.272 808.107,190.272 808.107,196.064 808.958,196.064 808.958,198.429 809.809,198.429 809.809,202.216 810.66,202.216 810.66,202.021 811.511,202.021 811.511,202.722 812.362,202.722 812.362,213.351 813.213,213.351 813.213,212.913 814.064,212.913 814.064,217.78 814.915,217.78 814.915,227.875 815.766,227.875 815.766,223.923 816.617,223.923 816.617,229.072 817.468,229.072 817.468,233.248 818.319,233.248 818.319,238.183 819.17,238.183 819.17,237.443 820.021,237.443 820.021,243.011 820.872,243.011 820.872,249.484 821.723,249.484 821.723,248.121 822.574,248.121 822.574,253.339 823.425,253.339 823.425,254.877 824.276,254.877 824.276,265.098 825.127,265.098 825.127,264.991 825.978,264.991 825.978,263.073 826.829,263.073 826.829,267.667 827.68,267.667 827.68,273.381 828.531,273.381 828.531,280.127 829.382,280.127 829.382,285.13 830.233,285.13 830.233,285.5 831.084,285.5 831.084,290.874 831.935,290.874 831.935,300.793 832.786,300.793 832.786,296.403 833.637,296.403 833.637,304.161 834.488,304.161 834.488,306.516 835.339,306.516 835.339,313.856 836.19,313.856 836.19,315.997 837.041,315.997 837.041,324.33 837.892,324.33 837.892,323.561 838.743,323.561 838.743,330.394 839.594,330.394 839.594,335.534 840.445,335.534 840.445,334.18 841.296,334.18 841.296,337.841 842.147,337.841 842.147,343.983 842.999,343.983 842.999,346.309 843.85,346.309 843.85,357.834 844.701,357.834 844.701,358.817 845.552,358.817 845.552,369.544 846.403,369.544 846.403,374.188 847.254,374.188 847.254,375.463 848.105,375.463 848.105,382.802 848.956,382.802 848.956,383.26 849.807,383.26 849.807,388.36 850.658,388.36 850.658,383.931 851.509,383.931 851.509,401.424 852.36,401.424 852.36,405.483 853.211,405.483 853.211,403.925 854.062,403.925 854.062,409.065 854.913,409.065 854.913,410.778 855.764,410.778 855.764,419.383 856.615,419.383 856.615,420.824 857.466,420.824 857.466,431.366 858.317,431.366 858.317,431.687 859.168,431.687 859.168,439.523 860.019,439.523 860.019,440.448 860.87,440.448 860.87,447.125 861.721,447.125 861.721,449.948 862.572,449.948 862.572,462.145 863.423,462.145 863.423,455.876 864.274,455.876 864.274,463.79 865.125,463.79 865.125,469.212 865.976,469.212 865.976,472.103 866.827,472.103 866.827,480.046 867.678,480.046 867.678,480.649 868.529,480.649 868.529,488.271 869.38,488.271 869.38,492.33 870.231,492.33 870.231,496.263 871.082,496.263 871.082,502.541 871.933,502.541 871.933,503.885 872.784,503.885 872.784,510.085 873.635,510.085 873.635,516.257 874.486,516.257 874.486,519.449 875.337,519.449 875.337,523.499 876.188,523.499 876.188,526.137 877.039,526.137 877.039,534.401 877.89,534.401 877.89,538.149 878.741,538.149 878.741,546.539 879.593,546.539 879.593,545.722 880.444,545.722 880.444,553.635 881.295,553.635 881.295,559.155 882.146,559.155 882.146,563.963 882.997,563.963 882.997,566.28 883.848,566.28 883.848,573.357 884.699,573.357 884.699,583.227 885.55,583.227 885.55,581.767 886.401,581.767 886.401,582.37 887.252,582.37 887.252,592.562 888.103,592.562 888.103,590.567 888.954,590.567 888.954,604.165 889.805,604.165 889.805,604.447 890.656,604.447 890.656,609.616 891.507,609.616 891.507,612.215 892.358,612.215 892.358,612.361 893.209,612.361 893.209,624.996 894.06,624.996 894.06,629.006 894.911,629.006 894.911,634.487 895.762,634.487 895.762,641.378 896.613,641.378 896.613,640.405 897.464,640.405 897.464,651.19 898.315,651.19 898.315,648.611 899.166,648.611 899.166,659.017 900.017,659.017 900.017,659.211 900.868,659.211 900.868,664.857 901.719,664.857 901.719,672.255 902.57,672.255 902.57,671.544 903.421,671.544 903.421,678.826 904.272,678.826 904.272,680.217 905.123,680.217 905.123,684.773 905.974,684.773 905.974,689.971 906.825,689.971 906.825,694.809 907.676,694.809 907.676,700.873 908.527,700.873 908.527,705.341 909.378,705.341 909.378,706.704 910.229,706.704 910.229,713.644 911.08,713.644 911.08,716.156 911.931,716.156 911.931,723.778 912.782,723.778 912.782,730.192 913.633,730.192 913.633,733.317 914.484,733.317 914.484,734.456 915.335,734.456 915.335,745.3 916.186,745.3 916.186,748.57 917.038,748.57 917.038,750.877 917.889,750.877 917.889,748.891 918.74,748.891 918.74,758.285 919.591,758.285 919.591,758.84 920.442,758.84 920.442,765.585 921.293,765.585 921.293,770.034 922.144,770.034 922.144,773.587 922.995,773.587 922.995,777.724 923.846,777.724 923.846,780.887 924.697,780.887 924.697,787.01 925.548,787.01 925.548,793.863 926.399,793.863 926.399,797.28 927.25,797.28 927.25,799.119 928.101,799.119 928.101,803.461 928.952,803.461 928.952,808.25 929.803,808.25 929.803,815.609 930.654,815.609 930.654,823.309 931.505,823.309 931.505,821.294 932.356,821.294 932.356,825.723 933.207,825.723 933.207,829.548 934.058,829.548 934.058,832.332 934.909,832.332 934.909,843.215 935.76,843.215 935.76,840.479 936.611,840.479 936.611,848.5 937.462,848.5 937.462,853.095 938.313,853.095 938.313,856.628 939.164,856.628 939.164,857.699 940.015,857.699 940.015,865.808 940.866,865.808 940.866,869.351 941.717,869.351 941.717,872.446 942.568,872.446 942.568,879.601 943.419,879.601 943.419,880.321 944.27,880.321 944.27,884.984 945.121,884.984 945.121,885.821 945.972,885.821 945.972,891.369 946.823,891.369 946.823,896.11 947.674,896.11 947.674,901.493 948.525,901.493 948.525,904.267 949.376,904.267 949.376,910.584 950.227,910.584 950.227,912.113 951.078,912.113 951.078,913.086 951.929,913.086 951.929,918.537 952.78,918.537 952.78,920.864 953.632,920.864 953.632,923.501 954.483,923.501 954.483,928.758 955.334,928.758 955.334,929.907 956.185,929.907 956.185,932.778 957.036,932.778 957.036,941.899 957.887,941.899 957.887,942.94 958.738,942.94 958.738,953.356 959.589,953.356 959.589,951.263 960.44,951.263 960.44,952.441 961.291,952.441 961.291,958.135 962.142,958.135 962.142,957.882 962.993,957.882 962.993,960.997 963.844,960.997 963.844,970.021 964.695,970.021 964.695,972.552 965.546,972.552 965.546,976.737 966.397,976.737 966.397,976.727 967.248,976.727 967.248,983.989 968.099,983.989 968.099,987.396 968.95,987.396 968.95,988.019 969.801,988.019 969.801,993.441 970.652,993.441 970.652,996.789 971.503,996.789 971.503,999.388 972.354,999.388 972.354,1003.52 973.205,1003.52 973.205,1005.98 974.056,1005.98 974.056,1010.19 974.907,1010.19 974.907,1009.9 975.758,1009.9 975.758,1013.36 976.609,1013.36 976.609,1020.74 977.46,1020.74 977.46,1019.76 978.311,1019.76 978.311,1024.9 979.162,1024.9 979.162,1028.37 980.013,1028.37 980.013,1032.12 980.864,1032.12 980.864,1033.81 981.715,1033.81 981.715,1038.83 982.566,1038.83 982.566,1041.57 983.417,1041.57 983.417,1044.32 984.268,1044.32 984.268,1046.41 985.119,1046.41 985.119,1049.58 985.97,1049.58 985.97,1051.07 986.821,1051.07 986.821,1059.6 987.672,1059.6 987.672,1058.95 988.523,1058.95 988.523,1063.85 989.374,1063.85 989.374,1062.96 990.226,1062.96 990.226,1068.04 991.077,1068.04 991.077,1067.49 991.928,1067.49 991.928,1077.43 992.779,1077.43 992.779,1080.42 993.63,1080.42 993.63,1079.77 994.481,1079.77 994.481,1084.18 995.332,1084.18 995.332,1084.8 996.183,1084.8 996.183,1088.96 997.034,1088.96 997.034,1092.57 997.885,1092.57 997.885,1097.57 998.736,1097.57 998.736,1100.13 999.587,1100.13 999.587,1099.71 1000.44,1099.71 1000.44,1101.4 1001.29,1101.4 1001.29,1106.07 1002.14,1106.07 1002.14,1105.22 1002.99,1105.22 1002.99,1112.99 1003.84,1112.99 1003.84,1118.25 1004.69,1118.25 1004.69,1116.4 1005.54,1116.4 1005.54,1119.44 1006.39,1119.44 1006.39,1123.38 1007.25,1123.38 1007.25,1122.53 1008.1,1122.53 1008.1,1126.01 1008.95,1126.01 1008.95,1129.67 1009.8,1129.67 1009.8,1133.13 1010.65,1133.13 1010.65,1135.65 1011.5,1135.65 1011.5,1137.44 1012.35,1137.44 1012.35,1140.85 1013.2,1140.85 1013.2,1143.71 1014.05,1143.71 1014.05,1146.07 1014.91,1146.07 1014.91,1150.15 1015.76,1150.15 1015.76,1151.06 1016.61,1151.06 1016.61,1151.52 1017.46,1151.52 1017.46,1155.44 1018.31,1155.44 1018.31,1155.94 1019.16,1155.94 1019.16,1161.67 1020.01,1161.67 1020.01,1163.28 1020.86,1163.28 1020.86,1164.59 1021.71,1164.59 1021.71,1168.47 1022.56,1168.47 1022.56,1167.09 1023.42,1167.09 1023.42,1174.95 1024.27,1174.95 1024.27,1175.95 1025.12,1175.95 1025.12,1177.84 1025.97,1177.84 1025.97,1177.41 1026.82,1177.41 1026.82,1180.19 1027.67,1180.19 1027.67,1180.91 1028.52,1180.91 1028.52,1182.71 1029.37,1182.71 1029.37,1188.43 1030.22,1188.43 1030.22,1191.61 1031.07,1191.61 1031.07,1190.26 1031.93,1190.26 1031.93,1194.5 1032.78,1194.5 1032.78,1193.9 1033.63,1193.9 1033.63,1198.17 1034.48,1198.17 1034.48,1198.76 1035.33,1198.76 1035.33,1204.58 1036.18,1204.58 1036.18,1202.57 1037.03,1202.57 1037.03,1204.71 1037.88,1204.71 1037.88,1208.66 1038.73,1208.66 1038.73,1212.08 1039.58,1212.08 1039.58,1211.46 1040.44,1211.46 1040.44,1216.19 1041.29,1216.19 1041.29,1218.42 1042.14,1218.42 1042.14,1218.38 1042.99,1218.38 1042.99,1221.34 1043.84,1221.34 1043.84,1222.3 1044.69,1222.3 1044.69,1224.05 1045.54,1224.05 1045.54,1227.11 1046.39,1227.11 1046.39,1229.94 1047.24,1229.94 1047.24,1232.2 1048.1,1232.2 1048.1,1231.86 1048.95,1231.86 1048.95,1233.57 1049.8,1233.57 1049.8,1233.42 1050.65,1233.42 1050.65,1238.92 1051.5,1238.92 1051.5,1239.35 1052.35,1239.35 1052.35,1240.88 1053.2,1240.88 1053.2,1243.45 1054.05,1243.45 1054.05,1245.31 1054.9,1245.31 1054.9,1247.93 1055.75,1247.93 1055.75,1250.24 1056.61,1250.24 1056.61,1253.51 1057.46,1253.51 1057.46,1249.81 1058.31,1249.81 1058.31,1253.3 1059.16,1253.3 1059.16,1255.55 1060.01,1255.55 1060.01,1255.29 1060.86,1255.29 1060.86,1257.99 1061.71,1257.99 1061.71,1259.45 1062.56,1259.45 1062.56,1260.75 1063.41,1260.75 1063.41,1262.96 1064.26,1262.96 1064.26,1264.38 1065.12,1264.38 1065.12,1268.34 1065.97,1268.34 1065.97,1268.64 1066.82,1268.64 1066.82,1272.08 1067.67,1272.08 1067.67,1271.56 1068.52,1271.56 1068.52,1272.15 1069.37,1272.15 1069.37,1275.67 1070.22,1275.67 1070.22,1276.73 1071.07,1276.73 1071.07,1277.12 1071.92,1277.12 1071.92,1280.04 1072.77,1280.04 1072.77,1283.43 1073.63,1283.43 1073.63,1280.25 1074.48,1280.25 1074.48,1284.46 1075.33,1284.46 1075.33,1285.17 1076.18,1285.17 1076.18,1287.6 1077.03,1287.6 1077.03,1287.92 1077.88,1287.92 1077.88,1289.82 1078.73,1289.82 1078.73,1290.74 1079.58,1290.74 1079.58,1292.57 1080.43,1292.57 1080.43,1293.97 1081.28,1293.97 1081.28,1293.16 1082.14,1293.16 1082.14,1294.87 1082.99,1294.87 1082.99,1299.17 1083.84,1299.17 1083.84,1299.82 1084.69,1299.82 1084.69,1302.55 1085.54,1302.55 1085.54,1302.06 1086.39,1302.06 1086.39,1303.6 1087.24,1303.6 1087.24,1305.23 1088.09,1305.23 1088.09,1306.38 1088.94,1306.38 1088.94,1308.26 1089.8,1308.26 1089.8,1309.47 1090.65,1309.47 1090.65,1309.97 1091.5,1309.97 1091.5,1311.78 1092.35,1311.78 1092.35,1314.67 1093.2,1314.67 1093.2,1313.79 1094.05,1313.79 1094.05,1314.76 1094.9,1314.76 1094.9,1315.92 1095.75,1315.92 1095.75,1318.23 1096.6,1318.23 1096.6,1317.82 1097.45,1317.82 1097.45,1318.7 1098.31,1318.7 1098.31,1322.56 1099.16,1322.56 1099.16,1320.55 1100.01,1320.55 1100.01,1324.27 1100.86,1324.27 1100.86,1322.7 1101.71,1322.7 1101.71,1325.72 1102.56,1325.72 1102.56,1329.3 1103.41,1329.3 1103.41,1328.05 1104.26,1328.05 1104.26,1328.96 1105.11,1328.96 1105.11,1330.32 1105.96,1330.32 1105.96,1332.24 1106.82,1332.24 1106.82,1332.32 1107.67,1332.32 1107.67,1335.16 1108.52,1335.16 1108.52,1336.24 1109.37,1336.24 1109.37,1336.92 1110.22,1336.92 1110.22,1336.03 1111.07,1336.03 1111.07,1335.9 1111.92,1335.9 1111.92,1339.7 1112.77,1339.7 1112.77,1337.59 1113.62,1337.59 1113.62,1341.83 1114.47,1341.83 1114.47,1341.65 1115.33,1341.65 1115.33,1343.24 1116.18,1343.24 1116.18,1345.4 1117.03,1345.4 1117.03,1344.59 1117.88,1344.59 1117.88,1343.91 1118.73,1343.91 1118.73,1345.29 1119.58,1345.29 1119.58,1347.27 1120.43,1347.27 1120.43,1347.81 1121.28,1347.81 1121.28,1348.83 1122.13,1348.83 1122.13,1349.51 1122.99,1349.51 1122.99,1351.62 1123.84,1351.62 1123.84,1352.27 1124.69,1352.27 1124.69,1354.47 1125.54,1354.47 1125.54,1353.53 1126.39,1353.53 1126.39,1354.1 1127.24,1354.1 1127.24,1354.42 1128.09,1354.42 1128.09,1359.12 1128.94,1359.12 1128.94,1356.91 1129.79,1356.91 1129.79,1357.58 1130.64,1357.58 1130.64,1359.68 1131.5,1359.68 1131.5,1360.59 1132.35,1360.59 1132.35,1359.78 1133.2,1359.78 1133.2,1361.21 1134.05,1361.21 1134.05,1363.03 1134.9,1363.03 1134.9,1363.14 1135.75,1363.14 1135.75,1364.21 1136.6,1364.21 1136.6,1365.44 1137.45,1365.44 1137.45,1366.23 1138.3,1366.23 1138.3,1365.87 1139.15,1365.87 1139.15,1368.28 1140.01,1368.28 1140.01,1366.31 1140.86,1366.31 1140.86,1367.05 1141.71,1367.05 1141.71,1370.77 1142.56,1370.77 1142.56,1370.68 1143.41,1370.68 1143.41,1371.19 1144.26,1371.19 1144.26,1371.38 1145.11,1371.38 1145.11,1372.09 1145.96,1372.09 1145.96,1373.45 1146.81,1373.45 1146.81,1375.23 1147.66,1375.23 1147.66,1373.7 1148.52,1373.7 1148.52,1375.03 1149.37,1375.03 1149.37,1376.1 1150.22,1376.1 1150.22,1376.12 1151.07,1376.12 1151.07,1376.41 1151.92,1376.41 1151.92,1378.36 1152.77,1378.36 1152.77,1378.55 1153.62,1378.55 1153.62,1379.36 1154.47,1379.36 1154.47,1378.52 1155.32,1378.52 1155.32,1380.47 1156.17,1380.47 1156.17,1381.03 1157.03,1381.03 1157.03,1382.27 1157.88,1382.27 1157.88,1381.85 1158.73,1381.85 1158.73,1383.34 1159.58,1383.34 1159.58,1382.95 1160.43,1382.95 1160.43,1385.32 1161.28,1385.32 1161.28,1385.07 1162.13,1385.07 1162.13,1385.24 1162.98,1385.24 1162.98,1385.47 1163.83,1385.47 1163.83,1385.38 1164.69,1385.38 1164.69,1387.31 1165.54,1387.31 1165.54,1388.59 1166.39,1388.59 1166.39,1388.49 1167.24,1388.49 1167.24,1389.51 1168.09,1389.51 1168.09,1388.93 1168.94,1388.93 1168.94,1389.73 1169.79,1389.73 1169.79,1391.45 1170.64,1391.45 1170.64,1390.87 1171.49,1390.87 1171.49,1391.79 1172.34,1391.79 1172.34,1392.37 1173.2,1392.37 1173.2,1392.41 1174.05,1392.41 1174.05,1393.15 1174.9,1393.15 1174.9,1393.11 1175.75,1393.11 1175.75,1394.38 1176.6,1394.38 1176.6,1396.08 1177.45,1396.08 1177.45,1395.84 1178.3,1395.84 1178.3,1395.2 1179.15,1395.2 1179.15,1397.02 1180,1397.02 1180,1396.99 1180.85,1396.99 1180.85,1396.93 1181.71,1396.93 1181.71,1396.83 1182.56,1396.83 1182.56,1398.12 1183.41,1398.12 1183.41,1399.21 1184.26,1399.21 1184.26,1399.85 1185.11,1399.85 1185.11,1400.22 1185.96,1400.22 1185.96,1399.8 1186.81,1399.8 1186.81,1401.61 1187.66,1401.61 1187.66,1402.79 1188.51,1402.79 1188.51,1402.3 1189.36,1402.3 1189.36,1402.59 1190.22,1402.59 1190.22,1403.34 1191.07,1403.34 1191.07,1402.38 1191.92,1402.38 1191.92,1403.44 1192.77,1403.44 1192.77,1403.24 1193.62,1403.24 1193.62,1404.13 1194.47,1404.13 1194.47,1404.89 1195.32,1404.89 1195.32,1405.18 1196.17,1405.18 1196.17,1404.96 1197.02,1404.96 1197.02,1406.68 1197.88,1406.68 1197.88,1405.92 1198.73,1405.92 1198.73,1406.15 1199.58,1406.15 1199.58,1408.25 1200.43,1408.25 1200.43,1407.8 1201.28,1407.8 1201.28,1407.93 1202.13,1407.93 1202.13,1408.39 1202.98,1408.39 1202.98,1407.85 1203.83,1407.85 1203.83,1409.44 1204.68,1409.44 1204.68,1408.38 1205.53,1408.38 1205.53,1409.22 1206.39,1409.22 1206.39,1410.69 1207.24,1410.69 1207.24,1411.08 1208.09,1411.08 1208.09,1411.48 1208.94,1411.48 1208.94,1410.71 1209.79,1410.71 1209.79,1410.76 1210.64,1410.76 1210.64,1413.12 1211.49,1413.12 1211.49,1412.51 1212.34,1412.51 1212.34,1412.71 1213.19,1412.71 1213.19,1413.27 1214.04,1413.27 1214.04,1412.92 1214.9,1412.92 1214.9,1414.28 1215.75,1414.28 1215.75,1413.8 1216.6,1413.8 1216.6,1414.32 1217.45,1414.32 1217.45,1414.42 1218.3,1414.42 1218.3,1414.81 1219.15,1414.81 1219.15,1415.46 1220,1415.46 1220,1414.79 1220.85,1414.79 1220.85,1415.79 1221.7,1415.79 1221.7,1416.24 1222.55,1416.24 1222.55,1416.4 1223.41,1416.4 1223.41,1417.22 1224.26,1417.22 1224.26,1417.29 1225.11,1417.29 1225.11,1417.43 1225.96,1417.43 1225.96,1418.13 1226.81,1418.13 1226.81,1418.11 1227.66,1418.11 1227.66,1418.34 1228.51,1418.34 1228.51,1418.45 1229.36,1418.45 1229.36,1419.16 1230.21,1419.16 1230.21,1420.36 1231.07,1420.36 1231.07,1419.52 1231.92,1419.52 1231.92,1419.4 1232.77,1419.4 1232.77,1420.4 1233.62,1420.4 1233.62,1420.16 1234.47,1420.16 1234.47,1420.69 1235.32,1420.69 1235.32,1421.04 1236.17,1421.04 1236.17,1421.11 1237.02,1421.11 1237.02,1421.74 1237.87,1421.74 1237.87,1422.09 1238.72,1422.09 1238.72,1421.62 1239.58,1421.62 1239.58,1421.92 1240.43,1421.92 1240.43,1422.31 1241.28,1422.31 1241.28,1422.49 1242.13,1422.49 1242.13,1423.1 1242.98,1423.1 1242.98,1422.88 1243.83,1422.88 1243.83,1423.98 1244.68,1423.98 1244.68,1423.48 1245.53,1423.48 1245.53,1424.27 1246.38,1424.27 1246.38,1423.78 1247.23,1423.78 1247.23,1423.73 1248.09,1423.73 1248.09,1423.98 1248.94,1423.98 1248.94,1424.98 1249.79,1424.98 1249.79,1425.01 1250.64,1425.01 1250.64,1425.83 1251.49,1425.83 1251.49,1425.66 1252.34,1425.66 1252.34,1425.72 1253.19,1425.72 1253.19,1425.88 1254.04,1425.88 1254.04,1425.95 1254.89,1425.95 1254.89,1425.71 1255.74,1425.71 1255.74,1426.01 1256.6,1426.01 1256.6,1426.46 1257.45,1426.46 1257.45,1427.37 1258.3,1427.37 1258.3,1426.77 1259.15,1426.77 1259.15,1427.04 1260,1427.04 1260,1427.5 1260.85,1427.5 1260.85,1427.69 1261.7,1427.69 1261.7,1428.06 1262.55,1428.06 1262.55,1427.65 1263.4,1427.65 1263.4,1427.56 1264.25,1427.56 1264.25,1428.5 1265.11,1428.5 1265.11,1428.13 1265.96,1428.13 1265.96,1429.25 1266.81,1429.25 1266.81,1428.65 1267.66,1428.65 1267.66,1429.79 1268.51,1429.79 1268.51,1429.31 1269.36,1429.31 1269.36,1429.08 1270.21,1429.08 1270.21,1429.92 1271.06,1429.92 1271.06,1429.27 1271.91,1429.27 1271.91,1429.38 1272.77,1429.38 1272.77,1430.69 1273.62,1430.69 1273.62,1430.51 1274.47,1430.51 1274.47,1430.33 1275.32,1430.33 1275.32,1429.94 1276.17,1429.94 1276.17,1430.29 1277.02,1430.29 1277.02,1430.73 1277.87,1430.73 1277.87,1431.07 1278.72,1431.07 1278.72,1431.85 1279.57,1431.85 1279.57,1431.09 1280.42,1431.09 1280.42,1431.34 1281.28,1431.34 1281.28,1432.15 1282.13,1432.15 1282.13,1430.91 1282.98,1430.91 1282.98,1432.34 1283.83,1432.34 1283.83,1432.06 1284.68,1432.06 1284.68,1432.24 1285.53,1432.24 1285.53,1432.47 1286.38,1432.47 1286.38,1432.28 1287.23,1432.28 1287.23,1433.02 1288.08,1433.02 1288.08,1432.72 1288.93,1432.72 1288.93,1433.03 1289.79,1433.03 1289.79,1433.01 1290.64,1433.01 1290.64,1432.59 1291.49,1432.59 1291.49,1433.2 1292.34,1433.2 1292.34,1433.69 1293.19,1433.69 1293.19,1433.79 1294.04,1433.79 1294.04,1433.22 1294.89,1433.22 1294.89,1433.66 1295.74,1433.66 1295.74,1433.89 1296.59,1433.89 1296.59,1434.24 1297.44,1434.24 1297.44,1434.23 1298.3,1434.23 1298.3,1434.56 1299.15,1434.56 1299.15,1434.23 1300,1434.23 1300,1434.52 1300.85,1434.52 1300.85,1434.85 1301.7,1434.85 1301.7,1434.63 1302.55,1434.63 1302.55,1435.39 1303.4,1435.39 1303.4,1435.21 1304.25,1435.21 1304.25,1434.31 1305.1,1434.31 1305.1,1435.89 1305.96,1435.89 1305.96,1435.23 1306.81,1435.23 1306.81,1435.77 1307.66,1435.77 1307.66,1435.96 1308.51,1435.96 1308.51,1436.37 1309.36,1436.37 1309.36,1436.4 1310.21,1436.4 1310.21,1436.34 1311.06,1436.34 1311.06,1436.18 1311.91,1436.18 1311.91,1436.35 1312.76,1436.35 1312.76,1436.13 1313.61,1436.13 1313.61,1436.76 1314.47,1436.76 1314.47,1436.18 1315.32,1436.18 1315.32,1436.78 1316.17,1436.78 1316.17,1436.49 1317.02,1436.49 1317.02,1436.58 1317.87,1436.58 1317.87,1437.05 1318.72,1437.05 1318.72,1437.25 1319.57,1437.25 1319.57,1437.11 1320.42,1437.11 1320.42,1437.2 1321.27,1437.2 1321.27,1437.34 1322.12,1437.34 1322.12,1437.59 1322.98,1437.59 1322.98,1436.99 1323.83,1436.99 1323.83,1437.51 1324.68,1437.51 1324.68,1437.68 1325.53,1437.68 1325.53,1437.66 1326.38,1437.66 1326.38,1437.35 1327.23,1437.35 1327.23,1438.03 1328.08,1438.03 1328.08,1438.08 1328.93,1438.08 1328.93,1437.77 1329.78,1437.77 1329.78,1437.85 1330.63,1437.85 1330.63,1437.91 1331.49,1437.91 1331.49,1438.55 1332.34,1438.55 1333.19,1438.55 1333.19,1438.34 1334.04,1438.34 1334.04,1438.79 1334.89,1438.79 1334.89,1437.81 1335.74,1437.81 1335.74,1439.07 1336.59,1439.07 1336.59,1438.63 1337.44,1438.63 1337.44,1439.22 1338.29,1439.22 1338.29,1439.2 1339.14,1439.2 1339.14,1439.37 1340,1439.37 1340,1438.55 1340.85,1438.55 1340.85,1438.9 1341.7,1438.9 1341.7,1439.55 1342.55,1439.55 1342.55,1439.44 1343.4,1439.44 1343.4,1439.07 1344.25,1439.07 1344.25,1439.49 1345.1,1439.49 1345.1,1439.62 1345.95,1439.62 1345.95,1439.26 1346.8,1439.26 1346.8,1439.98 1347.66,1439.98 1347.66,1439.65 1348.51,1439.65 1348.51,1439.95 1349.36,1439.95 1349.36,1440.29 1350.21,1440.29 1350.21,1439.78 1351.06,1439.78 1351.06,1440.03 1351.91,1440.03 1351.91,1439.77 1352.76,1439.77 1352.76,1440.04 1353.61,1440.04 1353.61,1440.06 1354.46,1440.06 1354.46,1440.43 1355.31,1440.43 1355.31,1440.56 1356.17,1440.56 1356.17,1440.3 1357.02,1440.3 1357.02,1440.72 1357.87,1440.72 1357.87,1440.33 1358.72,1440.33 1358.72,1440.51 1359.57,1440.51 1359.57,1440.78 1360.42,1440.78 1360.42,1440.26 1361.27,1440.26 1361.27,1441.06 1362.12,1441.06 1362.12,1440.83 1362.97,1440.83 1362.97,1440.97 1363.82,1440.97 1363.82,1440.42 1364.68,1440.42 1364.68,1440.98 1365.53,1440.98 1365.53,1440.58 1366.38,1440.58 1366.38,1440.88 1367.23,1440.88 1367.23,1441 1368.08,1441 1368.08,1440.93 1368.93,1440.93 1368.93,1440.94 1369.78,1440.94 1369.78,1441.02 1370.63,1441.02 1370.63,1441.26 1371.48,1441.26 1371.48,1441.38 1372.33,1441.38 1372.33,1441.07 1373.19,1441.07 1373.19,1441.06 1374.04,1441.06 1374.04,1441.86 1374.89,1441.86 1374.89,1441.52 1375.74,1441.52 1375.74,1441.63 1376.59,1441.63 1376.59,1441.83 1377.44,1441.83 1377.44,1441.62 1378.29,1441.62 1378.29,1441.78 1379.14,1441.78 1379.14,1442.03 1379.99,1442.03 1379.99,1441.74 1380.85,1441.74 1380.85,1441.98 1381.7,1441.98 1381.7,1441.87 1382.55,1441.87 1382.55,1441.62 1383.4,1441.62 1383.4,1442.05 1384.25,1442.05 1384.25,1442.39 1385.1,1442.39 1385.1,1442.05 1385.95,1442.05 1385.95,1441.9 1386.8,1441.9 1386.8,1442.28 1387.65,1442.28 1387.65,1442.24 1388.5,1442.24 1388.5,1442.23 1389.36,1442.23 1389.36,1442.37 1390.21,1442.37 1390.21,1442.04 1391.06,1442.04 1391.06,1442.13 1391.91,1442.13 1391.91,1442.47 1392.76,1442.47 1392.76,1442.37 1393.61,1442.37 1393.61,1442.34 1394.46,1442.34 1394.46,1442.6 1395.31,1442.6 1395.31,1442.08 1396.16,1442.08 1396.16,1442.45 1397.01,1442.45 1397.01,1442.46 1397.87,1442.46 1397.87,1442.52 1398.72,1442.52 1398.72,1442.57 1399.57,1442.57 1399.57,1442.46 1400.42,1442.46 1400.42,1442.72 1401.27,1442.72 1401.27,1442.54 1402.12,1442.54 1402.12,1442.69 1402.97,1442.69 1402.97,1443.03 1403.82,1443.03 1403.82,1442.81 1404.67,1442.81 1404.67,1442.82 1405.52,1442.82 1405.52,1443.04 1406.38,1443.04 1406.38,1442.8 1407.23,1442.8 1407.23,1443.05 1408.08,1443.05 1408.08,1443.06 1408.93,1443.06 1408.93,1443.22 1409.78,1443.22 1409.78,1442.98 1410.63,1442.98 1410.63,1443.04 1411.48,1443.04 1411.48,1442.9 1412.33,1442.9 1412.33,1443.2 1413.18,1443.2 1413.18,1442.96 1414.03,1442.96 1414.03,1443.14 1414.89,1443.14 1414.89,1443.12 1415.74,1443.12 1415.74,1443.27 1416.59,1443.27 1416.59,1443.42 1417.44,1443.42 1417.44,1443.46 1418.29,1443.46 1418.29,1443.53 1419.14,1443.53 1419.14,1443.03 1419.99,1443.03 1419.99,1443.2 1420.84,1443.2 1420.84,1443.81 1421.69,1443.81 1421.69,1443.34 1422.55,1443.34 1422.55,1443.53 1423.4,1443.53 1423.4,1443.76 1424.25,1443.76 1424.25,1443.39 1425.1,1443.39 1425.1,1443.51 1425.95,1443.51 1425.95,1443.5 1426.8,1443.5 1426.8,1443.62 1427.65,1443.62 1427.65,1443.49 1428.5,1443.49 1429.35,1443.49 1429.35,1443.53 1430.2,1443.53 1430.2,1443.76 1431.06,1443.76 1431.06,1443.52 1431.91,1443.52 1431.91,1443.78 1432.76,1443.78 1432.76,1443.53 1433.61,1443.53 1433.61,1443.78 1434.46,1443.78 1434.46,1443.69 1435.31,1443.69 1435.31,1444.04 1436.16,1444.04 1436.16,1443.91 1437.01,1443.91 1437.86,1443.91 1437.86,1443.87 1438.71,1443.87 1438.71,1443.82 1439.57,1443.82 1439.57,1443.77 1440.42,1443.77 1440.42,1444.07 1441.27,1444.07 1441.27,1444.14 1442.12,1444.14 1442.12,1443.93 1442.97,1443.93 1442.97,1443.97 1443.82,1443.97 1443.82,1443.9 1444.67,1443.9 1444.67,1444.09 1445.52,1444.09 1445.52,1444.02 1446.37,1444.02 1446.37,1444.26 1447.22,1444.26 1447.22,1444.21 1448.08,1444.21 1448.08,1444.13 1448.93,1444.13 1448.93,1444.05 1449.78,1444.05 1449.78,1443.91 1450.63,1443.91 1450.63,1444.03 1451.48,1444.03 1451.48,1444.1 1452.33,1444.1 1452.33,1444.19 1453.18,1444.19 1453.18,1444.27 1454.03,1444.27 1454.03,1444.4 1454.88,1444.4 1454.88,1443.96 1455.74,1443.96 1455.74,1444.48 1456.59,1444.48 1456.59,1444.29 1457.44,1444.29 1458.29,1444.29 1458.29,1444.36 1459.14,1444.36 1459.14,1444.16 1459.99,1444.16 1459.99,1444.24 1460.84,1444.24 1460.84,1444.23 1461.69,1444.23 1461.69,1444.48 1462.54,1444.48 1462.54,1444.16 1463.39,1444.16 1463.39,1444.47 1464.25,1444.47 1464.25,1444.55 1465.1,1444.55 1465.1,1444.46 1465.95,1444.46 1465.95,1444.36 1466.8,1444.36 1466.8,1444.26 1467.65,1444.26 1467.65,1444.1 1468.5,1444.1 1468.5,1444.39 1469.35,1444.39 1469.35,1444.52 1470.2,1444.52 1470.2,1444.39 1471.05,1444.39 1471.05,1444.5 1471.9,1444.5 1471.9,1444.49 1472.76,1444.49 1472.76,1444.63 1473.61,1444.63 1473.61,1444.38 1474.46,1444.38 1474.46,1444.36 1475.31,1444.36 1475.31,1444.41 1476.16,1444.41 1476.16,1444.61 1477.01,1444.61 1477.01,1444.63 1477.86,1444.63 1477.86,1444.49 1478.71,1444.49 1478.71,1444.73 1479.56,1444.73 1479.56,1444.82 1480.41,1444.82 1480.41,1444.68 1481.27,1444.68 1481.27,1444.7 1482.12,1444.7 1482.12,1444.81 1482.97,1444.81 1482.97,1444.56 1483.82,1444.56 1483.82,1444.6 1484.67,1444.6 1484.67,1444.66 1485.52,1444.66 1485.52,1444.86 1486.37,1444.86 1486.37,1444.77 1487.22,1444.77 1487.22,1444.67 1488.07,1444.67 1488.07,1444.68 1488.92,1444.68 1488.92,1444.96 1489.78,1444.96 1489.78,1444.64 1490.63,1444.64 1490.63,1444.86 1491.48,1444.86 1491.48,1444.84 1492.33,1444.84 1492.33,1444.81 1493.18,1444.81 1493.18,1444.83 1494.03,1444.83 1494.03,1444.61 1494.88,1444.61 1494.88,1444.89 1495.73,1444.89 1495.73,1444.88 1496.58,1444.88 1496.58,1444.93 1497.44,1444.93 1497.44,1444.99 1498.29,1444.99 1498.29,1444.88 1499.14,1444.88 1499.14,1444.89 1499.99,1444.89 1499.99,1444.86 1500.84,1444.86 1500.84,1444.88 1501.69,1444.88 1501.69,1444.91 1502.54,1444.91 1502.54,1444.95 1503.39,1444.95 1503.39,1444.83 1504.24,1444.83 1504.24,1444.99 1505.09,1444.99 1505.09,1445.01 1505.95,1445.01 1505.95,1444.93 1506.8,1444.93 1506.8,1444.88 1507.65,1444.88 1507.65,1444.95 1508.5,1444.95 1508.5,1445.03 1509.35,1445.03 1509.35,1445.02 1510.2,1445.02 1510.2,1445 1511.05,1445 1511.05,1445.08 1511.9,1445.08 1511.9,1445.07 1512.75,1445.07 1512.75,1445.02 1513.6,1445.02 1513.6,1445.16 1514.46,1445.16 1514.46,1445.02 1515.31,1445.02 1516.16,1445.02 1516.16,1445.08 1517.01,1445.08 1517.01,1445.18 1517.86,1445.18 1517.86,1445.09 1518.71,1445.09 1518.71,1445.02 1519.56,1445.02 1519.56,1445.17 1520.41,1445.17 1520.41,1445.09 1521.26,1445.09 1521.26,1445.12 1522.11,1445.12 1522.11,1445.23 1522.97,1445.23 1522.97,1445.13 1523.82,1445.13 1523.82,1445.1 1524.67,1445.1 1524.67,1445.2 1525.52,1445.2 1525.52,1445.16 1526.37,1445.16 1526.37,1445.14 1527.22,1445.14 1527.22,1445.06 1528.07,1445.06 1528.07,1445.14 1528.92,1445.14 1528.92,1445.19 1529.77,1445.19 1529.77,1445.17 1530.63,1445.17 1530.63,1445.04 1531.48,1445.04 1531.48,1445.16 1532.33,1445.16 1532.33,1445.21 1533.18,1445.21 1533.18,1445.29 1534.03,1445.29 1534.03,1445.23 1534.88,1445.23 1534.88,1445.18 1535.73,1445.18 1535.73,1445.22 1536.58,1445.22 1536.58,1445.09 1537.43,1445.09 1537.43,1445.2 1538.28,1445.2 1539.14,1445.2 1539.14,1445.15 1539.99,1445.15 1539.99,1445.31 1540.84,1445.31 1540.84,1445.11 1541.69,1445.11 1541.69,1445.21 1542.54,1445.21 1542.54,1445.27 1543.39,1445.27 1543.39,1445.23 1544.24,1445.23 1544.24,1445.37 1545.09,1445.37 1545.09,1445.34 1545.94,1445.34 1545.94,1445.17 1546.79,1445.17 1546.79,1445.3 1547.65,1445.3 1547.65,1445.34 1548.5,1445.34 1548.5,1445.24 1549.35,1445.24 1549.35,1445.37 1550.2,1445.37 1550.2,1445.27 1551.05,1445.27 1551.05,1445.31 1551.9,1445.31 1551.9,1445.29 1552.75,1445.29 1552.75,1445.27 1553.6,1445.27 1553.6,1445.3 1554.45,1445.3 1554.45,1445.32 1555.3,1445.32 1555.3,1445.33 1556.16,1445.33 1556.16,1445.37 1557.01,1445.37 1557.01,1445.29 1557.86,1445.29 1557.86,1445.32 1558.71,1445.32 1558.71,1445.33 1559.56,1445.33 1559.56,1445.29 1560.41,1445.29 1560.41,1445.28 1561.26,1445.28 1561.26,1445.32 1562.11,1445.32 1562.11,1445.4 1562.96,1445.4 1562.96,1445.37 1563.82,1445.37 1563.82,1445.37 1564.67,1445.37 1564.67,1445.3 1565.52,1445.3 1565.52,1445.44 1566.37,1445.44 1566.37,1445.37 1567.22,1445.37 1567.22,1445.39 1568.07,1445.39 1568.07,1445.32 1568.92,1445.32 1568.92,1445.39 1569.77,1445.39 1569.77,1445.45 1570.62,1445.45 1570.62,1445.41 1571.47,1445.41 1571.47,1445.46 1572.33,1445.46 1572.33,1445.39 1573.18,1445.39 1574.03,1445.39 1574.03,1445.3 1574.88,1445.3 1574.88,1445.43 1575.73,1445.43 1575.73,1445.44 1576.58,1445.44 1576.58,1445.5 1577.43,1445.5 1577.43,1445.43 1578.28,1445.43 1578.28,1445.47 1579.13,1445.47 1579.13,1445.41 1579.98,1445.41 1579.98,1445.43 1580.84,1445.43 1580.84,1445.4 1581.69,1445.4 1581.69,1445.44 1582.54,1445.44 1582.54,1445.48 1583.39,1445.48 1583.39,1445.38 1584.24,1445.38 1584.24,1445.5 1585.09,1445.5 1585.09,1445.44 1585.94,1445.44 1585.94,1445.41 1586.79,1445.41 1586.79,1445.48 1587.64,1445.48 1587.64,1445.53 1588.49,1445.53 1588.49,1445.41 1589.35,1445.41 1589.35,1445.45 1590.2,1445.45 1590.2,1445.32 1591.05,1445.32 1591.05,1445.48 1591.9,1445.48 1591.9,1445.54 1592.75,1445.54 1592.75,1445.53 1593.6,1445.53 1593.6,1445.41 1594.45,1445.41 1594.45,1445.5 1595.3,1445.5 1595.3,1445.42 1596.15,1445.42 1596.15,1445.46 1597,1445.46 1597,1445.56 1597.86,1445.56 1597.86,1445.51 1598.71,1445.51 1598.71,1445.53 1599.56,1445.53 1599.56,1445.5 1600.41,1445.5 1601.26,1445.5 1601.26,1445.51 1602.11,1445.51 1602.11,1445.53 1602.96,1445.53 1603.81,1445.53 1603.81,1445.46 1604.66,1445.46 1604.66,1445.47 1605.52,1445.47 1605.52,1445.52 1606.37,1445.52 1606.37,1445.6 1607.22,1445.6 1607.22,1445.55 1608.07,1445.55 1608.07,1445.5 1608.92,1445.5 1608.92,1445.49 1609.77,1445.49 1609.77,1445.42 1610.62,1445.42 1610.62,1445.52 1611.47,1445.52 1611.47,1445.56 1612.32,1445.56 1612.32,1445.5 1613.17,1445.5 1613.17,1445.49 1614.03,1445.49 1614.88,1445.49 1614.88,1445.53 1615.73,1445.53 1615.73,1445.5 1616.58,1445.5 1617.43,1445.5 1617.43,1445.56 1618.28,1445.56 1618.28,1445.55 1619.13,1445.55 1619.13,1445.53 1619.98,1445.53 1619.98,1445.52 1620.83,1445.52 1620.83,1445.64 1621.68,1445.64 1621.68,1445.54 1622.54,1445.54 1622.54,1445.53 1623.39,1445.53 1623.39,1445.52 1624.24,1445.52 1624.24,1445.62 1625.09,1445.62 1625.09,1445.56 1625.94,1445.56 1625.94,1445.58 1626.79,1445.58 1626.79,1445.56 1627.64,1445.56 1628.49,1445.56 1628.49,1445.65 1629.34,1445.65 1629.34,1445.58 1630.19,1445.58 1630.19,1445.56 1631.05,1445.56 1631.05,1445.6 1631.9,1445.6 1631.9,1445.53 1632.75,1445.53 1632.75,1445.58 1633.6,1445.58 1634.45,1445.58 1634.45,1445.52 1635.3,1445.52 1635.3,1445.51 1636.15,1445.51 1636.15,1445.65 1637,1445.65 1637.85,1445.65 1637.85,1445.59 1638.71,1445.59 1638.71,1445.56 1639.56,1445.56 1640.41,1445.56 1640.41,1445.57 1641.26,1445.57 1641.26,1445.56 1642.11,1445.56 1642.11,1445.58 1642.96,1445.58 1642.96,1445.6 1643.81,1445.6 1644.66,1445.6 1644.66,1445.59 1645.51,1445.59 1645.51,1445.66 1646.36,1445.66 1646.36,1445.58 1647.22,1445.58 1647.22,1445.63 1648.07,1445.63 1648.07,1445.59 1648.92,1445.59 1648.92,1445.62 1649.77,1445.62 1649.77,1445.57 1650.62,1445.57 1650.62,1445.64 1651.47,1445.64 1651.47,1445.58 1652.32,1445.58 1652.32,1445.65 1653.17,1445.65 1653.17,1445.63 1654.02,1445.63 1654.02,1445.59 1654.87,1445.59 1654.87,1445.54 1655.73,1445.54 1655.73,1445.58 1656.58,1445.58 1656.58,1445.62 1657.43,1445.62 1657.43,1445.65 1658.28,1445.65 1658.28,1445.61 1659.13,1445.61 1659.98,1445.61 1659.98,1445.62 1660.83,1445.62 1661.68,1445.62 1661.68,1445.57 1662.53,1445.57 1662.53,1445.63 1663.38,1445.63 1663.38,1445.6 1664.24,1445.6 1664.24,1445.62 1665.09,1445.62 1665.09,1445.63 1665.94,1445.63 1665.94,1445.6 1666.79,1445.6 1666.79,1445.66 1667.64,1445.66 1668.49,1445.66 1668.49,1445.67 1669.34,1445.67 1669.34,1445.65 1670.19,1445.65 1670.19,1445.61 1671.04,1445.61 1671.89,1445.61 1672.75,1445.61 1672.75,1445.64 1673.6,1445.64 1673.6,1445.6 1674.45,1445.6 1674.45,1445.64 1675.3,1445.64 1675.3,1445.65 1676.15,1445.65 1676.15,1445.61 1677,1445.61 1677,1445.67 1677.85,1445.67 1677.85,1445.66 1678.7,1445.66 1679.55,1445.66 1679.55,1445.65 1680.41,1445.65 1680.41,1445.68 1681.26,1445.68 1681.26,1445.64 1682.11,1445.64 1682.11,1445.58 1682.96,1445.58 1682.96,1445.61 1683.81,1445.61 1683.81,1445.64 1684.66,1445.64 1684.66,1445.66 1685.51,1445.66 1685.51,1445.63 1686.36,1445.63 1686.36,1445.65 1687.21,1445.65 1687.21,1445.63 1688.06,1445.63 1688.06,1445.69 1688.92,1445.69 1688.92,1445.64 1689.77,1445.64 1689.77,1445.7 1690.62,1445.7 1690.62,1445.69 1691.47,1445.69 1691.47,1445.68 1692.32,1445.68 1692.32,1445.67 1693.17,1445.67 1694.02,1445.67 1694.02,1445.68 1694.87,1445.68 1694.87,1445.61 1695.72,1445.61 1695.72,1445.67 1696.57,1445.67 1696.57,1445.63 1697.43,1445.63 1697.43,1445.67 1698.28,1445.67 1698.28,1445.61 1699.13,1445.61 1699.13,1445.68 1699.98,1445.68 1699.98,1445.63 1700.83,1445.63 1700.83,1445.64 1701.68,1445.64 1701.68,1445.63 1702.53,1445.63 1702.53,1445.62 1703.38,1445.62 1703.38,1445.67 1704.23,1445.67 1704.23,1445.68 1705.08,1445.68 1705.94,1445.68 1705.94,1445.69 1706.79,1445.69 1706.79,1445.67 1707.64,1445.67 1707.64,1445.69 1708.49,1445.69 1709.34,1445.69 1709.34,1445.68 1710.19,1445.68 1710.19,1445.64 1711.04,1445.64 1711.04,1445.66 1711.89,1445.66 1711.89,1445.65 1712.74,1445.65 1712.74,1445.66 1713.6,1445.66 1713.6,1445.65 1714.45,1445.65 1714.45,1445.67 1715.3,1445.67 1715.3,1445.68 1716.15,1445.68 1716.15,1445.69 1717,1445.69 1717.85,1445.69 1717.85,1445.67 1718.7,1445.67 1718.7,1445.64 1719.55,1445.64 1719.55,1445.7 1720.4,1445.7 1720.4,1445.69 1721.25,1445.69 1721.25,1445.68 1722.11,1445.68 1722.11,1445.66 1722.96,1445.66 1722.96,1445.68 1723.81,1445.68 1723.81,1445.66 1724.66,1445.66 1725.51,1445.66 1725.51,1445.68 1726.36,1445.68 1726.36,1445.71 1727.21,1445.71 1727.21,1445.7 1728.06,1445.7 1728.06,1445.67 1728.91,1445.67 1728.91,1445.7 1729.76,1445.7 1729.76,1445.65 1730.62,1445.65 1730.62,1445.69 1731.47,1445.69 1731.47,1445.71 1732.32,1445.71 1733.17,1445.71 1733.17,1445.7 1734.02,1445.7 1734.02,1445.68 1734.87,1445.68 1734.87,1445.67 1735.72,1445.67 1735.72,1445.68 1736.57,1445.68 1736.57,1445.69 1737.42,1445.69 1738.27,1445.69 1739.13,1445.69 1739.13,1445.7 1739.98,1445.7 1740.83,1445.7 1740.83,1445.69 1741.68,1445.69 1742.53,1445.69 1742.53,1445.68 1743.38,1445.68 1743.38,1445.67 1744.23,1445.67 1744.23,1445.7 1745.08,1445.7 1745.08,1445.66 1745.93,1445.66 1745.93,1445.67 1746.78,1445.67 1746.78,1445.66 1747.64,1445.66 1747.64,1445.7 1748.49,1445.7 1748.49,1445.67 1749.34,1445.67 1749.34,1445.68 1750.19,1445.68 1750.19,1445.71 1751.04,1445.71 1751.04,1445.66 1751.89,1445.66 1751.89,1445.69 1752.74,1445.69 1752.74,1445.71 1753.59,1445.71 1753.59,1445.68 1754.44,1445.68 1754.44,1445.69 1755.3,1445.69 1755.3,1445.64 1756.15,1445.64 1756.15,1445.69 1757,1445.69 1757.85,1445.69 1757.85,1445.66 1758.7,1445.66 1758.7,1445.68 1759.55,1445.68 1759.55,1445.67 1760.4,1445.67 1760.4,1445.68 1761.25,1445.68 1762.1,1445.68 1762.1,1445.7 1762.95,1445.7 1762.95,1445.72 1763.81,1445.72 1763.81,1445.71 1764.66,1445.71 1765.51,1445.71 1765.51,1445.68 1766.36,1445.68 1766.36,1445.7 1767.21,1445.7 1767.21,1445.71 1768.06,1445.71 1768.91,1445.71 1768.91,1445.7 1769.76,1445.7 1769.76,1445.68 1770.61,1445.68 1770.61,1445.65 1771.46,1445.65 1771.46,1445.69 1772.32,1445.69 1772.32,1445.7 1773.17,1445.7 1773.17,1445.71 1774.02,1445.71 1774.02,1445.68 1774.87,1445.68 1774.87,1445.7 1775.72,1445.7 1775.72,1445.68 1776.57,1445.68 1776.57,1445.69 1777.42,1445.69 1777.42,1445.72 1778.27,1445.72 1778.27,1445.7 1779.12,1445.7 1779.12,1445.71 1779.97,1445.71 1779.97,1445.69 1780.83,1445.69 1780.83,1445.71 1781.68,1445.71 1781.68,1445.69 1782.53,1445.69 1782.53,1445.7 1783.38,1445.7 1783.38,1445.68 1784.23,1445.68 1784.23,1445.7 1785.08,1445.7 1785.08,1445.69 1785.93,1445.69 1785.93,1445.72 1786.78,1445.72 1786.78,1445.71 1787.63,1445.71 1787.63,1445.67 1788.49,1445.67 1788.49,1445.71 1789.34,1445.71 1790.19,1445.71 1790.19,1445.69 1791.04,1445.69 1791.04,1445.71 1791.89,1445.71 1792.74,1445.71 1792.74,1445.69 1793.59,1445.69 1793.59,1445.71 1794.44,1445.71 1794.44,1445.69 1795.29,1445.69 1795.29,1445.72 1796.14,1445.72 1796.14,1445.7 1797,1445.7 1797,1445.71 1797.85,1445.71 1797.85,1445.68 1798.7,1445.68 1798.7,1445.69 1799.55,1445.69 1800.4,1445.69 1800.4,1445.71 1801.25,1445.71 1801.25,1445.7 1802.1,1445.7 1802.95,1445.7 1802.95,1445.72 1803.8,1445.72 1804.65,1445.72 1804.65,1445.7 1805.51,1445.7 1806.36,1445.7 1806.36,1445.72 1807.21,1445.72 1807.21,1445.71 1808.06,1445.71 1808.06,1445.7 1808.91,1445.7 1808.91,1445.72 1809.76,1445.72 1809.76,1445.71 1810.61,1445.71 1811.46,1445.71 1812.31,1445.71 1812.31,1445.7 1813.16,1445.7 1813.16,1445.71 1814.02,1445.71 1814.02,1445.7 1814.87,1445.7 1815.72,1445.7 1815.72,1445.72 1816.57,1445.72 1816.57,1445.7 1817.42,1445.7 1818.27,1445.7 1818.27,1445.71 1819.12,1445.71 1819.12,1445.7 1819.97,1445.7 1819.97,1445.72 1820.82,1445.72 1820.82,1445.71 1821.67,1445.71 1821.67,1445.7 1822.53,1445.7 1822.53,1445.72 1823.38,1445.72 1823.38,1445.71 1824.23,1445.71 1824.23,1445.7 1825.08,1445.7 1825.93,1445.7 1825.93,1445.72 1826.78,1445.72 1826.78,1445.71 1827.63,1445.71 1827.63,1445.72 1828.48,1445.72 1828.48,1445.7 1829.33,1445.7 1829.33,1445.72 1830.19,1445.72 1831.04,1445.72 1831.04,1445.71 1831.89,1445.71 1831.89,1445.72 1832.74,1445.72 1833.59,1445.72 1833.59,1445.7 1834.44,1445.7 1834.44,1445.69 1835.29,1445.69 1835.29,1445.71 1836.14,1445.71 1836.99,1445.71 1837.84,1445.71 1837.84,1445.69 1838.7,1445.69 1838.7,1445.72 1839.55,1445.72 1839.55,1445.71 1840.4,1445.71 1840.4,1445.7 1841.25,1445.7 1842.1,1445.7 1842.1,1445.71 1842.95,1445.71 1843.8,1445.71 1844.65,1445.71 1844.65,1445.72 1845.5,1445.72 1846.35,1445.72 1846.35,1445.71 1847.21,1445.71 1848.06,1445.71 1848.06,1445.72 1848.91,1445.72 1848.91,1445.7 1849.76,1445.7 1849.76,1445.72 1850.61,1445.72 1851.46,1445.72 1852.31,1445.72 1852.31,1445.71 1853.16,1445.71 1854.01,1445.71 1854.01,1445.72 1854.86,1445.72 1855.72,1445.72 1855.72,1445.71 1856.57,1445.71 1857.42,1445.71 1857.42,1445.72 1858.27,1445.72 1858.27,1445.71 1859.12,1445.71 1859.12,1445.72 1859.97,1445.72 1860.82,1445.72 1860.82,1445.71 1861.67,1445.71 1861.67,1445.72 1862.52,1445.72 1863.38,1445.72 1863.38,1445.71 1864.23,1445.71 1865.08,1445.71 1865.08,1445.72 1865.93,1445.72 1866.78,1445.72 1866.78,1445.71 1867.63,1445.71 1867.63,1445.72 1868.48,1445.72 1869.33,1445.72 1870.18,1445.72 1871.03,1445.72 1871.03,1445.7 1871.89,1445.7 1871.89,1445.71 1872.74,1445.71 1872.74,1445.72 1873.59,1445.72 1873.59,1445.71 1874.44,1445.71 1874.44,1445.72 1875.29,1445.72 1876.14,1445.72 1876.14,1445.71 1876.99,1445.71 1876.99,1445.7 1877.84,1445.7 1877.84,1445.71 1878.69,1445.71 1879.54,1445.71 1879.54,1445.72 1880.4,1445.72 1881.25,1445.72 1881.25,1445.71 1882.1,1445.71 1882.1,1445.72 1882.95,1445.72 1882.95,1445.71 1883.8,1445.71 1883.8,1445.72 1884.65,1445.72 1885.5,1445.72 1885.5,1445.71 1886.35,1445.71 1886.35,1445.72 1887.2,1445.72 1887.2,1445.71 1888.05,1445.71 1888.91,1445.71 1889.76,1445.71 1890.61,1445.71 1890.61,1445.72 1891.46,1445.72 1892.31,1445.72 1892.31,1445.7 1893.16,1445.7 1893.16,1445.72 1894.01,1445.72 1894.01,1445.71 1894.86,1445.71 1894.86,1445.72 1895.71,1445.72 1895.71,1445.71 1896.57,1445.71 1896.57,1445.72 1897.42,1445.72 1897.42,1445.7 1898.27,1445.7 1898.27,1445.71 1899.12,1445.71 1899.12,1445.72 1899.97,1445.72 1900.82,1445.72 1900.82,1445.71 1901.67,1445.71 1901.67,1445.72 1902.52,1445.72 1902.52,1445.71 1903.37,1445.71 1903.37,1445.72 1904.22,1445.72 1905.08,1445.72 1905.08,1445.71 1905.93,1445.71 1905.93,1445.72 1906.78,1445.72 1907.63,1445.72 1907.63,1445.7 1908.48,1445.7 1908.48,1445.71 1909.33,1445.71 1910.18,1445.71 1910.18,1445.72 1911.03,1445.72 1911.03,1445.71 1911.88,1445.71 1911.88,1445.72 1912.73,1445.72 1912.73,1445.71 1913.59,1445.71 1914.44,1445.71 1914.44,1445.72 1915.29,1445.72 1916.14,1445.72 1916.99,1445.72 1917.84,1445.72 1918.69,1445.72 1919.54,1445.72 1920.39,1445.72 1921.24,1445.72 1922.1,1445.72 1922.1,1445.71 1922.95,1445.71 1922.95,1445.72 1923.8,1445.72 1924.65,1445.72 1925.5,1445.72 1926.35,1445.72 1927.2,1445.72 1928.05,1445.72 1928.9,1445.72 1929.75,1445.72 1930.61,1445.72 1931.46,1445.72 1932.31,1445.72 1933.16,1445.72 1934.01,1445.72 1934.86,1445.72 1935.71,1445.72 1936.56,1445.72 1937.41,1445.72 1938.27,1445.72 1939.12,1445.72 1939.97,1445.72 1939.97,1445.7 1940.82,1445.7 1940.82,1445.71 1941.67,1445.71 1941.67,1445.72 1942.52,1445.72 1943.37,1445.72 1944.22,1445.72 1945.07,1445.72 1945.92,1445.72 1945.92,1445.71 1946.78,1445.71 1946.78,1445.72 1947.63,1445.72 1947.63,1445.71 1948.48,1445.71 1948.48,1445.72 1949.33,1445.72 1950.18,1445.72 1951.03,1445.72 1951.88,1445.72 1952.73,1445.72 1953.58,1445.72 1954.43,1445.72 1955.29,1445.72 1956.14,1445.72 1956.99,1445.72 1957.84,1445.72 1958.69,1445.72 1959.54,1445.72 1960.39,1445.72 1960.39,1445.71 1961.24,1445.71 1961.24,1445.72 1962.09,1445.72 1962.94,1445.72 1962.94,1445.71 1963.8,1445.71 1963.8,1445.72 1964.65,1445.72 1965.5,1445.72 1965.5,1445.71 1966.35,1445.71 1966.35,1445.72 1967.2,1445.72 1967.2,1445.71 1968.05,1445.71 1968.05,1445.72 1968.9,1445.72 1968.9,1445.71 1969.75,1445.71 1969.75,1445.72 1970.6,1445.72 1971.46,1445.72 1972.31,1445.72 1973.16,1445.72 1974.01,1445.72 1974.86,1445.72 1975.71,1445.72 1975.71,1445.71 1976.56,1445.71 1976.56,1445.72 1977.41,1445.72 1978.26,1445.72 1979.11,1445.72 1979.97,1445.72 1980.82,1445.72 1981.67,1445.72 1982.52,1445.72 1983.37,1445.72 1983.37,1445.71 1984.22,1445.71 1984.22,1445.72 1985.07,1445.72 1985.92,1445.72 1986.77,1445.72 1987.62,1445.72 1988.48,1445.72 1988.48,1445.71 1989.33,1445.71 1989.33,1445.72 1990.18,1445.72 1991.03,1445.72 1991.88,1445.72 1992.73,1445.72 1993.58,1445.72 1994.43,1445.72 1995.28,1445.72 1996.13,1445.72 1996.13,1445.71 1996.99,1445.71 1996.99,1445.72 1997.84,1445.72 1998.69,1445.72 1999.54,1445.72 2000.39,1445.72 2000.39,1445.71 2001.24,1445.71 2001.24,1445.72 2002.09,1445.72 2002.94,1445.72 2003.79,1445.72 2004.64,1445.72 2005.5,1445.72 2006.35,1445.72 2007.2,1445.72 2008.05,1445.72 2008.9,1445.72 2009.75,1445.72 2010.6,1445.72 2011.45,1445.72 2012.3,1445.72 2013.16,1445.72 2014.01,1445.72 2014.86,1445.72 2015.71,1445.72 2016.56,1445.72 2017.41,1445.72 2018.26,1445.72 2019.11,1445.72 2019.96,1445.72 2020.81,1445.72 2021.67,1445.72 2022.52,1445.72 2023.37,1445.72 2024.22,1445.72 2025.07,1445.72 2025.92,1445.72 2026.77,1445.72 2027.62,1445.72 2028.47,1445.72 2029.32,1445.72 2030.18,1445.72 2031.03,1445.72 2031.88,1445.72 2032.73,1445.72 2033.58,1445.72 2034.43,1445.72 2035.28,1445.72 2036.13,1445.72 2036.98,1445.72 2037.83,1445.72 2038.69,1445.72 2039.54,1445.72 2040.39,1445.72 2041.24,1445.72 2042.09,1445.72 2042.94,1445.72 2043.79,1445.72 2044.64,1445.72 2045.49,1445.72 2045.49,1445.7 2046.35,1445.7 2046.35,1445.72 2047.2,1445.72 2048.05,1445.72 2048.9,1445.72 2049.75,1445.72 2050.6,1445.72 2051.45,1445.72 2052.3,1445.72 2053.15,1445.72 2054,1445.72 2054.86,1445.72 2055.71,1445.72 2056.56,1445.72 2057.41,1445.72 2058.26,1445.72 2059.11,1445.72 2059.96,1445.72 2060.81,1445.72 2061.66,1445.72 2061.66,1445.71 2062.51,1445.71 2062.51,1445.72 2063.37,1445.72 2064.22,1445.72 2065.07,1445.72 2065.92,1445.72 2066.77,1445.72 2067.62,1445.72 2068.47,1445.72 2069.32,1445.72 2070.17,1445.72 2071.02,1445.72 2071.88,1445.72 2072.73,1445.72 2073.58,1445.72 2074.43,1445.72 2075.28,1445.72 2076.13,1445.72 2076.98,1445.72 2077.83,1445.72 2078.68,1445.72 2079.53,1445.72 2080.39,1445.72 2081.24,1445.72 2082.09,1445.72 2082.94,1445.72 2083.79,1445.72 2084.64,1445.72 2085.49,1445.72 2086.34,1445.72 2087.19,1445.72 2088.05,1445.72 2088.9,1445.72 2089.75,1445.72 2090.6,1445.72 2091.45,1445.72 2092.3,1445.72 2093.15,1445.72 2094,1445.72 2094,1445.71 2094.85,1445.71 2094.85,1445.72 2095.7,1445.72 2096.56,1445.72 2097.41,1445.72 2098.26,1445.72 2099.11,1445.72 2099.96,1445.72 2100.81,1445.72 2101.66,1445.72 2102.51,1445.72 2103.36,1445.72 2104.21,1445.72 2105.07,1445.72 2105.92,1445.72 2106.77,1445.72 2107.62,1445.72 2108.47,1445.72 2109.32,1445.72 2110.17,1445.72 2111.02,1445.72 2111.87,1445.72 2112.72,1445.72 2113.58,1445.72 2114.43,1445.72 2115.28,1445.72 2116.13,1445.72 2116.98,1445.72 2117.83,1445.72 2118.68,1445.72 2119.53,1445.72 2120.38,1445.72 2121.24,1445.72 2122.09,1445.72 2122.94,1445.72 2123.79,1445.72 2124.64,1445.72 2125.49,1445.72 2126.34,1445.72 2127.19,1445.72 2128.04,1445.72 2128.89,1445.72 2129.75,1445.72 2130.6,1445.72 2131.45,1445.72 2132.3,1445.72 2133.15,1445.72 2134,1445.72 2134.85,1445.72 2135.7,1445.72 2136.55,1445.72 2137.4,1445.72 2138.26,1445.72 2138.26,1445.71 2139.11,1445.71 2139.11,1445.72 2139.96,1445.72 2140.81,1445.72 2141.66,1445.72 2142.51,1445.72 2143.36,1445.72 2144.21,1445.72 2145.06,1445.72 2145.91,1445.72 2146.77,1445.72 2147.62,1445.72 2148.47,1445.72 2149.32,1445.72 2150.17,1445.72 2151.02,1445.72 2151.87,1445.72 2152.72,1445.72 2153.57,1445.72 2154.42,1445.72 2155.28,1445.72 2156.13,1445.72 2156.98,1445.72 2157.83,1445.72 2158.68,1445.72 2159.53,1445.72 2160.38,1445.72 2161.23,1445.72 2162.08,1445.72 2162.94,1445.72 2163.79,1445.72 2164.64,1445.72 2165.49,1445.72 2166.34,1445.72 2167.19,1445.72 2168.04,1445.72 2168.89,1445.72 2169.74,1445.72 2170.59,1445.72 2171.45,1445.72 2172.3,1445.72 2173.15,1445.72 2174,1445.72 2174.85,1445.72 2175.7,1445.72 2176.55,1445.72 2177.4,1445.72 2178.25,1445.72 2179.1,1445.72 2179.96,1445.72 2180.81,1445.72 2181.66,1445.72 2182.51,1445.72 2183.36,1445.72 2184.21,1445.72 2185.06,1445.72 2185.91,1445.72 2186.76,1445.72 2187.61,1445.72 2188.47,1445.72 2189.32,1445.72 2189.32,1445.71 2190.17,1445.71 2190.17,1445.72 2191.02,1445.72 2191.87,1445.72 2192.72,1445.72 2193.57,1445.72 2194.42,1445.72 2195.27,1445.72 2196.13,1445.72 2196.98,1445.72 2197.83,1445.72 2198.68,1445.72 2199.53,1445.72 2200.38,1445.72 2201.23,1445.72 2202.08,1445.72 2202.93,1445.72 2203.78,1445.72 2204.64,1445.72 2205.49,1445.72 2206.34,1445.72 2207.19,1445.72 2208.04,1445.72 2208.89,1445.72 2209.74,1445.72 2210.59,1445.72 2211.44,1445.72 2212.29,1445.72 2213.15,1445.72 2214,1445.72 2214.85,1445.72 2215.7,1445.72 2216.55,1445.72 2217.4,1445.72 2218.25,1445.72 2219.1,1445.72 2219.95,1445.72 2220.8,1445.72 2221.66,1445.72 2222.51,1445.72 2223.36,1445.72 2224.21,1445.72 2225.06,1445.72 2225.91,1445.72 2226.76,1445.72 2227.61,1445.72 2228.46,1445.72 2229.32,1445.72 2230.17,1445.72 2231.02,1445.72 2231.87,1445.72 2232.72,1445.72 2233.57,1445.72 2234.42,1445.72 2235.27,1445.72 2236.12,1445.72 2236.97,1445.72 2237.83,1445.72 2238.68,1445.72 2239.53,1445.72 2240.38,1445.72 2241.23,1445.72 2242.08,1445.72 2242.93,1445.72 2243.78,1445.72 2244.63,1445.72 2245.48,1445.72 2246.34,1445.72 2247.19,1445.72 2248.04,1445.72 2248.89,1445.72 2249.74,1445.72 2250.59,1445.72 2251.44,1445.72 2252.29,1445.72 2253.14,1445.72 2253.99,1445.72 2254.85,1445.72 2255.7,1445.72 2256.55,1445.72 2257.4,1445.72 2258.25,1445.72 2259.1,1445.72 2259.95,1445.72 2260.8,1445.72 2261.65,1445.72 2262.5,1445.72 2263.36,1445.72 2264.21,1445.72 2265.06,1445.72 2265.91,1445.72 2266.76,1445.72 2267.61,1445.72 2268.46,1445.72 2269.31,1445.72 2270.16,1445.72 2271.02,1445.72 2271.87,1445.72 2272.72,1445.72 2273.57,1445.72 2274.42,1445.72 2275.27,1445.72 2276.12,1445.72 2276.97,1445.72 2277.82,1445.72 2278.67,1445.72 2279.53,1445.72 2280.38,1445.72 2281.23,1445.72 2282.08,1445.72 2282.93,1445.72 2283.78,1445.72 2284.63,1445.72 2285.48,1445.72 2286.33,1445.72 2287.18,1445.72 2288.04,1445.72 2288.89,1445.72 2289.74,1445.72 2290.59,1445.72 2291.44,1445.72 2292.29,1445.72 2293.14,1445.72 2293.99,1445.72 2294.84,1445.72 2294.84,1445.71 2295.69,1445.71 2295.69,1445.72 \"/>\n",
              "</svg>\n"
            ]
          },
          "metadata": {},
          "output_type": "display_data"
        }
      ],
      "source": [
        "mu = log(3.2) #mean\n",
        "sig = log(2)/3 #standard deviation\n",
        "Sdist = LogNormal(mu,sig) #distribution, as described in problem\n",
        "\n",
        "S = []\n",
        "for i in 1:10000\n",
        "    sval = rand(Sdist,i)\n",
        "    S = append!(S,sval)\n",
        "end\n",
        "\n",
        "histogram(S, label=false)"
      ]
    },
    {
      "cell_type": "markdown",
      "id": "281d40e0-5c50-41de-806f-b3faa6cf7cc5",
      "metadata": {},
      "source": [
        "#### Problem 1.2 (5 points)\n",
        "\n",
        "Use the EBM to propagate your samples of $S$ to a distribution of global\n",
        "mean temperature. Plot the median and 90% predictive distribution\n",
        "(between the .05 and .95 quantiles) from 1880-2100."
      ]
    },
    {
      "cell_type": "markdown",
      "id": "5eee64cc-314f-4dfa-8636-7953a0174879",
      "metadata": {},
      "source": [
        "#### Problem 1.3 (4 points)\n",
        "\n",
        "Make a histogram of global mean temperature projections in 2100. If you\n",
        "compare this distribution to the distribution of $S$ from Problem 1.1,\n",
        "what do you observe?"
      ]
    },
    {
      "cell_type": "markdown",
      "id": "6673067d-8589-4dc7-86d9-adf2e25e8507",
      "metadata": {},
      "source": [
        "### Problem 2 (15 points)\n",
        "\n",
        "Changes to global temperatures cause changes in global sea levels\n",
        "through several mechanisms, including thermal expansion (the change in\n",
        "ocean volume due to increased heat content) and melting land-based ice.\n",
        "One simple way to represent this link is through the following model,\n",
        "proposed by [Rahmstorf (2007)](https://doi.org/10.1126/science.1135456).\n",
        "\n",
        "$$\\frac{dH}{dt} = a(T-T_0),$$\n",
        "\n",
        "where $H$ is the global mean sea level in mm, $T$ is global mean\n",
        "temperature, $T_0$ is an equilibrium temperature (where there is no\n",
        "change in sea levels), and $a$ is a proportionality constant. This model\n",
        "can be discretized to give $$H_{i+1} - H_i = a (T_i - T_0).$$\n",
        "\n",
        "Note that, like with global mean temperature, the notion of “global mean\n",
        "sea level” does not make sense in absolute terms (were sea levels ever\n",
        "at “zero”?). Instead, we want to normalize this relative to some\n",
        "historical baseline. In this case (with a view towards Problem 3), we\n",
        "will compute our sea levels relative to the 2010 sea level. Note that in\n",
        "addition to the model parameters, we also need an initial sea-level\n",
        "parameter $H_0$ which will give us the right anomaly level.\n",
        "\n",
        "The best estimates for these parameters are:\n",
        "\n",
        "-   $a = 1.86$;\n",
        "-   $H_0 = -223$;\n",
        "-   $T_0 = -0.62$"
      ]
    },
    {
      "cell_type": "markdown",
      "id": "3e53890b-d4c9-48de-b7f5-3a087bf0ab69",
      "metadata": {},
      "source": [
        "#### Problem 2.1 (5 points)\n",
        "\n",
        "Write a function `sea_level_model()` to implement the mathematical\n",
        "sea-level rise model described above. It should take in needed\n",
        "parameters and a vector of temperatures and return a vector of sea\n",
        "levels. To test your function, use the provided temperature series\n",
        "`historical_temps` (read in below) to compute the global mean sea level\n",
        "anomaly in 2022 (the last year of the dataset) with the parameter values\n",
        "above; you should get a value of approximately 43mm."
      ]
    },
    {
      "cell_type": "code",
      "execution_count": 5,
      "id": "0873ecca",
      "metadata": {},
      "outputs": [
        {
          "data": {
            "text/plain": [
              "143-element Vector{Float64}:\n",
              "  0.07297116761904765\n",
              "  0.15655772761904765\n",
              "  0.09327316761904769\n",
              "  0.04232884761904765\n",
              " -0.10351681238095234\n",
              " -0.08232033238095232\n",
              " -0.03210037238095231\n",
              " -0.10998251238095236\n",
              "  0.00942435761904764\n",
              "  0.13890768761904768\n",
              " -0.11805492238095233\n",
              " -0.012511692380952344\n",
              " -0.11875525238095236\n",
              "  ⋮\n",
              "  0.9265009776190476\n",
              "  0.9664103476190478\n",
              "  1.0123786476190477\n",
              "  1.0616748976190478\n",
              "  1.2139176176190476\n",
              "  1.3217303776190477\n",
              "  1.2339774976190476\n",
              "  1.1514572476190477\n",
              "  1.2798758476190477\n",
              "  1.3115970476190477\n",
              "  1.1506591476190478\n",
              "  1.1896871476190476"
            ]
          },
          "metadata": {},
          "output_type": "display_data"
        }
      ],
      "source": [
        "historical_temp_data = CSV.read(\"data/HadCRUT.5.0.1.0.analysis.summary_series.global.annual.csv\", DataFrame, delim=\",\")\n",
        "# column 2 is the temperature anomaly, column 1 is the year\n",
        "temp_bds = indexin([1880, 1900], historical_temp_data[!, 1]) # find the index of 2010 for normalization\n",
        "historical_temp_data[:, 2] .-= mean(historical_temp_data[temp_bds[1]:temp_bds[2], 2])\n",
        "historical_temps = historical_temp_data[temp_bds[1]:end, 2]"
      ]
    },
    {
      "cell_type": "markdown",
      "id": "6b575584-39c2-4c61-8857-f4ae8903d471",
      "metadata": {},
      "source": [
        "#### Problem 2.2 (5 points)\n",
        "\n",
        "Evaluate `sea_level_model()` using the projected temperature ensemble\n",
        "from Problem 1. Plot the 90% projection interval of the sea levels."
      ]
    },
    {
      "cell_type": "markdown",
      "id": "f56ac29c-dd79-40e4-bf18-448569666b39",
      "metadata": {},
      "source": [
        "#### Problem 2.3 (5 points)\n",
        "\n",
        "Make a histogram of the sea-level anomaly in 2100. What can you observe\n",
        "about how the ECS uncertainty has impacted sea-level uncertainty under\n",
        "this radiative forcing scenario? What might the implications be of only\n",
        "using the best-estimate ECS value?"
      ]
    },
    {
      "cell_type": "markdown",
      "id": "3555492f-8b2c-4798-9ec4-73a9f7a91102",
      "metadata": {},
      "source": [
        "### Problem 3 (13 points)\n",
        "\n",
        "You’ve been asked to consult on a levee reliability analysis. For\n",
        "context, levees in the United States are supposed to only fail once in\n",
        "100 years, or, in other words, to have at most a 1% chance of failure in\n",
        "a given year. We will assume for this problem that the only way in which\n",
        "a levee fails is by being overtopped (note: this is unrealistic).\n",
        "\n",
        "We can assess the probability of levee overtopping by comparing its\n",
        "height to a distribution of extreme sea levels. A common approach is to\n",
        "look at the distribution of the highest sea level each year. These\n",
        "extreme sea levels can be obtained by combining the absolute sea level\n",
        "(we will use our distribution of global sea levels for this), the rate\n",
        "of subsidence (how much the ground sinks), and the distribution of storm\n",
        "tides (the highest tide level, which is often the result of storm surges\n",
        "combining with high tide).\n",
        "\n",
        "Assume for this problem that:\n",
        "\n",
        "1.  the annual rate of subsidence $\\nu$ is 1.2mm/yr;\n",
        "2.  the distribution of annual storm tide maxima, above the mean sea\n",
        "    level, is (and is expected to continue to be) given by a\n",
        "    $\\text{GeneralizedExtremeValue}(900, 25, 0.3)$ distribution, which\n",
        "    looks like this:"
      ]
    },
    {
      "cell_type": "code",
      "execution_count": 6,
      "id": "4f6b3f43",
      "metadata": {},
      "outputs": [
        {
          "data": {
            "text/html": [
              "<img src=\"data:image/png;base64,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\" />"
            ]
          },
          "metadata": {},
          "output_type": "display_data"
        }
      ],
      "source": [
        "tide_distribution = GeneralizedExtremeValue(900, 25, 0.3)\n",
        "    histogram(rand(tide_distribution, 10000), xlabel=\"Storm Tide Height (mm)\", ylabel=\"Count\", legend=:false)"
      ]
    },
    {
      "cell_type": "markdown",
      "id": "556f7bc4-7ae8-46f7-a82e-ea8a359cfbf4",
      "metadata": {},
      "source": [
        "Feel free to just sample from `tide_distribution` in your solution\n",
        "below."
      ]
    },
    {
      "cell_type": "markdown",
      "id": "b21f42cb-9220-4ce8-908f-f6934251c52f",
      "metadata": {},
      "source": [
        "#### Problem 3.1 (2 points)\n",
        "\n",
        "How would you use your sea-level simulations and the above information\n",
        "to compute a distribution of extreme sea levels in 2100 relative to 2010\n",
        "mean sea level? Write down the approach in clear steps, with equations\n",
        "as needed."
      ]
    },
    {
      "cell_type": "markdown",
      "id": "a80c9bc6-93b4-4702-a96e-60f60f38d4fe",
      "metadata": {},
      "source": [
        "#### Problem 3.2 (3 points)\n",
        "\n",
        "Follow the steps above and produce a histogram of the extreme sea levels\n",
        "in 2100 relative to 2010."
      ]
    },
    {
      "cell_type": "markdown",
      "id": "7e262cca-5fad-455f-a4a5-63133a366009",
      "metadata": {},
      "source": [
        "#### Problem 3.2 (3 points)\n",
        "\n",
        "Follow the steps above and produce a histogram of the extreme sea levels\n",
        "in 2100 relative to 2010."
      ]
    },
    {
      "cell_type": "markdown",
      "id": "5e37ec00-b6c8-44c8-979c-86bb20476b0d",
      "metadata": {},
      "source": [
        "#### Problem 3.4 (3 points)\n",
        "\n",
        "Based on your analysis, would you recommend that the levee be heightened\n",
        "again in the future, and if so, how high? What other information might\n",
        "you need, if any, to make your recommendation?"
      ]
    },
    {
      "cell_type": "markdown",
      "id": "da31bad8-e17e-4bcf-98ca-8f21e10a7406",
      "metadata": {},
      "source": [
        "## References\n",
        "\n",
        "List any external references consulted, including classmates."
      ]
    }
  ],
  "metadata": {
    "kernelspec": {
      "display_name": "Julia 1.9.2",
      "language": "julia",
      "name": "julia-1.9"
    },
    "language_info": {
      "file_extension": ".jl",
      "mimetype": "application/julia",
      "name": "julia",
      "version": "1.9.2"
    }
  },
  "nbformat": 4,
  "nbformat_minor": 5
}
