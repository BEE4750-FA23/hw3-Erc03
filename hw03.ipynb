{
  "cells": [
    {
      "cell_type": "markdown",
      "id": "40906466-61ee-44f9-9c81-fbcb604092f0",
      "metadata": {},
      "source": [
        "# BEE 4750 Homework 3: Uncertain Sea-Level Rise and Levee Reliability\n",
        "\n",
        "**Name**:\n",
        "\n",
        "**ID**:\n",
        "\n",
        "> **Due Date**\n",
        ">\n",
        "> Friday, 10/06/23, 9:00pm\n",
        "\n",
        "## Overview\n",
        "\n",
        "### Instructions\n",
        "\n",
        "This assignment asks you to conduct a Monte Carlo analysis of levee\n",
        "reliability in the face of uncertain changes to local sea levels. You\n",
        "will propagate uncertainty in equilibrium climate sensitivity through\n",
        "the energy balance model to obtain a distribution of temperatures, which\n",
        "will then drive a model of sea-level rise. You will finally use this\n",
        "distribution to assess the probability that a planned levee will achieve\n",
        "its desired reliability standard.\n",
        "\n",
        "### Load Environment\n",
        "\n",
        "The following code loads the environment and makes sure all needed\n",
        "packages are installed. This should be at the start of most Julia\n",
        "scripts."
      ]
    },
    {
      "cell_type": "code",
      "execution_count": 1,
      "id": "217587a2",
      "metadata": {},
      "outputs": [
        {
          "name": "stderr",
          "output_type": "stream",
          "text": [
            "\u001b[32m\u001b[1m  Activating\u001b[22m\u001b[39m project at `~/Desktop/classes/Semester 5/BEE 4750/homework/hw3-Erc03`\n"
          ]
        },
        {
          "name": "stderr",
          "output_type": "stream",
          "text": [
            "\u001b[32m\u001b[1m   Installed\u001b[22m\u001b[39m GR_jll ─────────────────── v0.72.10+0\n"
          ]
        },
        {
          "name": "stderr",
          "output_type": "stream",
          "text": [
            "\u001b[32m\u001b[1m   Installed\u001b[22m\u001b[39m Preferences ────────────── v1.4.1\n",
            "\u001b[32m\u001b[1m   Installed\u001b[22m\u001b[39m PDMats ─────────────────── v0.11.18\n",
            "\u001b[32m\u001b[1m   Installed\u001b[22m\u001b[39m InlineStrings ──────────── v1.4.0\n",
            "\u001b[32m\u001b[1m   Installed\u001b[22m\u001b[39m Xorg_libSM_jll ─────────── v1.2.3+0\n",
            "\u001b[32m\u001b[1m   Installed\u001b[22m\u001b[39m LoggingExtras ──────────── v1.0.2\n"
          ]
        },
        {
          "name": "stderr",
          "output_type": "stream",
          "text": [
            "\u001b[32m\u001b[1m   Installed\u001b[22m\u001b[39m HTTP ───────────────────── v1.10.0\n",
            "\u001b[32m\u001b[1m   Installed\u001b[22m\u001b[39m InvertedIndices ────────── v1.3.0\n"
          ]
        },
        {
          "name": "stderr",
          "output_type": "stream",
          "text": [
            "\u001b[32m\u001b[1m   Installed\u001b[22m\u001b[39m xkbcommon_jll ──────────── v1.4.1+1\n"
          ]
        },
        {
          "name": "stderr",
          "output_type": "stream",
          "text": [
            "\u001b[32m\u001b[1m   Installed\u001b[22m\u001b[39m WorkerUtilities ────────── v1.6.1\n"
          ]
        },
        {
          "name": "stderr",
          "output_type": "stream",
          "text": [
            "\u001b[32m\u001b[1m   Installed\u001b[22m\u001b[39m WeakRefStrings ─────────── v1.4.2\n",
            "\u001b[32m\u001b[1m   Installed\u001b[22m\u001b[39m SentinelArrays ─────────── v1.4.0\n"
          ]
        },
        {
          "name": "stderr",
          "output_type": "stream",
          "text": [
            "\u001b[32m\u001b[1m   Installed\u001b[22m\u001b[39m StatsAPI ───────────────── v1.7.0\n"
          ]
        },
        {
          "name": "stderr",
          "output_type": "stream",
          "text": [
            "\u001b[32m\u001b[1m   Installed\u001b[22m\u001b[39m mtdev_jll ──────────────── v1.1.6+0\n",
            "\u001b[32m\u001b[1m   Installed\u001b[22m\u001b[39m gperf_jll ──────────────── v3.1.1+0\n"
          ]
        },
        {
          "name": "stderr",
          "output_type": "stream",
          "text": [
            "\u001b[32m\u001b[1m   Installed\u001b[22m\u001b[39m DataFrames ─────────────── v1.6.1\n"
          ]
        },
        {
          "name": "stderr",
          "output_type": "stream",
          "text": [
            "\u001b[32m\u001b[1m   Installed\u001b[22m\u001b[39m eudev_jll ──────────────── v3.2.9+0\n"
          ]
        },
        {
          "name": "stderr",
          "output_type": "stream",
          "text": [
            "\u001b[32m\u001b[1m   Installed\u001b[22m\u001b[39m Plots ──────────────────── v1.39.0\n",
            "\u001b[32m\u001b[1m   Installed\u001b[22m\u001b[39m Xorg_xcb_util_cursor_jll ─ v0.1.4+0\n"
          ]
        },
        {
          "name": "stderr",
          "output_type": "stream",
          "text": [
            "\u001b[32m\u001b[1m   Installed\u001b[22m\u001b[39m Vulkan_Loader_jll ──────── v1.3.243+0\n"
          ]
        },
        {
          "name": "stderr",
          "output_type": "stream",
          "text": [
            "\u001b[32m\u001b[1m   Installed\u001b[22m\u001b[39m Xorg_libICE_jll ────────── v1.0.10+1\n"
          ]
        },
        {
          "name": "stderr",
          "output_type": "stream",
          "text": [
            "\u001b[32m\u001b[1m   Installed\u001b[22m\u001b[39m PooledArrays ───────────── v1.4.3\n"
          ]
        },
        {
          "name": "stderr",
          "output_type": "stream",
          "text": [
            "\u001b[32m\u001b[1m   Installed\u001b[22m\u001b[39m Crayons ────────────────── v4.1.1\n"
          ]
        },
        {
          "name": "stderr",
          "output_type": "stream",
          "text": [
            "\u001b[32m\u001b[1m   Installed\u001b[22m\u001b[39m XML2_jll ───────────────── v2.10.4+0\n"
          ]
        },
        {
          "name": "stderr",
          "output_type": "stream",
          "text": [
            "\u001b[32m\u001b[1m   Installed\u001b[22m\u001b[39m Wayland_jll ────────────── v1.21.0+1\n"
          ]
        },
        {
          "name": "stderr",
          "output_type": "stream",
          "text": [
            "\u001b[32m\u001b[1m   Installed\u001b[22m\u001b[39m OpenSSL_jll ────────────── v1.1.23+0\n",
            "\u001b[32m\u001b[1m   Installed\u001b[22m\u001b[39m libevdev_jll ───────────── v1.11.0+0\n"
          ]
        },
        {
          "name": "stderr",
          "output_type": "stream",
          "text": [
            "\u001b[32m\u001b[1m   Installed\u001b[22m\u001b[39m Tables ─────────────────── v1.11.0\n",
            "\u001b[32m\u001b[1m   Installed\u001b[22m\u001b[39m GR ─────────────────────── v0.72.10\n",
            "\u001b[32m\u001b[1m   Installed\u001b[22m\u001b[39m Libiconv_jll ───────────── v1.17.0+0\n"
          ]
        },
        {
          "name": "stderr",
          "output_type": "stream",
          "text": [
            "\u001b[32m\u001b[1m   Installed\u001b[22m\u001b[39m Qt6Base_jll ────────────── v6.5.2+2\n"
          ]
        },
        {
          "name": "stderr",
          "output_type": "stream",
          "text": [
            "\u001b[32m\u001b[1m   Installed\u001b[22m\u001b[39m Glib_jll ───────────────── v2.76.5+0\n"
          ]
        },
        {
          "name": "stderr",
          "output_type": "stream",
          "text": [
            "\u001b[32m\u001b[1m   Installed\u001b[22m\u001b[39m FilePathsBase ──────────── v0.9.20\n",
            "\u001b[32m\u001b[1m   Installed\u001b[22m\u001b[39m QuadGK ─────────────────── v2.9.1\n"
          ]
        },
        {
          "name": "stderr",
          "output_type": "stream",
          "text": [
            "\u001b[32m\u001b[1m   Installed\u001b[22m\u001b[39m StringManipulation ─────── v0.3.4\n"
          ]
        },
        {
          "name": "stderr",
          "output_type": "stream",
          "text": [
            "\u001b[32m\u001b[1m   Installed\u001b[22m\u001b[39m PrettyTables ───────────── v2.2.7\n"
          ]
        },
        {
          "name": "stderr",
          "output_type": "stream",
          "text": [
            "\u001b[32m\u001b[1m   Installed\u001b[22m\u001b[39m libinput_jll ───────────── v1.18.0+0\n"
          ]
        },
        {
          "name": "stderr",
          "output_type": "stream",
          "text": [
            "\u001b[32m\u001b[1m   Installed\u001b[22m\u001b[39m ColorSchemes ───────────── v3.24.0\n"
          ]
        },
        {
          "name": "stderr",
          "output_type": "stream",
          "text": [
            "\u001b[32m\u001b[1m   Installed\u001b[22m\u001b[39m CSV ────────────────────── v0.10.11\n"
          ]
        },
        {
          "name": "stderr",
          "output_type": "stream",
          "text": [
            "\u001b[32m\u001b[1mPrecompiling\u001b[22m\u001b[39m "
          ]
        },
        {
          "name": "stderr",
          "output_type": "stream",
          "text": [
            "project...\n"
          ]
        },
        {
          "name": "stderr",
          "output_type": "stream",
          "text": [
            "\u001b[32m  ✓ \u001b[39m\u001b[90mInvertedIndices\u001b[39m\n"
          ]
        },
        {
          "name": "stderr",
          "output_type": "stream",
          "text": [
            "\u001b[32m  ✓ \u001b[39m\u001b[90mWorkerUtilities\u001b[39m\n"
          ]
        },
        {
          "name": "stderr",
          "output_type": "stream",
          "text": [
            "\u001b[32m  ✓ \u001b[39m\u001b[90mPreferences\u001b[39m\n"
          ]
        },
        {
          "name": "stderr",
          "output_type": "stream",
          "text": [
            "\u001b[32m  ✓ \u001b[39m\u001b[90mStatsAPI\u001b[39m\n"
          ]
        },
        {
          "name": "stderr",
          "output_type": "stream",
          "text": [
            "\u001b[32m  ✓ \u001b[39m\u001b[90mLoggingExtras\u001b[39m\n"
          ]
        },
        {
          "name": "stderr",
          "output_type": "stream",
          "text": [
            "\u001b[32m  ✓ \u001b[39m\u001b[90mXorg_libICE_jll\u001b[39m\n"
          ]
        },
        {
          "name": "stderr",
          "output_type": "stream",
          "text": [
            "\u001b[32m  ✓ \u001b[39m\u001b[90mPDMats\u001b[39m\n"
          ]
        },
        {
          "name": "stderr",
          "output_type": "stream",
          "text": [
            "\u001b[32m  ✓ \u001b[39m\u001b[90mPooledArrays\u001b[39m\n"
          ]
        },
        {
          "name": "stderr",
          "output_type": "stream",
          "text": [
            "\u001b[32m  ✓ \u001b[39m\u001b[90mPrecompileTools\u001b[39m\n",
            "\u001b[32m  ✓ \u001b[39m\u001b[90mSentinelArrays\u001b[39m\n",
            "\u001b[32m  ✓ \u001b[39m\u001b[90mCrayons\u001b[39m\n"
          ]
        },
        {
          "name": "stderr",
          "output_type": "stream",
          "text": [
            "\u001b[32m  ✓ \u001b[39m\u001b[90mJLLWrappers\u001b[39m\n"
          ]
        },
        {
          "name": "stderr",
          "output_type": "stream",
          "text": [
            "\u001b[32m  ✓ \u001b[39m\u001b[90mTables\u001b[39m\n"
          ]
        },
        {
          "name": "stderr",
          "output_type": "stream",
          "text": [
            "\u001b[32m  ✓ \u001b[39m\u001b[90mFilePathsBase\u001b[39m\n"
          ]
        },
        {
          "name": "stderr",
          "output_type": "stream",
          "text": [
            "\u001b[32m  ✓ \u001b[39m\u001b[90mQuadGK\u001b[39m\n"
          ]
        },
        {
          "name": "stderr",
          "output_type": "stream",
          "text": [
            "\u001b[32m  ✓ \u001b[39m\u001b[90mXorg_libSM_jll\u001b[39m\n"
          ]
        },
        {
          "name": "stderr",
          "output_type": "stream",
          "text": [
            "\u001b[32m  ✓ \u001b[39m\u001b[90mEpollShim_jll\u001b[39m\n",
            "\u001b[32m  ✓ \u001b[39m\u001b[90mLibmount_jll\u001b[39m\n",
            "\u001b[32m  ✓ \u001b[39m\u001b[90mStatsBase\u001b[39m\n"
          ]
        },
        {
          "name": "stderr",
          "output_type": "stream",
          "text": [
            "\u001b[32m  ✓ \u001b[39m\u001b[90mGraphite2_jll\u001b[39m\n",
            "\u001b[32m  ✓ \u001b[39m\u001b[90mOpenSSL_jll\u001b[39m\n"
          ]
        },
        {
          "name": "stderr",
          "output_type": "stream",
          "text": [
            "\u001b[32m  ✓ \u001b[39m\u001b[90mLLVMOpenMP_jll\u001b[39m\n"
          ]
        },
        {
          "name": "stderr",
          "output_type": "stream",
          "text": [
            "\u001b[32m  ✓ \u001b[39m\u001b[90mBzip2_jll\u001b[39m\n"
          ]
        },
        {
          "name": "stderr",
          "output_type": "stream",
          "text": [
            "\u001b[32m  ✓ \u001b[39m\u001b[90mRecipesBase\u001b[39m\n"
          ]
        },
        {
          "name": "stderr",
          "output_type": "stream",
          "text": [
            "\u001b[32m  ✓ \u001b[39m\u001b[90mRmath_jll\u001b[39m\n"
          ]
        },
        {
          "name": "stderr",
          "output_type": "stream",
          "text": [
            "\u001b[32m  ✓ \u001b[39m\u001b[90mStringManipulation\u001b[39m\n"
          ]
        },
        {
          "name": "stderr",
          "output_type": "stream",
          "text": [
            "\u001b[32m  ✓ \u001b[39m\u001b[90mXorg_libXau_jll\u001b[39m\n"
          ]
        },
        {
          "name": "stderr",
          "output_type": "stream",
          "text": [
            "\u001b[32m  ✓ \u001b[39m\u001b[90mlibpng_jll\u001b[39m\n"
          ]
        },
        {
          "name": "stderr",
          "output_type": "stream",
          "text": [
            "\u001b[32m  ✓ \u001b[39m\u001b[90mlibfdk_aac_jll\u001b[39m\n"
          ]
        },
        {
          "name": "stderr",
          "output_type": "stream",
          "text": [
            "\u001b[32m  ✓ \u001b[39m\u001b[90mLAME_jll\u001b[39m\n"
          ]
        },
        {
          "name": "stderr",
          "output_type": "stream",
          "text": [
            "\u001b[32m  ✓ \u001b[39m\u001b[90mLERC_jll\u001b[39m\n"
          ]
        },
        {
          "name": "stderr",
          "output_type": "stream",
          "text": [
            "\u001b[32m  ✓ \u001b[39m\u001b[90mfzf_jll\u001b[39m\n"
          ]
        },
        {
          "name": "stderr",
          "output_type": "stream",
          "text": [
            "\u001b[32m  ✓ \u001b[39m\u001b[90mJpegTurbo_jll\u001b[39m\n"
          ]
        },
        {
          "name": "stderr",
          "output_type": "stream",
          "text": [
            "\u001b[32m  ✓ \u001b[39m\u001b[90mOgg_jll\u001b[39m\n",
            "\u001b[32m  ✓ \u001b[39m\u001b[90mXZ_jll\u001b[39m\n"
          ]
        },
        {
          "name": "stderr",
          "output_type": "stream",
          "text": [
            "\u001b[32m  ✓ \u001b[39m\u001b[90mmtdev_jll\u001b[39m\n"
          ]
        },
        {
          "name": "stderr",
          "output_type": "stream",
          "text": [
            "\u001b[32m  ✓ \u001b[39m\u001b[90mgperf_jll\u001b[39m\n",
            "\u001b[32m  ✓ \u001b[39m\u001b[90mXorg_libXdmcp_jll\u001b[39m\n"
          ]
        },
        {
          "name": "stderr",
          "output_type": "stream",
          "text": [
            "\u001b[32m  ✓ \u001b[39m\u001b[90mx265_jll\u001b[39m\n"
          ]
        },
        {
          "name": "stderr",
          "output_type": "stream",
          "text": [
            "\u001b[32m  ✓ \u001b[39m\u001b[90mx264_jll\u001b[39m\n"
          ]
        },
        {
          "name": "stderr",
          "output_type": "stream",
          "text": [
            "\u001b[32m  ✓ \u001b[39m\u001b[90mlibaom_jll\u001b[39m\n",
            "\u001b[32m  ✓ \u001b[39m\u001b[90mZstd_jll\u001b[39m\n"
          ]
        },
        {
          "name": "stderr",
          "output_type": "stream",
          "text": [
            "\u001b[32m  ✓ \u001b[39m\u001b[90mExpat_jll\u001b[39m\n"
          ]
        },
        {
          "name": "stderr",
          "output_type": "stream",
          "text": [
            "\u001b[32m  ✓ \u001b[39m\u001b[90mLZO_jll\u001b[39m\n"
          ]
        },
        {
          "name": "stderr",
          "output_type": "stream",
          "text": [
            "\u001b[32m  ✓ \u001b[39m\u001b[90mOpus_jll\u001b[39m\n"
          ]
        },
        {
          "name": "stderr",
          "output_type": "stream",
          "text": [
            "\u001b[32m  ✓ \u001b[39m\u001b[90mXorg_xtrans_jll\u001b[39m\n"
          ]
        },
        {
          "name": "stderr",
          "output_type": "stream",
          "text": [
            "\u001b[32m  ✓ \u001b[39m\u001b[90mlibevdev_jll\u001b[39m\n"
          ]
        },
        {
          "name": "stderr",
          "output_type": "stream",
          "text": [
            "\u001b[32m  ✓ \u001b[39m\u001b[90mLibiconv_jll\u001b[39m\n"
          ]
        },
        {
          "name": "stderr",
          "output_type": "stream",
          "text": [
            "\u001b[32m  ✓ \u001b[39m\u001b[90mLibffi_jll\u001b[39m\n"
          ]
        },
        {
          "name": "stderr",
          "output_type": "stream",
          "text": [
            "\u001b[32m  ✓ \u001b[39m\u001b[90mLibgpg_error_jll\u001b[39m\n"
          ]
        },
        {
          "name": "stderr",
          "output_type": "stream",
          "text": [
            "\u001b[32m  ✓ \u001b[39m\u001b[90mWayland_protocols_jll\u001b[39m\n"
          ]
        },
        {
          "name": "stderr",
          "output_type": "stream",
          "text": [
            "\u001b[32m  ✓ \u001b[39m\u001b[90mXorg_libpthread_stubs_jll\u001b[39m\n",
            "\u001b[32m  ✓ \u001b[39m\u001b[90mOpenSpecFun_jll\u001b[39m\n"
          ]
        },
        {
          "name": "stderr",
          "output_type": "stream",
          "text": [
            "\u001b[32m  ✓ \u001b[39m\u001b[90mLibuuid_jll\u001b[39m\n",
            "\u001b[32m  ✓ \u001b[39m\u001b[90mFriBidi_jll\u001b[39m\n"
          ]
        },
        {
          "name": "stderr",
          "output_type": "stream",
          "text": [
            "\u001b[32m  ✓ \u001b[39m\u001b[90mPixman_jll\u001b[39m\n"
          ]
        },
        {
          "name": "stderr",
          "output_type": "stream",
          "text": [
            "\u001b[32m  ✓ \u001b[39m\u001b[90mFreeType2_jll\u001b[39m\n"
          ]
        },
        {
          "name": "stderr",
          "output_type": "stream",
          "text": [
            "\u001b[32m  ✓ \u001b[39m\u001b[90mRmath\u001b[39m\n"
          ]
        },
        {
          "name": "stderr",
          "output_type": "stream",
          "text": [
            "\u001b[32m  ✓ \u001b[39m\u001b[90meudev_jll\u001b[39m\n"
          ]
        },
        {
          "name": "stderr",
          "output_type": "stream",
          "text": [
            "\u001b[32m  ✓ \u001b[39m\u001b[90mJLFzf\u001b[39m\n"
          ]
        },
        {
          "name": "stderr",
          "output_type": "stream",
          "text": [
            "\u001b[32m  ✓ \u001b[39m\u001b[90mlibvorbis_jll\u001b[39m\n"
          ]
        },
        {
          "name": "stderr",
          "output_type": "stream",
          "text": [
            "\u001b[32m  ✓ \u001b[39m\u001b[90mLibgcrypt_jll\u001b[39m\n"
          ]
        },
        {
          "name": "stderr",
          "output_type": "stream",
          "text": [
            "\u001b[32m  ✓ \u001b[39m\u001b[90mlibinput_jll\u001b[39m\n"
          ]
        },
        {
          "name": "stderr",
          "output_type": "stream",
          "text": [
            "\u001b[32m  ✓ \u001b[39m\u001b[90mOpenSSL\u001b[39m\n"
          ]
        },
        {
          "name": "stderr",
          "output_type": "stream",
          "text": [
            "\u001b[32m  ✓ \u001b[39m\u001b[90mXML2_jll\u001b[39m\n"
          ]
        },
        {
          "name": "stderr",
          "output_type": "stream",
          "text": [
            "\u001b[32m  ✓ \u001b[39m\u001b[90mLibtiff_jll\u001b[39m\n"
          ]
        },
        {
          "name": "stderr",
          "output_type": "stream",
          "text": [
            "\u001b[32m  ✓ \u001b[39m\u001b[90mFontconfig_jll\u001b[39m\n"
          ]
        },
        {
          "name": "stderr",
          "output_type": "stream",
          "text": [
            "\u001b[32m  ✓ \u001b[39m\u001b[90mWayland_jll\u001b[39m\n"
          ]
        },
        {
          "name": "stderr",
          "output_type": "stream",
          "text": [
            "\u001b[32m  ✓ \u001b[39m\u001b[90mGettext_jll\u001b[39m\n",
            "\u001b[32m  ✓ \u001b[39m\u001b[90mXSLT_jll\u001b[39m\n"
          ]
        },
        {
          "name": "stderr",
          "output_type": "stream",
          "text": [
            "\u001b[32m  ✓ \u001b[39m\u001b[90mXorg_libxcb_jll\u001b[39m\n",
            "\u001b[32m  ✓ \u001b[39m\u001b[90mSpecialFunctions\u001b[39m\n"
          ]
        },
        {
          "name": "stderr",
          "output_type": "stream",
          "text": [
            "\u001b[32m  ✓ \u001b[39m\u001b[90mGlib_jll\u001b[39m\n"
          ]
        },
        {
          "name": "stderr",
          "output_type": "stream",
          "text": [
            "\u001b[32m  ✓ \u001b[39m\u001b[90mXorg_xcb_util_jll\u001b[39m\n"
          ]
        },
        {
          "name": "stderr",
          "output_type": "stream",
          "text": [
            "\u001b[32m  ✓ \u001b[39m\u001b[90mXorg_libX11_jll\u001b[39m\n"
          ]
        },
        {
          "name": "stderr",
          "output_type": "stream",
          "text": [
            "\u001b[32m  ✓ \u001b[39m\u001b[90mColorVectorSpace → SpecialFunctionsExt\u001b[39m\n"
          ]
        },
        {
          "name": "stderr",
          "output_type": "stream",
          "text": [
            "\u001b[32m  ✓ \u001b[39m\u001b[90mXorg_xcb_util_image_jll\u001b[39m\n"
          ]
        },
        {
          "name": "stderr",
          "output_type": "stream",
          "text": [
            "\u001b[32m  ✓ \u001b[39m\u001b[90mXorg_xcb_util_renderutil_jll\u001b[39m\n"
          ]
        },
        {
          "name": "stderr",
          "output_type": "stream",
          "text": [
            "\u001b[32m  ✓ \u001b[39m\u001b[90mXorg_xcb_util_keysyms_jll\u001b[39m\n",
            "\u001b[32m  ✓ \u001b[39m\u001b[90mDualNumbers\u001b[39m\n"
          ]
        },
        {
          "name": "stderr",
          "output_type": "stream",
          "text": [
            "\u001b[32m  ✓ \u001b[39m\u001b[90mXorg_xcb_util_wm_jll\u001b[39m\n"
          ]
        },
        {
          "name": "stderr",
          "output_type": "stream",
          "text": [
            "\u001b[32m  ✓ \u001b[39m\u001b[90mXorg_libXrender_jll\u001b[39m\n",
            "\u001b[32m  ✓ \u001b[39m\u001b[90mHTTP\u001b[39m\n"
          ]
        },
        {
          "name": "stderr",
          "output_type": "stream",
          "text": [
            "\u001b[32m  ✓ \u001b[39m\u001b[90mXorg_libXext_jll\u001b[39m\n"
          ]
        },
        {
          "name": "stderr",
          "output_type": "stream",
          "text": [
            "\u001b[32m  ✓ \u001b[39m\u001b[90mXorg_libXfixes_jll\u001b[39m\n"
          ]
        },
        {
          "name": "stderr",
          "output_type": "stream",
          "text": [
            "\u001b[32m  ✓ \u001b[39m\u001b[90mXorg_libxkbfile_jll\u001b[39m\n",
            "\u001b[32m  ✓ \u001b[39m\u001b[90mXorg_xcb_util_cursor_jll\u001b[39m\n"
          ]
        },
        {
          "name": "stderr",
          "output_type": "stream",
          "text": [
            "\u001b[32m  ✓ \u001b[39m\u001b[90mLibglvnd_jll\u001b[39m\n"
          ]
        },
        {
          "name": "stderr",
          "output_type": "stream",
          "text": [
            "\u001b[32m  ✓ \u001b[39m\u001b[90mXorg_libXinerama_jll\u001b[39m\n"
          ]
        },
        {
          "name": "stderr",
          "output_type": "stream",
          "text": [
            "\u001b[32m  ✓ \u001b[39m\u001b[90mXorg_libXrandr_jll\u001b[39m\n"
          ]
        },
        {
          "name": "stderr",
          "output_type": "stream",
          "text": [
            "\u001b[32m  ✓ \u001b[39m\u001b[90mXorg_libXcursor_jll\u001b[39m\n"
          ]
        },
        {
          "name": "stderr",
          "output_type": "stream",
          "text": [
            "\u001b[32m  ✓ \u001b[39m\u001b[90mXorg_libXi_jll\u001b[39m\n"
          ]
        },
        {
          "name": "stderr",
          "output_type": "stream",
          "text": [
            "\u001b[32m  ✓ \u001b[39m\u001b[90mHypergeometricFunctions\u001b[39m\n"
          ]
        },
        {
          "name": "stderr",
          "output_type": "stream",
          "text": [
            "\u001b[32m  ✓ \u001b[39m\u001b[90mXorg_xkbcomp_jll\u001b[39m\n"
          ]
        },
        {
          "name": "stderr",
          "output_type": "stream",
          "text": [
            "\u001b[32m  ✓ \u001b[39m\u001b[90mGLFW_jll\u001b[39m\n"
          ]
        },
        {
          "name": "stderr",
          "output_type": "stream",
          "text": [
            "\u001b[32m  ✓ \u001b[39m\u001b[90mXorg_xkeyboard_config_jll\u001b[39m\n"
          ]
        },
        {
          "name": "stderr",
          "output_type": "stream",
          "text": [
            "\u001b[32m  ✓ \u001b[39m\u001b[90mCairo_jll\u001b[39m\n"
          ]
        },
        {
          "name": "stderr",
          "output_type": "stream",
          "text": [
            "\u001b[32m  ✓ \u001b[39m\u001b[90mxkbcommon_jll\u001b[39m\n"
          ]
        },
        {
          "name": "stderr",
          "output_type": "stream",
          "text": [
            "\u001b[32m  ✓ \u001b[39m\u001b[90mStatsFuns\u001b[39m\n",
            "\u001b[32m  ✓ \u001b[39m\u001b[90mHarfBuzz_jll\u001b[39m\n",
            "\u001b[32m  ✓ \u001b[39m\u001b[90mVulkan_Loader_jll\u001b[39m\n"
          ]
        },
        {
          "name": "stderr",
          "output_type": "stream",
          "text": [
            "\u001b[32m  ✓ \u001b[39m\u001b[90mlibass_jll\u001b[39m\n"
          ]
        },
        {
          "name": "stderr",
          "output_type": "stream",
          "text": [
            "\u001b[32m  ✓ \u001b[39m\u001b[90mColorSchemes\u001b[39m\n"
          ]
        },
        {
          "name": "stderr",
          "output_type": "stream",
          "text": [
            "\u001b[32m  ✓ \u001b[39m\u001b[90mQt6Base_jll\u001b[39m\n"
          ]
        },
        {
          "name": "stderr",
          "output_type": "stream",
          "text": [
            "\u001b[32m  ✓ \u001b[39m\u001b[90mFFMPEG_jll\u001b[39m\n"
          ]
        },
        {
          "name": "stderr",
          "output_type": "stream",
          "text": [
            "\u001b[32m  ✓ \u001b[39m\u001b[90mFFMPEG\u001b[39m\n"
          ]
        },
        {
          "name": "stderr",
          "output_type": "stream",
          "text": [
            "\u001b[32m  ✓ \u001b[39m\u001b[90mPrettyTables\u001b[39m\n"
          ]
        },
        {
          "name": "stderr",
          "output_type": "stream",
          "text": [
            "\u001b[32m  ✓ \u001b[39mDistributions\n"
          ]
        },
        {
          "name": "stderr",
          "output_type": "stream",
          "text": [
            "\u001b[32m  ✓ \u001b[39m\u001b[90mGR_jll\u001b[39m\n"
          ]
        },
        {
          "name": "stderr",
          "output_type": "stream",
          "text": [
            "\u001b[32m  ✓ \u001b[39m\u001b[90mParsers\u001b[39m\n"
          ]
        },
        {
          "name": "stderr",
          "output_type": "stream",
          "text": [
            "\u001b[32m  ✓ \u001b[39m\u001b[90mInlineStrings\u001b[39m\n"
          ]
        },
        {
          "name": "stderr",
          "output_type": "stream",
          "text": [
            "\u001b[32m  ✓ \u001b[39m\u001b[90mJSON\u001b[39m\n"
          ]
        },
        {
          "name": "stderr",
          "output_type": "stream",
          "text": [
            "\u001b[32m  ✓ \u001b[39m\u001b[90mWeakRefStrings\u001b[39m\n"
          ]
        },
        {
          "name": "stderr",
          "output_type": "stream",
          "text": [
            "\u001b[32m  ✓ \u001b[39m\u001b[90mPlotUtils\u001b[39m\n"
          ]
        },
        {
          "name": "stderr",
          "output_type": "stream",
          "text": [
            "\u001b[32m  ✓ \u001b[39m\u001b[90mGR\u001b[39m\n"
          ]
        },
        {
          "name": "stderr",
          "output_type": "stream",
          "text": [
            "\u001b[32m  ✓ \u001b[39m\u001b[90mPlotThemes\u001b[39m\n"
          ]
        },
        {
          "name": "stderr",
          "output_type": "stream",
          "text": [
            "\u001b[32m  ✓ \u001b[39m\u001b[90mRecipesPipeline\u001b[39m\n"
          ]
        },
        {
          "name": "stderr",
          "output_type": "stream",
          "text": [
            "\u001b[32m  ✓ \u001b[39mCSV\n"
          ]
        },
        {
          "name": "stderr",
          "output_type": "stream",
          "text": [
            "\u001b[32m  ✓ \u001b[39mDataFrames\n"
          ]
        },
        {
          "name": "stderr",
          "output_type": "stream",
          "text": [
            "\u001b[32m  ✓ \u001b[39m\u001b[90mLatexify → DataFramesExt\u001b[39m\n"
          ]
        },
        {
          "name": "stderr",
          "output_type": "stream",
          "text": [
            "\u001b[32m  ✓ \u001b[39mPlots\n"
          ]
        },
        {
          "name": "stderr",
          "output_type": "stream",
          "text": [
            "\u001b[32m  ✓ \u001b[39m\u001b[90mPlots → UnitfulExt\u001b[39m\n",
            "  122 dependencies successfully precompiled in 212 seconds. 58 already precompiled.\n"
          ]
        }
      ],
      "source": [
        "import Pkg\n",
        "Pkg.activate(@__DIR__)\n",
        "Pkg.instantiate()"
      ]
    },
    {
      "cell_type": "code",
      "execution_count": 2,
      "id": "5983e5b6",
      "metadata": {},
      "outputs": [],
      "source": [
        "using Random\n",
        "using Plots\n",
        "using LaTeXStrings\n",
        "using Distributions\n",
        "using CSV\n",
        "using DataFrames"
      ]
    },
    {
      "cell_type": "markdown",
      "id": "e2a42659-c332-4c5f-a100-71461472c251",
      "metadata": {},
      "source": [
        "## Problems (Total: 40 Points)"
      ]
    },
    {
      "cell_type": "markdown",
      "id": "be018462-69c6-483e-9ca8-38b70c3ad574",
      "metadata": {},
      "source": [
        "### Problem 1 (12 points)\n",
        "\n",
        "Recall from class that the simple energy balance model (EBM) of\n",
        "planetary energy balance links changes in radiative forcing ($F$) to\n",
        "global mean temperature ($T$) changes through the discretized equation\n",
        "$$T_{i+1} = T_{i} + \\frac{F_i - \\lambda T_i}{cd} \\times \\Delta t,$$\n",
        "where $i$ is the current time step, $c = 4.184 \\times 10^6$\n",
        "J/K/m<sup>2</sup> is the heat capacity of water per unit area, $d$ is\n",
        "the (uncertain) depth of the mixing layer, $\\Delta t$ is the annual time\n",
        "step in seconds and $\\lambda = F_{\\text{2xCO}_2}/S$ is the climate\n",
        "feedback parameter in W/m<sup>2</sup>/$^\\circ$ C, where $S$ is the\n",
        "equilibrium climate sensitivity (the uncertain equilibrium temperature\n",
        "change resulting from a doubling of atmospheric CO<sub>2</sub>).\n",
        "Finally, while total radiative forcing can be the result of non-aerosol\n",
        "and aerosol effects, we do not know the relative intensity of aerosol\n",
        "forcing, so we represent this with an uncertain aerosol scaling factor\n",
        "$\\alpha$.\n",
        "\n",
        "We can implement this model with the following Julia function. We will\n",
        "assume an ocean mixing depth $d = 100$ m and an aerosol scaling factor\n",
        "$\\alpha = 1.3$ so we can focus on the uncertainty in $S$.\n",
        "\n",
        "The last technical concern is that “global mean temperature” does not\n",
        "make sense in absolute terms as a marker of climate change. Instead, we\n",
        "typically refer to temperature changes relative to some historical\n",
        "pre-industrial baseline. In this case, we will use the period from\n",
        "1880-1900, though this choice can vary."
      ]
    },
    {
      "cell_type": "code",
      "execution_count": 3,
      "id": "449950ec",
      "metadata": {},
      "outputs": [
        {
          "data": {
            "text/plain": [
              "energy_balance_model (generic function with 1 method)"
            ]
          },
          "metadata": {},
          "output_type": "display_data"
        }
      ],
      "source": [
        "# we need to split up the aerosol and non-aerosol forcings when we call the function\n",
        "function energy_balance_model(S, forcing_aerosol, forcing_non_aerosol)\n",
        "    d = 100 # ocean mixing depth [m]\n",
        "    α = 1.3 # aerosol scaling factor\n",
        "    F2xCO₂ = 4.0 # radiative forcing [W/m²] for a doubling of CO₂\n",
        "    λ = F2xCO₂/S\n",
        "    \n",
        "    c = 4.184e6 # heat capacity/area [J/K/m²]\n",
        "    C = c*d # heat capacity of mixed layer (per area)\n",
        "\n",
        "    F = forcing_non_aerosol + α*forcing_aerosol # radiative forcing\n",
        "\n",
        "    Δt = 31558152.0 # annual timestep [s]\n",
        "    \n",
        "    T = zero(F)\n",
        "    for i in 1:length(F)-1\n",
        "        T[i+1] = T[i] + (F[i] - λ*T[i])/C * Δt\n",
        "    end\n",
        "    # return temperature anomaly relative to 1880-1900 baseline\n",
        "    return T .- mean(T[1:21]) \n",
        "end"
      ]
    },
    {
      "cell_type": "markdown",
      "id": "6b81816c-0bd3-4577-b802-4b030f13bcd5",
      "metadata": {},
      "source": [
        "Finally, we need to load some radiative forcing data. We will use the\n",
        "radiative forcing scenario RCP 8.5. We can load this data, which is in a\n",
        "`.csv` (comma-delimited) file, into a `DataFrame`, which is a tabular\n",
        "data structure. Rows and columns in a `DataFrame` can be accessed using\n",
        "their numerical index (like a matrix), but columns also have names; you\n",
        "can access a particular column in a dataframe `df` by name using\n",
        "`df.colname` or `df[:, \"colname\"]`.\n",
        "\n",
        "Of note: this data set goes from 1750–2500, so you will need to take\n",
        "care to make sure you are using the right years at each step. For\n",
        "example, here we will constrain the data to 1880–2100, which is the\n",
        "period we are interested in."
      ]
    },
    {
      "cell_type": "code",
      "execution_count": 4,
      "id": "80c4ab89",
      "metadata": {},
      "outputs": [
        {
          "data": {
            "text/plain": [
              "221-element Vector{Float64}:\n",
              "  0.42741479112315905\n",
              "  0.4487940147601447\n",
              "  0.4900144276528058\n",
              " -0.019811270078689047\n",
              " -1.480725700367619\n",
              " -0.3154905163510021\n",
              "  0.233186559774844\n",
              "  0.2923308952663089\n",
              "  0.45833872365810924\n",
              "  0.5168189581089915\n",
              "  ⋮\n",
              "  9.879065698371564\n",
              "  9.946850640754889\n",
              " 10.002169546141578\n",
              " 10.061009359425011\n",
              " 10.115684195707905\n",
              " 10.182946497594184\n",
              " 10.249699157847772\n",
              " 10.331407709334023\n",
              " 10.424544495740134"
            ]
          },
          "metadata": {},
          "output_type": "display_data"
        }
      ],
      "source": [
        "# The CSV is read into a DataFrame object, and we specify that it is comma delimited\n",
        "forcings_all_85 = CSV.read(\"data/ERF_ssp585_1750-2500.csv\", DataFrame, delim=\",\")\n",
        "\n",
        "# get the years corresponding to the forcings\n",
        "t = Int64.(forcings_all_85[!,\"year\"]) # Ensure that years are interpreted as integers\n",
        "# find the indices of the years 1880 and 2100\n",
        "# we can do this with the indexin function\n",
        "time_bounds = indexin([1880, 2100], t)\n",
        "years = time_bounds[1]:time_bounds[2] # create range of years\n",
        "\n",
        "# Separate out the individual components\n",
        "forcing_co2_85 = forcings_all_85[years,\"co2\"]\n",
        "# Get total aerosol and non-aerosol forcings\n",
        "forcing_aerosol_rad_85 = forcings_all_85[years,\"aerosol-radiation_interactions\"]\n",
        "forcing_aerosol_cloud_85 = forcings_all_85[years,\"aerosol-cloud_interactions\"]\n",
        "forcing_aerosol_85 = forcing_aerosol_rad_85 + forcing_aerosol_cloud_85 # aerosol forcings\n",
        "forcing_total_85 = forcings_all_85[years,\"total\"] \n",
        "forcing_non_aerosol_85 = forcing_total_85 - forcing_aerosol_85 # non-aerosol forcings"
      ]
    },
    {
      "cell_type": "markdown",
      "id": "bf320cea-43a2-4807-a94d-a9fe18cd2de0",
      "metadata": {},
      "source": [
        "For this assignment, you can use the `forcing_aerosol_85` and\n",
        "`forcing_non_aerosol_85` vectors as is to correspond to the relevant\n",
        "forcings. You will need to use the vector `t` to find the appropriate\n",
        "years for analysis."
      ]
    },
    {
      "cell_type": "markdown",
      "id": "4df91243-61ea-4620-8611-54f6001d472d",
      "metadata": {},
      "source": [
        "#### Problem 1.1 (3 points)\n",
        "\n",
        "Assume that $S$ is distributed according to\n",
        "$\\text{LogNormal}(\\log(3.2), \\log{2}/3)$ (as in class). Draw 10,000\n",
        "samples from this distribution and make a histogram."
      ]
    },
    {
      "cell_type": "code",
      "execution_count": 31,
      "id": "a5c87876",
      "metadata": {},
      "outputs": [
        {
          "data": {
            "image/png": "[encoded data removed]",
            "image/svg+xml": [
              "<?xml version=\"1.0\" encoding=\"utf-8\"?>\n",
              "<svg xmlns=\"http://www.w3.org/2000/svg\" xmlns:xlink=\"http://www.w3.org/1999/xlink\" width=\"600\" height=\"400\" viewBox=\"0 0 2400 1600\">\n",
              "<defs>\n",
              "  <clipPath id=\"clip210\">\n",
              "    <rect x=\"0\" y=\"0\" width=\"2400\" height=\"1600\"/>\n",
              "  </clipPath>\n",
              "</defs>\n",
              "<path clip-path=\"url(#clip210)\" d=\"M0 1600 L2400 1600 L2400 0 L0 0  Z\" fill=\"#ffffff\" fill-rule=\"evenodd\" fill-opacity=\"1\"/>\n",
              "<defs>\n",
              "  <clipPath id=\"clip211\">\n",
              "    <rect x=\"480\" y=\"0\" width=\"1681\" height=\"1600\"/>\n",
              "  </clipPath>\n",
              "</defs>\n",
              "<path clip-path=\"url(#clip210)\" d=\"M235.283 1423.18 L2352.76 1423.18 L2352.76 47.2441 L235.283 47.2441  Z\" fill=\"#ffffff\" fill-rule=\"evenodd\" fill-opacity=\"1\"/>\n",
              "<defs>\n",
              "  <clipPath id=\"clip212\">\n",
              "    <rect x=\"235\" y=\"47\" width=\"2118\" height=\"1377\"/>\n",
              "  </clipPath>\n",
              "</defs>\n",
              "<polyline clip-path=\"url(#clip212)\" style=\"stroke:#000000; stroke-linecap:round; stroke-linejoin:round; stroke-width:2; stroke-opacity:0.1; fill:none\" points=\"291.921,1423.18 291.921,47.2441 \"/>\n",
              "<polyline clip-path=\"url(#clip212)\" style=\"stroke:#000000; stroke-linecap:round; stroke-linejoin:round; stroke-width:2; stroke-opacity:0.1; fill:none\" points=\"591.055,1423.18 591.055,47.2441 \"/>\n",
              "<polyline clip-path=\"url(#clip212)\" style=\"stroke:#000000; stroke-linecap:round; stroke-linejoin:round; stroke-width:2; stroke-opacity:0.1; fill:none\" points=\"890.189,1423.18 890.189,47.2441 \"/>\n",
              "<polyline clip-path=\"url(#clip212)\" style=\"stroke:#000000; stroke-linecap:round; stroke-linejoin:round; stroke-width:2; stroke-opacity:0.1; fill:none\" points=\"1189.32,1423.18 1189.32,47.2441 \"/>\n",
              "<polyline clip-path=\"url(#clip212)\" style=\"stroke:#000000; stroke-linecap:round; stroke-linejoin:round; stroke-width:2; stroke-opacity:0.1; fill:none\" points=\"1488.46,1423.18 1488.46,47.2441 \"/>\n",
              "<polyline clip-path=\"url(#clip212)\" style=\"stroke:#000000; stroke-linecap:round; stroke-linejoin:round; stroke-width:2; stroke-opacity:0.1; fill:none\" points=\"1787.59,1423.18 1787.59,47.2441 \"/>\n",
              "<polyline clip-path=\"url(#clip212)\" style=\"stroke:#000000; stroke-linecap:round; stroke-linejoin:round; stroke-width:2; stroke-opacity:0.1; fill:none\" points=\"2086.72,1423.18 2086.72,47.2441 \"/>\n",
              "<polyline clip-path=\"url(#clip210)\" style=\"stroke:#000000; stroke-linecap:round; stroke-linejoin:round; stroke-width:4; stroke-opacity:1; fill:none\" points=\"235.283,1423.18 2352.76,1423.18 \"/>\n",
              "<polyline clip-path=\"url(#clip210)\" style=\"stroke:#000000; stroke-linecap:round; stroke-linejoin:round; stroke-width:4; stroke-opacity:1; fill:none\" points=\"291.921,1423.18 291.921,1404.28 \"/>\n",
              "<polyline clip-path=\"url(#clip210)\" style=\"stroke:#000000; stroke-linecap:round; stroke-linejoin:round; stroke-width:4; stroke-opacity:1; fill:none\" points=\"591.055,1423.18 591.055,1404.28 \"/>\n",
              "<polyline clip-path=\"url(#clip210)\" style=\"stroke:#000000; stroke-linecap:round; stroke-linejoin:round; stroke-width:4; stroke-opacity:1; fill:none\" points=\"890.189,1423.18 890.189,1404.28 \"/>\n",
              "<polyline clip-path=\"url(#clip210)\" style=\"stroke:#000000; stroke-linecap:round; stroke-linejoin:round; stroke-width:4; stroke-opacity:1; fill:none\" points=\"1189.32,1423.18 1189.32,1404.28 \"/>\n",
              "<polyline clip-path=\"url(#clip210)\" style=\"stroke:#000000; stroke-linecap:round; stroke-linejoin:round; stroke-width:4; stroke-opacity:1; fill:none\" points=\"1488.46,1423.18 1488.46,1404.28 \"/>\n",
              "<polyline clip-path=\"url(#clip210)\" style=\"stroke:#000000; stroke-linecap:round; stroke-linejoin:round; stroke-width:4; stroke-opacity:1; fill:none\" points=\"1787.59,1423.18 1787.59,1404.28 \"/>\n",
              "<polyline clip-path=\"url(#clip210)\" style=\"stroke:#000000; stroke-linecap:round; stroke-linejoin:round; stroke-width:4; stroke-opacity:1; fill:none\" points=\"2086.72,1423.18 2086.72,1404.28 \"/>\n",
              "<path clip-path=\"url(#clip210)\" d=\"M282.303 1481.64 L289.942 1481.64 L289.942 1455.28 L281.632 1456.95 L281.632 1452.69 L289.895 1451.02 L294.571 1451.02 L294.571 1481.64 L302.21 1481.64 L302.21 1485.58 L282.303 1485.58 L282.303 1481.64 Z\" fill=\"#000000\" fill-rule=\"nonzero\" fill-opacity=\"1\" /><path clip-path=\"url(#clip210)\" d=\"M585.708 1481.64 L602.027 1481.64 L602.027 1485.58 L580.083 1485.58 L580.083 1481.64 Q582.745 1478.89 587.328 1474.26 Q591.934 1469.61 593.115 1468.27 Q595.36 1465.74 596.24 1464.01 Q597.143 1462.25 597.143 1460.56 Q597.143 1457.8 595.198 1456.07 Q593.277 1454.33 590.175 1454.33 Q587.976 1454.33 585.522 1455.09 Q583.092 1455.86 580.314 1457.41 L580.314 1452.69 Q583.138 1451.55 585.592 1450.97 Q588.046 1450.39 590.083 1450.39 Q595.453 1450.39 598.647 1453.08 Q601.842 1455.77 601.842 1460.26 Q601.842 1462.39 601.032 1464.31 Q600.245 1466.2 598.138 1468.8 Q597.559 1469.47 594.458 1472.69 Q591.356 1475.88 585.708 1481.64 Z\" fill=\"#000000\" fill-rule=\"nonzero\" fill-opacity=\"1\" /><path clip-path=\"url(#clip210)\" d=\"M894.436 1466.95 Q897.793 1467.66 899.668 1469.93 Q901.566 1472.2 901.566 1475.53 Q901.566 1480.65 898.047 1483.45 Q894.529 1486.25 888.047 1486.25 Q885.872 1486.25 883.557 1485.81 Q881.265 1485.39 878.811 1484.54 L878.811 1480.02 Q880.756 1481.16 883.071 1481.74 Q885.385 1482.32 887.909 1482.32 Q892.307 1482.32 894.598 1480.58 Q896.913 1478.84 896.913 1475.53 Q896.913 1472.48 894.76 1470.77 Q892.631 1469.03 888.811 1469.03 L884.784 1469.03 L884.784 1465.19 L888.997 1465.19 Q892.446 1465.19 894.274 1463.82 Q896.103 1462.43 896.103 1459.84 Q896.103 1457.18 894.205 1455.77 Q892.33 1454.33 888.811 1454.33 Q886.89 1454.33 884.691 1454.75 Q882.492 1455.16 879.853 1456.04 L879.853 1451.88 Q882.515 1451.14 884.83 1450.77 Q887.168 1450.39 889.228 1450.39 Q894.552 1450.39 897.654 1452.83 Q900.756 1455.23 900.756 1459.35 Q900.756 1462.22 899.112 1464.21 Q897.469 1466.18 894.436 1466.95 Z\" fill=\"#000000\" fill-rule=\"nonzero\" fill-opacity=\"1\" /><path clip-path=\"url(#clip210)\" d=\"M1192.33 1455.09 L1180.53 1473.54 L1192.33 1473.54 L1192.33 1455.09 M1191.1 1451.02 L1196.98 1451.02 L1196.98 1473.54 L1201.92 1473.54 L1201.92 1477.43 L1196.98 1477.43 L1196.98 1485.58 L1192.33 1485.58 L1192.33 1477.43 L1176.73 1477.43 L1176.73 1472.92 L1191.1 1451.02 Z\" fill=\"#000000\" fill-rule=\"nonzero\" fill-opacity=\"1\" /><path clip-path=\"url(#clip210)\" d=\"M1478.73 1451.02 L1497.09 1451.02 L1497.09 1454.96 L1483.02 1454.96 L1483.02 1463.43 Q1484.04 1463.08 1485.05 1462.92 Q1486.07 1462.73 1487.09 1462.73 Q1492.88 1462.73 1496.26 1465.9 Q1499.64 1469.08 1499.64 1474.49 Q1499.64 1480.07 1496.16 1483.17 Q1492.69 1486.25 1486.37 1486.25 Q1484.2 1486.25 1481.93 1485.88 Q1479.68 1485.51 1477.28 1484.77 L1477.28 1480.07 Q1479.36 1481.2 1481.58 1481.76 Q1483.8 1482.32 1486.28 1482.32 Q1490.29 1482.32 1492.62 1480.21 Q1494.96 1478.1 1494.96 1474.49 Q1494.96 1470.88 1492.62 1468.77 Q1490.29 1466.67 1486.28 1466.67 Q1484.41 1466.67 1482.53 1467.08 Q1480.68 1467.5 1478.73 1468.38 L1478.73 1451.02 Z\" fill=\"#000000\" fill-rule=\"nonzero\" fill-opacity=\"1\" /><path clip-path=\"url(#clip210)\" d=\"M1788 1466.44 Q1784.85 1466.44 1783 1468.59 Q1781.17 1470.74 1781.17 1474.49 Q1781.17 1478.22 1783 1480.39 Q1784.85 1482.55 1788 1482.55 Q1791.14 1482.55 1792.97 1480.39 Q1794.82 1478.22 1794.82 1474.49 Q1794.82 1470.74 1792.97 1468.59 Q1791.14 1466.44 1788 1466.44 M1797.28 1451.78 L1797.28 1456.04 Q1795.52 1455.21 1793.71 1454.77 Q1791.93 1454.33 1790.17 1454.33 Q1785.54 1454.33 1783.09 1457.45 Q1780.66 1460.58 1780.31 1466.9 Q1781.68 1464.89 1783.74 1463.82 Q1785.8 1462.73 1788.27 1462.73 Q1793.48 1462.73 1796.49 1465.9 Q1799.52 1469.05 1799.52 1474.49 Q1799.52 1479.82 1796.37 1483.03 Q1793.23 1486.25 1788 1486.25 Q1782 1486.25 1778.83 1481.67 Q1775.66 1477.06 1775.66 1468.33 Q1775.66 1460.14 1779.55 1455.28 Q1783.44 1450.39 1789.99 1450.39 Q1791.75 1450.39 1793.53 1450.74 Q1795.33 1451.09 1797.28 1451.78 Z\" fill=\"#000000\" fill-rule=\"nonzero\" fill-opacity=\"1\" /><path clip-path=\"url(#clip210)\" d=\"M2075.61 1451.02 L2097.84 1451.02 L2097.84 1453.01 L2085.29 1485.58 L2080.4 1485.58 L2092.21 1454.96 L2075.61 1454.96 L2075.61 1451.02 Z\" fill=\"#000000\" fill-rule=\"nonzero\" fill-opacity=\"1\" /><path clip-path=\"url(#clip210)\" d=\"M1008.9 1522.08 L1008.9 1528.35 Q1005.24 1526.6 1001.99 1525.74 Q998.746 1524.88 995.722 1524.88 Q990.471 1524.88 987.606 1526.92 Q984.773 1528.96 984.773 1532.71 Q984.773 1535.87 986.651 1537.49 Q988.561 1539.08 993.844 1540.07 L997.728 1540.86 Q1004.92 1542.23 1008.33 1545.7 Q1011.76 1549.14 1011.76 1554.93 Q1011.76 1561.84 1007.12 1565.4 Q1002.5 1568.97 993.558 1568.97 Q990.184 1568.97 986.365 1568.2 Q982.577 1567.44 978.503 1565.94 L978.503 1559.32 Q982.418 1561.52 986.174 1562.63 Q989.93 1563.75 993.558 1563.75 Q999.064 1563.75 1002.06 1561.58 Q1005.05 1559.42 1005.05 1555.41 Q1005.05 1551.91 1002.88 1549.93 Q1000.75 1547.96 995.85 1546.97 L991.935 1546.21 Q984.742 1544.78 981.527 1541.72 Q978.312 1538.67 978.312 1533.22 Q978.312 1526.92 982.736 1523.29 Q987.192 1519.66 994.99 1519.66 Q998.332 1519.66 1001.8 1520.27 Q1005.27 1520.87 1008.9 1522.08 Z\" fill=\"#000000\" fill-rule=\"nonzero\" fill-opacity=\"1\" /><path clip-path=\"url(#clip210)\" d=\"M1054.76 1568.04 L1036.62 1520.52 L1043.34 1520.52 L1058.39 1560.53 L1073.48 1520.52 L1080.16 1520.52 L1062.05 1568.04 L1054.76 1568.04 Z\" fill=\"#000000\" fill-rule=\"nonzero\" fill-opacity=\"1\" /><path clip-path=\"url(#clip210)\" d=\"M1097.99 1550.12 Q1090.89 1550.12 1088.15 1551.75 Q1085.42 1553.37 1085.42 1557.29 Q1085.42 1560.4 1087.45 1562.25 Q1089.52 1564.07 1093.05 1564.07 Q1097.92 1564.07 1100.85 1560.63 Q1103.81 1557.16 1103.81 1551.43 L1103.81 1550.12 L1097.99 1550.12 M1109.67 1547.71 L1109.67 1568.04 L1103.81 1568.04 L1103.81 1562.63 Q1101.81 1565.88 1098.81 1567.44 Q1095.82 1568.97 1091.49 1568.97 Q1086.02 1568.97 1082.77 1565.91 Q1079.56 1562.82 1079.56 1557.67 Q1079.56 1551.65 1083.57 1548.6 Q1087.61 1545.54 1095.6 1545.54 L1103.81 1545.54 L1103.81 1544.97 Q1103.81 1540.93 1101.14 1538.73 Q1098.5 1536.5 1093.69 1536.5 Q1090.64 1536.5 1087.74 1537.23 Q1084.84 1537.97 1082.17 1539.43 L1082.17 1534.02 Q1085.38 1532.78 1088.41 1532.17 Q1091.43 1531.54 1094.3 1531.54 Q1102.03 1531.54 1105.85 1535.55 Q1109.67 1539.56 1109.67 1547.71 Z\" fill=\"#000000\" fill-rule=\"nonzero\" fill-opacity=\"1\" /><path clip-path=\"url(#clip210)\" d=\"M1121.73 1518.52 L1127.59 1518.52 L1127.59 1568.04 L1121.73 1568.04 L1121.73 1518.52 Z\" fill=\"#000000\" fill-rule=\"nonzero\" fill-opacity=\"1\" /><path clip-path=\"url(#clip210)\" d=\"M1139.24 1553.98 L1139.24 1532.4 L1145.09 1532.4 L1145.09 1553.75 Q1145.09 1558.81 1147.07 1561.36 Q1149.04 1563.87 1152.99 1563.87 Q1157.73 1563.87 1160.47 1560.85 Q1163.24 1557.83 1163.24 1552.61 L1163.24 1532.4 L1169.09 1532.4 L1169.09 1568.04 L1163.24 1568.04 L1163.24 1562.57 Q1161.1 1565.82 1158.27 1567.41 Q1155.47 1568.97 1151.75 1568.97 Q1145.6 1568.97 1142.42 1565.15 Q1139.24 1561.33 1139.24 1553.98 M1153.97 1531.54 L1153.97 1531.54 Z\" fill=\"#000000\" fill-rule=\"nonzero\" fill-opacity=\"1\" /><path clip-path=\"url(#clip210)\" d=\"M1211.65 1548.76 L1211.65 1551.62 L1184.72 1551.62 Q1185.1 1557.67 1188.35 1560.85 Q1191.63 1564 1197.45 1564 Q1200.83 1564 1203.98 1563.17 Q1207.16 1562.35 1210.28 1560.69 L1210.28 1566.23 Q1207.13 1567.57 1203.82 1568.27 Q1200.51 1568.97 1197.1 1568.97 Q1188.57 1568.97 1183.57 1564 Q1178.61 1559.04 1178.61 1550.57 Q1178.61 1541.82 1183.32 1536.69 Q1188.06 1531.54 1196.08 1531.54 Q1203.28 1531.54 1207.45 1536.18 Q1211.65 1540.8 1211.65 1548.76 M1205.79 1547.04 Q1205.73 1542.23 1203.09 1539.37 Q1200.48 1536.5 1196.15 1536.5 Q1191.25 1536.5 1188.28 1539.27 Q1185.36 1542.04 1184.91 1547.07 L1205.79 1547.04 Z\" fill=\"#000000\" fill-rule=\"nonzero\" fill-opacity=\"1\" /><path clip-path=\"url(#clip210)\" d=\"M1256.05 1518.58 Q1251.78 1525.9 1249.71 1533.06 Q1247.65 1540.23 1247.65 1547.58 Q1247.65 1554.93 1249.71 1562.16 Q1251.81 1569.35 1256.05 1576.64 L1250.96 1576.64 Q1246.18 1569.16 1243.79 1561.93 Q1241.44 1554.71 1241.44 1547.58 Q1241.44 1540.48 1243.79 1533.29 Q1246.15 1526.09 1250.96 1518.58 L1256.05 1518.58 Z\" fill=\"#000000\" fill-rule=\"nonzero\" fill-opacity=\"1\" /><path clip-path=\"url(#clip210)\" d=\"M1290.87 1537.81 L1290.87 1518.52 L1296.72 1518.52 L1296.72 1568.04 L1290.87 1568.04 L1290.87 1562.7 Q1289.02 1565.88 1286.19 1567.44 Q1283.39 1568.97 1279.44 1568.97 Q1272.98 1568.97 1268.91 1563.81 Q1264.86 1558.65 1264.86 1550.25 Q1264.86 1541.85 1268.91 1536.69 Q1272.98 1531.54 1279.44 1531.54 Q1283.39 1531.54 1286.19 1533.1 Q1289.02 1534.62 1290.87 1537.81 M1270.91 1550.25 Q1270.91 1556.71 1273.55 1560.4 Q1276.23 1564.07 1280.87 1564.07 Q1285.52 1564.07 1288.19 1560.4 Q1290.87 1556.71 1290.87 1550.25 Q1290.87 1543.79 1288.19 1540.13 Q1285.52 1536.44 1280.87 1536.44 Q1276.23 1536.44 1273.55 1540.13 Q1270.91 1543.79 1270.91 1550.25 Z\" fill=\"#000000\" fill-rule=\"nonzero\" fill-opacity=\"1\" /><path clip-path=\"url(#clip210)\" d=\"M1339.28 1548.76 L1339.28 1551.62 L1312.35 1551.62 Q1312.73 1557.67 1315.98 1560.85 Q1319.26 1564 1325.08 1564 Q1328.46 1564 1331.61 1563.17 Q1334.79 1562.35 1337.91 1560.69 L1337.91 1566.23 Q1334.76 1567.57 1331.45 1568.27 Q1328.14 1568.97 1324.73 1568.97 Q1316.2 1568.97 1311.21 1564 Q1306.24 1559.04 1306.24 1550.57 Q1306.24 1541.82 1310.95 1536.69 Q1315.69 1531.54 1323.72 1531.54 Q1330.91 1531.54 1335.08 1536.18 Q1339.28 1540.8 1339.28 1548.76 M1333.42 1547.04 Q1333.36 1542.23 1330.72 1539.37 Q1328.11 1536.5 1323.78 1536.5 Q1318.88 1536.5 1315.92 1539.27 Q1312.99 1542.04 1312.54 1547.07 L1333.42 1547.04 Z\" fill=\"#000000\" fill-rule=\"nonzero\" fill-opacity=\"1\" /><path clip-path=\"url(#clip210)\" d=\"M1372.35 1549.81 Q1372.35 1543.44 1369.71 1539.94 Q1367.1 1536.44 1362.36 1536.44 Q1357.64 1536.44 1355 1539.94 Q1352.39 1543.44 1352.39 1549.81 Q1352.39 1556.14 1355 1559.64 Q1357.64 1563.14 1362.36 1563.14 Q1367.1 1563.14 1369.71 1559.64 Q1372.35 1556.14 1372.35 1549.81 M1378.21 1563.62 Q1378.21 1572.72 1374.16 1577.15 Q1370.12 1581.6 1361.78 1581.6 Q1358.69 1581.6 1355.96 1581.13 Q1353.22 1580.68 1350.64 1579.72 L1350.64 1574.03 Q1353.22 1575.43 1355.73 1576.1 Q1358.25 1576.76 1360.86 1576.76 Q1366.62 1576.76 1369.48 1573.74 Q1372.35 1570.75 1372.35 1564.67 L1372.35 1561.77 Q1370.54 1564.92 1367.7 1566.48 Q1364.87 1568.04 1360.92 1568.04 Q1354.37 1568.04 1350.36 1563.05 Q1346.35 1558.05 1346.35 1549.81 Q1346.35 1541.53 1350.36 1536.53 Q1354.37 1531.54 1360.92 1531.54 Q1364.87 1531.54 1367.7 1533.1 Q1370.54 1534.66 1372.35 1537.81 L1372.35 1532.4 L1378.21 1532.4 L1378.21 1563.62 Z\" fill=\"#000000\" fill-rule=\"nonzero\" fill-opacity=\"1\" /><path clip-path=\"url(#clip210)\" d=\"M1410.93 1537.87 Q1409.94 1537.3 1408.76 1537.04 Q1407.62 1536.76 1406.21 1536.76 Q1401.25 1536.76 1398.58 1540 Q1395.93 1543.22 1395.93 1549.27 L1395.93 1568.04 L1390.05 1568.04 L1390.05 1532.4 L1395.93 1532.4 L1395.93 1537.93 Q1397.78 1534.69 1400.74 1533.13 Q1403.7 1531.54 1407.93 1531.54 Q1408.54 1531.54 1409.27 1531.63 Q1410 1531.7 1410.89 1531.85 L1410.93 1537.87 Z\" fill=\"#000000\" fill-rule=\"nonzero\" fill-opacity=\"1\" /><path clip-path=\"url(#clip210)\" d=\"M1446.13 1548.76 L1446.13 1551.62 L1419.2 1551.62 Q1419.58 1557.67 1422.83 1560.85 Q1426.11 1564 1431.93 1564 Q1435.31 1564 1438.46 1563.17 Q1441.64 1562.35 1444.76 1560.69 L1444.76 1566.23 Q1441.61 1567.57 1438.3 1568.27 Q1434.99 1568.97 1431.58 1568.97 Q1423.05 1568.97 1418.06 1564 Q1413.09 1559.04 1413.09 1550.57 Q1413.09 1541.82 1417.8 1536.69 Q1422.54 1531.54 1430.56 1531.54 Q1437.76 1531.54 1441.93 1536.18 Q1446.13 1540.8 1446.13 1548.76 M1440.27 1547.04 Q1440.21 1542.23 1437.57 1539.37 Q1434.96 1536.5 1430.63 1536.5 Q1425.73 1536.5 1422.77 1539.27 Q1419.84 1542.04 1419.39 1547.07 L1440.27 1547.04 Z\" fill=\"#000000\" fill-rule=\"nonzero\" fill-opacity=\"1\" /><path clip-path=\"url(#clip210)\" d=\"M1486.23 1548.76 L1486.23 1551.62 L1459.3 1551.62 Q1459.69 1557.67 1462.93 1560.85 Q1466.21 1564 1472.04 1564 Q1475.41 1564 1478.56 1563.17 Q1481.74 1562.35 1484.86 1560.69 L1484.86 1566.23 Q1481.71 1567.57 1478.4 1568.27 Q1475.09 1568.97 1471.69 1568.97 Q1463.16 1568.97 1458.16 1564 Q1453.19 1559.04 1453.19 1550.57 Q1453.19 1541.82 1457.9 1536.69 Q1462.65 1531.54 1470.67 1531.54 Q1477.86 1531.54 1482.03 1536.18 Q1486.23 1540.8 1486.23 1548.76 M1480.38 1547.04 Q1480.31 1542.23 1477.67 1539.37 Q1475.06 1536.5 1470.73 1536.5 Q1465.83 1536.5 1462.87 1539.27 Q1459.94 1542.04 1459.5 1547.07 L1480.38 1547.04 Z\" fill=\"#000000\" fill-rule=\"nonzero\" fill-opacity=\"1\" /><path clip-path=\"url(#clip210)\" d=\"M1518.57 1533.45 L1518.57 1538.98 Q1516.09 1537.71 1513.41 1537.07 Q1510.74 1536.44 1507.88 1536.44 Q1503.51 1536.44 1501.32 1537.77 Q1499.15 1539.11 1499.15 1541.79 Q1499.15 1543.82 1500.71 1545 Q1502.27 1546.15 1506.98 1547.2 L1508.99 1547.64 Q1515.23 1548.98 1517.84 1551.43 Q1520.48 1553.85 1520.48 1558.21 Q1520.48 1563.17 1516.53 1566.07 Q1512.62 1568.97 1505.74 1568.97 Q1502.88 1568.97 1499.76 1568.39 Q1496.67 1567.85 1493.23 1566.74 L1493.23 1560.69 Q1496.48 1562.38 1499.63 1563.24 Q1502.78 1564.07 1505.87 1564.07 Q1510.01 1564.07 1512.24 1562.66 Q1514.46 1561.23 1514.46 1558.65 Q1514.46 1556.27 1512.84 1554.99 Q1511.25 1553.72 1505.81 1552.54 L1503.77 1552.07 Q1498.33 1550.92 1495.91 1548.56 Q1493.49 1546.18 1493.49 1542.04 Q1493.49 1537.01 1497.05 1534.27 Q1500.62 1531.54 1507.18 1531.54 Q1510.42 1531.54 1513.29 1532.01 Q1516.15 1532.49 1518.57 1533.45 Z\" fill=\"#000000\" fill-rule=\"nonzero\" fill-opacity=\"1\" /><path clip-path=\"url(#clip210)\" d=\"M1586.36 1524.18 L1586.36 1530.96 Q1583.12 1527.94 1579.43 1526.44 Q1575.77 1524.95 1571.63 1524.95 Q1563.48 1524.95 1559.15 1529.95 Q1554.82 1534.91 1554.82 1544.33 Q1554.82 1553.72 1559.15 1558.72 Q1563.48 1563.68 1571.63 1563.68 Q1575.77 1563.68 1579.43 1562.19 Q1583.12 1560.69 1586.36 1557.67 L1586.36 1564.38 Q1582.99 1566.68 1579.2 1567.82 Q1575.45 1568.97 1571.25 1568.97 Q1560.46 1568.97 1554.25 1562.38 Q1548.04 1555.76 1548.04 1544.33 Q1548.04 1532.87 1554.25 1526.28 Q1560.46 1519.66 1571.25 1519.66 Q1575.51 1519.66 1579.27 1520.81 Q1583.05 1521.92 1586.36 1524.18 Z\" fill=\"#000000\" fill-rule=\"nonzero\" fill-opacity=\"1\" /><path clip-path=\"url(#clip210)\" d=\"M1595.12 1518.58 L1600.21 1518.58 Q1604.98 1526.09 1607.34 1533.29 Q1609.73 1540.48 1609.73 1547.58 Q1609.73 1554.71 1607.34 1561.93 Q1604.98 1569.16 1600.21 1576.64 L1595.12 1576.64 Q1599.35 1569.35 1601.42 1562.16 Q1603.52 1554.93 1603.52 1547.58 Q1603.52 1540.23 1601.42 1533.06 Q1599.35 1525.9 1595.12 1518.58 Z\" fill=\"#000000\" fill-rule=\"nonzero\" fill-opacity=\"1\" /><polyline clip-path=\"url(#clip212)\" style=\"stroke:#000000; stroke-linecap:round; stroke-linejoin:round; stroke-width:2; stroke-opacity:0.1; fill:none\" points=\"235.283,1423.18 2352.76,1423.18 \"/>\n",
              "<polyline clip-path=\"url(#clip212)\" style=\"stroke:#000000; stroke-linecap:round; stroke-linejoin:round; stroke-width:2; stroke-opacity:0.1; fill:none\" points=\"235.283,1173.01 2352.76,1173.01 \"/>\n",
              "<polyline clip-path=\"url(#clip212)\" style=\"stroke:#000000; stroke-linecap:round; stroke-linejoin:round; stroke-width:2; stroke-opacity:0.1; fill:none\" points=\"235.283,922.84 2352.76,922.84 \"/>\n",
              "<polyline clip-path=\"url(#clip212)\" style=\"stroke:#000000; stroke-linecap:round; stroke-linejoin:round; stroke-width:2; stroke-opacity:0.1; fill:none\" points=\"235.283,672.669 2352.76,672.669 \"/>\n",
              "<polyline clip-path=\"url(#clip212)\" style=\"stroke:#000000; stroke-linecap:round; stroke-linejoin:round; stroke-width:2; stroke-opacity:0.1; fill:none\" points=\"235.283,422.499 2352.76,422.499 \"/>\n",
              "<polyline clip-path=\"url(#clip212)\" style=\"stroke:#000000; stroke-linecap:round; stroke-linejoin:round; stroke-width:2; stroke-opacity:0.1; fill:none\" points=\"235.283,172.329 2352.76,172.329 \"/>\n",
              "<polyline clip-path=\"url(#clip210)\" style=\"stroke:#000000; stroke-linecap:round; stroke-linejoin:round; stroke-width:4; stroke-opacity:1; fill:none\" points=\"235.283,1423.18 235.283,47.2441 \"/>\n",
              "<polyline clip-path=\"url(#clip210)\" style=\"stroke:#000000; stroke-linecap:round; stroke-linejoin:round; stroke-width:4; stroke-opacity:1; fill:none\" points=\"235.283,1423.18 254.18,1423.18 \"/>\n",
              "<polyline clip-path=\"url(#clip210)\" style=\"stroke:#000000; stroke-linecap:round; stroke-linejoin:round; stroke-width:4; stroke-opacity:1; fill:none\" points=\"235.283,1173.01 254.18,1173.01 \"/>\n",
              "<polyline clip-path=\"url(#clip210)\" style=\"stroke:#000000; stroke-linecap:round; stroke-linejoin:round; stroke-width:4; stroke-opacity:1; fill:none\" points=\"235.283,922.84 254.18,922.84 \"/>\n",
              "<polyline clip-path=\"url(#clip210)\" style=\"stroke:#000000; stroke-linecap:round; stroke-linejoin:round; stroke-width:4; stroke-opacity:1; fill:none\" points=\"235.283,672.669 254.18,672.669 \"/>\n",
              "<polyline clip-path=\"url(#clip210)\" style=\"stroke:#000000; stroke-linecap:round; stroke-linejoin:round; stroke-width:4; stroke-opacity:1; fill:none\" points=\"235.283,422.499 254.18,422.499 \"/>\n",
              "<polyline clip-path=\"url(#clip210)\" style=\"stroke:#000000; stroke-linecap:round; stroke-linejoin:round; stroke-width:4; stroke-opacity:1; fill:none\" points=\"235.283,172.329 254.18,172.329 \"/>\n",
              "<path clip-path=\"url(#clip210)\" d=\"M187.338 1408.98 Q183.727 1408.98 181.899 1412.54 Q180.093 1416.08 180.093 1423.21 Q180.093 1430.32 181.899 1433.89 Q183.727 1437.43 187.338 1437.43 Q190.973 1437.43 192.778 1433.89 Q194.607 1430.32 194.607 1423.21 Q194.607 1416.08 192.778 1412.54 Q190.973 1408.98 187.338 1408.98 M187.338 1405.27 Q193.149 1405.27 196.204 1409.88 Q199.283 1414.46 199.283 1423.21 Q199.283 1431.94 196.204 1436.55 Q193.149 1441.13 187.338 1441.13 Q181.528 1441.13 178.45 1436.55 Q175.394 1431.94 175.394 1423.21 Q175.394 1414.46 178.45 1409.88 Q181.528 1405.27 187.338 1405.27 Z\" fill=\"#000000\" fill-rule=\"nonzero\" fill-opacity=\"1\" /><path clip-path=\"url(#clip210)\" d=\"M117.825 1186.35 L125.464 1186.35 L125.464 1159.99 L117.154 1161.66 L117.154 1157.4 L125.418 1155.73 L130.093 1155.73 L130.093 1186.35 L137.732 1186.35 L137.732 1190.29 L117.825 1190.29 L117.825 1186.35 Z\" fill=\"#000000\" fill-rule=\"nonzero\" fill-opacity=\"1\" /><path clip-path=\"url(#clip210)\" d=\"M157.177 1158.81 Q153.566 1158.81 151.737 1162.37 Q149.931 1165.91 149.931 1173.04 Q149.931 1180.15 151.737 1183.72 Q153.566 1187.26 157.177 1187.26 Q160.811 1187.26 162.616 1183.72 Q164.445 1180.15 164.445 1173.04 Q164.445 1165.91 162.616 1162.37 Q160.811 1158.81 157.177 1158.81 M157.177 1155.1 Q162.987 1155.1 166.042 1159.71 Q169.121 1164.29 169.121 1173.04 Q169.121 1181.77 166.042 1186.38 Q162.987 1190.96 157.177 1190.96 Q151.366 1190.96 148.288 1186.38 Q145.232 1181.77 145.232 1173.04 Q145.232 1164.29 148.288 1159.71 Q151.366 1155.1 157.177 1155.1 Z\" fill=\"#000000\" fill-rule=\"nonzero\" fill-opacity=\"1\" /><path clip-path=\"url(#clip210)\" d=\"M187.338 1158.81 Q183.727 1158.81 181.899 1162.37 Q180.093 1165.91 180.093 1173.04 Q180.093 1180.15 181.899 1183.72 Q183.727 1187.26 187.338 1187.26 Q190.973 1187.26 192.778 1183.72 Q194.607 1180.15 194.607 1173.04 Q194.607 1165.91 192.778 1162.37 Q190.973 1158.81 187.338 1158.81 M187.338 1155.1 Q193.149 1155.1 196.204 1159.71 Q199.283 1164.29 199.283 1173.04 Q199.283 1181.77 196.204 1186.38 Q193.149 1190.96 187.338 1190.96 Q181.528 1190.96 178.45 1186.38 Q175.394 1181.77 175.394 1173.04 Q175.394 1164.29 178.45 1159.71 Q181.528 1155.1 187.338 1155.1 Z\" fill=\"#000000\" fill-rule=\"nonzero\" fill-opacity=\"1\" /><path clip-path=\"url(#clip210)\" d=\"M121.043 936.184 L137.362 936.184 L137.362 940.12 L115.418 940.12 L115.418 936.184 Q118.08 933.43 122.663 928.8 Q127.269 924.147 128.45 922.805 Q130.695 920.282 131.575 918.546 Q132.478 916.786 132.478 915.097 Q132.478 912.342 130.533 910.606 Q128.612 908.87 125.51 908.87 Q123.311 908.87 120.857 909.634 Q118.427 910.398 115.649 911.948 L115.649 907.226 Q118.473 906.092 120.927 905.513 Q123.38 904.935 125.418 904.935 Q130.788 904.935 133.982 907.62 Q137.177 910.305 137.177 914.796 Q137.177 916.925 136.367 918.847 Q135.579 920.745 133.473 923.337 Q132.894 924.009 129.792 927.226 Q126.691 930.421 121.043 936.184 Z\" fill=\"#000000\" fill-rule=\"nonzero\" fill-opacity=\"1\" /><path clip-path=\"url(#clip210)\" d=\"M157.177 908.638 Q153.566 908.638 151.737 912.203 Q149.931 915.745 149.931 922.874 Q149.931 929.981 151.737 933.546 Q153.566 937.087 157.177 937.087 Q160.811 937.087 162.616 933.546 Q164.445 929.981 164.445 922.874 Q164.445 915.745 162.616 912.203 Q160.811 908.638 157.177 908.638 M157.177 904.935 Q162.987 904.935 166.042 909.541 Q169.121 914.124 169.121 922.874 Q169.121 931.601 166.042 936.208 Q162.987 940.791 157.177 940.791 Q151.366 940.791 148.288 936.208 Q145.232 931.601 145.232 922.874 Q145.232 914.124 148.288 909.541 Q151.366 904.935 157.177 904.935 Z\" fill=\"#000000\" fill-rule=\"nonzero\" fill-opacity=\"1\" /><path clip-path=\"url(#clip210)\" d=\"M187.338 908.638 Q183.727 908.638 181.899 912.203 Q180.093 915.745 180.093 922.874 Q180.093 929.981 181.899 933.546 Q183.727 937.087 187.338 937.087 Q190.973 937.087 192.778 933.546 Q194.607 929.981 194.607 922.874 Q194.607 915.745 192.778 912.203 Q190.973 908.638 187.338 908.638 M187.338 904.935 Q193.149 904.935 196.204 909.541 Q199.283 914.124 199.283 922.874 Q199.283 931.601 196.204 936.208 Q193.149 940.791 187.338 940.791 Q181.528 940.791 178.45 936.208 Q175.394 931.601 175.394 922.874 Q175.394 914.124 178.45 909.541 Q181.528 904.935 187.338 904.935 Z\" fill=\"#000000\" fill-rule=\"nonzero\" fill-opacity=\"1\" /><path clip-path=\"url(#clip210)\" d=\"M131.181 671.315 Q134.538 672.033 136.413 674.301 Q138.311 676.57 138.311 679.903 Q138.311 685.019 134.792 687.82 Q131.274 690.621 124.793 690.621 Q122.617 690.621 120.302 690.181 Q118.01 689.764 115.556 688.908 L115.556 684.394 Q117.501 685.528 119.816 686.107 Q122.13 686.686 124.654 686.686 Q129.052 686.686 131.343 684.949 Q133.658 683.213 133.658 679.903 Q133.658 676.848 131.505 675.135 Q129.376 673.399 125.556 673.399 L121.529 673.399 L121.529 669.556 L125.742 669.556 Q129.191 669.556 131.019 668.19 Q132.848 666.801 132.848 664.209 Q132.848 661.547 130.95 660.135 Q129.075 658.7 125.556 658.7 Q123.635 658.7 121.436 659.116 Q119.237 659.533 116.598 660.413 L116.598 656.246 Q119.26 655.505 121.575 655.135 Q123.913 654.764 125.973 654.764 Q131.297 654.764 134.399 657.195 Q137.501 659.602 137.501 663.723 Q137.501 666.593 135.857 668.584 Q134.214 670.551 131.181 671.315 Z\" fill=\"#000000\" fill-rule=\"nonzero\" fill-opacity=\"1\" /><path clip-path=\"url(#clip210)\" d=\"M157.177 658.468 Q153.566 658.468 151.737 662.033 Q149.931 665.575 149.931 672.704 Q149.931 679.811 151.737 683.375 Q153.566 686.917 157.177 686.917 Q160.811 686.917 162.616 683.375 Q164.445 679.811 164.445 672.704 Q164.445 665.575 162.616 662.033 Q160.811 658.468 157.177 658.468 M157.177 654.764 Q162.987 654.764 166.042 659.371 Q169.121 663.954 169.121 672.704 Q169.121 681.431 166.042 686.037 Q162.987 690.621 157.177 690.621 Q151.366 690.621 148.288 686.037 Q145.232 681.431 145.232 672.704 Q145.232 663.954 148.288 659.371 Q151.366 654.764 157.177 654.764 Z\" fill=\"#000000\" fill-rule=\"nonzero\" fill-opacity=\"1\" /><path clip-path=\"url(#clip210)\" d=\"M187.338 658.468 Q183.727 658.468 181.899 662.033 Q180.093 665.575 180.093 672.704 Q180.093 679.811 181.899 683.375 Q183.727 686.917 187.338 686.917 Q190.973 686.917 192.778 683.375 Q194.607 679.811 194.607 672.704 Q194.607 665.575 192.778 662.033 Q190.973 658.468 187.338 658.468 M187.338 654.764 Q193.149 654.764 196.204 659.371 Q199.283 663.954 199.283 672.704 Q199.283 681.431 196.204 686.037 Q193.149 690.621 187.338 690.621 Q181.528 690.621 178.45 686.037 Q175.394 681.431 175.394 672.704 Q175.394 663.954 178.45 659.371 Q181.528 654.764 187.338 654.764 Z\" fill=\"#000000\" fill-rule=\"nonzero\" fill-opacity=\"1\" /><path clip-path=\"url(#clip210)\" d=\"M129.862 409.293 L118.056 427.742 L129.862 427.742 L129.862 409.293 M128.635 405.219 L134.515 405.219 L134.515 427.742 L139.445 427.742 L139.445 431.631 L134.515 431.631 L134.515 439.779 L129.862 439.779 L129.862 431.631 L114.26 431.631 L114.26 427.117 L128.635 405.219 Z\" fill=\"#000000\" fill-rule=\"nonzero\" fill-opacity=\"1\" /><path clip-path=\"url(#clip210)\" d=\"M157.177 408.298 Q153.566 408.298 151.737 411.863 Q149.931 415.404 149.931 422.534 Q149.931 429.64 151.737 433.205 Q153.566 436.747 157.177 436.747 Q160.811 436.747 162.616 433.205 Q164.445 429.64 164.445 422.534 Q164.445 415.404 162.616 411.863 Q160.811 408.298 157.177 408.298 M157.177 404.594 Q162.987 404.594 166.042 409.201 Q169.121 413.784 169.121 422.534 Q169.121 431.261 166.042 435.867 Q162.987 440.451 157.177 440.451 Q151.366 440.451 148.288 435.867 Q145.232 431.261 145.232 422.534 Q145.232 413.784 148.288 409.201 Q151.366 404.594 157.177 404.594 Z\" fill=\"#000000\" fill-rule=\"nonzero\" fill-opacity=\"1\" /><path clip-path=\"url(#clip210)\" d=\"M187.338 408.298 Q183.727 408.298 181.899 411.863 Q180.093 415.404 180.093 422.534 Q180.093 429.64 181.899 433.205 Q183.727 436.747 187.338 436.747 Q190.973 436.747 192.778 433.205 Q194.607 429.64 194.607 422.534 Q194.607 415.404 192.778 411.863 Q190.973 408.298 187.338 408.298 M187.338 404.594 Q193.149 404.594 196.204 409.201 Q199.283 413.784 199.283 422.534 Q199.283 431.261 196.204 435.867 Q193.149 440.451 187.338 440.451 Q181.528 440.451 178.45 435.867 Q175.394 431.261 175.394 422.534 Q175.394 413.784 178.45 409.201 Q181.528 404.594 187.338 404.594 Z\" fill=\"#000000\" fill-rule=\"nonzero\" fill-opacity=\"1\" /><path clip-path=\"url(#clip210)\" d=\"M117.061 155.049 L135.417 155.049 L135.417 158.984 L121.343 158.984 L121.343 167.457 Q122.362 167.109 123.38 166.947 Q124.399 166.762 125.418 166.762 Q131.205 166.762 134.584 169.933 Q137.964 173.105 137.964 178.521 Q137.964 184.1 134.492 187.202 Q131.019 190.28 124.7 190.28 Q122.524 190.28 120.255 189.91 Q118.01 189.54 115.603 188.799 L115.603 184.1 Q117.686 185.234 119.908 185.79 Q122.13 186.345 124.607 186.345 Q128.612 186.345 130.95 184.239 Q133.288 182.132 133.288 178.521 Q133.288 174.91 130.95 172.804 Q128.612 170.697 124.607 170.697 Q122.732 170.697 120.857 171.114 Q119.006 171.531 117.061 172.41 L117.061 155.049 Z\" fill=\"#000000\" fill-rule=\"nonzero\" fill-opacity=\"1\" /><path clip-path=\"url(#clip210)\" d=\"M157.177 158.128 Q153.566 158.128 151.737 161.693 Q149.931 165.234 149.931 172.364 Q149.931 179.47 151.737 183.035 Q153.566 186.577 157.177 186.577 Q160.811 186.577 162.616 183.035 Q164.445 179.47 164.445 172.364 Q164.445 165.234 162.616 161.693 Q160.811 158.128 157.177 158.128 M157.177 154.424 Q162.987 154.424 166.042 159.031 Q169.121 163.614 169.121 172.364 Q169.121 181.091 166.042 185.697 Q162.987 190.28 157.177 190.28 Q151.366 190.28 148.288 185.697 Q145.232 181.091 145.232 172.364 Q145.232 163.614 148.288 159.031 Q151.366 154.424 157.177 154.424 Z\" fill=\"#000000\" fill-rule=\"nonzero\" fill-opacity=\"1\" /><path clip-path=\"url(#clip210)\" d=\"M187.338 158.128 Q183.727 158.128 181.899 161.693 Q180.093 165.234 180.093 172.364 Q180.093 179.47 181.899 183.035 Q183.727 186.577 187.338 186.577 Q190.973 186.577 192.778 183.035 Q194.607 179.47 194.607 172.364 Q194.607 165.234 192.778 161.693 Q190.973 158.128 187.338 158.128 M187.338 154.424 Q193.149 154.424 196.204 159.031 Q199.283 163.614 199.283 172.364 Q199.283 181.091 196.204 185.697 Q193.149 190.28 187.338 190.28 Q181.528 190.28 178.45 185.697 Q175.394 181.091 175.394 172.364 Q175.394 163.614 178.45 159.031 Q181.528 154.424 187.338 154.424 Z\" fill=\"#000000\" fill-rule=\"nonzero\" fill-opacity=\"1\" /><path clip-path=\"url(#clip210)\" d=\"M18.0438 922.809 L24.314 922.809 Q22.5634 926.47 21.704 929.716 Q20.8447 932.963 20.8447 935.986 Q20.8447 941.238 22.8817 944.103 Q24.9187 946.935 28.6745 946.935 Q31.8255 946.935 33.4488 945.057 Q35.0402 943.148 36.0269 937.864 L36.8226 933.981 Q38.1912 926.788 41.6605 923.382 Q45.098 919.945 50.8908 919.945 Q57.7976 919.945 61.3624 924.592 Q64.9272 929.207 64.9272 938.151 Q64.9272 941.525 64.1633 945.344 Q63.3994 949.132 61.9035 953.206 L55.2831 953.206 Q57.4793 949.291 58.5933 945.535 Q59.7073 941.779 59.7073 938.151 Q59.7073 932.644 57.543 929.652 Q55.3786 926.661 51.3682 926.661 Q47.8671 926.661 45.8937 928.825 Q43.9204 930.957 42.9337 935.859 L42.1698 939.774 Q40.7375 946.967 37.682 950.182 Q34.6264 953.397 29.1837 953.397 Q22.8817 953.397 19.2532 948.972 Q15.6248 944.516 15.6248 936.718 Q15.6248 933.376 16.2295 929.907 Q16.8343 926.438 18.0438 922.809 Z\" fill=\"#000000\" fill-rule=\"nonzero\" fill-opacity=\"1\" /><path clip-path=\"url(#clip210)\" d=\"M46.0847 893.973 Q46.0847 901.07 47.7079 903.808 Q49.3312 906.545 53.2461 906.545 Q56.3653 906.545 58.2114 904.508 Q60.0256 902.439 60.0256 898.906 Q60.0256 894.036 56.5881 891.108 Q53.1188 888.148 47.3897 888.148 L46.0847 888.148 L46.0847 893.973 M43.6657 882.292 L64.0042 882.292 L64.0042 888.148 L58.5933 888.148 Q61.8398 890.153 63.3994 893.145 Q64.9272 896.137 64.9272 900.466 Q64.9272 905.94 61.8716 909.187 Q58.7843 912.401 53.6281 912.401 Q47.6125 912.401 44.5569 908.391 Q41.5014 904.349 41.5014 896.36 L41.5014 888.148 L40.9285 888.148 Q36.8862 888.148 34.6901 890.822 Q32.4621 893.463 32.4621 898.27 Q32.4621 901.325 33.1941 904.221 Q33.9262 907.118 35.3903 909.791 L29.9795 909.791 Q28.7381 906.577 28.1334 903.553 Q27.4968 900.529 27.4968 897.665 Q27.4968 889.93 31.5072 886.111 Q35.5176 882.292 43.6657 882.292 Z\" fill=\"#000000\" fill-rule=\"nonzero\" fill-opacity=\"1\" /><path clip-path=\"url(#clip210)\" d=\"M35.1993 842.474 Q31.2526 840.278 29.3747 837.222 Q27.4968 834.167 27.4968 830.029 Q27.4968 824.459 31.4117 821.435 Q35.2948 818.412 42.4881 818.412 L64.0042 818.412 L64.0042 824.3 L42.679 824.3 Q37.5546 824.3 35.072 826.114 Q32.5894 827.928 32.5894 831.652 Q32.5894 836.204 35.6131 838.846 Q38.6368 841.487 43.8567 841.487 L64.0042 841.487 L64.0042 847.376 L42.679 847.376 Q37.5228 847.376 35.072 849.19 Q32.5894 851.004 32.5894 854.792 Q32.5894 859.28 35.6449 861.921 Q38.6686 864.563 43.8567 864.563 L64.0042 864.563 L64.0042 870.451 L28.3562 870.451 L28.3562 864.563 L33.8944 864.563 Q30.616 862.558 29.0564 859.757 Q27.4968 856.956 27.4968 853.105 Q27.4968 849.222 29.4702 846.516 Q31.4436 843.779 35.1993 842.474 Z\" fill=\"#000000\" fill-rule=\"nonzero\" fill-opacity=\"1\" /><path clip-path=\"url(#clip210)\" d=\"M58.657 801.065 L77.5631 801.065 L77.5631 806.953 L28.3562 806.953 L28.3562 801.065 L33.7671 801.065 Q30.5842 799.219 29.0564 796.418 Q27.4968 793.585 27.4968 789.671 Q27.4968 783.178 32.6531 779.135 Q37.8093 775.061 46.212 775.061 Q54.6147 775.061 59.771 779.135 Q64.9272 783.178 64.9272 789.671 Q64.9272 793.585 63.3994 796.418 Q61.8398 799.219 58.657 801.065 M46.212 781.141 Q39.7508 781.141 36.0905 783.814 Q32.3984 786.456 32.3984 791.103 Q32.3984 795.75 36.0905 798.423 Q39.7508 801.065 46.212 801.065 Q52.6732 801.065 56.3653 798.423 Q60.0256 795.75 60.0256 791.103 Q60.0256 786.456 56.3653 783.814 Q52.6732 781.141 46.212 781.141 Z\" fill=\"#000000\" fill-rule=\"nonzero\" fill-opacity=\"1\" /><path clip-path=\"url(#clip210)\" d=\"M14.479 765.354 L14.479 759.497 L64.0042 759.497 L64.0042 765.354 L14.479 765.354 Z\" fill=\"#000000\" fill-rule=\"nonzero\" fill-opacity=\"1\" /><path clip-path=\"url(#clip210)\" d=\"M44.7161 716.751 L47.5806 716.751 L47.5806 743.678 Q53.6281 743.296 56.8109 740.05 Q59.9619 736.772 59.9619 730.947 Q59.9619 727.573 59.1344 724.422 Q58.3069 721.239 56.6518 718.12 L62.1899 718.12 Q63.5267 721.271 64.227 724.581 Q64.9272 727.891 64.9272 731.297 Q64.9272 739.827 59.9619 744.824 Q54.9967 749.789 46.5303 749.789 Q37.7774 749.789 32.6531 745.079 Q27.4968 740.336 27.4968 732.316 Q27.4968 725.122 32.1438 720.953 Q36.7589 716.751 44.7161 716.751 M42.9973 722.608 Q38.1912 722.672 35.3266 725.313 Q32.4621 727.923 32.4621 732.252 Q32.4621 737.154 35.2312 740.114 Q38.0002 743.042 43.0292 743.487 L42.9973 722.608 Z\" fill=\"#000000\" fill-rule=\"nonzero\" fill-opacity=\"1\" /><path clip-path=\"url(#clip210)\" d=\"M64.0042 673.91 L16.4842 692.052 L16.4842 685.337 L56.4926 670.282 L16.4842 655.195 L16.4842 648.511 L64.0042 666.621 L64.0042 673.91 Z\" fill=\"#000000\" fill-rule=\"nonzero\" fill-opacity=\"1\" /><path clip-path=\"url(#clip210)\" d=\"M46.0847 630.687 Q46.0847 637.785 47.7079 640.522 Q49.3312 643.259 53.2461 643.259 Q56.3653 643.259 58.2114 641.222 Q60.0256 639.153 60.0256 635.62 Q60.0256 630.751 56.5881 627.822 Q53.1188 624.862 47.3897 624.862 L46.0847 624.862 L46.0847 630.687 M43.6657 619.006 L64.0042 619.006 L64.0042 624.862 L58.5933 624.862 Q61.8398 626.868 63.3994 629.86 Q64.9272 632.851 64.9272 637.18 Q64.9272 642.655 61.8716 645.901 Q58.7843 649.116 53.6281 649.116 Q47.6125 649.116 44.5569 645.105 Q41.5014 641.063 41.5014 633.074 L41.5014 624.862 L40.9285 624.862 Q36.8862 624.862 34.6901 627.536 Q32.4621 630.178 32.4621 634.984 Q32.4621 638.039 33.1941 640.936 Q33.9262 643.832 35.3903 646.506 L29.9795 646.506 Q28.7381 643.291 28.1334 640.267 Q27.4968 637.244 27.4968 634.379 Q27.4968 626.645 31.5072 622.825 Q35.5176 619.006 43.6657 619.006 Z\" fill=\"#000000\" fill-rule=\"nonzero\" fill-opacity=\"1\" /><path clip-path=\"url(#clip210)\" d=\"M14.479 606.943 L14.479 601.087 L64.0042 601.087 L64.0042 606.943 L14.479 606.943 Z\" fill=\"#000000\" fill-rule=\"nonzero\" fill-opacity=\"1\" /><path clip-path=\"url(#clip210)\" d=\"M49.9359 589.437 L28.3562 589.437 L28.3562 583.581 L49.7131 583.581 Q54.7739 583.581 57.3202 581.607 Q59.8346 579.634 59.8346 575.687 Q59.8346 570.945 56.8109 568.208 Q53.7872 565.439 48.5673 565.439 L28.3562 565.439 L28.3562 559.582 L64.0042 559.582 L64.0042 565.439 L58.5296 565.439 Q61.7762 567.571 63.3676 570.404 Q64.9272 573.205 64.9272 576.929 Q64.9272 583.072 61.1078 586.254 Q57.2883 589.437 49.9359 589.437 M27.4968 574.701 L27.4968 574.701 Z\" fill=\"#000000\" fill-rule=\"nonzero\" fill-opacity=\"1\" /><path clip-path=\"url(#clip210)\" d=\"M44.7161 517.027 L47.5806 517.027 L47.5806 543.954 Q53.6281 543.572 56.8109 540.326 Q59.9619 537.048 59.9619 531.223 Q59.9619 527.849 59.1344 524.698 Q58.3069 521.515 56.6518 518.396 L62.1899 518.396 Q63.5267 521.547 64.227 524.857 Q64.9272 528.167 64.9272 531.573 Q64.9272 540.103 59.9619 545.1 Q54.9967 550.065 46.5303 550.065 Q37.7774 550.065 32.6531 545.355 Q27.4968 540.612 27.4968 532.592 Q27.4968 525.398 32.1438 521.229 Q36.7589 517.027 44.7161 517.027 M42.9973 522.884 Q38.1912 522.947 35.3266 525.589 Q32.4621 528.199 32.4621 532.528 Q32.4621 537.429 35.2312 540.39 Q38.0002 543.318 43.0292 543.763 L42.9973 522.884 Z\" fill=\"#000000\" fill-rule=\"nonzero\" fill-opacity=\"1\" /><path clip-path=\"url(#clip212)\" d=\"M351.748 1420.68 L351.748 1423.18 L381.661 1423.18 L381.661 1420.68 L351.748 1420.68 L351.748 1420.68  Z\" fill=\"#009af9\" fill-rule=\"evenodd\" fill-opacity=\"1\"/>\n",
              "<polyline clip-path=\"url(#clip212)\" style=\"stroke:#000000; stroke-linecap:round; stroke-linejoin:round; stroke-width:4; stroke-opacity:1; fill:none\" points=\"351.748,1420.68 351.748,1423.18 381.661,1423.18 381.661,1420.68 351.748,1420.68 \"/>\n",
              "<path clip-path=\"url(#clip212)\" d=\"M381.661 1413.17 L381.661 1423.18 L411.574 1423.18 L411.574 1413.17 L381.661 1413.17 L381.661 1413.17  Z\" fill=\"#009af9\" fill-rule=\"evenodd\" fill-opacity=\"1\"/>\n",
              "<polyline clip-path=\"url(#clip212)\" style=\"stroke:#000000; stroke-linecap:round; stroke-linejoin:round; stroke-width:4; stroke-opacity:1; fill:none\" points=\"381.661,1413.17 381.661,1423.18 411.574,1423.18 411.574,1413.17 381.661,1413.17 \"/>\n",
              "<path clip-path=\"url(#clip212)\" d=\"M411.574 1418.18 L411.574 1423.18 L441.488 1423.18 L441.488 1418.18 L411.574 1418.18 L411.574 1418.18  Z\" fill=\"#009af9\" fill-rule=\"evenodd\" fill-opacity=\"1\"/>\n",
              "<polyline clip-path=\"url(#clip212)\" style=\"stroke:#000000; stroke-linecap:round; stroke-linejoin:round; stroke-width:4; stroke-opacity:1; fill:none\" points=\"411.574,1418.18 411.574,1423.18 441.488,1423.18 441.488,1418.18 411.574,1418.18 \"/>\n",
              "<path clip-path=\"url(#clip212)\" d=\"M441.488 1405.67 L441.488 1423.18 L471.401 1423.18 L471.401 1405.67 L441.488 1405.67 L441.488 1405.67  Z\" fill=\"#009af9\" fill-rule=\"evenodd\" fill-opacity=\"1\"/>\n",
              "<polyline clip-path=\"url(#clip212)\" style=\"stroke:#000000; stroke-linecap:round; stroke-linejoin:round; stroke-width:4; stroke-opacity:1; fill:none\" points=\"441.488,1405.67 441.488,1423.18 471.401,1423.18 471.401,1405.67 441.488,1405.67 \"/>\n",
              "<path clip-path=\"url(#clip212)\" d=\"M471.401 1358.14 L471.401 1423.18 L501.315 1423.18 L501.315 1358.14 L471.401 1358.14 L471.401 1358.14  Z\" fill=\"#009af9\" fill-rule=\"evenodd\" fill-opacity=\"1\"/>\n",
              "<polyline clip-path=\"url(#clip212)\" style=\"stroke:#000000; stroke-linecap:round; stroke-linejoin:round; stroke-width:4; stroke-opacity:1; fill:none\" points=\"471.401,1358.14 471.401,1423.18 501.315,1423.18 501.315,1358.14 471.401,1358.14 \"/>\n",
              "<path clip-path=\"url(#clip212)\" d=\"M501.315 1310.6 L501.315 1423.18 L531.228 1423.18 L531.228 1310.6 L501.315 1310.6 L501.315 1310.6  Z\" fill=\"#009af9\" fill-rule=\"evenodd\" fill-opacity=\"1\"/>\n",
              "<polyline clip-path=\"url(#clip212)\" style=\"stroke:#000000; stroke-linecap:round; stroke-linejoin:round; stroke-width:4; stroke-opacity:1; fill:none\" points=\"501.315,1310.6 501.315,1423.18 531.228,1423.18 531.228,1310.6 501.315,1310.6 \"/>\n",
              "<path clip-path=\"url(#clip212)\" d=\"M531.228 1245.56 L531.228 1423.18 L561.141 1423.18 L561.141 1245.56 L531.228 1245.56 L531.228 1245.56  Z\" fill=\"#009af9\" fill-rule=\"evenodd\" fill-opacity=\"1\"/>\n",
              "<polyline clip-path=\"url(#clip212)\" style=\"stroke:#000000; stroke-linecap:round; stroke-linejoin:round; stroke-width:4; stroke-opacity:1; fill:none\" points=\"531.228,1245.56 531.228,1423.18 561.141,1423.18 561.141,1245.56 531.228,1245.56 \"/>\n",
              "<path clip-path=\"url(#clip212)\" d=\"M561.141 1208.03 L561.141 1423.18 L591.055 1423.18 L591.055 1208.03 L561.141 1208.03 L561.141 1208.03  Z\" fill=\"#009af9\" fill-rule=\"evenodd\" fill-opacity=\"1\"/>\n",
              "<polyline clip-path=\"url(#clip212)\" style=\"stroke:#000000; stroke-linecap:round; stroke-linejoin:round; stroke-width:4; stroke-opacity:1; fill:none\" points=\"561.141,1208.03 561.141,1423.18 591.055,1423.18 591.055,1208.03 561.141,1208.03 \"/>\n",
              "<path clip-path=\"url(#clip212)\" d=\"M591.055 1150.49 L591.055 1423.18 L620.968 1423.18 L620.968 1150.49 L591.055 1150.49 L591.055 1150.49  Z\" fill=\"#009af9\" fill-rule=\"evenodd\" fill-opacity=\"1\"/>\n",
              "<polyline clip-path=\"url(#clip212)\" style=\"stroke:#000000; stroke-linecap:round; stroke-linejoin:round; stroke-width:4; stroke-opacity:1; fill:none\" points=\"591.055,1150.49 591.055,1423.18 620.968,1423.18 620.968,1150.49 591.055,1150.49 \"/>\n",
              "<path clip-path=\"url(#clip212)\" d=\"M620.968 975.375 L620.968 1423.18 L650.882 1423.18 L650.882 975.375 L620.968 975.375 L620.968 975.375  Z\" fill=\"#009af9\" fill-rule=\"evenodd\" fill-opacity=\"1\"/>\n",
              "<polyline clip-path=\"url(#clip212)\" style=\"stroke:#000000; stroke-linecap:round; stroke-linejoin:round; stroke-width:4; stroke-opacity:1; fill:none\" points=\"620.968,975.375 620.968,1423.18 650.882,1423.18 650.882,975.375 620.968,975.375 \"/>\n",
              "<path clip-path=\"url(#clip212)\" d=\"M650.882 810.263 L650.882 1423.18 L680.795 1423.18 L680.795 810.263 L650.882 810.263 L650.882 810.263  Z\" fill=\"#009af9\" fill-rule=\"evenodd\" fill-opacity=\"1\"/>\n",
              "<polyline clip-path=\"url(#clip212)\" style=\"stroke:#000000; stroke-linecap:round; stroke-linejoin:round; stroke-width:4; stroke-opacity:1; fill:none\" points=\"650.882,810.263 650.882,1423.18 680.795,1423.18 680.795,810.263 650.882,810.263 \"/>\n",
              "<path clip-path=\"url(#clip212)\" d=\"M680.795 697.686 L680.795 1423.18 L710.708 1423.18 L710.708 697.686 L680.795 697.686 L680.795 697.686  Z\" fill=\"#009af9\" fill-rule=\"evenodd\" fill-opacity=\"1\"/>\n",
              "<polyline clip-path=\"url(#clip212)\" style=\"stroke:#000000; stroke-linecap:round; stroke-linejoin:round; stroke-width:4; stroke-opacity:1; fill:none\" points=\"680.795,697.686 680.795,1423.18 710.708,1423.18 710.708,697.686 680.795,697.686 \"/>\n",
              "<path clip-path=\"url(#clip212)\" d=\"M710.708 394.981 L710.708 1423.18 L740.622 1423.18 L740.622 394.981 L710.708 394.981 L710.708 394.981  Z\" fill=\"#009af9\" fill-rule=\"evenodd\" fill-opacity=\"1\"/>\n",
              "<polyline clip-path=\"url(#clip212)\" style=\"stroke:#000000; stroke-linecap:round; stroke-linejoin:round; stroke-width:4; stroke-opacity:1; fill:none\" points=\"710.708,394.981 710.708,1423.18 740.622,1423.18 740.622,394.981 710.708,394.981 \"/>\n",
              "<path clip-path=\"url(#clip212)\" d=\"M740.622 304.919 L740.622 1423.18 L770.535 1423.18 L770.535 304.919 L740.622 304.919 L740.622 304.919  Z\" fill=\"#009af9\" fill-rule=\"evenodd\" fill-opacity=\"1\"/>\n",
              "<polyline clip-path=\"url(#clip212)\" style=\"stroke:#000000; stroke-linecap:round; stroke-linejoin:round; stroke-width:4; stroke-opacity:1; fill:none\" points=\"740.622,304.919 740.622,1423.18 770.535,1423.18 770.535,304.919 740.622,304.919 \"/>\n",
              "<path clip-path=\"url(#clip212)\" d=\"M770.535 354.953 L770.535 1423.18 L800.448 1423.18 L800.448 354.953 L770.535 354.953 L770.535 354.953  Z\" fill=\"#009af9\" fill-rule=\"evenodd\" fill-opacity=\"1\"/>\n",
              "<polyline clip-path=\"url(#clip212)\" style=\"stroke:#000000; stroke-linecap:round; stroke-linejoin:round; stroke-width:4; stroke-opacity:1; fill:none\" points=\"770.535,354.953 770.535,1423.18 800.448,1423.18 800.448,354.953 770.535,354.953 \"/>\n",
              "<path clip-path=\"url(#clip212)\" d=\"M800.448 209.855 L800.448 1423.18 L830.362 1423.18 L830.362 209.855 L800.448 209.855 L800.448 209.855  Z\" fill=\"#009af9\" fill-rule=\"evenodd\" fill-opacity=\"1\"/>\n",
              "<polyline clip-path=\"url(#clip212)\" style=\"stroke:#000000; stroke-linecap:round; stroke-linejoin:round; stroke-width:4; stroke-opacity:1; fill:none\" points=\"800.448,209.855 800.448,1423.18 830.362,1423.18 830.362,209.855 800.448,209.855 \"/>\n",
              "<path clip-path=\"url(#clip212)\" d=\"M830.362 82.2679 L830.362 1423.18 L860.275 1423.18 L860.275 82.2679 L830.362 82.2679 L830.362 82.2679  Z\" fill=\"#009af9\" fill-rule=\"evenodd\" fill-opacity=\"1\"/>\n",
              "<polyline clip-path=\"url(#clip212)\" style=\"stroke:#000000; stroke-linecap:round; stroke-linejoin:round; stroke-width:4; stroke-opacity:1; fill:none\" points=\"830.362,82.2679 830.362,1423.18 860.275,1423.18 860.275,82.2679 830.362,82.2679 \"/>\n",
              "<path clip-path=\"url(#clip212)\" d=\"M860.275 62.2543 L860.275 1423.18 L890.189 1423.18 L890.189 62.2543 L860.275 62.2543 L860.275 62.2543  Z\" fill=\"#009af9\" fill-rule=\"evenodd\" fill-opacity=\"1\"/>\n",
              "<polyline clip-path=\"url(#clip212)\" style=\"stroke:#000000; stroke-linecap:round; stroke-linejoin:round; stroke-width:4; stroke-opacity:1; fill:none\" points=\"860.275,62.2543 860.275,1423.18 890.189,1423.18 890.189,62.2543 860.275,62.2543 \"/>\n",
              "<path clip-path=\"url(#clip212)\" d=\"M890.189 47.2441 L890.189 1423.18 L920.102 1423.18 L920.102 47.2441 L890.189 47.2441 L890.189 47.2441  Z\" fill=\"#009af9\" fill-rule=\"evenodd\" fill-opacity=\"1\"/>\n",
              "<polyline clip-path=\"url(#clip212)\" style=\"stroke:#000000; stroke-linecap:round; stroke-linejoin:round; stroke-width:4; stroke-opacity:1; fill:none\" points=\"890.189,47.2441 890.189,1423.18 920.102,1423.18 920.102,47.2441 890.189,47.2441 \"/>\n",
              "<path clip-path=\"url(#clip212)\" d=\"M920.102 112.288 L920.102 1423.18 L950.015 1423.18 L950.015 112.288 L920.102 112.288 L920.102 112.288  Z\" fill=\"#009af9\" fill-rule=\"evenodd\" fill-opacity=\"1\"/>\n",
              "<polyline clip-path=\"url(#clip212)\" style=\"stroke:#000000; stroke-linecap:round; stroke-linejoin:round; stroke-width:4; stroke-opacity:1; fill:none\" points=\"920.102,112.288 920.102,1423.18 950.015,1423.18 950.015,112.288 920.102,112.288 \"/>\n",
              "<path clip-path=\"url(#clip212)\" d=\"M950.015 122.295 L950.015 1423.18 L979.929 1423.18 L979.929 122.295 L950.015 122.295 L950.015 122.295  Z\" fill=\"#009af9\" fill-rule=\"evenodd\" fill-opacity=\"1\"/>\n",
              "<polyline clip-path=\"url(#clip212)\" style=\"stroke:#000000; stroke-linecap:round; stroke-linejoin:round; stroke-width:4; stroke-opacity:1; fill:none\" points=\"950.015,122.295 950.015,1423.18 979.929,1423.18 979.929,122.295 950.015,122.295 \"/>\n",
              "<path clip-path=\"url(#clip212)\" d=\"M979.929 169.827 L979.929 1423.18 L1009.84 1423.18 L1009.84 169.827 L979.929 169.827 L979.929 169.827  Z\" fill=\"#009af9\" fill-rule=\"evenodd\" fill-opacity=\"1\"/>\n",
              "<polyline clip-path=\"url(#clip212)\" style=\"stroke:#000000; stroke-linecap:round; stroke-linejoin:round; stroke-width:4; stroke-opacity:1; fill:none\" points=\"979.929,169.827 979.929,1423.18 1009.84,1423.18 1009.84,169.827 979.929,169.827 \"/>\n",
              "<path clip-path=\"url(#clip212)\" d=\"M1009.84 212.356 L1009.84 1423.18 L1039.76 1423.18 L1039.76 212.356 L1009.84 212.356 L1009.84 212.356  Z\" fill=\"#009af9\" fill-rule=\"evenodd\" fill-opacity=\"1\"/>\n",
              "<polyline clip-path=\"url(#clip212)\" style=\"stroke:#000000; stroke-linecap:round; stroke-linejoin:round; stroke-width:4; stroke-opacity:1; fill:none\" points=\"1009.84,212.356 1009.84,1423.18 1039.76,1423.18 1039.76,212.356 1009.84,212.356 \"/>\n",
              "<path clip-path=\"url(#clip212)\" d=\"M1039.76 342.445 L1039.76 1423.18 L1069.67 1423.18 L1069.67 342.445 L1039.76 342.445 L1039.76 342.445  Z\" fill=\"#009af9\" fill-rule=\"evenodd\" fill-opacity=\"1\"/>\n",
              "<polyline clip-path=\"url(#clip212)\" style=\"stroke:#000000; stroke-linecap:round; stroke-linejoin:round; stroke-width:4; stroke-opacity:1; fill:none\" points=\"1039.76,342.445 1039.76,1423.18 1069.67,1423.18 1069.67,342.445 1039.76,342.445 \"/>\n",
              "<path clip-path=\"url(#clip212)\" d=\"M1069.67 455.021 L1069.67 1423.18 L1099.58 1423.18 L1099.58 455.021 L1069.67 455.021 L1069.67 455.021  Z\" fill=\"#009af9\" fill-rule=\"evenodd\" fill-opacity=\"1\"/>\n",
              "<polyline clip-path=\"url(#clip212)\" style=\"stroke:#000000; stroke-linecap:round; stroke-linejoin:round; stroke-width:4; stroke-opacity:1; fill:none\" points=\"1069.67,455.021 1069.67,1423.18 1099.58,1423.18 1099.58,455.021 1069.67,455.021 \"/>\n",
              "<path clip-path=\"url(#clip212)\" d=\"M1099.58 557.591 L1099.58 1423.18 L1129.5 1423.18 L1129.5 557.591 L1099.58 557.591 L1099.58 557.591  Z\" fill=\"#009af9\" fill-rule=\"evenodd\" fill-opacity=\"1\"/>\n",
              "<polyline clip-path=\"url(#clip212)\" style=\"stroke:#000000; stroke-linecap:round; stroke-linejoin:round; stroke-width:4; stroke-opacity:1; fill:none\" points=\"1099.58,557.591 1099.58,1423.18 1129.5,1423.18 1129.5,557.591 1099.58,557.591 \"/>\n",
              "<path clip-path=\"url(#clip212)\" d=\"M1129.5 615.13 L1129.5 1423.18 L1159.41 1423.18 L1159.41 615.13 L1129.5 615.13 L1129.5 615.13  Z\" fill=\"#009af9\" fill-rule=\"evenodd\" fill-opacity=\"1\"/>\n",
              "<polyline clip-path=\"url(#clip212)\" style=\"stroke:#000000; stroke-linecap:round; stroke-linejoin:round; stroke-width:4; stroke-opacity:1; fill:none\" points=\"1129.5,615.13 1129.5,1423.18 1159.41,1423.18 1159.41,615.13 1129.5,615.13 \"/>\n",
              "<path clip-path=\"url(#clip212)\" d=\"M1159.41 667.666 L1159.41 1423.18 L1189.32 1423.18 L1189.32 667.666 L1159.41 667.666 L1159.41 667.666  Z\" fill=\"#009af9\" fill-rule=\"evenodd\" fill-opacity=\"1\"/>\n",
              "<polyline clip-path=\"url(#clip212)\" style=\"stroke:#000000; stroke-linecap:round; stroke-linejoin:round; stroke-width:4; stroke-opacity:1; fill:none\" points=\"1159.41,667.666 1159.41,1423.18 1189.32,1423.18 1189.32,667.666 1159.41,667.666 \"/>\n",
              "<path clip-path=\"url(#clip212)\" d=\"M1189.32 780.243 L1189.32 1423.18 L1219.24 1423.18 L1219.24 780.243 L1189.32 780.243 L1189.32 780.243  Z\" fill=\"#009af9\" fill-rule=\"evenodd\" fill-opacity=\"1\"/>\n",
              "<polyline clip-path=\"url(#clip212)\" style=\"stroke:#000000; stroke-linecap:round; stroke-linejoin:round; stroke-width:4; stroke-opacity:1; fill:none\" points=\"1189.32,780.243 1189.32,1423.18 1219.24,1423.18 1219.24,780.243 1189.32,780.243 \"/>\n",
              "<path clip-path=\"url(#clip212)\" d=\"M1219.24 897.823 L1219.24 1423.18 L1249.15 1423.18 L1249.15 897.823 L1219.24 897.823 L1219.24 897.823  Z\" fill=\"#009af9\" fill-rule=\"evenodd\" fill-opacity=\"1\"/>\n",
              "<polyline clip-path=\"url(#clip212)\" style=\"stroke:#000000; stroke-linecap:round; stroke-linejoin:round; stroke-width:4; stroke-opacity:1; fill:none\" points=\"1219.24,897.823 1219.24,1423.18 1249.15,1423.18 1249.15,897.823 1219.24,897.823 \"/>\n",
              "<path clip-path=\"url(#clip212)\" d=\"M1249.15 932.846 L1249.15 1423.18 L1279.06 1423.18 L1279.06 932.846 L1249.15 932.846 L1249.15 932.846  Z\" fill=\"#009af9\" fill-rule=\"evenodd\" fill-opacity=\"1\"/>\n",
              "<polyline clip-path=\"url(#clip212)\" style=\"stroke:#000000; stroke-linecap:round; stroke-linejoin:round; stroke-width:4; stroke-opacity:1; fill:none\" points=\"1249.15,932.846 1249.15,1423.18 1279.06,1423.18 1279.06,932.846 1249.15,932.846 \"/>\n",
              "<path clip-path=\"url(#clip212)\" d=\"M1279.06 1080.45 L1279.06 1423.18 L1308.98 1423.18 L1308.98 1080.45 L1279.06 1080.45 L1279.06 1080.45  Z\" fill=\"#009af9\" fill-rule=\"evenodd\" fill-opacity=\"1\"/>\n",
              "<polyline clip-path=\"url(#clip212)\" style=\"stroke:#000000; stroke-linecap:round; stroke-linejoin:round; stroke-width:4; stroke-opacity:1; fill:none\" points=\"1279.06,1080.45 1279.06,1423.18 1308.98,1423.18 1308.98,1080.45 1279.06,1080.45 \"/>\n",
              "<path clip-path=\"url(#clip212)\" d=\"M1308.98 1052.93 L1308.98 1423.18 L1338.89 1423.18 L1338.89 1052.93 L1308.98 1052.93 L1308.98 1052.93  Z\" fill=\"#009af9\" fill-rule=\"evenodd\" fill-opacity=\"1\"/>\n",
              "<polyline clip-path=\"url(#clip212)\" style=\"stroke:#000000; stroke-linecap:round; stroke-linejoin:round; stroke-width:4; stroke-opacity:1; fill:none\" points=\"1308.98,1052.93 1308.98,1423.18 1338.89,1423.18 1338.89,1052.93 1308.98,1052.93 \"/>\n",
              "<path clip-path=\"url(#clip212)\" d=\"M1338.89 1092.96 L1338.89 1423.18 L1368.8 1423.18 L1368.8 1092.96 L1338.89 1092.96 L1338.89 1092.96  Z\" fill=\"#009af9\" fill-rule=\"evenodd\" fill-opacity=\"1\"/>\n",
              "<polyline clip-path=\"url(#clip212)\" style=\"stroke:#000000; stroke-linecap:round; stroke-linejoin:round; stroke-width:4; stroke-opacity:1; fill:none\" points=\"1338.89,1092.96 1338.89,1423.18 1368.8,1423.18 1368.8,1092.96 1338.89,1092.96 \"/>\n",
              "<path clip-path=\"url(#clip212)\" d=\"M1368.8 1155.5 L1368.8 1423.18 L1398.72 1423.18 L1398.72 1155.5 L1368.8 1155.5 L1368.8 1155.5  Z\" fill=\"#009af9\" fill-rule=\"evenodd\" fill-opacity=\"1\"/>\n",
              "<polyline clip-path=\"url(#clip212)\" style=\"stroke:#000000; stroke-linecap:round; stroke-linejoin:round; stroke-width:4; stroke-opacity:1; fill:none\" points=\"1368.8,1155.5 1368.8,1423.18 1398.72,1423.18 1398.72,1155.5 1368.8,1155.5 \"/>\n",
              "<path clip-path=\"url(#clip212)\" d=\"M1398.72 1200.53 L1398.72 1423.18 L1428.63 1423.18 L1428.63 1200.53 L1398.72 1200.53 L1398.72 1200.53  Z\" fill=\"#009af9\" fill-rule=\"evenodd\" fill-opacity=\"1\"/>\n",
              "<polyline clip-path=\"url(#clip212)\" style=\"stroke:#000000; stroke-linecap:round; stroke-linejoin:round; stroke-width:4; stroke-opacity:1; fill:none\" points=\"1398.72,1200.53 1398.72,1423.18 1428.63,1423.18 1428.63,1200.53 1398.72,1200.53 \"/>\n",
              "<path clip-path=\"url(#clip212)\" d=\"M1428.63 1205.53 L1428.63 1423.18 L1458.54 1423.18 L1458.54 1205.53 L1428.63 1205.53 L1428.63 1205.53  Z\" fill=\"#009af9\" fill-rule=\"evenodd\" fill-opacity=\"1\"/>\n",
              "<polyline clip-path=\"url(#clip212)\" style=\"stroke:#000000; stroke-linecap:round; stroke-linejoin:round; stroke-width:4; stroke-opacity:1; fill:none\" points=\"1428.63,1205.53 1428.63,1423.18 1458.54,1423.18 1458.54,1205.53 1428.63,1205.53 \"/>\n",
              "<path clip-path=\"url(#clip212)\" d=\"M1458.54 1270.58 L1458.54 1423.18 L1488.46 1423.18 L1488.46 1270.58 L1458.54 1270.58 L1458.54 1270.58  Z\" fill=\"#009af9\" fill-rule=\"evenodd\" fill-opacity=\"1\"/>\n",
              "<polyline clip-path=\"url(#clip212)\" style=\"stroke:#000000; stroke-linecap:round; stroke-linejoin:round; stroke-width:4; stroke-opacity:1; fill:none\" points=\"1458.54,1270.58 1458.54,1423.18 1488.46,1423.18 1488.46,1270.58 1458.54,1270.58 \"/>\n",
              "<path clip-path=\"url(#clip212)\" d=\"M1488.46 1323.11 L1488.46 1423.18 L1518.37 1423.18 L1518.37 1323.11 L1488.46 1323.11 L1488.46 1323.11  Z\" fill=\"#009af9\" fill-rule=\"evenodd\" fill-opacity=\"1\"/>\n",
              "<polyline clip-path=\"url(#clip212)\" style=\"stroke:#000000; stroke-linecap:round; stroke-linejoin:round; stroke-width:4; stroke-opacity:1; fill:none\" points=\"1488.46,1323.11 1488.46,1423.18 1518.37,1423.18 1518.37,1323.11 1488.46,1323.11 \"/>\n",
              "<path clip-path=\"url(#clip212)\" d=\"M1518.37 1328.12 L1518.37 1423.18 L1548.28 1423.18 L1548.28 1328.12 L1518.37 1328.12 L1518.37 1328.12  Z\" fill=\"#009af9\" fill-rule=\"evenodd\" fill-opacity=\"1\"/>\n",
              "<polyline clip-path=\"url(#clip212)\" style=\"stroke:#000000; stroke-linecap:round; stroke-linejoin:round; stroke-width:4; stroke-opacity:1; fill:none\" points=\"1518.37,1328.12 1518.37,1423.18 1548.28,1423.18 1548.28,1328.12 1518.37,1328.12 \"/>\n",
              "<path clip-path=\"url(#clip212)\" d=\"M1548.28 1308.1 L1548.28 1423.18 L1578.2 1423.18 L1578.2 1308.1 L1548.28 1308.1 L1548.28 1308.1  Z\" fill=\"#009af9\" fill-rule=\"evenodd\" fill-opacity=\"1\"/>\n",
              "<polyline clip-path=\"url(#clip212)\" style=\"stroke:#000000; stroke-linecap:round; stroke-linejoin:round; stroke-width:4; stroke-opacity:1; fill:none\" points=\"1548.28,1308.1 1548.28,1423.18 1578.2,1423.18 1578.2,1308.1 1548.28,1308.1 \"/>\n",
              "<path clip-path=\"url(#clip212)\" d=\"M1578.2 1338.12 L1578.2 1423.18 L1608.11 1423.18 L1608.11 1338.12 L1578.2 1338.12 L1578.2 1338.12  Z\" fill=\"#009af9\" fill-rule=\"evenodd\" fill-opacity=\"1\"/>\n",
              "<polyline clip-path=\"url(#clip212)\" style=\"stroke:#000000; stroke-linecap:round; stroke-linejoin:round; stroke-width:4; stroke-opacity:1; fill:none\" points=\"1578.2,1338.12 1578.2,1423.18 1608.11,1423.18 1608.11,1338.12 1578.2,1338.12 \"/>\n",
              "<path clip-path=\"url(#clip212)\" d=\"M1608.11 1355.63 L1608.11 1423.18 L1638.02 1423.18 L1638.02 1355.63 L1608.11 1355.63 L1608.11 1355.63  Z\" fill=\"#009af9\" fill-rule=\"evenodd\" fill-opacity=\"1\"/>\n",
              "<polyline clip-path=\"url(#clip212)\" style=\"stroke:#000000; stroke-linecap:round; stroke-linejoin:round; stroke-width:4; stroke-opacity:1; fill:none\" points=\"1608.11,1355.63 1608.11,1423.18 1638.02,1423.18 1638.02,1355.63 1608.11,1355.63 \"/>\n",
              "<path clip-path=\"url(#clip212)\" d=\"M1638.02 1373.15 L1638.02 1423.18 L1667.94 1423.18 L1667.94 1373.15 L1638.02 1373.15 L1638.02 1373.15  Z\" fill=\"#009af9\" fill-rule=\"evenodd\" fill-opacity=\"1\"/>\n",
              "<polyline clip-path=\"url(#clip212)\" style=\"stroke:#000000; stroke-linecap:round; stroke-linejoin:round; stroke-width:4; stroke-opacity:1; fill:none\" points=\"1638.02,1373.15 1638.02,1423.18 1667.94,1423.18 1667.94,1373.15 1638.02,1373.15 \"/>\n",
              "<path clip-path=\"url(#clip212)\" d=\"M1667.94 1378.15 L1667.94 1423.18 L1697.85 1423.18 L1697.85 1378.15 L1667.94 1378.15 L1667.94 1378.15  Z\" fill=\"#009af9\" fill-rule=\"evenodd\" fill-opacity=\"1\"/>\n",
              "<polyline clip-path=\"url(#clip212)\" style=\"stroke:#000000; stroke-linecap:round; stroke-linejoin:round; stroke-width:4; stroke-opacity:1; fill:none\" points=\"1667.94,1378.15 1667.94,1423.18 1697.85,1423.18 1697.85,1378.15 1667.94,1378.15 \"/>\n",
              "<path clip-path=\"url(#clip212)\" d=\"M1697.85 1373.15 L1697.85 1423.18 L1727.76 1423.18 L1727.76 1373.15 L1697.85 1373.15 L1697.85 1373.15  Z\" fill=\"#009af9\" fill-rule=\"evenodd\" fill-opacity=\"1\"/>\n",
              "<polyline clip-path=\"url(#clip212)\" style=\"stroke:#000000; stroke-linecap:round; stroke-linejoin:round; stroke-width:4; stroke-opacity:1; fill:none\" points=\"1697.85,1373.15 1697.85,1423.18 1727.76,1423.18 1727.76,1373.15 1697.85,1373.15 \"/>\n",
              "<path clip-path=\"url(#clip212)\" d=\"M1727.76 1398.16 L1727.76 1423.18 L1757.68 1423.18 L1757.68 1398.16 L1727.76 1398.16 L1727.76 1398.16  Z\" fill=\"#009af9\" fill-rule=\"evenodd\" fill-opacity=\"1\"/>\n",
              "<polyline clip-path=\"url(#clip212)\" style=\"stroke:#000000; stroke-linecap:round; stroke-linejoin:round; stroke-width:4; stroke-opacity:1; fill:none\" points=\"1727.76,1398.16 1727.76,1423.18 1757.68,1423.18 1757.68,1398.16 1727.76,1398.16 \"/>\n",
              "<path clip-path=\"url(#clip212)\" d=\"M1757.68 1400.66 L1757.68 1423.18 L1787.59 1423.18 L1787.59 1400.66 L1757.68 1400.66 L1757.68 1400.66  Z\" fill=\"#009af9\" fill-rule=\"evenodd\" fill-opacity=\"1\"/>\n",
              "<polyline clip-path=\"url(#clip212)\" style=\"stroke:#000000; stroke-linecap:round; stroke-linejoin:round; stroke-width:4; stroke-opacity:1; fill:none\" points=\"1757.68,1400.66 1757.68,1423.18 1787.59,1423.18 1787.59,1400.66 1757.68,1400.66 \"/>\n",
              "<path clip-path=\"url(#clip212)\" d=\"M1787.59 1395.66 L1787.59 1423.18 L1817.5 1423.18 L1817.5 1395.66 L1787.59 1395.66 L1787.59 1395.66  Z\" fill=\"#009af9\" fill-rule=\"evenodd\" fill-opacity=\"1\"/>\n",
              "<polyline clip-path=\"url(#clip212)\" style=\"stroke:#000000; stroke-linecap:round; stroke-linejoin:round; stroke-width:4; stroke-opacity:1; fill:none\" points=\"1787.59,1395.66 1787.59,1423.18 1817.5,1423.18 1817.5,1395.66 1787.59,1395.66 \"/>\n",
              "<path clip-path=\"url(#clip212)\" d=\"M1817.5 1405.67 L1817.5 1423.18 L1847.42 1423.18 L1847.42 1405.67 L1817.5 1405.67 L1817.5 1405.67  Z\" fill=\"#009af9\" fill-rule=\"evenodd\" fill-opacity=\"1\"/>\n",
              "<polyline clip-path=\"url(#clip212)\" style=\"stroke:#000000; stroke-linecap:round; stroke-linejoin:round; stroke-width:4; stroke-opacity:1; fill:none\" points=\"1817.5,1405.67 1817.5,1423.18 1847.42,1423.18 1847.42,1405.67 1817.5,1405.67 \"/>\n",
              "<path clip-path=\"url(#clip212)\" d=\"M1847.42 1418.18 L1847.42 1423.18 L1877.33 1423.18 L1877.33 1418.18 L1847.42 1418.18 L1847.42 1418.18  Z\" fill=\"#009af9\" fill-rule=\"evenodd\" fill-opacity=\"1\"/>\n",
              "<polyline clip-path=\"url(#clip212)\" style=\"stroke:#000000; stroke-linecap:round; stroke-linejoin:round; stroke-width:4; stroke-opacity:1; fill:none\" points=\"1847.42,1418.18 1847.42,1423.18 1877.33,1423.18 1877.33,1418.18 1847.42,1418.18 \"/>\n",
              "<path clip-path=\"url(#clip212)\" d=\"M1877.33 1418.18 L1877.33 1423.18 L1907.24 1423.18 L1907.24 1418.18 L1877.33 1418.18 L1877.33 1418.18  Z\" fill=\"#009af9\" fill-rule=\"evenodd\" fill-opacity=\"1\"/>\n",
              "<polyline clip-path=\"url(#clip212)\" style=\"stroke:#000000; stroke-linecap:round; stroke-linejoin:round; stroke-width:4; stroke-opacity:1; fill:none\" points=\"1877.33,1418.18 1877.33,1423.18 1907.24,1423.18 1907.24,1418.18 1877.33,1418.18 \"/>\n",
              "<path clip-path=\"url(#clip212)\" d=\"M1907.24 1418.18 L1907.24 1423.18 L1937.16 1423.18 L1937.16 1418.18 L1907.24 1418.18 L1907.24 1418.18  Z\" fill=\"#009af9\" fill-rule=\"evenodd\" fill-opacity=\"1\"/>\n",
              "<polyline clip-path=\"url(#clip212)\" style=\"stroke:#000000; stroke-linecap:round; stroke-linejoin:round; stroke-width:4; stroke-opacity:1; fill:none\" points=\"1907.24,1418.18 1907.24,1423.18 1937.16,1423.18 1937.16,1418.18 1907.24,1418.18 \"/>\n",
              "<path clip-path=\"url(#clip212)\" d=\"M1937.16 1423.18 L1937.16 1423.18 L1967.07 1423.18 L1967.07 1423.18 L1937.16 1423.18 L1937.16 1423.18  Z\" fill=\"#009af9\" fill-rule=\"evenodd\" fill-opacity=\"1\"/>\n",
              "<polyline clip-path=\"url(#clip212)\" style=\"stroke:#000000; stroke-linecap:round; stroke-linejoin:round; stroke-width:4; stroke-opacity:1; fill:none\" points=\"1937.16,1423.18 1937.16,1423.18 1967.07,1423.18 1937.16,1423.18 \"/>\n",
              "<path clip-path=\"url(#clip212)\" d=\"M1967.07 1420.68 L1967.07 1423.18 L1996.98 1423.18 L1996.98 1420.68 L1967.07 1420.68 L1967.07 1420.68  Z\" fill=\"#009af9\" fill-rule=\"evenodd\" fill-opacity=\"1\"/>\n",
              "<polyline clip-path=\"url(#clip212)\" style=\"stroke:#000000; stroke-linecap:round; stroke-linejoin:round; stroke-width:4; stroke-opacity:1; fill:none\" points=\"1967.07,1420.68 1967.07,1423.18 1996.98,1423.18 1996.98,1420.68 1967.07,1420.68 \"/>\n",
              "<path clip-path=\"url(#clip212)\" d=\"M1996.98 1418.18 L1996.98 1423.18 L2026.9 1423.18 L2026.9 1418.18 L1996.98 1418.18 L1996.98 1418.18  Z\" fill=\"#009af9\" fill-rule=\"evenodd\" fill-opacity=\"1\"/>\n",
              "<polyline clip-path=\"url(#clip212)\" style=\"stroke:#000000; stroke-linecap:round; stroke-linejoin:round; stroke-width:4; stroke-opacity:1; fill:none\" points=\"1996.98,1418.18 1996.98,1423.18 2026.9,1423.18 2026.9,1418.18 1996.98,1418.18 \"/>\n",
              "<path clip-path=\"url(#clip212)\" d=\"M2026.9 1423.18 L2026.9 1423.18 L2056.81 1423.18 L2056.81 1423.18 L2026.9 1423.18 L2026.9 1423.18  Z\" fill=\"#009af9\" fill-rule=\"evenodd\" fill-opacity=\"1\"/>\n",
              "<polyline clip-path=\"url(#clip212)\" style=\"stroke:#000000; stroke-linecap:round; stroke-linejoin:round; stroke-width:4; stroke-opacity:1; fill:none\" points=\"2026.9,1423.18 2026.9,1423.18 2056.81,1423.18 2026.9,1423.18 \"/>\n",
              "<path clip-path=\"url(#clip212)\" d=\"M2056.81 1423.18 L2056.81 1423.18 L2086.72 1423.18 L2086.72 1423.18 L2056.81 1423.18 L2056.81 1423.18  Z\" fill=\"#009af9\" fill-rule=\"evenodd\" fill-opacity=\"1\"/>\n",
              "<polyline clip-path=\"url(#clip212)\" style=\"stroke:#000000; stroke-linecap:round; stroke-linejoin:round; stroke-width:4; stroke-opacity:1; fill:none\" points=\"2056.81,1423.18 2056.81,1423.18 2086.72,1423.18 2056.81,1423.18 \"/>\n",
              "<path clip-path=\"url(#clip212)\" d=\"M2086.72 1423.18 L2086.72 1423.18 L2116.64 1423.18 L2116.64 1423.18 L2086.72 1423.18 L2086.72 1423.18  Z\" fill=\"#009af9\" fill-rule=\"evenodd\" fill-opacity=\"1\"/>\n",
              "<polyline clip-path=\"url(#clip212)\" style=\"stroke:#000000; stroke-linecap:round; stroke-linejoin:round; stroke-width:4; stroke-opacity:1; fill:none\" points=\"2086.72,1423.18 2086.72,1423.18 2116.64,1423.18 2086.72,1423.18 \"/>\n",
              "<path clip-path=\"url(#clip212)\" d=\"M2116.64 1420.68 L2116.64 1423.18 L2146.55 1423.18 L2146.55 1420.68 L2116.64 1420.68 L2116.64 1420.68  Z\" fill=\"#009af9\" fill-rule=\"evenodd\" fill-opacity=\"1\"/>\n",
              "<polyline clip-path=\"url(#clip212)\" style=\"stroke:#000000; stroke-linecap:round; stroke-linejoin:round; stroke-width:4; stroke-opacity:1; fill:none\" points=\"2116.64,1420.68 2116.64,1423.18 2146.55,1423.18 2146.55,1420.68 2116.64,1420.68 \"/>\n",
              "<path clip-path=\"url(#clip212)\" d=\"M2146.55 1420.68 L2146.55 1423.18 L2176.46 1423.18 L2176.46 1420.68 L2146.55 1420.68 L2146.55 1420.68  Z\" fill=\"#009af9\" fill-rule=\"evenodd\" fill-opacity=\"1\"/>\n",
              "<polyline clip-path=\"url(#clip212)\" style=\"stroke:#000000; stroke-linecap:round; stroke-linejoin:round; stroke-width:4; stroke-opacity:1; fill:none\" points=\"2146.55,1420.68 2146.55,1423.18 2176.46,1423.18 2176.46,1420.68 2146.55,1420.68 \"/>\n",
              "<path clip-path=\"url(#clip212)\" d=\"M2176.46 1423.18 L2176.46 1423.18 L2206.38 1423.18 L2206.38 1423.18 L2176.46 1423.18 L2176.46 1423.18  Z\" fill=\"#009af9\" fill-rule=\"evenodd\" fill-opacity=\"1\"/>\n",
              "<polyline clip-path=\"url(#clip212)\" style=\"stroke:#000000; stroke-linecap:round; stroke-linejoin:round; stroke-width:4; stroke-opacity:1; fill:none\" points=\"2176.46,1423.18 2176.46,1423.18 2206.38,1423.18 2176.46,1423.18 \"/>\n",
              "<path clip-path=\"url(#clip212)\" d=\"M2206.38 1420.68 L2206.38 1423.18 L2236.29 1423.18 L2236.29 1420.68 L2206.38 1420.68 L2206.38 1420.68  Z\" fill=\"#009af9\" fill-rule=\"evenodd\" fill-opacity=\"1\"/>\n",
              "<polyline clip-path=\"url(#clip212)\" style=\"stroke:#000000; stroke-linecap:round; stroke-linejoin:round; stroke-width:4; stroke-opacity:1; fill:none\" points=\"2206.38,1420.68 2206.38,1423.18 2236.29,1423.18 2236.29,1420.68 2206.38,1420.68 \"/>\n",
              "<circle clip-path=\"url(#clip212)\" style=\"fill:#009af9; stroke:none; fill-opacity:0\" cx=\"366.704\" cy=\"1420.68\" r=\"2\"/>\n",
              "<circle clip-path=\"url(#clip212)\" style=\"fill:#009af9; stroke:none; fill-opacity:0\" cx=\"396.618\" cy=\"1413.17\" r=\"2\"/>\n",
              "<circle clip-path=\"url(#clip212)\" style=\"fill:#009af9; stroke:none; fill-opacity:0\" cx=\"426.531\" cy=\"1418.18\" r=\"2\"/>\n",
              "<circle clip-path=\"url(#clip212)\" style=\"fill:#009af9; stroke:none; fill-opacity:0\" cx=\"456.444\" cy=\"1405.67\" r=\"2\"/>\n",
              "<circle clip-path=\"url(#clip212)\" style=\"fill:#009af9; stroke:none; fill-opacity:0\" cx=\"486.358\" cy=\"1358.14\" r=\"2\"/>\n",
              "<circle clip-path=\"url(#clip212)\" style=\"fill:#009af9; stroke:none; fill-opacity:0\" cx=\"516.271\" cy=\"1310.6\" r=\"2\"/>\n",
              "<circle clip-path=\"url(#clip212)\" style=\"fill:#009af9; stroke:none; fill-opacity:0\" cx=\"546.185\" cy=\"1245.56\" r=\"2\"/>\n",
              "<circle clip-path=\"url(#clip212)\" style=\"fill:#009af9; stroke:none; fill-opacity:0\" cx=\"576.098\" cy=\"1208.03\" r=\"2\"/>\n",
              "<circle clip-path=\"url(#clip212)\" style=\"fill:#009af9; stroke:none; fill-opacity:0\" cx=\"606.011\" cy=\"1150.49\" r=\"2\"/>\n",
              "<circle clip-path=\"url(#clip212)\" style=\"fill:#009af9; stroke:none; fill-opacity:0\" cx=\"635.925\" cy=\"975.375\" r=\"2\"/>\n",
              "<circle clip-path=\"url(#clip212)\" style=\"fill:#009af9; stroke:none; fill-opacity:0\" cx=\"665.838\" cy=\"810.263\" r=\"2\"/>\n",
              "<circle clip-path=\"url(#clip212)\" style=\"fill:#009af9; stroke:none; fill-opacity:0\" cx=\"695.752\" cy=\"697.686\" r=\"2\"/>\n",
              "<circle clip-path=\"url(#clip212)\" style=\"fill:#009af9; stroke:none; fill-opacity:0\" cx=\"725.665\" cy=\"394.981\" r=\"2\"/>\n",
              "<circle clip-path=\"url(#clip212)\" style=\"fill:#009af9; stroke:none; fill-opacity:0\" cx=\"755.578\" cy=\"304.919\" r=\"2\"/>\n",
              "<circle clip-path=\"url(#clip212)\" style=\"fill:#009af9; stroke:none; fill-opacity:0\" cx=\"785.492\" cy=\"354.953\" r=\"2\"/>\n",
              "<circle clip-path=\"url(#clip212)\" style=\"fill:#009af9; stroke:none; fill-opacity:0\" cx=\"815.405\" cy=\"209.855\" r=\"2\"/>\n",
              "<circle clip-path=\"url(#clip212)\" style=\"fill:#009af9; stroke:none; fill-opacity:0\" cx=\"845.319\" cy=\"82.2679\" r=\"2\"/>\n",
              "<circle clip-path=\"url(#clip212)\" style=\"fill:#009af9; stroke:none; fill-opacity:0\" cx=\"875.232\" cy=\"62.2543\" r=\"2\"/>\n",
              "<circle clip-path=\"url(#clip212)\" style=\"fill:#009af9; stroke:none; fill-opacity:0\" cx=\"905.145\" cy=\"47.2441\" r=\"2\"/>\n",
              "<circle clip-path=\"url(#clip212)\" style=\"fill:#009af9; stroke:none; fill-opacity:0\" cx=\"935.059\" cy=\"112.288\" r=\"2\"/>\n",
              "<circle clip-path=\"url(#clip212)\" style=\"fill:#009af9; stroke:none; fill-opacity:0\" cx=\"964.972\" cy=\"122.295\" r=\"2\"/>\n",
              "<circle clip-path=\"url(#clip212)\" style=\"fill:#009af9; stroke:none; fill-opacity:0\" cx=\"994.885\" cy=\"169.827\" r=\"2\"/>\n",
              "<circle clip-path=\"url(#clip212)\" style=\"fill:#009af9; stroke:none; fill-opacity:0\" cx=\"1024.8\" cy=\"212.356\" r=\"2\"/>\n",
              "<circle clip-path=\"url(#clip212)\" style=\"fill:#009af9; stroke:none; fill-opacity:0\" cx=\"1054.71\" cy=\"342.445\" r=\"2\"/>\n",
              "<circle clip-path=\"url(#clip212)\" style=\"fill:#009af9; stroke:none; fill-opacity:0\" cx=\"1084.63\" cy=\"455.021\" r=\"2\"/>\n",
              "<circle clip-path=\"url(#clip212)\" style=\"fill:#009af9; stroke:none; fill-opacity:0\" cx=\"1114.54\" cy=\"557.591\" r=\"2\"/>\n",
              "<circle clip-path=\"url(#clip212)\" style=\"fill:#009af9; stroke:none; fill-opacity:0\" cx=\"1144.45\" cy=\"615.13\" r=\"2\"/>\n",
              "<circle clip-path=\"url(#clip212)\" style=\"fill:#009af9; stroke:none; fill-opacity:0\" cx=\"1174.37\" cy=\"667.666\" r=\"2\"/>\n",
              "<circle clip-path=\"url(#clip212)\" style=\"fill:#009af9; stroke:none; fill-opacity:0\" cx=\"1204.28\" cy=\"780.243\" r=\"2\"/>\n",
              "<circle clip-path=\"url(#clip212)\" style=\"fill:#009af9; stroke:none; fill-opacity:0\" cx=\"1234.19\" cy=\"897.823\" r=\"2\"/>\n",
              "<circle clip-path=\"url(#clip212)\" style=\"fill:#009af9; stroke:none; fill-opacity:0\" cx=\"1264.11\" cy=\"932.846\" r=\"2\"/>\n",
              "<circle clip-path=\"url(#clip212)\" style=\"fill:#009af9; stroke:none; fill-opacity:0\" cx=\"1294.02\" cy=\"1080.45\" r=\"2\"/>\n",
              "<circle clip-path=\"url(#clip212)\" style=\"fill:#009af9; stroke:none; fill-opacity:0\" cx=\"1323.93\" cy=\"1052.93\" r=\"2\"/>\n",
              "<circle clip-path=\"url(#clip212)\" style=\"fill:#009af9; stroke:none; fill-opacity:0\" cx=\"1353.85\" cy=\"1092.96\" r=\"2\"/>\n",
              "<circle clip-path=\"url(#clip212)\" style=\"fill:#009af9; stroke:none; fill-opacity:0\" cx=\"1383.76\" cy=\"1155.5\" r=\"2\"/>\n",
              "<circle clip-path=\"url(#clip212)\" style=\"fill:#009af9; stroke:none; fill-opacity:0\" cx=\"1413.67\" cy=\"1200.53\" r=\"2\"/>\n",
              "<circle clip-path=\"url(#clip212)\" style=\"fill:#009af9; stroke:none; fill-opacity:0\" cx=\"1443.59\" cy=\"1205.53\" r=\"2\"/>\n",
              "<circle clip-path=\"url(#clip212)\" style=\"fill:#009af9; stroke:none; fill-opacity:0\" cx=\"1473.5\" cy=\"1270.58\" r=\"2\"/>\n",
              "<circle clip-path=\"url(#clip212)\" style=\"fill:#009af9; stroke:none; fill-opacity:0\" cx=\"1503.41\" cy=\"1323.11\" r=\"2\"/>\n",
              "<circle clip-path=\"url(#clip212)\" style=\"fill:#009af9; stroke:none; fill-opacity:0\" cx=\"1533.33\" cy=\"1328.12\" r=\"2\"/>\n",
              "<circle clip-path=\"url(#clip212)\" style=\"fill:#009af9; stroke:none; fill-opacity:0\" cx=\"1563.24\" cy=\"1308.1\" r=\"2\"/>\n",
              "<circle clip-path=\"url(#clip212)\" style=\"fill:#009af9; stroke:none; fill-opacity:0\" cx=\"1593.15\" cy=\"1338.12\" r=\"2\"/>\n",
              "<circle clip-path=\"url(#clip212)\" style=\"fill:#009af9; stroke:none; fill-opacity:0\" cx=\"1623.07\" cy=\"1355.63\" r=\"2\"/>\n",
              "<circle clip-path=\"url(#clip212)\" style=\"fill:#009af9; stroke:none; fill-opacity:0\" cx=\"1652.98\" cy=\"1373.15\" r=\"2\"/>\n",
              "<circle clip-path=\"url(#clip212)\" style=\"fill:#009af9; stroke:none; fill-opacity:0\" cx=\"1682.89\" cy=\"1378.15\" r=\"2\"/>\n",
              "<circle clip-path=\"url(#clip212)\" style=\"fill:#009af9; stroke:none; fill-opacity:0\" cx=\"1712.81\" cy=\"1373.15\" r=\"2\"/>\n",
              "<circle clip-path=\"url(#clip212)\" style=\"fill:#009af9; stroke:none; fill-opacity:0\" cx=\"1742.72\" cy=\"1398.16\" r=\"2\"/>\n",
              "<circle clip-path=\"url(#clip212)\" style=\"fill:#009af9; stroke:none; fill-opacity:0\" cx=\"1772.63\" cy=\"1400.66\" r=\"2\"/>\n",
              "<circle clip-path=\"url(#clip212)\" style=\"fill:#009af9; stroke:none; fill-opacity:0\" cx=\"1802.55\" cy=\"1395.66\" r=\"2\"/>\n",
              "<circle clip-path=\"url(#clip212)\" style=\"fill:#009af9; stroke:none; fill-opacity:0\" cx=\"1832.46\" cy=\"1405.67\" r=\"2\"/>\n",
              "<circle clip-path=\"url(#clip212)\" style=\"fill:#009af9; stroke:none; fill-opacity:0\" cx=\"1862.37\" cy=\"1418.18\" r=\"2\"/>\n",
              "<circle clip-path=\"url(#clip212)\" style=\"fill:#009af9; stroke:none; fill-opacity:0\" cx=\"1892.29\" cy=\"1418.18\" r=\"2\"/>\n",
              "<circle clip-path=\"url(#clip212)\" style=\"fill:#009af9; stroke:none; fill-opacity:0\" cx=\"1922.2\" cy=\"1418.18\" r=\"2\"/>\n",
              "<circle clip-path=\"url(#clip212)\" style=\"fill:#009af9; stroke:none; fill-opacity:0\" cx=\"1952.11\" cy=\"1423.18\" r=\"2\"/>\n",
              "<circle clip-path=\"url(#clip212)\" style=\"fill:#009af9; stroke:none; fill-opacity:0\" cx=\"1982.03\" cy=\"1420.68\" r=\"2\"/>\n",
              "<circle clip-path=\"url(#clip212)\" style=\"fill:#009af9; stroke:none; fill-opacity:0\" cx=\"2011.94\" cy=\"1418.18\" r=\"2\"/>\n",
              "<circle clip-path=\"url(#clip212)\" style=\"fill:#009af9; stroke:none; fill-opacity:0\" cx=\"2041.85\" cy=\"1423.18\" r=\"2\"/>\n",
              "<circle clip-path=\"url(#clip212)\" style=\"fill:#009af9; stroke:none; fill-opacity:0\" cx=\"2071.77\" cy=\"1423.18\" r=\"2\"/>\n",
              "<circle clip-path=\"url(#clip212)\" style=\"fill:#009af9; stroke:none; fill-opacity:0\" cx=\"2101.68\" cy=\"1423.18\" r=\"2\"/>\n",
              "<circle clip-path=\"url(#clip212)\" style=\"fill:#009af9; stroke:none; fill-opacity:0\" cx=\"2131.59\" cy=\"1420.68\" r=\"2\"/>\n",
              "<circle clip-path=\"url(#clip212)\" style=\"fill:#009af9; stroke:none; fill-opacity:0\" cx=\"2161.51\" cy=\"1420.68\" r=\"2\"/>\n",
              "<circle clip-path=\"url(#clip212)\" style=\"fill:#009af9; stroke:none; fill-opacity:0\" cx=\"2191.42\" cy=\"1423.18\" r=\"2\"/>\n",
              "<circle clip-path=\"url(#clip212)\" style=\"fill:#009af9; stroke:none; fill-opacity:0\" cx=\"2221.33\" cy=\"1420.68\" r=\"2\"/>\n",
              "</svg>\n"
            ],
            "text/html": [
              "<?xml version=\"1.0\" encoding=\"utf-8\"?>\n",
              "<svg xmlns=\"http://www.w3.org/2000/svg\" xmlns:xlink=\"http://www.w3.org/1999/xlink\" width=\"600\" height=\"400\" viewBox=\"0 0 2400 1600\">\n",
              "<defs>\n",
              "  <clipPath id=\"clip260\">\n",
              "    <rect x=\"0\" y=\"0\" width=\"2400\" height=\"1600\"/>\n",
              "  </clipPath>\n",
              "</defs>\n",
              "<path clip-path=\"url(#clip260)\" d=\"M0 1600 L2400 1600 L2400 0 L0 0  Z\" fill=\"#ffffff\" fill-rule=\"evenodd\" fill-opacity=\"1\"/>\n",
              "<defs>\n",
              "  <clipPath id=\"clip261\">\n",
              "    <rect x=\"480\" y=\"0\" width=\"1681\" height=\"1600\"/>\n",
              "  </clipPath>\n",
              "</defs>\n",
              "<path clip-path=\"url(#clip260)\" d=\"M235.283 1423.18 L2352.76 1423.18 L2352.76 47.2441 L235.283 47.2441  Z\" fill=\"#ffffff\" fill-rule=\"evenodd\" fill-opacity=\"1\"/>\n",
              "<defs>\n",
              "  <clipPath id=\"clip262\">\n",
              "    <rect x=\"235\" y=\"47\" width=\"2118\" height=\"1377\"/>\n",
              "  </clipPath>\n",
              "</defs>\n",
              "<polyline clip-path=\"url(#clip262)\" style=\"stroke:#000000; stroke-linecap:round; stroke-linejoin:round; stroke-width:2; stroke-opacity:0.1; fill:none\" points=\"291.921,1423.18 291.921,47.2441 \"/>\n",
              "<polyline clip-path=\"url(#clip262)\" style=\"stroke:#000000; stroke-linecap:round; stroke-linejoin:round; stroke-width:2; stroke-opacity:0.1; fill:none\" points=\"591.055,1423.18 591.055,47.2441 \"/>\n",
              "<polyline clip-path=\"url(#clip262)\" style=\"stroke:#000000; stroke-linecap:round; stroke-linejoin:round; stroke-width:2; stroke-opacity:0.1; fill:none\" points=\"890.189,1423.18 890.189,47.2441 \"/>\n",
              "<polyline clip-path=\"url(#clip262)\" style=\"stroke:#000000; stroke-linecap:round; stroke-linejoin:round; stroke-width:2; stroke-opacity:0.1; fill:none\" points=\"1189.32,1423.18 1189.32,47.2441 \"/>\n",
              "<polyline clip-path=\"url(#clip262)\" style=\"stroke:#000000; stroke-linecap:round; stroke-linejoin:round; stroke-width:2; stroke-opacity:0.1; fill:none\" points=\"1488.46,1423.18 1488.46,47.2441 \"/>\n",
              "<polyline clip-path=\"url(#clip262)\" style=\"stroke:#000000; stroke-linecap:round; stroke-linejoin:round; stroke-width:2; stroke-opacity:0.1; fill:none\" points=\"1787.59,1423.18 1787.59,47.2441 \"/>\n",
              "<polyline clip-path=\"url(#clip262)\" style=\"stroke:#000000; stroke-linecap:round; stroke-linejoin:round; stroke-width:2; stroke-opacity:0.1; fill:none\" points=\"2086.72,1423.18 2086.72,47.2441 \"/>\n",
              "<polyline clip-path=\"url(#clip260)\" style=\"stroke:#000000; stroke-linecap:round; stroke-linejoin:round; stroke-width:4; stroke-opacity:1; fill:none\" points=\"235.283,1423.18 2352.76,1423.18 \"/>\n",
              "<polyline clip-path=\"url(#clip260)\" style=\"stroke:#000000; stroke-linecap:round; stroke-linejoin:round; stroke-width:4; stroke-opacity:1; fill:none\" points=\"291.921,1423.18 291.921,1404.28 \"/>\n",
              "<polyline clip-path=\"url(#clip260)\" style=\"stroke:#000000; stroke-linecap:round; stroke-linejoin:round; stroke-width:4; stroke-opacity:1; fill:none\" points=\"591.055,1423.18 591.055,1404.28 \"/>\n",
              "<polyline clip-path=\"url(#clip260)\" style=\"stroke:#000000; stroke-linecap:round; stroke-linejoin:round; stroke-width:4; stroke-opacity:1; fill:none\" points=\"890.189,1423.18 890.189,1404.28 \"/>\n",
              "<polyline clip-path=\"url(#clip260)\" style=\"stroke:#000000; stroke-linecap:round; stroke-linejoin:round; stroke-width:4; stroke-opacity:1; fill:none\" points=\"1189.32,1423.18 1189.32,1404.28 \"/>\n",
              "<polyline clip-path=\"url(#clip260)\" style=\"stroke:#000000; stroke-linecap:round; stroke-linejoin:round; stroke-width:4; stroke-opacity:1; fill:none\" points=\"1488.46,1423.18 1488.46,1404.28 \"/>\n",
              "<polyline clip-path=\"url(#clip260)\" style=\"stroke:#000000; stroke-linecap:round; stroke-linejoin:round; stroke-width:4; stroke-opacity:1; fill:none\" points=\"1787.59,1423.18 1787.59,1404.28 \"/>\n",
              "<polyline clip-path=\"url(#clip260)\" style=\"stroke:#000000; stroke-linecap:round; stroke-linejoin:round; stroke-width:4; stroke-opacity:1; fill:none\" points=\"2086.72,1423.18 2086.72,1404.28 \"/>\n",
              "<path clip-path=\"url(#clip260)\" d=\"M282.303 1481.64 L289.942 1481.64 L289.942 1455.28 L281.632 1456.95 L281.632 1452.69 L289.895 1451.02 L294.571 1451.02 L294.571 1481.64 L302.21 1481.64 L302.21 1485.58 L282.303 1485.58 L282.303 1481.64 Z\" fill=\"#000000\" fill-rule=\"nonzero\" fill-opacity=\"1\" /><path clip-path=\"url(#clip260)\" d=\"M585.708 1481.64 L602.027 1481.64 L602.027 1485.58 L580.083 1485.58 L580.083 1481.64 Q582.745 1478.89 587.328 1474.26 Q591.934 1469.61 593.115 1468.27 Q595.36 1465.74 596.24 1464.01 Q597.143 1462.25 597.143 1460.56 Q597.143 1457.8 595.198 1456.07 Q593.277 1454.33 590.175 1454.33 Q587.976 1454.33 585.522 1455.09 Q583.092 1455.86 580.314 1457.41 L580.314 1452.69 Q583.138 1451.55 585.592 1450.97 Q588.046 1450.39 590.083 1450.39 Q595.453 1450.39 598.647 1453.08 Q601.842 1455.77 601.842 1460.26 Q601.842 1462.39 601.032 1464.31 Q600.245 1466.2 598.138 1468.8 Q597.559 1469.47 594.458 1472.69 Q591.356 1475.88 585.708 1481.64 Z\" fill=\"#000000\" fill-rule=\"nonzero\" fill-opacity=\"1\" /><path clip-path=\"url(#clip260)\" d=\"M894.436 1466.95 Q897.793 1467.66 899.668 1469.93 Q901.566 1472.2 901.566 1475.53 Q901.566 1480.65 898.047 1483.45 Q894.529 1486.25 888.047 1486.25 Q885.872 1486.25 883.557 1485.81 Q881.265 1485.39 878.811 1484.54 L878.811 1480.02 Q880.756 1481.16 883.071 1481.74 Q885.385 1482.32 887.909 1482.32 Q892.307 1482.32 894.598 1480.58 Q896.913 1478.84 896.913 1475.53 Q896.913 1472.48 894.76 1470.77 Q892.631 1469.03 888.811 1469.03 L884.784 1469.03 L884.784 1465.19 L888.997 1465.19 Q892.446 1465.19 894.274 1463.82 Q896.103 1462.43 896.103 1459.84 Q896.103 1457.18 894.205 1455.77 Q892.33 1454.33 888.811 1454.33 Q886.89 1454.33 884.691 1454.75 Q882.492 1455.16 879.853 1456.04 L879.853 1451.88 Q882.515 1451.14 884.83 1450.77 Q887.168 1450.39 889.228 1450.39 Q894.552 1450.39 897.654 1452.83 Q900.756 1455.23 900.756 1459.35 Q900.756 1462.22 899.112 1464.21 Q897.469 1466.18 894.436 1466.95 Z\" fill=\"#000000\" fill-rule=\"nonzero\" fill-opacity=\"1\" /><path clip-path=\"url(#clip260)\" d=\"M1192.33 1455.09 L1180.53 1473.54 L1192.33 1473.54 L1192.33 1455.09 M1191.1 1451.02 L1196.98 1451.02 L1196.98 1473.54 L1201.92 1473.54 L1201.92 1477.43 L1196.98 1477.43 L1196.98 1485.58 L1192.33 1485.58 L1192.33 1477.43 L1176.73 1477.43 L1176.73 1472.92 L1191.1 1451.02 Z\" fill=\"#000000\" fill-rule=\"nonzero\" fill-opacity=\"1\" /><path clip-path=\"url(#clip260)\" d=\"M1478.73 1451.02 L1497.09 1451.02 L1497.09 1454.96 L1483.02 1454.96 L1483.02 1463.43 Q1484.04 1463.08 1485.05 1462.92 Q1486.07 1462.73 1487.09 1462.73 Q1492.88 1462.73 1496.26 1465.9 Q1499.64 1469.08 1499.64 1474.49 Q1499.64 1480.07 1496.16 1483.17 Q1492.69 1486.25 1486.37 1486.25 Q1484.2 1486.25 1481.93 1485.88 Q1479.68 1485.51 1477.28 1484.77 L1477.28 1480.07 Q1479.36 1481.2 1481.58 1481.76 Q1483.8 1482.32 1486.28 1482.32 Q1490.29 1482.32 1492.62 1480.21 Q1494.96 1478.1 1494.96 1474.49 Q1494.96 1470.88 1492.62 1468.77 Q1490.29 1466.67 1486.28 1466.67 Q1484.41 1466.67 1482.53 1467.08 Q1480.68 1467.5 1478.73 1468.38 L1478.73 1451.02 Z\" fill=\"#000000\" fill-rule=\"nonzero\" fill-opacity=\"1\" /><path clip-path=\"url(#clip260)\" d=\"M1788 1466.44 Q1784.85 1466.44 1783 1468.59 Q1781.17 1470.74 1781.17 1474.49 Q1781.17 1478.22 1783 1480.39 Q1784.85 1482.55 1788 1482.55 Q1791.14 1482.55 1792.97 1480.39 Q1794.82 1478.22 1794.82 1474.49 Q1794.82 1470.74 1792.97 1468.59 Q1791.14 1466.44 1788 1466.44 M1797.28 1451.78 L1797.28 1456.04 Q1795.52 1455.21 1793.71 1454.77 Q1791.93 1454.33 1790.17 1454.33 Q1785.54 1454.33 1783.09 1457.45 Q1780.66 1460.58 1780.31 1466.9 Q1781.68 1464.89 1783.74 1463.82 Q1785.8 1462.73 1788.27 1462.73 Q1793.48 1462.73 1796.49 1465.9 Q1799.52 1469.05 1799.52 1474.49 Q1799.52 1479.82 1796.37 1483.03 Q1793.23 1486.25 1788 1486.25 Q1782 1486.25 1778.83 1481.67 Q1775.66 1477.06 1775.66 1468.33 Q1775.66 1460.14 1779.55 1455.28 Q1783.44 1450.39 1789.99 1450.39 Q1791.75 1450.39 1793.53 1450.74 Q1795.33 1451.09 1797.28 1451.78 Z\" fill=\"#000000\" fill-rule=\"nonzero\" fill-opacity=\"1\" /><path clip-path=\"url(#clip260)\" d=\"M2075.61 1451.02 L2097.84 1451.02 L2097.84 1453.01 L2085.29 1485.58 L2080.4 1485.58 L2092.21 1454.96 L2075.61 1454.96 L2075.61 1451.02 Z\" fill=\"#000000\" fill-rule=\"nonzero\" fill-opacity=\"1\" /><path clip-path=\"url(#clip260)\" d=\"M1008.9 1522.08 L1008.9 1528.35 Q1005.24 1526.6 1001.99 1525.74 Q998.746 1524.88 995.722 1524.88 Q990.471 1524.88 987.606 1526.92 Q984.773 1528.96 984.773 1532.71 Q984.773 1535.87 986.651 1537.49 Q988.561 1539.08 993.844 1540.07 L997.728 1540.86 Q1004.92 1542.23 1008.33 1545.7 Q1011.76 1549.14 1011.76 1554.93 Q1011.76 1561.84 1007.12 1565.4 Q1002.5 1568.97 993.558 1568.97 Q990.184 1568.97 986.365 1568.2 Q982.577 1567.44 978.503 1565.94 L978.503 1559.32 Q982.418 1561.52 986.174 1562.63 Q989.93 1563.75 993.558 1563.75 Q999.064 1563.75 1002.06 1561.58 Q1005.05 1559.42 1005.05 1555.41 Q1005.05 1551.91 1002.88 1549.93 Q1000.75 1547.96 995.85 1546.97 L991.935 1546.21 Q984.742 1544.78 981.527 1541.72 Q978.312 1538.67 978.312 1533.22 Q978.312 1526.92 982.736 1523.29 Q987.192 1519.66 994.99 1519.66 Q998.332 1519.66 1001.8 1520.27 Q1005.27 1520.87 1008.9 1522.08 Z\" fill=\"#000000\" fill-rule=\"nonzero\" fill-opacity=\"1\" /><path clip-path=\"url(#clip260)\" d=\"M1054.76 1568.04 L1036.62 1520.52 L1043.34 1520.52 L1058.39 1560.53 L1073.48 1520.52 L1080.16 1520.52 L1062.05 1568.04 L1054.76 1568.04 Z\" fill=\"#000000\" fill-rule=\"nonzero\" fill-opacity=\"1\" /><path clip-path=\"url(#clip260)\" d=\"M1097.99 1550.12 Q1090.89 1550.12 1088.15 1551.75 Q1085.42 1553.37 1085.42 1557.29 Q1085.42 1560.4 1087.45 1562.25 Q1089.52 1564.07 1093.05 1564.07 Q1097.92 1564.07 1100.85 1560.63 Q1103.81 1557.16 1103.81 1551.43 L1103.81 1550.12 L1097.99 1550.12 M1109.67 1547.71 L1109.67 1568.04 L1103.81 1568.04 L1103.81 1562.63 Q1101.81 1565.88 1098.81 1567.44 Q1095.82 1568.97 1091.49 1568.97 Q1086.02 1568.97 1082.77 1565.91 Q1079.56 1562.82 1079.56 1557.67 Q1079.56 1551.65 1083.57 1548.6 Q1087.61 1545.54 1095.6 1545.54 L1103.81 1545.54 L1103.81 1544.97 Q1103.81 1540.93 1101.14 1538.73 Q1098.5 1536.5 1093.69 1536.5 Q1090.64 1536.5 1087.74 1537.23 Q1084.84 1537.97 1082.17 1539.43 L1082.17 1534.02 Q1085.38 1532.78 1088.41 1532.17 Q1091.43 1531.54 1094.3 1531.54 Q1102.03 1531.54 1105.85 1535.55 Q1109.67 1539.56 1109.67 1547.71 Z\" fill=\"#000000\" fill-rule=\"nonzero\" fill-opacity=\"1\" /><path clip-path=\"url(#clip260)\" d=\"M1121.73 1518.52 L1127.59 1518.52 L1127.59 1568.04 L1121.73 1568.04 L1121.73 1518.52 Z\" fill=\"#000000\" fill-rule=\"nonzero\" fill-opacity=\"1\" /><path clip-path=\"url(#clip260)\" d=\"M1139.24 1553.98 L1139.24 1532.4 L1145.09 1532.4 L1145.09 1553.75 Q1145.09 1558.81 1147.07 1561.36 Q1149.04 1563.87 1152.99 1563.87 Q1157.73 1563.87 1160.47 1560.85 Q1163.24 1557.83 1163.24 1552.61 L1163.24 1532.4 L1169.09 1532.4 L1169.09 1568.04 L1163.24 1568.04 L1163.24 1562.57 Q1161.1 1565.82 1158.27 1567.41 Q1155.47 1568.97 1151.75 1568.97 Q1145.6 1568.97 1142.42 1565.15 Q1139.24 1561.33 1139.24 1553.98 M1153.97 1531.54 L1153.97 1531.54 Z\" fill=\"#000000\" fill-rule=\"nonzero\" fill-opacity=\"1\" /><path clip-path=\"url(#clip260)\" d=\"M1211.65 1548.76 L1211.65 1551.62 L1184.72 1551.62 Q1185.1 1557.67 1188.35 1560.85 Q1191.63 1564 1197.45 1564 Q1200.83 1564 1203.98 1563.17 Q1207.16 1562.35 1210.28 1560.69 L1210.28 1566.23 Q1207.13 1567.57 1203.82 1568.27 Q1200.51 1568.97 1197.1 1568.97 Q1188.57 1568.97 1183.57 1564 Q1178.61 1559.04 1178.61 1550.57 Q1178.61 1541.82 1183.32 1536.69 Q1188.06 1531.54 1196.08 1531.54 Q1203.28 1531.54 1207.45 1536.18 Q1211.65 1540.8 1211.65 1548.76 M1205.79 1547.04 Q1205.73 1542.23 1203.09 1539.37 Q1200.48 1536.5 1196.15 1536.5 Q1191.25 1536.5 1188.28 1539.27 Q1185.36 1542.04 1184.91 1547.07 L1205.79 1547.04 Z\" fill=\"#000000\" fill-rule=\"nonzero\" fill-opacity=\"1\" /><path clip-path=\"url(#clip260)\" d=\"M1256.05 1518.58 Q1251.78 1525.9 1249.71 1533.06 Q1247.65 1540.23 1247.65 1547.58 Q1247.65 1554.93 1249.71 1562.16 Q1251.81 1569.35 1256.05 1576.64 L1250.96 1576.64 Q1246.18 1569.16 1243.79 1561.93 Q1241.44 1554.71 1241.44 1547.58 Q1241.44 1540.48 1243.79 1533.29 Q1246.15 1526.09 1250.96 1518.58 L1256.05 1518.58 Z\" fill=\"#000000\" fill-rule=\"nonzero\" fill-opacity=\"1\" /><path clip-path=\"url(#clip260)\" d=\"M1290.87 1537.81 L1290.87 1518.52 L1296.72 1518.52 L1296.72 1568.04 L1290.87 1568.04 L1290.87 1562.7 Q1289.02 1565.88 1286.19 1567.44 Q1283.39 1568.97 1279.44 1568.97 Q1272.98 1568.97 1268.91 1563.81 Q1264.86 1558.65 1264.86 1550.25 Q1264.86 1541.85 1268.91 1536.69 Q1272.98 1531.54 1279.44 1531.54 Q1283.39 1531.54 1286.19 1533.1 Q1289.02 1534.62 1290.87 1537.81 M1270.91 1550.25 Q1270.91 1556.71 1273.55 1560.4 Q1276.23 1564.07 1280.87 1564.07 Q1285.52 1564.07 1288.19 1560.4 Q1290.87 1556.71 1290.87 1550.25 Q1290.87 1543.79 1288.19 1540.13 Q1285.52 1536.44 1280.87 1536.44 Q1276.23 1536.44 1273.55 1540.13 Q1270.91 1543.79 1270.91 1550.25 Z\" fill=\"#000000\" fill-rule=\"nonzero\" fill-opacity=\"1\" /><path clip-path=\"url(#clip260)\" d=\"M1339.28 1548.76 L1339.28 1551.62 L1312.35 1551.62 Q1312.73 1557.67 1315.98 1560.85 Q1319.26 1564 1325.08 1564 Q1328.46 1564 1331.61 1563.17 Q1334.79 1562.35 1337.91 1560.69 L1337.91 1566.23 Q1334.76 1567.57 1331.45 1568.27 Q1328.14 1568.97 1324.73 1568.97 Q1316.2 1568.97 1311.21 1564 Q1306.24 1559.04 1306.24 1550.57 Q1306.24 1541.82 1310.95 1536.69 Q1315.69 1531.54 1323.72 1531.54 Q1330.91 1531.54 1335.08 1536.18 Q1339.28 1540.8 1339.28 1548.76 M1333.42 1547.04 Q1333.36 1542.23 1330.72 1539.37 Q1328.11 1536.5 1323.78 1536.5 Q1318.88 1536.5 1315.92 1539.27 Q1312.99 1542.04 1312.54 1547.07 L1333.42 1547.04 Z\" fill=\"#000000\" fill-rule=\"nonzero\" fill-opacity=\"1\" /><path clip-path=\"url(#clip260)\" d=\"M1372.35 1549.81 Q1372.35 1543.44 1369.71 1539.94 Q1367.1 1536.44 1362.36 1536.44 Q1357.64 1536.44 1355 1539.94 Q1352.39 1543.44 1352.39 1549.81 Q1352.39 1556.14 1355 1559.64 Q1357.64 1563.14 1362.36 1563.14 Q1367.1 1563.14 1369.71 1559.64 Q1372.35 1556.14 1372.35 1549.81 M1378.21 1563.62 Q1378.21 1572.72 1374.16 1577.15 Q1370.12 1581.6 1361.78 1581.6 Q1358.69 1581.6 1355.96 1581.13 Q1353.22 1580.68 1350.64 1579.72 L1350.64 1574.03 Q1353.22 1575.43 1355.73 1576.1 Q1358.25 1576.76 1360.86 1576.76 Q1366.62 1576.76 1369.48 1573.74 Q1372.35 1570.75 1372.35 1564.67 L1372.35 1561.77 Q1370.54 1564.92 1367.7 1566.48 Q1364.87 1568.04 1360.92 1568.04 Q1354.37 1568.04 1350.36 1563.05 Q1346.35 1558.05 1346.35 1549.81 Q1346.35 1541.53 1350.36 1536.53 Q1354.37 1531.54 1360.92 1531.54 Q1364.87 1531.54 1367.7 1533.1 Q1370.54 1534.66 1372.35 1537.81 L1372.35 1532.4 L1378.21 1532.4 L1378.21 1563.62 Z\" fill=\"#000000\" fill-rule=\"nonzero\" fill-opacity=\"1\" /><path clip-path=\"url(#clip260)\" d=\"M1410.93 1537.87 Q1409.94 1537.3 1408.76 1537.04 Q1407.62 1536.76 1406.21 1536.76 Q1401.25 1536.76 1398.58 1540 Q1395.93 1543.22 1395.93 1549.27 L1395.93 1568.04 L1390.05 1568.04 L1390.05 1532.4 L1395.93 1532.4 L1395.93 1537.93 Q1397.78 1534.69 1400.74 1533.13 Q1403.7 1531.54 1407.93 1531.54 Q1408.54 1531.54 1409.27 1531.63 Q1410 1531.7 1410.89 1531.85 L1410.93 1537.87 Z\" fill=\"#000000\" fill-rule=\"nonzero\" fill-opacity=\"1\" /><path clip-path=\"url(#clip260)\" d=\"M1446.13 1548.76 L1446.13 1551.62 L1419.2 1551.62 Q1419.58 1557.67 1422.83 1560.85 Q1426.11 1564 1431.93 1564 Q1435.31 1564 1438.46 1563.17 Q1441.64 1562.35 1444.76 1560.69 L1444.76 1566.23 Q1441.61 1567.57 1438.3 1568.27 Q1434.99 1568.97 1431.58 1568.97 Q1423.05 1568.97 1418.06 1564 Q1413.09 1559.04 1413.09 1550.57 Q1413.09 1541.82 1417.8 1536.69 Q1422.54 1531.54 1430.56 1531.54 Q1437.76 1531.54 1441.93 1536.18 Q1446.13 1540.8 1446.13 1548.76 M1440.27 1547.04 Q1440.21 1542.23 1437.57 1539.37 Q1434.96 1536.5 1430.63 1536.5 Q1425.73 1536.5 1422.77 1539.27 Q1419.84 1542.04 1419.39 1547.07 L1440.27 1547.04 Z\" fill=\"#000000\" fill-rule=\"nonzero\" fill-opacity=\"1\" /><path clip-path=\"url(#clip260)\" d=\"M1486.23 1548.76 L1486.23 1551.62 L1459.3 1551.62 Q1459.69 1557.67 1462.93 1560.85 Q1466.21 1564 1472.04 1564 Q1475.41 1564 1478.56 1563.17 Q1481.74 1562.35 1484.86 1560.69 L1484.86 1566.23 Q1481.71 1567.57 1478.4 1568.27 Q1475.09 1568.97 1471.69 1568.97 Q1463.16 1568.97 1458.16 1564 Q1453.19 1559.04 1453.19 1550.57 Q1453.19 1541.82 1457.9 1536.69 Q1462.65 1531.54 1470.67 1531.54 Q1477.86 1531.54 1482.03 1536.18 Q1486.23 1540.8 1486.23 1548.76 M1480.38 1547.04 Q1480.31 1542.23 1477.67 1539.37 Q1475.06 1536.5 1470.73 1536.5 Q1465.83 1536.5 1462.87 1539.27 Q1459.94 1542.04 1459.5 1547.07 L1480.38 1547.04 Z\" fill=\"#000000\" fill-rule=\"nonzero\" fill-opacity=\"1\" /><path clip-path=\"url(#clip260)\" d=\"M1518.57 1533.45 L1518.57 1538.98 Q1516.09 1537.71 1513.41 1537.07 Q1510.74 1536.44 1507.88 1536.44 Q1503.51 1536.44 1501.32 1537.77 Q1499.15 1539.11 1499.15 1541.79 Q1499.15 1543.82 1500.71 1545 Q1502.27 1546.15 1506.98 1547.2 L1508.99 1547.64 Q1515.23 1548.98 1517.84 1551.43 Q1520.48 1553.85 1520.48 1558.21 Q1520.48 1563.17 1516.53 1566.07 Q1512.62 1568.97 1505.74 1568.97 Q1502.88 1568.97 1499.76 1568.39 Q1496.67 1567.85 1493.23 1566.74 L1493.23 1560.69 Q1496.48 1562.38 1499.63 1563.24 Q1502.78 1564.07 1505.87 1564.07 Q1510.01 1564.07 1512.24 1562.66 Q1514.46 1561.23 1514.46 1558.65 Q1514.46 1556.27 1512.84 1554.99 Q1511.25 1553.72 1505.81 1552.54 L1503.77 1552.07 Q1498.33 1550.92 1495.91 1548.56 Q1493.49 1546.18 1493.49 1542.04 Q1493.49 1537.01 1497.05 1534.27 Q1500.62 1531.54 1507.18 1531.54 Q1510.42 1531.54 1513.29 1532.01 Q1516.15 1532.49 1518.57 1533.45 Z\" fill=\"#000000\" fill-rule=\"nonzero\" fill-opacity=\"1\" /><path clip-path=\"url(#clip260)\" d=\"M1586.36 1524.18 L1586.36 1530.96 Q1583.12 1527.94 1579.43 1526.44 Q1575.77 1524.95 1571.63 1524.95 Q1563.48 1524.95 1559.15 1529.95 Q1554.82 1534.91 1554.82 1544.33 Q1554.82 1553.72 1559.15 1558.72 Q1563.48 1563.68 1571.63 1563.68 Q1575.77 1563.68 1579.43 1562.19 Q1583.12 1560.69 1586.36 1557.67 L1586.36 1564.38 Q1582.99 1566.68 1579.2 1567.82 Q1575.45 1568.97 1571.25 1568.97 Q1560.46 1568.97 1554.25 1562.38 Q1548.04 1555.76 1548.04 1544.33 Q1548.04 1532.87 1554.25 1526.28 Q1560.46 1519.66 1571.25 1519.66 Q1575.51 1519.66 1579.27 1520.81 Q1583.05 1521.92 1586.36 1524.18 Z\" fill=\"#000000\" fill-rule=\"nonzero\" fill-opacity=\"1\" /><path clip-path=\"url(#clip260)\" d=\"M1595.12 1518.58 L1600.21 1518.58 Q1604.98 1526.09 1607.34 1533.29 Q1609.73 1540.48 1609.73 1547.58 Q1609.73 1554.71 1607.34 1561.93 Q1604.98 1569.16 1600.21 1576.64 L1595.12 1576.64 Q1599.35 1569.35 1601.42 1562.16 Q1603.52 1554.93 1603.52 1547.58 Q1603.52 1540.23 1601.42 1533.06 Q1599.35 1525.9 1595.12 1518.58 Z\" fill=\"#000000\" fill-rule=\"nonzero\" fill-opacity=\"1\" /><polyline clip-path=\"url(#clip262)\" style=\"stroke:#000000; stroke-linecap:round; stroke-linejoin:round; stroke-width:2; stroke-opacity:0.1; fill:none\" points=\"235.283,1423.18 2352.76,1423.18 \"/>\n",
              "<polyline clip-path=\"url(#clip262)\" style=\"stroke:#000000; stroke-linecap:round; stroke-linejoin:round; stroke-width:2; stroke-opacity:0.1; fill:none\" points=\"235.283,1173.01 2352.76,1173.01 \"/>\n",
              "<polyline clip-path=\"url(#clip262)\" style=\"stroke:#000000; stroke-linecap:round; stroke-linejoin:round; stroke-width:2; stroke-opacity:0.1; fill:none\" points=\"235.283,922.84 2352.76,922.84 \"/>\n",
              "<polyline clip-path=\"url(#clip262)\" style=\"stroke:#000000; stroke-linecap:round; stroke-linejoin:round; stroke-width:2; stroke-opacity:0.1; fill:none\" points=\"235.283,672.669 2352.76,672.669 \"/>\n",
              "<polyline clip-path=\"url(#clip262)\" style=\"stroke:#000000; stroke-linecap:round; stroke-linejoin:round; stroke-width:2; stroke-opacity:0.1; fill:none\" points=\"235.283,422.499 2352.76,422.499 \"/>\n",
              "<polyline clip-path=\"url(#clip262)\" style=\"stroke:#000000; stroke-linecap:round; stroke-linejoin:round; stroke-width:2; stroke-opacity:0.1; fill:none\" points=\"235.283,172.329 2352.76,172.329 \"/>\n",
              "<polyline clip-path=\"url(#clip260)\" style=\"stroke:#000000; stroke-linecap:round; stroke-linejoin:round; stroke-width:4; stroke-opacity:1; fill:none\" points=\"235.283,1423.18 235.283,47.2441 \"/>\n",
              "<polyline clip-path=\"url(#clip260)\" style=\"stroke:#000000; stroke-linecap:round; stroke-linejoin:round; stroke-width:4; stroke-opacity:1; fill:none\" points=\"235.283,1423.18 254.18,1423.18 \"/>\n",
              "<polyline clip-path=\"url(#clip260)\" style=\"stroke:#000000; stroke-linecap:round; stroke-linejoin:round; stroke-width:4; stroke-opacity:1; fill:none\" points=\"235.283,1173.01 254.18,1173.01 \"/>\n",
              "<polyline clip-path=\"url(#clip260)\" style=\"stroke:#000000; stroke-linecap:round; stroke-linejoin:round; stroke-width:4; stroke-opacity:1; fill:none\" points=\"235.283,922.84 254.18,922.84 \"/>\n",
              "<polyline clip-path=\"url(#clip260)\" style=\"stroke:#000000; stroke-linecap:round; stroke-linejoin:round; stroke-width:4; stroke-opacity:1; fill:none\" points=\"235.283,672.669 254.18,672.669 \"/>\n",
              "<polyline clip-path=\"url(#clip260)\" style=\"stroke:#000000; stroke-linecap:round; stroke-linejoin:round; stroke-width:4; stroke-opacity:1; fill:none\" points=\"235.283,422.499 254.18,422.499 \"/>\n",
              "<polyline clip-path=\"url(#clip260)\" style=\"stroke:#000000; stroke-linecap:round; stroke-linejoin:round; stroke-width:4; stroke-opacity:1; fill:none\" points=\"235.283,172.329 254.18,172.329 \"/>\n",
              "<path clip-path=\"url(#clip260)\" d=\"M187.338 1408.98 Q183.727 1408.98 181.899 1412.54 Q180.093 1416.08 180.093 1423.21 Q180.093 1430.32 181.899 1433.89 Q183.727 1437.43 187.338 1437.43 Q190.973 1437.43 192.778 1433.89 Q194.607 1430.32 194.607 1423.21 Q194.607 1416.08 192.778 1412.54 Q190.973 1408.98 187.338 1408.98 M187.338 1405.27 Q193.149 1405.27 196.204 1409.88 Q199.283 1414.46 199.283 1423.21 Q199.283 1431.94 196.204 1436.55 Q193.149 1441.13 187.338 1441.13 Q181.528 1441.13 178.45 1436.55 Q175.394 1431.94 175.394 1423.21 Q175.394 1414.46 178.45 1409.88 Q181.528 1405.27 187.338 1405.27 Z\" fill=\"#000000\" fill-rule=\"nonzero\" fill-opacity=\"1\" /><path clip-path=\"url(#clip260)\" d=\"M117.825 1186.35 L125.464 1186.35 L125.464 1159.99 L117.154 1161.66 L117.154 1157.4 L125.418 1155.73 L130.093 1155.73 L130.093 1186.35 L137.732 1186.35 L137.732 1190.29 L117.825 1190.29 L117.825 1186.35 Z\" fill=\"#000000\" fill-rule=\"nonzero\" fill-opacity=\"1\" /><path clip-path=\"url(#clip260)\" d=\"M157.177 1158.81 Q153.566 1158.81 151.737 1162.37 Q149.931 1165.91 149.931 1173.04 Q149.931 1180.15 151.737 1183.72 Q153.566 1187.26 157.177 1187.26 Q160.811 1187.26 162.616 1183.72 Q164.445 1180.15 164.445 1173.04 Q164.445 1165.91 162.616 1162.37 Q160.811 1158.81 157.177 1158.81 M157.177 1155.1 Q162.987 1155.1 166.042 1159.71 Q169.121 1164.29 169.121 1173.04 Q169.121 1181.77 166.042 1186.38 Q162.987 1190.96 157.177 1190.96 Q151.366 1190.96 148.288 1186.38 Q145.232 1181.77 145.232 1173.04 Q145.232 1164.29 148.288 1159.71 Q151.366 1155.1 157.177 1155.1 Z\" fill=\"#000000\" fill-rule=\"nonzero\" fill-opacity=\"1\" /><path clip-path=\"url(#clip260)\" d=\"M187.338 1158.81 Q183.727 1158.81 181.899 1162.37 Q180.093 1165.91 180.093 1173.04 Q180.093 1180.15 181.899 1183.72 Q183.727 1187.26 187.338 1187.26 Q190.973 1187.26 192.778 1183.72 Q194.607 1180.15 194.607 1173.04 Q194.607 1165.91 192.778 1162.37 Q190.973 1158.81 187.338 1158.81 M187.338 1155.1 Q193.149 1155.1 196.204 1159.71 Q199.283 1164.29 199.283 1173.04 Q199.283 1181.77 196.204 1186.38 Q193.149 1190.96 187.338 1190.96 Q181.528 1190.96 178.45 1186.38 Q175.394 1181.77 175.394 1173.04 Q175.394 1164.29 178.45 1159.71 Q181.528 1155.1 187.338 1155.1 Z\" fill=\"#000000\" fill-rule=\"nonzero\" fill-opacity=\"1\" /><path clip-path=\"url(#clip260)\" d=\"M121.043 936.184 L137.362 936.184 L137.362 940.12 L115.418 940.12 L115.418 936.184 Q118.08 933.43 122.663 928.8 Q127.269 924.147 128.45 922.805 Q130.695 920.282 131.575 918.546 Q132.478 916.786 132.478 915.097 Q132.478 912.342 130.533 910.606 Q128.612 908.87 125.51 908.87 Q123.311 908.87 120.857 909.634 Q118.427 910.398 115.649 911.948 L115.649 907.226 Q118.473 906.092 120.927 905.513 Q123.38 904.935 125.418 904.935 Q130.788 904.935 133.982 907.62 Q137.177 910.305 137.177 914.796 Q137.177 916.925 136.367 918.847 Q135.579 920.745 133.473 923.337 Q132.894 924.009 129.792 927.226 Q126.691 930.421 121.043 936.184 Z\" fill=\"#000000\" fill-rule=\"nonzero\" fill-opacity=\"1\" /><path clip-path=\"url(#clip260)\" d=\"M157.177 908.638 Q153.566 908.638 151.737 912.203 Q149.931 915.745 149.931 922.874 Q149.931 929.981 151.737 933.546 Q153.566 937.087 157.177 937.087 Q160.811 937.087 162.616 933.546 Q164.445 929.981 164.445 922.874 Q164.445 915.745 162.616 912.203 Q160.811 908.638 157.177 908.638 M157.177 904.935 Q162.987 904.935 166.042 909.541 Q169.121 914.124 169.121 922.874 Q169.121 931.601 166.042 936.208 Q162.987 940.791 157.177 940.791 Q151.366 940.791 148.288 936.208 Q145.232 931.601 145.232 922.874 Q145.232 914.124 148.288 909.541 Q151.366 904.935 157.177 904.935 Z\" fill=\"#000000\" fill-rule=\"nonzero\" fill-opacity=\"1\" /><path clip-path=\"url(#clip260)\" d=\"M187.338 908.638 Q183.727 908.638 181.899 912.203 Q180.093 915.745 180.093 922.874 Q180.093 929.981 181.899 933.546 Q183.727 937.087 187.338 937.087 Q190.973 937.087 192.778 933.546 Q194.607 929.981 194.607 922.874 Q194.607 915.745 192.778 912.203 Q190.973 908.638 187.338 908.638 M187.338 904.935 Q193.149 904.935 196.204 909.541 Q199.283 914.124 199.283 922.874 Q199.283 931.601 196.204 936.208 Q193.149 940.791 187.338 940.791 Q181.528 940.791 178.45 936.208 Q175.394 931.601 175.394 922.874 Q175.394 914.124 178.45 909.541 Q181.528 904.935 187.338 904.935 Z\" fill=\"#000000\" fill-rule=\"nonzero\" fill-opacity=\"1\" /><path clip-path=\"url(#clip260)\" d=\"M131.181 671.315 Q134.538 672.033 136.413 674.301 Q138.311 676.57 138.311 679.903 Q138.311 685.019 134.792 687.82 Q131.274 690.621 124.793 690.621 Q122.617 690.621 120.302 690.181 Q118.01 689.764 115.556 688.908 L115.556 684.394 Q117.501 685.528 119.816 686.107 Q122.13 686.686 124.654 686.686 Q129.052 686.686 131.343 684.949 Q133.658 683.213 133.658 679.903 Q133.658 676.848 131.505 675.135 Q129.376 673.399 125.556 673.399 L121.529 673.399 L121.529 669.556 L125.742 669.556 Q129.191 669.556 131.019 668.19 Q132.848 666.801 132.848 664.209 Q132.848 661.547 130.95 660.135 Q129.075 658.7 125.556 658.7 Q123.635 658.7 121.436 659.116 Q119.237 659.533 116.598 660.413 L116.598 656.246 Q119.26 655.505 121.575 655.135 Q123.913 654.764 125.973 654.764 Q131.297 654.764 134.399 657.195 Q137.501 659.602 137.501 663.723 Q137.501 666.593 135.857 668.584 Q134.214 670.551 131.181 671.315 Z\" fill=\"#000000\" fill-rule=\"nonzero\" fill-opacity=\"1\" /><path clip-path=\"url(#clip260)\" d=\"M157.177 658.468 Q153.566 658.468 151.737 662.033 Q149.931 665.575 149.931 672.704 Q149.931 679.811 151.737 683.375 Q153.566 686.917 157.177 686.917 Q160.811 686.917 162.616 683.375 Q164.445 679.811 164.445 672.704 Q164.445 665.575 162.616 662.033 Q160.811 658.468 157.177 658.468 M157.177 654.764 Q162.987 654.764 166.042 659.371 Q169.121 663.954 169.121 672.704 Q169.121 681.431 166.042 686.037 Q162.987 690.621 157.177 690.621 Q151.366 690.621 148.288 686.037 Q145.232 681.431 145.232 672.704 Q145.232 663.954 148.288 659.371 Q151.366 654.764 157.177 654.764 Z\" fill=\"#000000\" fill-rule=\"nonzero\" fill-opacity=\"1\" /><path clip-path=\"url(#clip260)\" d=\"M187.338 658.468 Q183.727 658.468 181.899 662.033 Q180.093 665.575 180.093 672.704 Q180.093 679.811 181.899 683.375 Q183.727 686.917 187.338 686.917 Q190.973 686.917 192.778 683.375 Q194.607 679.811 194.607 672.704 Q194.607 665.575 192.778 662.033 Q190.973 658.468 187.338 658.468 M187.338 654.764 Q193.149 654.764 196.204 659.371 Q199.283 663.954 199.283 672.704 Q199.283 681.431 196.204 686.037 Q193.149 690.621 187.338 690.621 Q181.528 690.621 178.45 686.037 Q175.394 681.431 175.394 672.704 Q175.394 663.954 178.45 659.371 Q181.528 654.764 187.338 654.764 Z\" fill=\"#000000\" fill-rule=\"nonzero\" fill-opacity=\"1\" /><path clip-path=\"url(#clip260)\" d=\"M129.862 409.293 L118.056 427.742 L129.862 427.742 L129.862 409.293 M128.635 405.219 L134.515 405.219 L134.515 427.742 L139.445 427.742 L139.445 431.631 L134.515 431.631 L134.515 439.779 L129.862 439.779 L129.862 431.631 L114.26 431.631 L114.26 427.117 L128.635 405.219 Z\" fill=\"#000000\" fill-rule=\"nonzero\" fill-opacity=\"1\" /><path clip-path=\"url(#clip260)\" d=\"M157.177 408.298 Q153.566 408.298 151.737 411.863 Q149.931 415.404 149.931 422.534 Q149.931 429.64 151.737 433.205 Q153.566 436.747 157.177 436.747 Q160.811 436.747 162.616 433.205 Q164.445 429.64 164.445 422.534 Q164.445 415.404 162.616 411.863 Q160.811 408.298 157.177 408.298 M157.177 404.594 Q162.987 404.594 166.042 409.201 Q169.121 413.784 169.121 422.534 Q169.121 431.261 166.042 435.867 Q162.987 440.451 157.177 440.451 Q151.366 440.451 148.288 435.867 Q145.232 431.261 145.232 422.534 Q145.232 413.784 148.288 409.201 Q151.366 404.594 157.177 404.594 Z\" fill=\"#000000\" fill-rule=\"nonzero\" fill-opacity=\"1\" /><path clip-path=\"url(#clip260)\" d=\"M187.338 408.298 Q183.727 408.298 181.899 411.863 Q180.093 415.404 180.093 422.534 Q180.093 429.64 181.899 433.205 Q183.727 436.747 187.338 436.747 Q190.973 436.747 192.778 433.205 Q194.607 429.64 194.607 422.534 Q194.607 415.404 192.778 411.863 Q190.973 408.298 187.338 408.298 M187.338 404.594 Q193.149 404.594 196.204 409.201 Q199.283 413.784 199.283 422.534 Q199.283 431.261 196.204 435.867 Q193.149 440.451 187.338 440.451 Q181.528 440.451 178.45 435.867 Q175.394 431.261 175.394 422.534 Q175.394 413.784 178.45 409.201 Q181.528 404.594 187.338 404.594 Z\" fill=\"#000000\" fill-rule=\"nonzero\" fill-opacity=\"1\" /><path clip-path=\"url(#clip260)\" d=\"M117.061 155.049 L135.417 155.049 L135.417 158.984 L121.343 158.984 L121.343 167.457 Q122.362 167.109 123.38 166.947 Q124.399 166.762 125.418 166.762 Q131.205 166.762 134.584 169.933 Q137.964 173.105 137.964 178.521 Q137.964 184.1 134.492 187.202 Q131.019 190.28 124.7 190.28 Q122.524 190.28 120.255 189.91 Q118.01 189.54 115.603 188.799 L115.603 184.1 Q117.686 185.234 119.908 185.79 Q122.13 186.345 124.607 186.345 Q128.612 186.345 130.95 184.239 Q133.288 182.132 133.288 178.521 Q133.288 174.91 130.95 172.804 Q128.612 170.697 124.607 170.697 Q122.732 170.697 120.857 171.114 Q119.006 171.531 117.061 172.41 L117.061 155.049 Z\" fill=\"#000000\" fill-rule=\"nonzero\" fill-opacity=\"1\" /><path clip-path=\"url(#clip260)\" d=\"M157.177 158.128 Q153.566 158.128 151.737 161.693 Q149.931 165.234 149.931 172.364 Q149.931 179.47 151.737 183.035 Q153.566 186.577 157.177 186.577 Q160.811 186.577 162.616 183.035 Q164.445 179.47 164.445 172.364 Q164.445 165.234 162.616 161.693 Q160.811 158.128 157.177 158.128 M157.177 154.424 Q162.987 154.424 166.042 159.031 Q169.121 163.614 169.121 172.364 Q169.121 181.091 166.042 185.697 Q162.987 190.28 157.177 190.28 Q151.366 190.28 148.288 185.697 Q145.232 181.091 145.232 172.364 Q145.232 163.614 148.288 159.031 Q151.366 154.424 157.177 154.424 Z\" fill=\"#000000\" fill-rule=\"nonzero\" fill-opacity=\"1\" /><path clip-path=\"url(#clip260)\" d=\"M187.338 158.128 Q183.727 158.128 181.899 161.693 Q180.093 165.234 180.093 172.364 Q180.093 179.47 181.899 183.035 Q183.727 186.577 187.338 186.577 Q190.973 186.577 192.778 183.035 Q194.607 179.47 194.607 172.364 Q194.607 165.234 192.778 161.693 Q190.973 158.128 187.338 158.128 M187.338 154.424 Q193.149 154.424 196.204 159.031 Q199.283 163.614 199.283 172.364 Q199.283 181.091 196.204 185.697 Q193.149 190.28 187.338 190.28 Q181.528 190.28 178.45 185.697 Q175.394 181.091 175.394 172.364 Q175.394 163.614 178.45 159.031 Q181.528 154.424 187.338 154.424 Z\" fill=\"#000000\" fill-rule=\"nonzero\" fill-opacity=\"1\" /><path clip-path=\"url(#clip260)\" d=\"M18.0438 922.809 L24.314 922.809 Q22.5634 926.47 21.704 929.716 Q20.8447 932.963 20.8447 935.986 Q20.8447 941.238 22.8817 944.103 Q24.9187 946.935 28.6745 946.935 Q31.8255 946.935 33.4488 945.057 Q35.0402 943.148 36.0269 937.864 L36.8226 933.981 Q38.1912 926.788 41.6605 923.382 Q45.098 919.945 50.8908 919.945 Q57.7976 919.945 61.3624 924.592 Q64.9272 929.207 64.9272 938.151 Q64.9272 941.525 64.1633 945.344 Q63.3994 949.132 61.9035 953.206 L55.2831 953.206 Q57.4793 949.291 58.5933 945.535 Q59.7073 941.779 59.7073 938.151 Q59.7073 932.644 57.543 929.652 Q55.3786 926.661 51.3682 926.661 Q47.8671 926.661 45.8937 928.825 Q43.9204 930.957 42.9337 935.859 L42.1698 939.774 Q40.7375 946.967 37.682 950.182 Q34.6264 953.397 29.1837 953.397 Q22.8817 953.397 19.2532 948.972 Q15.6248 944.516 15.6248 936.718 Q15.6248 933.376 16.2295 929.907 Q16.8343 926.438 18.0438 922.809 Z\" fill=\"#000000\" fill-rule=\"nonzero\" fill-opacity=\"1\" /><path clip-path=\"url(#clip260)\" d=\"M46.0847 893.973 Q46.0847 901.07 47.7079 903.808 Q49.3312 906.545 53.2461 906.545 Q56.3653 906.545 58.2114 904.508 Q60.0256 902.439 60.0256 898.906 Q60.0256 894.036 56.5881 891.108 Q53.1188 888.148 47.3897 888.148 L46.0847 888.148 L46.0847 893.973 M43.6657 882.292 L64.0042 882.292 L64.0042 888.148 L58.5933 888.148 Q61.8398 890.153 63.3994 893.145 Q64.9272 896.137 64.9272 900.466 Q64.9272 905.94 61.8716 909.187 Q58.7843 912.401 53.6281 912.401 Q47.6125 912.401 44.5569 908.391 Q41.5014 904.349 41.5014 896.36 L41.5014 888.148 L40.9285 888.148 Q36.8862 888.148 34.6901 890.822 Q32.4621 893.463 32.4621 898.27 Q32.4621 901.325 33.1941 904.221 Q33.9262 907.118 35.3903 909.791 L29.9795 909.791 Q28.7381 906.577 28.1334 903.553 Q27.4968 900.529 27.4968 897.665 Q27.4968 889.93 31.5072 886.111 Q35.5176 882.292 43.6657 882.292 Z\" fill=\"#000000\" fill-rule=\"nonzero\" fill-opacity=\"1\" /><path clip-path=\"url(#clip260)\" d=\"M35.1993 842.474 Q31.2526 840.278 29.3747 837.222 Q27.4968 834.167 27.4968 830.029 Q27.4968 824.459 31.4117 821.435 Q35.2948 818.412 42.4881 818.412 L64.0042 818.412 L64.0042 824.3 L42.679 824.3 Q37.5546 824.3 35.072 826.114 Q32.5894 827.928 32.5894 831.652 Q32.5894 836.204 35.6131 838.846 Q38.6368 841.487 43.8567 841.487 L64.0042 841.487 L64.0042 847.376 L42.679 847.376 Q37.5228 847.376 35.072 849.19 Q32.5894 851.004 32.5894 854.792 Q32.5894 859.28 35.6449 861.921 Q38.6686 864.563 43.8567 864.563 L64.0042 864.563 L64.0042 870.451 L28.3562 870.451 L28.3562 864.563 L33.8944 864.563 Q30.616 862.558 29.0564 859.757 Q27.4968 856.956 27.4968 853.105 Q27.4968 849.222 29.4702 846.516 Q31.4436 843.779 35.1993 842.474 Z\" fill=\"#000000\" fill-rule=\"nonzero\" fill-opacity=\"1\" /><path clip-path=\"url(#clip260)\" d=\"M58.657 801.065 L77.5631 801.065 L77.5631 806.953 L28.3562 806.953 L28.3562 801.065 L33.7671 801.065 Q30.5842 799.219 29.0564 796.418 Q27.4968 793.585 27.4968 789.671 Q27.4968 783.178 32.6531 779.135 Q37.8093 775.061 46.212 775.061 Q54.6147 775.061 59.771 779.135 Q64.9272 783.178 64.9272 789.671 Q64.9272 793.585 63.3994 796.418 Q61.8398 799.219 58.657 801.065 M46.212 781.141 Q39.7508 781.141 36.0905 783.814 Q32.3984 786.456 32.3984 791.103 Q32.3984 795.75 36.0905 798.423 Q39.7508 801.065 46.212 801.065 Q52.6732 801.065 56.3653 798.423 Q60.0256 795.75 60.0256 791.103 Q60.0256 786.456 56.3653 783.814 Q52.6732 781.141 46.212 781.141 Z\" fill=\"#000000\" fill-rule=\"nonzero\" fill-opacity=\"1\" /><path clip-path=\"url(#clip260)\" d=\"M14.479 765.354 L14.479 759.497 L64.0042 759.497 L64.0042 765.354 L14.479 765.354 Z\" fill=\"#000000\" fill-rule=\"nonzero\" fill-opacity=\"1\" /><path clip-path=\"url(#clip260)\" d=\"M44.7161 716.751 L47.5806 716.751 L47.5806 743.678 Q53.6281 743.296 56.8109 740.05 Q59.9619 736.772 59.9619 730.947 Q59.9619 727.573 59.1344 724.422 Q58.3069 721.239 56.6518 718.12 L62.1899 718.12 Q63.5267 721.271 64.227 724.581 Q64.9272 727.891 64.9272 731.297 Q64.9272 739.827 59.9619 744.824 Q54.9967 749.789 46.5303 749.789 Q37.7774 749.789 32.6531 745.079 Q27.4968 740.336 27.4968 732.316 Q27.4968 725.122 32.1438 720.953 Q36.7589 716.751 44.7161 716.751 M42.9973 722.608 Q38.1912 722.672 35.3266 725.313 Q32.4621 727.923 32.4621 732.252 Q32.4621 737.154 35.2312 740.114 Q38.0002 743.042 43.0292 743.487 L42.9973 722.608 Z\" fill=\"#000000\" fill-rule=\"nonzero\" fill-opacity=\"1\" /><path clip-path=\"url(#clip260)\" d=\"M64.0042 673.91 L16.4842 692.052 L16.4842 685.337 L56.4926 670.282 L16.4842 655.195 L16.4842 648.511 L64.0042 666.621 L64.0042 673.91 Z\" fill=\"#000000\" fill-rule=\"nonzero\" fill-opacity=\"1\" /><path clip-path=\"url(#clip260)\" d=\"M46.0847 630.687 Q46.0847 637.785 47.7079 640.522 Q49.3312 643.259 53.2461 643.259 Q56.3653 643.259 58.2114 641.222 Q60.0256 639.153 60.0256 635.62 Q60.0256 630.751 56.5881 627.822 Q53.1188 624.862 47.3897 624.862 L46.0847 624.862 L46.0847 630.687 M43.6657 619.006 L64.0042 619.006 L64.0042 624.862 L58.5933 624.862 Q61.8398 626.868 63.3994 629.86 Q64.9272 632.851 64.9272 637.18 Q64.9272 642.655 61.8716 645.901 Q58.7843 649.116 53.6281 649.116 Q47.6125 649.116 44.5569 645.105 Q41.5014 641.063 41.5014 633.074 L41.5014 624.862 L40.9285 624.862 Q36.8862 624.862 34.6901 627.536 Q32.4621 630.178 32.4621 634.984 Q32.4621 638.039 33.1941 640.936 Q33.9262 643.832 35.3903 646.506 L29.9795 646.506 Q28.7381 643.291 28.1334 640.267 Q27.4968 637.244 27.4968 634.379 Q27.4968 626.645 31.5072 622.825 Q35.5176 619.006 43.6657 619.006 Z\" fill=\"#000000\" fill-rule=\"nonzero\" fill-opacity=\"1\" /><path clip-path=\"url(#clip260)\" d=\"M14.479 606.943 L14.479 601.087 L64.0042 601.087 L64.0042 606.943 L14.479 606.943 Z\" fill=\"#000000\" fill-rule=\"nonzero\" fill-opacity=\"1\" /><path clip-path=\"url(#clip260)\" d=\"M49.9359 589.437 L28.3562 589.437 L28.3562 583.581 L49.7131 583.581 Q54.7739 583.581 57.3202 581.607 Q59.8346 579.634 59.8346 575.687 Q59.8346 570.945 56.8109 568.208 Q53.7872 565.439 48.5673 565.439 L28.3562 565.439 L28.3562 559.582 L64.0042 559.582 L64.0042 565.439 L58.5296 565.439 Q61.7762 567.571 63.3676 570.404 Q64.9272 573.205 64.9272 576.929 Q64.9272 583.072 61.1078 586.254 Q57.2883 589.437 49.9359 589.437 M27.4968 574.701 L27.4968 574.701 Z\" fill=\"#000000\" fill-rule=\"nonzero\" fill-opacity=\"1\" /><path clip-path=\"url(#clip260)\" d=\"M44.7161 517.027 L47.5806 517.027 L47.5806 543.954 Q53.6281 543.572 56.8109 540.326 Q59.9619 537.048 59.9619 531.223 Q59.9619 527.849 59.1344 524.698 Q58.3069 521.515 56.6518 518.396 L62.1899 518.396 Q63.5267 521.547 64.227 524.857 Q64.9272 528.167 64.9272 531.573 Q64.9272 540.103 59.9619 545.1 Q54.9967 550.065 46.5303 550.065 Q37.7774 550.065 32.6531 545.355 Q27.4968 540.612 27.4968 532.592 Q27.4968 525.398 32.1438 521.229 Q36.7589 517.027 44.7161 517.027 M42.9973 522.884 Q38.1912 522.947 35.3266 525.589 Q32.4621 528.199 32.4621 532.528 Q32.4621 537.429 35.2312 540.39 Q38.0002 543.318 43.0292 543.763 L42.9973 522.884 Z\" fill=\"#000000\" fill-rule=\"nonzero\" fill-opacity=\"1\" /><path clip-path=\"url(#clip262)\" d=\"M351.748 1420.68 L351.748 1423.18 L381.661 1423.18 L381.661 1420.68 L351.748 1420.68 L351.748 1420.68  Z\" fill=\"#009af9\" fill-rule=\"evenodd\" fill-opacity=\"1\"/>\n",
              "<polyline clip-path=\"url(#clip262)\" style=\"stroke:#000000; stroke-linecap:round; stroke-linejoin:round; stroke-width:4; stroke-opacity:1; fill:none\" points=\"351.748,1420.68 351.748,1423.18 381.661,1423.18 381.661,1420.68 351.748,1420.68 \"/>\n",
              "<path clip-path=\"url(#clip262)\" d=\"M381.661 1413.17 L381.661 1423.18 L411.574 1423.18 L411.574 1413.17 L381.661 1413.17 L381.661 1413.17  Z\" fill=\"#009af9\" fill-rule=\"evenodd\" fill-opacity=\"1\"/>\n",
              "<polyline clip-path=\"url(#clip262)\" style=\"stroke:#000000; stroke-linecap:round; stroke-linejoin:round; stroke-width:4; stroke-opacity:1; fill:none\" points=\"381.661,1413.17 381.661,1423.18 411.574,1423.18 411.574,1413.17 381.661,1413.17 \"/>\n",
              "<path clip-path=\"url(#clip262)\" d=\"M411.574 1418.18 L411.574 1423.18 L441.488 1423.18 L441.488 1418.18 L411.574 1418.18 L411.574 1418.18  Z\" fill=\"#009af9\" fill-rule=\"evenodd\" fill-opacity=\"1\"/>\n",
              "<polyline clip-path=\"url(#clip262)\" style=\"stroke:#000000; stroke-linecap:round; stroke-linejoin:round; stroke-width:4; stroke-opacity:1; fill:none\" points=\"411.574,1418.18 411.574,1423.18 441.488,1423.18 441.488,1418.18 411.574,1418.18 \"/>\n",
              "<path clip-path=\"url(#clip262)\" d=\"M441.488 1405.67 L441.488 1423.18 L471.401 1423.18 L471.401 1405.67 L441.488 1405.67 L441.488 1405.67  Z\" fill=\"#009af9\" fill-rule=\"evenodd\" fill-opacity=\"1\"/>\n",
              "<polyline clip-path=\"url(#clip262)\" style=\"stroke:#000000; stroke-linecap:round; stroke-linejoin:round; stroke-width:4; stroke-opacity:1; fill:none\" points=\"441.488,1405.67 441.488,1423.18 471.401,1423.18 471.401,1405.67 441.488,1405.67 \"/>\n",
              "<path clip-path=\"url(#clip262)\" d=\"M471.401 1358.14 L471.401 1423.18 L501.315 1423.18 L501.315 1358.14 L471.401 1358.14 L471.401 1358.14  Z\" fill=\"#009af9\" fill-rule=\"evenodd\" fill-opacity=\"1\"/>\n",
              "<polyline clip-path=\"url(#clip262)\" style=\"stroke:#000000; stroke-linecap:round; stroke-linejoin:round; stroke-width:4; stroke-opacity:1; fill:none\" points=\"471.401,1358.14 471.401,1423.18 501.315,1423.18 501.315,1358.14 471.401,1358.14 \"/>\n",
              "<path clip-path=\"url(#clip262)\" d=\"M501.315 1310.6 L501.315 1423.18 L531.228 1423.18 L531.228 1310.6 L501.315 1310.6 L501.315 1310.6  Z\" fill=\"#009af9\" fill-rule=\"evenodd\" fill-opacity=\"1\"/>\n",
              "<polyline clip-path=\"url(#clip262)\" style=\"stroke:#000000; stroke-linecap:round; stroke-linejoin:round; stroke-width:4; stroke-opacity:1; fill:none\" points=\"501.315,1310.6 501.315,1423.18 531.228,1423.18 531.228,1310.6 501.315,1310.6 \"/>\n",
              "<path clip-path=\"url(#clip262)\" d=\"M531.228 1245.56 L531.228 1423.18 L561.141 1423.18 L561.141 1245.56 L531.228 1245.56 L531.228 1245.56  Z\" fill=\"#009af9\" fill-rule=\"evenodd\" fill-opacity=\"1\"/>\n",
              "<polyline clip-path=\"url(#clip262)\" style=\"stroke:#000000; stroke-linecap:round; stroke-linejoin:round; stroke-width:4; stroke-opacity:1; fill:none\" points=\"531.228,1245.56 531.228,1423.18 561.141,1423.18 561.141,1245.56 531.228,1245.56 \"/>\n",
              "<path clip-path=\"url(#clip262)\" d=\"M561.141 1208.03 L561.141 1423.18 L591.055 1423.18 L591.055 1208.03 L561.141 1208.03 L561.141 1208.03  Z\" fill=\"#009af9\" fill-rule=\"evenodd\" fill-opacity=\"1\"/>\n",
              "<polyline clip-path=\"url(#clip262)\" style=\"stroke:#000000; stroke-linecap:round; stroke-linejoin:round; stroke-width:4; stroke-opacity:1; fill:none\" points=\"561.141,1208.03 561.141,1423.18 591.055,1423.18 591.055,1208.03 561.141,1208.03 \"/>\n",
              "<path clip-path=\"url(#clip262)\" d=\"M591.055 1150.49 L591.055 1423.18 L620.968 1423.18 L620.968 1150.49 L591.055 1150.49 L591.055 1150.49  Z\" fill=\"#009af9\" fill-rule=\"evenodd\" fill-opacity=\"1\"/>\n",
              "<polyline clip-path=\"url(#clip262)\" style=\"stroke:#000000; stroke-linecap:round; stroke-linejoin:round; stroke-width:4; stroke-opacity:1; fill:none\" points=\"591.055,1150.49 591.055,1423.18 620.968,1423.18 620.968,1150.49 591.055,1150.49 \"/>\n",
              "<path clip-path=\"url(#clip262)\" d=\"M620.968 975.375 L620.968 1423.18 L650.882 1423.18 L650.882 975.375 L620.968 975.375 L620.968 975.375  Z\" fill=\"#009af9\" fill-rule=\"evenodd\" fill-opacity=\"1\"/>\n",
              "<polyline clip-path=\"url(#clip262)\" style=\"stroke:#000000; stroke-linecap:round; stroke-linejoin:round; stroke-width:4; stroke-opacity:1; fill:none\" points=\"620.968,975.375 620.968,1423.18 650.882,1423.18 650.882,975.375 620.968,975.375 \"/>\n",
              "<path clip-path=\"url(#clip262)\" d=\"M650.882 810.263 L650.882 1423.18 L680.795 1423.18 L680.795 810.263 L650.882 810.263 L650.882 810.263  Z\" fill=\"#009af9\" fill-rule=\"evenodd\" fill-opacity=\"1\"/>\n",
              "<polyline clip-path=\"url(#clip262)\" style=\"stroke:#000000; stroke-linecap:round; stroke-linejoin:round; stroke-width:4; stroke-opacity:1; fill:none\" points=\"650.882,810.263 650.882,1423.18 680.795,1423.18 680.795,810.263 650.882,810.263 \"/>\n",
              "<path clip-path=\"url(#clip262)\" d=\"M680.795 697.686 L680.795 1423.18 L710.708 1423.18 L710.708 697.686 L680.795 697.686 L680.795 697.686  Z\" fill=\"#009af9\" fill-rule=\"evenodd\" fill-opacity=\"1\"/>\n",
              "<polyline clip-path=\"url(#clip262)\" style=\"stroke:#000000; stroke-linecap:round; stroke-linejoin:round; stroke-width:4; stroke-opacity:1; fill:none\" points=\"680.795,697.686 680.795,1423.18 710.708,1423.18 710.708,697.686 680.795,697.686 \"/>\n",
              "<path clip-path=\"url(#clip262)\" d=\"M710.708 394.981 L710.708 1423.18 L740.622 1423.18 L740.622 394.981 L710.708 394.981 L710.708 394.981  Z\" fill=\"#009af9\" fill-rule=\"evenodd\" fill-opacity=\"1\"/>\n",
              "<polyline clip-path=\"url(#clip262)\" style=\"stroke:#000000; stroke-linecap:round; stroke-linejoin:round; stroke-width:4; stroke-opacity:1; fill:none\" points=\"710.708,394.981 710.708,1423.18 740.622,1423.18 740.622,394.981 710.708,394.981 \"/>\n",
              "<path clip-path=\"url(#clip262)\" d=\"M740.622 304.919 L740.622 1423.18 L770.535 1423.18 L770.535 304.919 L740.622 304.919 L740.622 304.919  Z\" fill=\"#009af9\" fill-rule=\"evenodd\" fill-opacity=\"1\"/>\n",
              "<polyline clip-path=\"url(#clip262)\" style=\"stroke:#000000; stroke-linecap:round; stroke-linejoin:round; stroke-width:4; stroke-opacity:1; fill:none\" points=\"740.622,304.919 740.622,1423.18 770.535,1423.18 770.535,304.919 740.622,304.919 \"/>\n",
              "<path clip-path=\"url(#clip262)\" d=\"M770.535 354.953 L770.535 1423.18 L800.448 1423.18 L800.448 354.953 L770.535 354.953 L770.535 354.953  Z\" fill=\"#009af9\" fill-rule=\"evenodd\" fill-opacity=\"1\"/>\n",
              "<polyline clip-path=\"url(#clip262)\" style=\"stroke:#000000; stroke-linecap:round; stroke-linejoin:round; stroke-width:4; stroke-opacity:1; fill:none\" points=\"770.535,354.953 770.535,1423.18 800.448,1423.18 800.448,354.953 770.535,354.953 \"/>\n",
              "<path clip-path=\"url(#clip262)\" d=\"M800.448 209.855 L800.448 1423.18 L830.362 1423.18 L830.362 209.855 L800.448 209.855 L800.448 209.855  Z\" fill=\"#009af9\" fill-rule=\"evenodd\" fill-opacity=\"1\"/>\n",
              "<polyline clip-path=\"url(#clip262)\" style=\"stroke:#000000; stroke-linecap:round; stroke-linejoin:round; stroke-width:4; stroke-opacity:1; fill:none\" points=\"800.448,209.855 800.448,1423.18 830.362,1423.18 830.362,209.855 800.448,209.855 \"/>\n",
              "<path clip-path=\"url(#clip262)\" d=\"M830.362 82.2679 L830.362 1423.18 L860.275 1423.18 L860.275 82.2679 L830.362 82.2679 L830.362 82.2679  Z\" fill=\"#009af9\" fill-rule=\"evenodd\" fill-opacity=\"1\"/>\n",
              "<polyline clip-path=\"url(#clip262)\" style=\"stroke:#000000; stroke-linecap:round; stroke-linejoin:round; stroke-width:4; stroke-opacity:1; fill:none\" points=\"830.362,82.2679 830.362,1423.18 860.275,1423.18 860.275,82.2679 830.362,82.2679 \"/>\n",
              "<path clip-path=\"url(#clip262)\" d=\"M860.275 62.2543 L860.275 1423.18 L890.189 1423.18 L890.189 62.2543 L860.275 62.2543 L860.275 62.2543  Z\" fill=\"#009af9\" fill-rule=\"evenodd\" fill-opacity=\"1\"/>\n",
              "<polyline clip-path=\"url(#clip262)\" style=\"stroke:#000000; stroke-linecap:round; stroke-linejoin:round; stroke-width:4; stroke-opacity:1; fill:none\" points=\"860.275,62.2543 860.275,1423.18 890.189,1423.18 890.189,62.2543 860.275,62.2543 \"/>\n",
              "<path clip-path=\"url(#clip262)\" d=\"M890.189 47.2441 L890.189 1423.18 L920.102 1423.18 L920.102 47.2441 L890.189 47.2441 L890.189 47.2441  Z\" fill=\"#009af9\" fill-rule=\"evenodd\" fill-opacity=\"1\"/>\n",
              "<polyline clip-path=\"url(#clip262)\" style=\"stroke:#000000; stroke-linecap:round; stroke-linejoin:round; stroke-width:4; stroke-opacity:1; fill:none\" points=\"890.189,47.2441 890.189,1423.18 920.102,1423.18 920.102,47.2441 890.189,47.2441 \"/>\n",
              "<path clip-path=\"url(#clip262)\" d=\"M920.102 112.288 L920.102 1423.18 L950.015 1423.18 L950.015 112.288 L920.102 112.288 L920.102 112.288  Z\" fill=\"#009af9\" fill-rule=\"evenodd\" fill-opacity=\"1\"/>\n",
              "<polyline clip-path=\"url(#clip262)\" style=\"stroke:#000000; stroke-linecap:round; stroke-linejoin:round; stroke-width:4; stroke-opacity:1; fill:none\" points=\"920.102,112.288 920.102,1423.18 950.015,1423.18 950.015,112.288 920.102,112.288 \"/>\n",
              "<path clip-path=\"url(#clip262)\" d=\"M950.015 122.295 L950.015 1423.18 L979.929 1423.18 L979.929 122.295 L950.015 122.295 L950.015 122.295  Z\" fill=\"#009af9\" fill-rule=\"evenodd\" fill-opacity=\"1\"/>\n",
              "<polyline clip-path=\"url(#clip262)\" style=\"stroke:#000000; stroke-linecap:round; stroke-linejoin:round; stroke-width:4; stroke-opacity:1; fill:none\" points=\"950.015,122.295 950.015,1423.18 979.929,1423.18 979.929,122.295 950.015,122.295 \"/>\n",
              "<path clip-path=\"url(#clip262)\" d=\"M979.929 169.827 L979.929 1423.18 L1009.84 1423.18 L1009.84 169.827 L979.929 169.827 L979.929 169.827  Z\" fill=\"#009af9\" fill-rule=\"evenodd\" fill-opacity=\"1\"/>\n",
              "<polyline clip-path=\"url(#clip262)\" style=\"stroke:#000000; stroke-linecap:round; stroke-linejoin:round; stroke-width:4; stroke-opacity:1; fill:none\" points=\"979.929,169.827 979.929,1423.18 1009.84,1423.18 1009.84,169.827 979.929,169.827 \"/>\n",
              "<path clip-path=\"url(#clip262)\" d=\"M1009.84 212.356 L1009.84 1423.18 L1039.76 1423.18 L1039.76 212.356 L1009.84 212.356 L1009.84 212.356  Z\" fill=\"#009af9\" fill-rule=\"evenodd\" fill-opacity=\"1\"/>\n",
              "<polyline clip-path=\"url(#clip262)\" style=\"stroke:#000000; stroke-linecap:round; stroke-linejoin:round; stroke-width:4; stroke-opacity:1; fill:none\" points=\"1009.84,212.356 1009.84,1423.18 1039.76,1423.18 1039.76,212.356 1009.84,212.356 \"/>\n",
              "<path clip-path=\"url(#clip262)\" d=\"M1039.76 342.445 L1039.76 1423.18 L1069.67 1423.18 L1069.67 342.445 L1039.76 342.445 L1039.76 342.445  Z\" fill=\"#009af9\" fill-rule=\"evenodd\" fill-opacity=\"1\"/>\n",
              "<polyline clip-path=\"url(#clip262)\" style=\"stroke:#000000; stroke-linecap:round; stroke-linejoin:round; stroke-width:4; stroke-opacity:1; fill:none\" points=\"1039.76,342.445 1039.76,1423.18 1069.67,1423.18 1069.67,342.445 1039.76,342.445 \"/>\n",
              "<path clip-path=\"url(#clip262)\" d=\"M1069.67 455.021 L1069.67 1423.18 L1099.58 1423.18 L1099.58 455.021 L1069.67 455.021 L1069.67 455.021  Z\" fill=\"#009af9\" fill-rule=\"evenodd\" fill-opacity=\"1\"/>\n",
              "<polyline clip-path=\"url(#clip262)\" style=\"stroke:#000000; stroke-linecap:round; stroke-linejoin:round; stroke-width:4; stroke-opacity:1; fill:none\" points=\"1069.67,455.021 1069.67,1423.18 1099.58,1423.18 1099.58,455.021 1069.67,455.021 \"/>\n",
              "<path clip-path=\"url(#clip262)\" d=\"M1099.58 557.591 L1099.58 1423.18 L1129.5 1423.18 L1129.5 557.591 L1099.58 557.591 L1099.58 557.591  Z\" fill=\"#009af9\" fill-rule=\"evenodd\" fill-opacity=\"1\"/>\n",
              "<polyline clip-path=\"url(#clip262)\" style=\"stroke:#000000; stroke-linecap:round; stroke-linejoin:round; stroke-width:4; stroke-opacity:1; fill:none\" points=\"1099.58,557.591 1099.58,1423.18 1129.5,1423.18 1129.5,557.591 1099.58,557.591 \"/>\n",
              "<path clip-path=\"url(#clip262)\" d=\"M1129.5 615.13 L1129.5 1423.18 L1159.41 1423.18 L1159.41 615.13 L1129.5 615.13 L1129.5 615.13  Z\" fill=\"#009af9\" fill-rule=\"evenodd\" fill-opacity=\"1\"/>\n",
              "<polyline clip-path=\"url(#clip262)\" style=\"stroke:#000000; stroke-linecap:round; stroke-linejoin:round; stroke-width:4; stroke-opacity:1; fill:none\" points=\"1129.5,615.13 1129.5,1423.18 1159.41,1423.18 1159.41,615.13 1129.5,615.13 \"/>\n",
              "<path clip-path=\"url(#clip262)\" d=\"M1159.41 667.666 L1159.41 1423.18 L1189.32 1423.18 L1189.32 667.666 L1159.41 667.666 L1159.41 667.666  Z\" fill=\"#009af9\" fill-rule=\"evenodd\" fill-opacity=\"1\"/>\n",
              "<polyline clip-path=\"url(#clip262)\" style=\"stroke:#000000; stroke-linecap:round; stroke-linejoin:round; stroke-width:4; stroke-opacity:1; fill:none\" points=\"1159.41,667.666 1159.41,1423.18 1189.32,1423.18 1189.32,667.666 1159.41,667.666 \"/>\n",
              "<path clip-path=\"url(#clip262)\" d=\"M1189.32 780.243 L1189.32 1423.18 L1219.24 1423.18 L1219.24 780.243 L1189.32 780.243 L1189.32 780.243  Z\" fill=\"#009af9\" fill-rule=\"evenodd\" fill-opacity=\"1\"/>\n",
              "<polyline clip-path=\"url(#clip262)\" style=\"stroke:#000000; stroke-linecap:round; stroke-linejoin:round; stroke-width:4; stroke-opacity:1; fill:none\" points=\"1189.32,780.243 1189.32,1423.18 1219.24,1423.18 1219.24,780.243 1189.32,780.243 \"/>\n",
              "<path clip-path=\"url(#clip262)\" d=\"M1219.24 897.823 L1219.24 1423.18 L1249.15 1423.18 L1249.15 897.823 L1219.24 897.823 L1219.24 897.823  Z\" fill=\"#009af9\" fill-rule=\"evenodd\" fill-opacity=\"1\"/>\n",
              "<polyline clip-path=\"url(#clip262)\" style=\"stroke:#000000; stroke-linecap:round; stroke-linejoin:round; stroke-width:4; stroke-opacity:1; fill:none\" points=\"1219.24,897.823 1219.24,1423.18 1249.15,1423.18 1249.15,897.823 1219.24,897.823 \"/>\n",
              "<path clip-path=\"url(#clip262)\" d=\"M1249.15 932.846 L1249.15 1423.18 L1279.06 1423.18 L1279.06 932.846 L1249.15 932.846 L1249.15 932.846  Z\" fill=\"#009af9\" fill-rule=\"evenodd\" fill-opacity=\"1\"/>\n",
              "<polyline clip-path=\"url(#clip262)\" style=\"stroke:#000000; stroke-linecap:round; stroke-linejoin:round; stroke-width:4; stroke-opacity:1; fill:none\" points=\"1249.15,932.846 1249.15,1423.18 1279.06,1423.18 1279.06,932.846 1249.15,932.846 \"/>\n",
              "<path clip-path=\"url(#clip262)\" d=\"M1279.06 1080.45 L1279.06 1423.18 L1308.98 1423.18 L1308.98 1080.45 L1279.06 1080.45 L1279.06 1080.45  Z\" fill=\"#009af9\" fill-rule=\"evenodd\" fill-opacity=\"1\"/>\n",
              "<polyline clip-path=\"url(#clip262)\" style=\"stroke:#000000; stroke-linecap:round; stroke-linejoin:round; stroke-width:4; stroke-opacity:1; fill:none\" points=\"1279.06,1080.45 1279.06,1423.18 1308.98,1423.18 1308.98,1080.45 1279.06,1080.45 \"/>\n",
              "<path clip-path=\"url(#clip262)\" d=\"M1308.98 1052.93 L1308.98 1423.18 L1338.89 1423.18 L1338.89 1052.93 L1308.98 1052.93 L1308.98 1052.93  Z\" fill=\"#009af9\" fill-rule=\"evenodd\" fill-opacity=\"1\"/>\n",
              "<polyline clip-path=\"url(#clip262)\" style=\"stroke:#000000; stroke-linecap:round; stroke-linejoin:round; stroke-width:4; stroke-opacity:1; fill:none\" points=\"1308.98,1052.93 1308.98,1423.18 1338.89,1423.18 1338.89,1052.93 1308.98,1052.93 \"/>\n",
              "<path clip-path=\"url(#clip262)\" d=\"M1338.89 1092.96 L1338.89 1423.18 L1368.8 1423.18 L1368.8 1092.96 L1338.89 1092.96 L1338.89 1092.96  Z\" fill=\"#009af9\" fill-rule=\"evenodd\" fill-opacity=\"1\"/>\n",
              "<polyline clip-path=\"url(#clip262)\" style=\"stroke:#000000; stroke-linecap:round; stroke-linejoin:round; stroke-width:4; stroke-opacity:1; fill:none\" points=\"1338.89,1092.96 1338.89,1423.18 1368.8,1423.18 1368.8,1092.96 1338.89,1092.96 \"/>\n",
              "<path clip-path=\"url(#clip262)\" d=\"M1368.8 1155.5 L1368.8 1423.18 L1398.72 1423.18 L1398.72 1155.5 L1368.8 1155.5 L1368.8 1155.5  Z\" fill=\"#009af9\" fill-rule=\"evenodd\" fill-opacity=\"1\"/>\n",
              "<polyline clip-path=\"url(#clip262)\" style=\"stroke:#000000; stroke-linecap:round; stroke-linejoin:round; stroke-width:4; stroke-opacity:1; fill:none\" points=\"1368.8,1155.5 1368.8,1423.18 1398.72,1423.18 1398.72,1155.5 1368.8,1155.5 \"/>\n",
              "<path clip-path=\"url(#clip262)\" d=\"M1398.72 1200.53 L1398.72 1423.18 L1428.63 1423.18 L1428.63 1200.53 L1398.72 1200.53 L1398.72 1200.53  Z\" fill=\"#009af9\" fill-rule=\"evenodd\" fill-opacity=\"1\"/>\n",
              "<polyline clip-path=\"url(#clip262)\" style=\"stroke:#000000; stroke-linecap:round; stroke-linejoin:round; stroke-width:4; stroke-opacity:1; fill:none\" points=\"1398.72,1200.53 1398.72,1423.18 1428.63,1423.18 1428.63,1200.53 1398.72,1200.53 \"/>\n",
              "<path clip-path=\"url(#clip262)\" d=\"M1428.63 1205.53 L1428.63 1423.18 L1458.54 1423.18 L1458.54 1205.53 L1428.63 1205.53 L1428.63 1205.53  Z\" fill=\"#009af9\" fill-rule=\"evenodd\" fill-opacity=\"1\"/>\n",
              "<polyline clip-path=\"url(#clip262)\" style=\"stroke:#000000; stroke-linecap:round; stroke-linejoin:round; stroke-width:4; stroke-opacity:1; fill:none\" points=\"1428.63,1205.53 1428.63,1423.18 1458.54,1423.18 1458.54,1205.53 1428.63,1205.53 \"/>\n",
              "<path clip-path=\"url(#clip262)\" d=\"M1458.54 1270.58 L1458.54 1423.18 L1488.46 1423.18 L1488.46 1270.58 L1458.54 1270.58 L1458.54 1270.58  Z\" fill=\"#009af9\" fill-rule=\"evenodd\" fill-opacity=\"1\"/>\n",
              "<polyline clip-path=\"url(#clip262)\" style=\"stroke:#000000; stroke-linecap:round; stroke-linejoin:round; stroke-width:4; stroke-opacity:1; fill:none\" points=\"1458.54,1270.58 1458.54,1423.18 1488.46,1423.18 1488.46,1270.58 1458.54,1270.58 \"/>\n",
              "<path clip-path=\"url(#clip262)\" d=\"M1488.46 1323.11 L1488.46 1423.18 L1518.37 1423.18 L1518.37 1323.11 L1488.46 1323.11 L1488.46 1323.11  Z\" fill=\"#009af9\" fill-rule=\"evenodd\" fill-opacity=\"1\"/>\n",
              "<polyline clip-path=\"url(#clip262)\" style=\"stroke:#000000; stroke-linecap:round; stroke-linejoin:round; stroke-width:4; stroke-opacity:1; fill:none\" points=\"1488.46,1323.11 1488.46,1423.18 1518.37,1423.18 1518.37,1323.11 1488.46,1323.11 \"/>\n",
              "<path clip-path=\"url(#clip262)\" d=\"M1518.37 1328.12 L1518.37 1423.18 L1548.28 1423.18 L1548.28 1328.12 L1518.37 1328.12 L1518.37 1328.12  Z\" fill=\"#009af9\" fill-rule=\"evenodd\" fill-opacity=\"1\"/>\n",
              "<polyline clip-path=\"url(#clip262)\" style=\"stroke:#000000; stroke-linecap:round; stroke-linejoin:round; stroke-width:4; stroke-opacity:1; fill:none\" points=\"1518.37,1328.12 1518.37,1423.18 1548.28,1423.18 1548.28,1328.12 1518.37,1328.12 \"/>\n",
              "<path clip-path=\"url(#clip262)\" d=\"M1548.28 1308.1 L1548.28 1423.18 L1578.2 1423.18 L1578.2 1308.1 L1548.28 1308.1 L1548.28 1308.1  Z\" fill=\"#009af9\" fill-rule=\"evenodd\" fill-opacity=\"1\"/>\n",
              "<polyline clip-path=\"url(#clip262)\" style=\"stroke:#000000; stroke-linecap:round; stroke-linejoin:round; stroke-width:4; stroke-opacity:1; fill:none\" points=\"1548.28,1308.1 1548.28,1423.18 1578.2,1423.18 1578.2,1308.1 1548.28,1308.1 \"/>\n",
              "<path clip-path=\"url(#clip262)\" d=\"M1578.2 1338.12 L1578.2 1423.18 L1608.11 1423.18 L1608.11 1338.12 L1578.2 1338.12 L1578.2 1338.12  Z\" fill=\"#009af9\" fill-rule=\"evenodd\" fill-opacity=\"1\"/>\n",
              "<polyline clip-path=\"url(#clip262)\" style=\"stroke:#000000; stroke-linecap:round; stroke-linejoin:round; stroke-width:4; stroke-opacity:1; fill:none\" points=\"1578.2,1338.12 1578.2,1423.18 1608.11,1423.18 1608.11,1338.12 1578.2,1338.12 \"/>\n",
              "<path clip-path=\"url(#clip262)\" d=\"M1608.11 1355.63 L1608.11 1423.18 L1638.02 1423.18 L1638.02 1355.63 L1608.11 1355.63 L1608.11 1355.63  Z\" fill=\"#009af9\" fill-rule=\"evenodd\" fill-opacity=\"1\"/>\n",
              "<polyline clip-path=\"url(#clip262)\" style=\"stroke:#000000; stroke-linecap:round; stroke-linejoin:round; stroke-width:4; stroke-opacity:1; fill:none\" points=\"1608.11,1355.63 1608.11,1423.18 1638.02,1423.18 1638.02,1355.63 1608.11,1355.63 \"/>\n",
              "<path clip-path=\"url(#clip262)\" d=\"M1638.02 1373.15 L1638.02 1423.18 L1667.94 1423.18 L1667.94 1373.15 L1638.02 1373.15 L1638.02 1373.15  Z\" fill=\"#009af9\" fill-rule=\"evenodd\" fill-opacity=\"1\"/>\n",
              "<polyline clip-path=\"url(#clip262)\" style=\"stroke:#000000; stroke-linecap:round; stroke-linejoin:round; stroke-width:4; stroke-opacity:1; fill:none\" points=\"1638.02,1373.15 1638.02,1423.18 1667.94,1423.18 1667.94,1373.15 1638.02,1373.15 \"/>\n",
              "<path clip-path=\"url(#clip262)\" d=\"M1667.94 1378.15 L1667.94 1423.18 L1697.85 1423.18 L1697.85 1378.15 L1667.94 1378.15 L1667.94 1378.15  Z\" fill=\"#009af9\" fill-rule=\"evenodd\" fill-opacity=\"1\"/>\n",
              "<polyline clip-path=\"url(#clip262)\" style=\"stroke:#000000; stroke-linecap:round; stroke-linejoin:round; stroke-width:4; stroke-opacity:1; fill:none\" points=\"1667.94,1378.15 1667.94,1423.18 1697.85,1423.18 1697.85,1378.15 1667.94,1378.15 \"/>\n",
              "<path clip-path=\"url(#clip262)\" d=\"M1697.85 1373.15 L1697.85 1423.18 L1727.76 1423.18 L1727.76 1373.15 L1697.85 1373.15 L1697.85 1373.15  Z\" fill=\"#009af9\" fill-rule=\"evenodd\" fill-opacity=\"1\"/>\n",
              "<polyline clip-path=\"url(#clip262)\" style=\"stroke:#000000; stroke-linecap:round; stroke-linejoin:round; stroke-width:4; stroke-opacity:1; fill:none\" points=\"1697.85,1373.15 1697.85,1423.18 1727.76,1423.18 1727.76,1373.15 1697.85,1373.15 \"/>\n",
              "<path clip-path=\"url(#clip262)\" d=\"M1727.76 1398.16 L1727.76 1423.18 L1757.68 1423.18 L1757.68 1398.16 L1727.76 1398.16 L1727.76 1398.16  Z\" fill=\"#009af9\" fill-rule=\"evenodd\" fill-opacity=\"1\"/>\n",
              "<polyline clip-path=\"url(#clip262)\" style=\"stroke:#000000; stroke-linecap:round; stroke-linejoin:round; stroke-width:4; stroke-opacity:1; fill:none\" points=\"1727.76,1398.16 1727.76,1423.18 1757.68,1423.18 1757.68,1398.16 1727.76,1398.16 \"/>\n",
              "<path clip-path=\"url(#clip262)\" d=\"M1757.68 1400.66 L1757.68 1423.18 L1787.59 1423.18 L1787.59 1400.66 L1757.68 1400.66 L1757.68 1400.66  Z\" fill=\"#009af9\" fill-rule=\"evenodd\" fill-opacity=\"1\"/>\n",
              "<polyline clip-path=\"url(#clip262)\" style=\"stroke:#000000; stroke-linecap:round; stroke-linejoin:round; stroke-width:4; stroke-opacity:1; fill:none\" points=\"1757.68,1400.66 1757.68,1423.18 1787.59,1423.18 1787.59,1400.66 1757.68,1400.66 \"/>\n",
              "<path clip-path=\"url(#clip262)\" d=\"M1787.59 1395.66 L1787.59 1423.18 L1817.5 1423.18 L1817.5 1395.66 L1787.59 1395.66 L1787.59 1395.66  Z\" fill=\"#009af9\" fill-rule=\"evenodd\" fill-opacity=\"1\"/>\n",
              "<polyline clip-path=\"url(#clip262)\" style=\"stroke:#000000; stroke-linecap:round; stroke-linejoin:round; stroke-width:4; stroke-opacity:1; fill:none\" points=\"1787.59,1395.66 1787.59,1423.18 1817.5,1423.18 1817.5,1395.66 1787.59,1395.66 \"/>\n",
              "<path clip-path=\"url(#clip262)\" d=\"M1817.5 1405.67 L1817.5 1423.18 L1847.42 1423.18 L1847.42 1405.67 L1817.5 1405.67 L1817.5 1405.67  Z\" fill=\"#009af9\" fill-rule=\"evenodd\" fill-opacity=\"1\"/>\n",
              "<polyline clip-path=\"url(#clip262)\" style=\"stroke:#000000; stroke-linecap:round; stroke-linejoin:round; stroke-width:4; stroke-opacity:1; fill:none\" points=\"1817.5,1405.67 1817.5,1423.18 1847.42,1423.18 1847.42,1405.67 1817.5,1405.67 \"/>\n",
              "<path clip-path=\"url(#clip262)\" d=\"M1847.42 1418.18 L1847.42 1423.18 L1877.33 1423.18 L1877.33 1418.18 L1847.42 1418.18 L1847.42 1418.18  Z\" fill=\"#009af9\" fill-rule=\"evenodd\" fill-opacity=\"1\"/>\n",
              "<polyline clip-path=\"url(#clip262)\" style=\"stroke:#000000; stroke-linecap:round; stroke-linejoin:round; stroke-width:4; stroke-opacity:1; fill:none\" points=\"1847.42,1418.18 1847.42,1423.18 1877.33,1423.18 1877.33,1418.18 1847.42,1418.18 \"/>\n",
              "<path clip-path=\"url(#clip262)\" d=\"M1877.33 1418.18 L1877.33 1423.18 L1907.24 1423.18 L1907.24 1418.18 L1877.33 1418.18 L1877.33 1418.18  Z\" fill=\"#009af9\" fill-rule=\"evenodd\" fill-opacity=\"1\"/>\n",
              "<polyline clip-path=\"url(#clip262)\" style=\"stroke:#000000; stroke-linecap:round; stroke-linejoin:round; stroke-width:4; stroke-opacity:1; fill:none\" points=\"1877.33,1418.18 1877.33,1423.18 1907.24,1423.18 1907.24,1418.18 1877.33,1418.18 \"/>\n",
              "<path clip-path=\"url(#clip262)\" d=\"M1907.24 1418.18 L1907.24 1423.18 L1937.16 1423.18 L1937.16 1418.18 L1907.24 1418.18 L1907.24 1418.18  Z\" fill=\"#009af9\" fill-rule=\"evenodd\" fill-opacity=\"1\"/>\n",
              "<polyline clip-path=\"url(#clip262)\" style=\"stroke:#000000; stroke-linecap:round; stroke-linejoin:round; stroke-width:4; stroke-opacity:1; fill:none\" points=\"1907.24,1418.18 1907.24,1423.18 1937.16,1423.18 1937.16,1418.18 1907.24,1418.18 \"/>\n",
              "<path clip-path=\"url(#clip262)\" d=\"M1937.16 1423.18 L1937.16 1423.18 L1967.07 1423.18 L1967.07 1423.18 L1937.16 1423.18 L1937.16 1423.18  Z\" fill=\"#009af9\" fill-rule=\"evenodd\" fill-opacity=\"1\"/>\n",
              "<polyline clip-path=\"url(#clip262)\" style=\"stroke:#000000; stroke-linecap:round; stroke-linejoin:round; stroke-width:4; stroke-opacity:1; fill:none\" points=\"1937.16,1423.18 1937.16,1423.18 1967.07,1423.18 1937.16,1423.18 \"/>\n",
              "<path clip-path=\"url(#clip262)\" d=\"M1967.07 1420.68 L1967.07 1423.18 L1996.98 1423.18 L1996.98 1420.68 L1967.07 1420.68 L1967.07 1420.68  Z\" fill=\"#009af9\" fill-rule=\"evenodd\" fill-opacity=\"1\"/>\n",
              "<polyline clip-path=\"url(#clip262)\" style=\"stroke:#000000; stroke-linecap:round; stroke-linejoin:round; stroke-width:4; stroke-opacity:1; fill:none\" points=\"1967.07,1420.68 1967.07,1423.18 1996.98,1423.18 1996.98,1420.68 1967.07,1420.68 \"/>\n",
              "<path clip-path=\"url(#clip262)\" d=\"M1996.98 1418.18 L1996.98 1423.18 L2026.9 1423.18 L2026.9 1418.18 L1996.98 1418.18 L1996.98 1418.18  Z\" fill=\"#009af9\" fill-rule=\"evenodd\" fill-opacity=\"1\"/>\n",
              "<polyline clip-path=\"url(#clip262)\" style=\"stroke:#000000; stroke-linecap:round; stroke-linejoin:round; stroke-width:4; stroke-opacity:1; fill:none\" points=\"1996.98,1418.18 1996.98,1423.18 2026.9,1423.18 2026.9,1418.18 1996.98,1418.18 \"/>\n",
              "<path clip-path=\"url(#clip262)\" d=\"M2026.9 1423.18 L2026.9 1423.18 L2056.81 1423.18 L2056.81 1423.18 L2026.9 1423.18 L2026.9 1423.18  Z\" fill=\"#009af9\" fill-rule=\"evenodd\" fill-opacity=\"1\"/>\n",
              "<polyline clip-path=\"url(#clip262)\" style=\"stroke:#000000; stroke-linecap:round; stroke-linejoin:round; stroke-width:4; stroke-opacity:1; fill:none\" points=\"2026.9,1423.18 2026.9,1423.18 2056.81,1423.18 2026.9,1423.18 \"/>\n",
              "<path clip-path=\"url(#clip262)\" d=\"M2056.81 1423.18 L2056.81 1423.18 L2086.72 1423.18 L2086.72 1423.18 L2056.81 1423.18 L2056.81 1423.18  Z\" fill=\"#009af9\" fill-rule=\"evenodd\" fill-opacity=\"1\"/>\n",
              "<polyline clip-path=\"url(#clip262)\" style=\"stroke:#000000; stroke-linecap:round; stroke-linejoin:round; stroke-width:4; stroke-opacity:1; fill:none\" points=\"2056.81,1423.18 2056.81,1423.18 2086.72,1423.18 2056.81,1423.18 \"/>\n",
              "<path clip-path=\"url(#clip262)\" d=\"M2086.72 1423.18 L2086.72 1423.18 L2116.64 1423.18 L2116.64 1423.18 L2086.72 1423.18 L2086.72 1423.18  Z\" fill=\"#009af9\" fill-rule=\"evenodd\" fill-opacity=\"1\"/>\n",
              "<polyline clip-path=\"url(#clip262)\" style=\"stroke:#000000; stroke-linecap:round; stroke-linejoin:round; stroke-width:4; stroke-opacity:1; fill:none\" points=\"2086.72,1423.18 2086.72,1423.18 2116.64,1423.18 2086.72,1423.18 \"/>\n",
              "<path clip-path=\"url(#clip262)\" d=\"M2116.64 1420.68 L2116.64 1423.18 L2146.55 1423.18 L2146.55 1420.68 L2116.64 1420.68 L2116.64 1420.68  Z\" fill=\"#009af9\" fill-rule=\"evenodd\" fill-opacity=\"1\"/>\n",
              "<polyline clip-path=\"url(#clip262)\" style=\"stroke:#000000; stroke-linecap:round; stroke-linejoin:round; stroke-width:4; stroke-opacity:1; fill:none\" points=\"2116.64,1420.68 2116.64,1423.18 2146.55,1423.18 2146.55,1420.68 2116.64,1420.68 \"/>\n",
              "<path clip-path=\"url(#clip262)\" d=\"M2146.55 1420.68 L2146.55 1423.18 L2176.46 1423.18 L2176.46 1420.68 L2146.55 1420.68 L2146.55 1420.68  Z\" fill=\"#009af9\" fill-rule=\"evenodd\" fill-opacity=\"1\"/>\n",
              "<polyline clip-path=\"url(#clip262)\" style=\"stroke:#000000; stroke-linecap:round; stroke-linejoin:round; stroke-width:4; stroke-opacity:1; fill:none\" points=\"2146.55,1420.68 2146.55,1423.18 2176.46,1423.18 2176.46,1420.68 2146.55,1420.68 \"/>\n",
              "<path clip-path=\"url(#clip262)\" d=\"M2176.46 1423.18 L2176.46 1423.18 L2206.38 1423.18 L2206.38 1423.18 L2176.46 1423.18 L2176.46 1423.18  Z\" fill=\"#009af9\" fill-rule=\"evenodd\" fill-opacity=\"1\"/>\n",
              "<polyline clip-path=\"url(#clip262)\" style=\"stroke:#000000; stroke-linecap:round; stroke-linejoin:round; stroke-width:4; stroke-opacity:1; fill:none\" points=\"2176.46,1423.18 2176.46,1423.18 2206.38,1423.18 2176.46,1423.18 \"/>\n",
              "<path clip-path=\"url(#clip262)\" d=\"M2206.38 1420.68 L2206.38 1423.18 L2236.29 1423.18 L2236.29 1420.68 L2206.38 1420.68 L2206.38 1420.68  Z\" fill=\"#009af9\" fill-rule=\"evenodd\" fill-opacity=\"1\"/>\n",
              "<polyline clip-path=\"url(#clip262)\" style=\"stroke:#000000; stroke-linecap:round; stroke-linejoin:round; stroke-width:4; stroke-opacity:1; fill:none\" points=\"2206.38,1420.68 2206.38,1423.18 2236.29,1423.18 2236.29,1420.68 2206.38,1420.68 \"/>\n",
              "<circle clip-path=\"url(#clip262)\" style=\"fill:#009af9; stroke:none; fill-opacity:0\" cx=\"366.704\" cy=\"1420.68\" r=\"2\"/>\n",
              "<circle clip-path=\"url(#clip262)\" style=\"fill:#009af9; stroke:none; fill-opacity:0\" cx=\"396.618\" cy=\"1413.17\" r=\"2\"/>\n",
              "<circle clip-path=\"url(#clip262)\" style=\"fill:#009af9; stroke:none; fill-opacity:0\" cx=\"426.531\" cy=\"1418.18\" r=\"2\"/>\n",
              "<circle clip-path=\"url(#clip262)\" style=\"fill:#009af9; stroke:none; fill-opacity:0\" cx=\"456.444\" cy=\"1405.67\" r=\"2\"/>\n",
              "<circle clip-path=\"url(#clip262)\" style=\"fill:#009af9; stroke:none; fill-opacity:0\" cx=\"486.358\" cy=\"1358.14\" r=\"2\"/>\n",
              "<circle clip-path=\"url(#clip262)\" style=\"fill:#009af9; stroke:none; fill-opacity:0\" cx=\"516.271\" cy=\"1310.6\" r=\"2\"/>\n",
              "<circle clip-path=\"url(#clip262)\" style=\"fill:#009af9; stroke:none; fill-opacity:0\" cx=\"546.185\" cy=\"1245.56\" r=\"2\"/>\n",
              "<circle clip-path=\"url(#clip262)\" style=\"fill:#009af9; stroke:none; fill-opacity:0\" cx=\"576.098\" cy=\"1208.03\" r=\"2\"/>\n",
              "<circle clip-path=\"url(#clip262)\" style=\"fill:#009af9; stroke:none; fill-opacity:0\" cx=\"606.011\" cy=\"1150.49\" r=\"2\"/>\n",
              "<circle clip-path=\"url(#clip262)\" style=\"fill:#009af9; stroke:none; fill-opacity:0\" cx=\"635.925\" cy=\"975.375\" r=\"2\"/>\n",
              "<circle clip-path=\"url(#clip262)\" style=\"fill:#009af9; stroke:none; fill-opacity:0\" cx=\"665.838\" cy=\"810.263\" r=\"2\"/>\n",
              "<circle clip-path=\"url(#clip262)\" style=\"fill:#009af9; stroke:none; fill-opacity:0\" cx=\"695.752\" cy=\"697.686\" r=\"2\"/>\n",
              "<circle clip-path=\"url(#clip262)\" style=\"fill:#009af9; stroke:none; fill-opacity:0\" cx=\"725.665\" cy=\"394.981\" r=\"2\"/>\n",
              "<circle clip-path=\"url(#clip262)\" style=\"fill:#009af9; stroke:none; fill-opacity:0\" cx=\"755.578\" cy=\"304.919\" r=\"2\"/>\n",
              "<circle clip-path=\"url(#clip262)\" style=\"fill:#009af9; stroke:none; fill-opacity:0\" cx=\"785.492\" cy=\"354.953\" r=\"2\"/>\n",
              "<circle clip-path=\"url(#clip262)\" style=\"fill:#009af9; stroke:none; fill-opacity:0\" cx=\"815.405\" cy=\"209.855\" r=\"2\"/>\n",
              "<circle clip-path=\"url(#clip262)\" style=\"fill:#009af9; stroke:none; fill-opacity:0\" cx=\"845.319\" cy=\"82.2679\" r=\"2\"/>\n",
              "<circle clip-path=\"url(#clip262)\" style=\"fill:#009af9; stroke:none; fill-opacity:0\" cx=\"875.232\" cy=\"62.2543\" r=\"2\"/>\n",
              "<circle clip-path=\"url(#clip262)\" style=\"fill:#009af9; stroke:none; fill-opacity:0\" cx=\"905.145\" cy=\"47.2441\" r=\"2\"/>\n",
              "<circle clip-path=\"url(#clip262)\" style=\"fill:#009af9; stroke:none; fill-opacity:0\" cx=\"935.059\" cy=\"112.288\" r=\"2\"/>\n",
              "<circle clip-path=\"url(#clip262)\" style=\"fill:#009af9; stroke:none; fill-opacity:0\" cx=\"964.972\" cy=\"122.295\" r=\"2\"/>\n",
              "<circle clip-path=\"url(#clip262)\" style=\"fill:#009af9; stroke:none; fill-opacity:0\" cx=\"994.885\" cy=\"169.827\" r=\"2\"/>\n",
              "<circle clip-path=\"url(#clip262)\" style=\"fill:#009af9; stroke:none; fill-opacity:0\" cx=\"1024.8\" cy=\"212.356\" r=\"2\"/>\n",
              "<circle clip-path=\"url(#clip262)\" style=\"fill:#009af9; stroke:none; fill-opacity:0\" cx=\"1054.71\" cy=\"342.445\" r=\"2\"/>\n",
              "<circle clip-path=\"url(#clip262)\" style=\"fill:#009af9; stroke:none; fill-opacity:0\" cx=\"1084.63\" cy=\"455.021\" r=\"2\"/>\n",
              "<circle clip-path=\"url(#clip262)\" style=\"fill:#009af9; stroke:none; fill-opacity:0\" cx=\"1114.54\" cy=\"557.591\" r=\"2\"/>\n",
              "<circle clip-path=\"url(#clip262)\" style=\"fill:#009af9; stroke:none; fill-opacity:0\" cx=\"1144.45\" cy=\"615.13\" r=\"2\"/>\n",
              "<circle clip-path=\"url(#clip262)\" style=\"fill:#009af9; stroke:none; fill-opacity:0\" cx=\"1174.37\" cy=\"667.666\" r=\"2\"/>\n",
              "<circle clip-path=\"url(#clip262)\" style=\"fill:#009af9; stroke:none; fill-opacity:0\" cx=\"1204.28\" cy=\"780.243\" r=\"2\"/>\n",
              "<circle clip-path=\"url(#clip262)\" style=\"fill:#009af9; stroke:none; fill-opacity:0\" cx=\"1234.19\" cy=\"897.823\" r=\"2\"/>\n",
              "<circle clip-path=\"url(#clip262)\" style=\"fill:#009af9; stroke:none; fill-opacity:0\" cx=\"1264.11\" cy=\"932.846\" r=\"2\"/>\n",
              "<circle clip-path=\"url(#clip262)\" style=\"fill:#009af9; stroke:none; fill-opacity:0\" cx=\"1294.02\" cy=\"1080.45\" r=\"2\"/>\n",
              "<circle clip-path=\"url(#clip262)\" style=\"fill:#009af9; stroke:none; fill-opacity:0\" cx=\"1323.93\" cy=\"1052.93\" r=\"2\"/>\n",
              "<circle clip-path=\"url(#clip262)\" style=\"fill:#009af9; stroke:none; fill-opacity:0\" cx=\"1353.85\" cy=\"1092.96\" r=\"2\"/>\n",
              "<circle clip-path=\"url(#clip262)\" style=\"fill:#009af9; stroke:none; fill-opacity:0\" cx=\"1383.76\" cy=\"1155.5\" r=\"2\"/>\n",
              "<circle clip-path=\"url(#clip262)\" style=\"fill:#009af9; stroke:none; fill-opacity:0\" cx=\"1413.67\" cy=\"1200.53\" r=\"2\"/>\n",
              "<circle clip-path=\"url(#clip262)\" style=\"fill:#009af9; stroke:none; fill-opacity:0\" cx=\"1443.59\" cy=\"1205.53\" r=\"2\"/>\n",
              "<circle clip-path=\"url(#clip262)\" style=\"fill:#009af9; stroke:none; fill-opacity:0\" cx=\"1473.5\" cy=\"1270.58\" r=\"2\"/>\n",
              "<circle clip-path=\"url(#clip262)\" style=\"fill:#009af9; stroke:none; fill-opacity:0\" cx=\"1503.41\" cy=\"1323.11\" r=\"2\"/>\n",
              "<circle clip-path=\"url(#clip262)\" style=\"fill:#009af9; stroke:none; fill-opacity:0\" cx=\"1533.33\" cy=\"1328.12\" r=\"2\"/>\n",
              "<circle clip-path=\"url(#clip262)\" style=\"fill:#009af9; stroke:none; fill-opacity:0\" cx=\"1563.24\" cy=\"1308.1\" r=\"2\"/>\n",
              "<circle clip-path=\"url(#clip262)\" style=\"fill:#009af9; stroke:none; fill-opacity:0\" cx=\"1593.15\" cy=\"1338.12\" r=\"2\"/>\n",
              "<circle clip-path=\"url(#clip262)\" style=\"fill:#009af9; stroke:none; fill-opacity:0\" cx=\"1623.07\" cy=\"1355.63\" r=\"2\"/>\n",
              "<circle clip-path=\"url(#clip262)\" style=\"fill:#009af9; stroke:none; fill-opacity:0\" cx=\"1652.98\" cy=\"1373.15\" r=\"2\"/>\n",
              "<circle clip-path=\"url(#clip262)\" style=\"fill:#009af9; stroke:none; fill-opacity:0\" cx=\"1682.89\" cy=\"1378.15\" r=\"2\"/>\n",
              "<circle clip-path=\"url(#clip262)\" style=\"fill:#009af9; stroke:none; fill-opacity:0\" cx=\"1712.81\" cy=\"1373.15\" r=\"2\"/>\n",
              "<circle clip-path=\"url(#clip262)\" style=\"fill:#009af9; stroke:none; fill-opacity:0\" cx=\"1742.72\" cy=\"1398.16\" r=\"2\"/>\n",
              "<circle clip-path=\"url(#clip262)\" style=\"fill:#009af9; stroke:none; fill-opacity:0\" cx=\"1772.63\" cy=\"1400.66\" r=\"2\"/>\n",
              "<circle clip-path=\"url(#clip262)\" style=\"fill:#009af9; stroke:none; fill-opacity:0\" cx=\"1802.55\" cy=\"1395.66\" r=\"2\"/>\n",
              "<circle clip-path=\"url(#clip262)\" style=\"fill:#009af9; stroke:none; fill-opacity:0\" cx=\"1832.46\" cy=\"1405.67\" r=\"2\"/>\n",
              "<circle clip-path=\"url(#clip262)\" style=\"fill:#009af9; stroke:none; fill-opacity:0\" cx=\"1862.37\" cy=\"1418.18\" r=\"2\"/>\n",
              "<circle clip-path=\"url(#clip262)\" style=\"fill:#009af9; stroke:none; fill-opacity:0\" cx=\"1892.29\" cy=\"1418.18\" r=\"2\"/>\n",
              "<circle clip-path=\"url(#clip262)\" style=\"fill:#009af9; stroke:none; fill-opacity:0\" cx=\"1922.2\" cy=\"1418.18\" r=\"2\"/>\n",
              "<circle clip-path=\"url(#clip262)\" style=\"fill:#009af9; stroke:none; fill-opacity:0\" cx=\"1952.11\" cy=\"1423.18\" r=\"2\"/>\n",
              "<circle clip-path=\"url(#clip262)\" style=\"fill:#009af9; stroke:none; fill-opacity:0\" cx=\"1982.03\" cy=\"1420.68\" r=\"2\"/>\n",
              "<circle clip-path=\"url(#clip262)\" style=\"fill:#009af9; stroke:none; fill-opacity:0\" cx=\"2011.94\" cy=\"1418.18\" r=\"2\"/>\n",
              "<circle clip-path=\"url(#clip262)\" style=\"fill:#009af9; stroke:none; fill-opacity:0\" cx=\"2041.85\" cy=\"1423.18\" r=\"2\"/>\n",
              "<circle clip-path=\"url(#clip262)\" style=\"fill:#009af9; stroke:none; fill-opacity:0\" cx=\"2071.77\" cy=\"1423.18\" r=\"2\"/>\n",
              "<circle clip-path=\"url(#clip262)\" style=\"fill:#009af9; stroke:none; fill-opacity:0\" cx=\"2101.68\" cy=\"1423.18\" r=\"2\"/>\n",
              "<circle clip-path=\"url(#clip262)\" style=\"fill:#009af9; stroke:none; fill-opacity:0\" cx=\"2131.59\" cy=\"1420.68\" r=\"2\"/>\n",
              "<circle clip-path=\"url(#clip262)\" style=\"fill:#009af9; stroke:none; fill-opacity:0\" cx=\"2161.51\" cy=\"1420.68\" r=\"2\"/>\n",
              "<circle clip-path=\"url(#clip262)\" style=\"fill:#009af9; stroke:none; fill-opacity:0\" cx=\"2191.42\" cy=\"1423.18\" r=\"2\"/>\n",
              "<circle clip-path=\"url(#clip262)\" style=\"fill:#009af9; stroke:none; fill-opacity:0\" cx=\"2221.33\" cy=\"1420.68\" r=\"2\"/>\n",
              "</svg>\n"
            ]
          },
          "metadata": {},
          "output_type": "display_data"
        }
      ],
      "source": [
        "mu = log(3.2) #mean\n",
        "sig = log(2)/3 #standard deviation\n",
        "Sdist = LogNormal(mu,sig) #distribution, as described in problem\n",
        "\n",
        "S = []\n",
        "for i in 1:10000\n",
        "    sval = rand(Sdist)\n",
        "    S = append!(S,sval)\n",
        "end\n",
        "\n",
        "#plotting\n",
        "histogram(S, legend=:false, bins=100)\n",
        "xlabel!(\"S Value (degrees C)\")\n",
        "ylabel!(\"Sample Value\")"
      ]
    },
    {
      "cell_type": "markdown",
      "id": "281d40e0-5c50-41de-806f-b3faa6cf7cc5",
      "metadata": {},
      "source": [
        "#### Problem 1.2 (5 points)\n",
        "\n",
        "Use the EBM to propagate your samples of $S$ to a distribution of global\n",
        "mean temperature. Plot the median and 90% predictive distribution\n",
        "(between the .05 and .95 quantiles) from 1880-2100."
      ]
    },
    {
      "cell_type": "markdown",
      "id": "5eee64cc-314f-4dfa-8636-7953a0174879",
      "metadata": {},
      "source": [
        "#### Problem 1.3 (4 points)\n",
        "\n",
        "Make a histogram of global mean temperature projections in 2100. If you\n",
        "compare this distribution to the distribution of $S$ from Problem 1.1,\n",
        "what do you observe?"
      ]
    },
    {
      "cell_type": "markdown",
      "id": "6673067d-8589-4dc7-86d9-adf2e25e8507",
      "metadata": {},
      "source": [
        "### Problem 2 (15 points)\n",
        "\n",
        "Changes to global temperatures cause changes in global sea levels\n",
        "through several mechanisms, including thermal expansion (the change in\n",
        "ocean volume due to increased heat content) and melting land-based ice.\n",
        "One simple way to represent this link is through the following model,\n",
        "proposed by [Rahmstorf (2007)](https://doi.org/10.1126/science.1135456).\n",
        "\n",
        "$$\\frac{dH}{dt} = a(T-T_0),$$\n",
        "\n",
        "where $H$ is the global mean sea level in mm, $T$ is global mean\n",
        "temperature, $T_0$ is an equilibrium temperature (where there is no\n",
        "change in sea levels), and $a$ is a proportionality constant. This model\n",
        "can be discretized to give $$H_{i+1} - H_i = a (T_i - T_0).$$\n",
        "\n",
        "Note that, like with global mean temperature, the notion of “global mean\n",
        "sea level” does not make sense in absolute terms (were sea levels ever\n",
        "at “zero”?). Instead, we want to normalize this relative to some\n",
        "historical baseline. In this case (with a view towards Problem 3), we\n",
        "will compute our sea levels relative to the 2010 sea level. Note that in\n",
        "addition to the model parameters, we also need an initial sea-level\n",
        "parameter $H_0$ which will give us the right anomaly level.\n",
        "\n",
        "The best estimates for these parameters are:\n",
        "\n",
        "-   $a = 1.86$;\n",
        "-   $H_0 = -223$;\n",
        "-   $T_0 = -0.62$"
      ]
    },
    {
      "cell_type": "markdown",
      "id": "3e53890b-d4c9-48de-b7f5-3a087bf0ab69",
      "metadata": {},
      "source": [
        "#### Problem 2.1 (5 points)\n",
        "\n",
        "Write a function `sea_level_model()` to implement the mathematical\n",
        "sea-level rise model described above. It should take in needed\n",
        "parameters and a vector of temperatures and return a vector of sea\n",
        "levels. To test your function, use the provided temperature series\n",
        "`historical_temps` (read in below) to compute the global mean sea level\n",
        "anomaly in 2022 (the last year of the dataset) with the parameter values\n",
        "above; you should get a value of approximately 43mm."
      ]
    },
    {
      "cell_type": "code",
      "execution_count": 5,
      "id": "0873ecca",
      "metadata": {},
      "outputs": [
        {
          "data": {
            "text/plain": [
              "143-element Vector{Float64}:\n",
              "  0.07297116761904765\n",
              "  0.15655772761904765\n",
              "  0.09327316761904769\n",
              "  0.04232884761904765\n",
              " -0.10351681238095234\n",
              " -0.08232033238095232\n",
              " -0.03210037238095231\n",
              " -0.10998251238095236\n",
              "  0.00942435761904764\n",
              "  0.13890768761904768\n",
              " -0.11805492238095233\n",
              " -0.012511692380952344\n",
              " -0.11875525238095236\n",
              "  ⋮\n",
              "  0.9265009776190476\n",
              "  0.9664103476190478\n",
              "  1.0123786476190477\n",
              "  1.0616748976190478\n",
              "  1.2139176176190476\n",
              "  1.3217303776190477\n",
              "  1.2339774976190476\n",
              "  1.1514572476190477\n",
              "  1.2798758476190477\n",
              "  1.3115970476190477\n",
              "  1.1506591476190478\n",
              "  1.1896871476190476"
            ]
          },
          "metadata": {},
          "output_type": "display_data"
        }
      ],
      "source": [
        "historical_temp_data = CSV.read(\"data/HadCRUT.5.0.1.0.analysis.summary_series.global.annual.csv\", DataFrame, delim=\",\")\n",
        "# column 2 is the temperature anomaly, column 1 is the year\n",
        "temp_bds = indexin([1880, 1900], historical_temp_data[!, 1]) # find the index of 2010 for normalization\n",
        "historical_temp_data[:, 2] .-= mean(historical_temp_data[temp_bds[1]:temp_bds[2], 2])\n",
        "historical_temps = historical_temp_data[temp_bds[1]:end, 2]"
      ]
    },
    {
      "cell_type": "markdown",
      "id": "6b575584-39c2-4c61-8857-f4ae8903d471",
      "metadata": {},
      "source": [
        "#### Problem 2.2 (5 points)\n",
        "\n",
        "Evaluate `sea_level_model()` using the projected temperature ensemble\n",
        "from Problem 1. Plot the 90% projection interval of the sea levels."
      ]
    },
    {
      "cell_type": "markdown",
      "id": "f56ac29c-dd79-40e4-bf18-448569666b39",
      "metadata": {},
      "source": [
        "#### Problem 2.3 (5 points)\n",
        "\n",
        "Make a histogram of the sea-level anomaly in 2100. What can you observe\n",
        "about how the ECS uncertainty has impacted sea-level uncertainty under\n",
        "this radiative forcing scenario? What might the implications be of only\n",
        "using the best-estimate ECS value?"
      ]
    },
    {
      "cell_type": "markdown",
      "id": "3555492f-8b2c-4798-9ec4-73a9f7a91102",
      "metadata": {},
      "source": [
        "### Problem 3 (13 points)\n",
        "\n",
        "You’ve been asked to consult on a levee reliability analysis. For\n",
        "context, levees in the United States are supposed to only fail once in\n",
        "100 years, or, in other words, to have at most a 1% chance of failure in\n",
        "a given year. We will assume for this problem that the only way in which\n",
        "a levee fails is by being overtopped (note: this is unrealistic).\n",
        "\n",
        "We can assess the probability of levee overtopping by comparing its\n",
        "height to a distribution of extreme sea levels. A common approach is to\n",
        "look at the distribution of the highest sea level each year. These\n",
        "extreme sea levels can be obtained by combining the absolute sea level\n",
        "(we will use our distribution of global sea levels for this), the rate\n",
        "of subsidence (how much the ground sinks), and the distribution of storm\n",
        "tides (the highest tide level, which is often the result of storm surges\n",
        "combining with high tide).\n",
        "\n",
        "Assume for this problem that:\n",
        "\n",
        "1.  the annual rate of subsidence $\\nu$ is 1.2mm/yr;\n",
        "2.  the distribution of annual storm tide maxima, above the mean sea\n",
        "    level, is (and is expected to continue to be) given by a\n",
        "    $\\text{GeneralizedExtremeValue}(900, 25, 0.3)$ distribution, which\n",
        "    looks like this:"
      ]
    },
    {
      "cell_type": "code",
      "execution_count": 6,
      "id": "4f6b3f43",
      "metadata": {},
      "outputs": [
        {
          "data": {
            "text/html": [
              "<img src=\"data:image/png;base64,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\" />"
            ]
          },
          "metadata": {},
          "output_type": "display_data"
        }
      ],
      "source": [
        "tide_distribution = GeneralizedExtremeValue(900, 25, 0.3)\n",
        "    histogram(rand(tide_distribution, 10000), xlabel=\"Storm Tide Height (mm)\", ylabel=\"Count\", legend=:false)"
      ]
    },
    {
      "cell_type": "markdown",
      "id": "556f7bc4-7ae8-46f7-a82e-ea8a359cfbf4",
      "metadata": {},
      "source": [
        "Feel free to just sample from `tide_distribution` in your solution\n",
        "below."
      ]
    },
    {
      "cell_type": "markdown",
      "id": "b21f42cb-9220-4ce8-908f-f6934251c52f",
      "metadata": {},
      "source": [
        "#### Problem 3.1 (2 points)\n",
        "\n",
        "How would you use your sea-level simulations and the above information\n",
        "to compute a distribution of extreme sea levels in 2100 relative to 2010\n",
        "mean sea level? Write down the approach in clear steps, with equations\n",
        "as needed."
      ]
    },
    {
      "cell_type": "markdown",
      "id": "a80c9bc6-93b4-4702-a96e-60f60f38d4fe",
      "metadata": {},
      "source": [
        "#### Problem 3.2 (3 points)\n",
        "\n",
        "Follow the steps above and produce a histogram of the extreme sea levels\n",
        "in 2100 relative to 2010."
      ]
    },
    {
      "cell_type": "markdown",
      "id": "7e262cca-5fad-455f-a4a5-63133a366009",
      "metadata": {},
      "source": [
        "#### Problem 3.2 (3 points)\n",
        "\n",
        "Follow the steps above and produce a histogram of the extreme sea levels\n",
        "in 2100 relative to 2010."
      ]
    },
    {
      "cell_type": "markdown",
      "id": "5e37ec00-b6c8-44c8-979c-86bb20476b0d",
      "metadata": {},
      "source": [
        "#### Problem 3.4 (3 points)\n",
        "\n",
        "Based on your analysis, would you recommend that the levee be heightened\n",
        "again in the future, and if so, how high? What other information might\n",
        "you need, if any, to make your recommendation?"
      ]
    },
    {
      "cell_type": "markdown",
      "id": "da31bad8-e17e-4bcf-98ca-8f21e10a7406",
      "metadata": {},
      "source": [
        "## References\n",
        "\n",
        "List any external references consulted, including classmates."
      ]
    }
  ],
  "metadata": {
    "kernelspec": {
      "display_name": "Julia 1.9.2",
      "language": "julia",
      "name": "julia-1.9"
    },
    "language_info": {
      "file_extension": ".jl",
      "mimetype": "application/julia",
      "name": "julia",
      "version": "1.9.2"
    }
  },
  "nbformat": 4,
  "nbformat_minor": 5
}
